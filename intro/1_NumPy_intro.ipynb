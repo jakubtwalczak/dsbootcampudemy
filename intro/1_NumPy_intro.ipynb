{
  "nbformat": 4,
  "nbformat_minor": 0,
  "metadata": {
    "colab": {
      "provenance": [],
      "collapsed_sections": [
        "xFYko9or6TTS",
        "JhjU7MjO6WU5",
        "1Hg6LaSP-QtS",
        "2ftAEHx2AguC"
      ],
      "toc_visible": true,
      "authorship_tag": "ABX9TyORVgr59AuBmqpmisXXLvOB",
      "include_colab_link": true
    },
    "kernelspec": {
      "name": "python3",
      "display_name": "Python 3"
    },
    "language_info": {
      "name": "python"
    }
  },
  "cells": [
    {
      "cell_type": "markdown",
      "metadata": {
        "id": "view-in-github",
        "colab_type": "text"
      },
      "source": [
        "<a href=\"https://colab.research.google.com/github/jakubtwalczak/dsbootcampudemy/blob/main/1_NumPy_intro.ipynb\" target=\"_parent\"><img src=\"https://colab.research.google.com/assets/colab-badge.svg\" alt=\"Open In Colab\"/></a>"
      ]
    },
    {
      "cell_type": "markdown",
      "source": [
        "# Intro."
      ],
      "metadata": {
        "id": "EsAk-0Ms0MWf"
      }
    },
    {
      "cell_type": "markdown",
      "source": [
        "NumPy, czyli Numerical Python, to biblioteka programistyczna w języku Python, która dostarcza wsparcie dla efektywnych operacji numerycznych, zwłaszcza na dużych tablicach i macierzach danych. Jest jednym z podstawowych narzędzi w dziedzinie naukowych obliczeń i analizy danych w języku Python.\n",
        "\n",
        "\n",
        "\n",
        "Główne cechy i funkcje biblioteki NumPy:\n",
        "\n",
        "1. **Tablice wielowymiarowe**: NumPy wprowadza nowy typ danych, znany jako \"array\"\n",
        "(tablica), który pozwala na przechowywanie i operowanie danymi wielowymiarowymi. Tablice w NumPy są bardziej wydajne niż standardowe listy w Pythonie i pozwalają na efektywne wykonywanie operacji matematycznych i statystycznych na danych.\n",
        "\n",
        "2. **Efektywne operacje numeryczne**: NumPy dostarcza wiele wbudowanych funkcji i operacji, takich jak dodawanie, mnożenie, podnoszenie do potęgi, funkcje trygonometryczne itp., które działają efektywnie na dużych zbiorach danych.\n",
        "\n",
        "3. **Broadcasting**: NumPy umożliwia wykonywanie operacji na tablicach o różnych kształtach, co jest nazywane \"broadcasting\". Dzięki temu można wygodnie operować na danych o różnych wymiarach, a NumPy automatycznie dostosowuje kształt tablic.\n",
        "\n",
        "4. **Indeksowanie i wycinanie**: NumPy oferuje zaawansowane możliwości indeksowania i wycinania danych z tablic, co pozwala na dostęp do konkretnych elementów lub podtablic z dużą precyzją.\n",
        "\n",
        "5. **Losowanie liczb**: Biblioteka umożliwia generowanie losowych liczb o różnych rozkładach, co jest przydatne w symulacjach i analizach statystycznych.\n",
        "\n",
        "6. **Integracja z innymi bibliotekami**: NumPy jest często używany w połączeniu z innymi bibliotekami do naukowych obliczeń i analizy danych, takimi jak SciPy, pandas, matplotlib i scikit-learn.\n",
        "\n",
        "7. **Obsługa danych brakujących**: NumPy ma wbudowane funkcje do pracy z danymi brakującymi, co jest istotne w analizie danych.\n",
        "\n",
        "8. **Obsługa danych binarnych**: Możesz używać NumPy do operacji na danych binarnych, takich jak obrazy, dźwięk czy pliki binarne.\n",
        "\n",
        "\n",
        "NumPy jest nieodzowną biblioteką w ekosystemie naukowych obliczeń w języku Python. Dzięki niej programiści i naukowcy danych mogą wygodnie manipulować dużymi zbiorami danych numerycznych i wykonywać zaawansowane operacje matematyczne. W połączeniu z innymi narzędziami do analizy danych i wizualizacji, NumPy stanowi solidną podstawę dla wielu projektów związanych z naukowymi obliczeniami i analizą danych."
      ],
      "metadata": {
        "id": "xxT3Ji5h0Fcq"
      }
    },
    {
      "cell_type": "code",
      "source": [
        "import numpy as np # powszechna konwencja importu"
      ],
      "metadata": {
        "id": "bHyGcNhi0LUV"
      },
      "execution_count": 2,
      "outputs": []
    },
    {
      "cell_type": "code",
      "source": [
        "np.__version__"
      ],
      "metadata": {
        "colab": {
          "base_uri": "https://localhost:8080/",
          "height": 35
        },
        "id": "l86falZp2JIn",
        "outputId": "e64633ae-5ebd-49bf-9233-06e3ee9f1d3f"
      },
      "execution_count": 3,
      "outputs": [
        {
          "output_type": "execute_result",
          "data": {
            "text/plain": [
              "'1.26.4'"
            ],
            "application/vnd.google.colaboratory.intrinsic+json": {
              "type": "string"
            }
          },
          "metadata": {},
          "execution_count": 3
        }
      ]
    },
    {
      "cell_type": "code",
      "source": [
        "print(dir(np))"
      ],
      "metadata": {
        "colab": {
          "base_uri": "https://localhost:8080/"
        },
        "collapsed": true,
        "id": "HIjHbhQY2UPT",
        "outputId": "77676cb0-2385-44b3-d938-0aff11a85f83"
      },
      "execution_count": 4,
      "outputs": [
        {
          "output_type": "stream",
          "name": "stdout",
          "text": [
            "['ALLOW_THREADS', 'BUFSIZE', 'CLIP', 'DataSource', 'ERR_CALL', 'ERR_DEFAULT', 'ERR_IGNORE', 'ERR_LOG', 'ERR_PRINT', 'ERR_RAISE', 'ERR_WARN', 'FLOATING_POINT_SUPPORT', 'FPE_DIVIDEBYZERO', 'FPE_INVALID', 'FPE_OVERFLOW', 'FPE_UNDERFLOW', 'False_', 'Inf', 'Infinity', 'MAXDIMS', 'MAY_SHARE_BOUNDS', 'MAY_SHARE_EXACT', 'NAN', 'NINF', 'NZERO', 'NaN', 'PINF', 'PZERO', 'RAISE', 'RankWarning', 'SHIFT_DIVIDEBYZERO', 'SHIFT_INVALID', 'SHIFT_OVERFLOW', 'SHIFT_UNDERFLOW', 'ScalarType', 'True_', 'UFUNC_BUFSIZE_DEFAULT', 'UFUNC_PYVALS_NAME', 'WRAP', '_CopyMode', '_NoValue', '_UFUNC_API', '__NUMPY_SETUP__', '__all__', '__builtins__', '__cached__', '__config__', '__deprecated_attrs__', '__dir__', '__doc__', '__expired_functions__', '__file__', '__former_attrs__', '__future_scalars__', '__getattr__', '__loader__', '__name__', '__package__', '__path__', '__spec__', '__version__', '_add_newdoc_ufunc', '_builtins', '_distributor_init', '_financial_names', '_get_promotion_state', '_globals', '_int_extended_msg', '_mat', '_no_nep50_warning', '_pyinstaller_hooks_dir', '_pytesttester', '_set_promotion_state', '_specific_msg', '_typing', '_using_numpy2_behavior', '_utils', 'abs', 'absolute', 'add', 'add_docstring', 'add_newdoc', 'add_newdoc_ufunc', 'all', 'allclose', 'alltrue', 'amax', 'amin', 'angle', 'any', 'append', 'apply_along_axis', 'apply_over_axes', 'arange', 'arccos', 'arccosh', 'arcsin', 'arcsinh', 'arctan', 'arctan2', 'arctanh', 'argmax', 'argmin', 'argpartition', 'argsort', 'argwhere', 'around', 'array', 'array2string', 'array_equal', 'array_equiv', 'array_repr', 'array_split', 'array_str', 'asanyarray', 'asarray', 'asarray_chkfinite', 'ascontiguousarray', 'asfarray', 'asfortranarray', 'asmatrix', 'atleast_1d', 'atleast_2d', 'atleast_3d', 'average', 'bartlett', 'base_repr', 'binary_repr', 'bincount', 'bitwise_and', 'bitwise_not', 'bitwise_or', 'bitwise_xor', 'blackman', 'block', 'bmat', 'bool_', 'broadcast', 'broadcast_arrays', 'broadcast_shapes', 'broadcast_to', 'busday_count', 'busday_offset', 'busdaycalendar', 'byte', 'byte_bounds', 'bytes_', 'c_', 'can_cast', 'cast', 'cbrt', 'cdouble', 'ceil', 'cfloat', 'char', 'character', 'chararray', 'choose', 'clip', 'clongdouble', 'clongfloat', 'column_stack', 'common_type', 'compare_chararrays', 'compat', 'complex128', 'complex256', 'complex64', 'complex_', 'complexfloating', 'compress', 'concatenate', 'conj', 'conjugate', 'convolve', 'copy', 'copysign', 'copyto', 'corrcoef', 'correlate', 'cos', 'cosh', 'count_nonzero', 'cov', 'cross', 'csingle', 'ctypeslib', 'cumprod', 'cumproduct', 'cumsum', 'datetime64', 'datetime_as_string', 'datetime_data', 'deg2rad', 'degrees', 'delete', 'deprecate', 'deprecate_with_doc', 'diag', 'diag_indices', 'diag_indices_from', 'diagflat', 'diagonal', 'diff', 'digitize', 'disp', 'divide', 'divmod', 'dot', 'double', 'dsplit', 'dstack', 'dtype', 'dtypes', 'e', 'ediff1d', 'einsum', 'einsum_path', 'emath', 'empty', 'empty_like', 'equal', 'errstate', 'euler_gamma', 'exceptions', 'exp', 'exp2', 'expand_dims', 'expm1', 'extract', 'eye', 'fabs', 'fastCopyAndTranspose', 'fft', 'fill_diagonal', 'find_common_type', 'finfo', 'fix', 'flatiter', 'flatnonzero', 'flexible', 'flip', 'fliplr', 'flipud', 'float128', 'float16', 'float32', 'float64', 'float_', 'float_power', 'floating', 'floor', 'floor_divide', 'fmax', 'fmin', 'fmod', 'format_float_positional', 'format_float_scientific', 'format_parser', 'frexp', 'from_dlpack', 'frombuffer', 'fromfile', 'fromfunction', 'fromiter', 'frompyfunc', 'fromregex', 'fromstring', 'full', 'full_like', 'gcd', 'generic', 'genfromtxt', 'geomspace', 'get_array_wrap', 'get_include', 'get_printoptions', 'getbufsize', 'geterr', 'geterrcall', 'geterrobj', 'gradient', 'greater', 'greater_equal', 'half', 'hamming', 'hanning', 'heaviside', 'histogram', 'histogram2d', 'histogram_bin_edges', 'histogramdd', 'hsplit', 'hstack', 'hypot', 'i0', 'identity', 'iinfo', 'imag', 'in1d', 'index_exp', 'indices', 'inexact', 'inf', 'info', 'infty', 'inner', 'insert', 'int16', 'int32', 'int64', 'int8', 'int_', 'intc', 'integer', 'interp', 'intersect1d', 'intp', 'invert', 'is_busday', 'isclose', 'iscomplex', 'iscomplexobj', 'isfinite', 'isfortran', 'isin', 'isinf', 'isnan', 'isnat', 'isneginf', 'isposinf', 'isreal', 'isrealobj', 'isscalar', 'issctype', 'issubclass_', 'issubdtype', 'issubsctype', 'iterable', 'ix_', 'kaiser', 'kernel_version', 'kron', 'lcm', 'ldexp', 'left_shift', 'less', 'less_equal', 'lexsort', 'lib', 'linalg', 'linspace', 'little_endian', 'load', 'loadtxt', 'log', 'log10', 'log1p', 'log2', 'logaddexp', 'logaddexp2', 'logical_and', 'logical_not', 'logical_or', 'logical_xor', 'logspace', 'longcomplex', 'longdouble', 'longfloat', 'longlong', 'lookfor', 'ma', 'mask_indices', 'mat', 'matmul', 'matrix', 'max', 'maximum', 'maximum_sctype', 'may_share_memory', 'mean', 'median', 'memmap', 'meshgrid', 'mgrid', 'min', 'min_scalar_type', 'minimum', 'mintypecode', 'mod', 'modf', 'moveaxis', 'msort', 'multiply', 'nan', 'nan_to_num', 'nanargmax', 'nanargmin', 'nancumprod', 'nancumsum', 'nanmax', 'nanmean', 'nanmedian', 'nanmin', 'nanpercentile', 'nanprod', 'nanquantile', 'nanstd', 'nansum', 'nanvar', 'nbytes', 'ndarray', 'ndenumerate', 'ndim', 'ndindex', 'nditer', 'negative', 'nested_iters', 'newaxis', 'nextafter', 'nonzero', 'not_equal', 'numarray', 'number', 'obj2sctype', 'object_', 'ogrid', 'oldnumeric', 'ones', 'ones_like', 'outer', 'packbits', 'pad', 'partition', 'percentile', 'pi', 'piecewise', 'place', 'poly', 'poly1d', 'polyadd', 'polyder', 'polydiv', 'polyfit', 'polyint', 'polymul', 'polynomial', 'polysub', 'polyval', 'positive', 'power', 'printoptions', 'prod', 'product', 'promote_types', 'ptp', 'put', 'put_along_axis', 'putmask', 'quantile', 'r_', 'rad2deg', 'radians', 'random', 'ravel', 'ravel_multi_index', 'real', 'real_if_close', 'rec', 'recarray', 'recfromcsv', 'recfromtxt', 'reciprocal', 'record', 'remainder', 'repeat', 'require', 'reshape', 'resize', 'result_type', 'right_shift', 'rint', 'roll', 'rollaxis', 'roots', 'rot90', 'round', 'round_', 'row_stack', 's_', 'safe_eval', 'save', 'savetxt', 'savez', 'savez_compressed', 'sctype2char', 'sctypeDict', 'sctypes', 'searchsorted', 'select', 'set_numeric_ops', 'set_printoptions', 'set_string_function', 'setbufsize', 'setdiff1d', 'seterr', 'seterrcall', 'seterrobj', 'setxor1d', 'shape', 'shares_memory', 'short', 'show_config', 'show_runtime', 'sign', 'signbit', 'signedinteger', 'sin', 'sinc', 'single', 'singlecomplex', 'sinh', 'size', 'sometrue', 'sort', 'sort_complex', 'source', 'spacing', 'split', 'sqrt', 'square', 'squeeze', 'stack', 'std', 'str_', 'string_', 'subtract', 'sum', 'swapaxes', 'take', 'take_along_axis', 'tan', 'tanh', 'tensordot', 'test', 'testing', 'tile', 'timedelta64', 'trace', 'tracemalloc_domain', 'transpose', 'trapz', 'tri', 'tril', 'tril_indices', 'tril_indices_from', 'trim_zeros', 'triu', 'triu_indices', 'triu_indices_from', 'true_divide', 'trunc', 'typecodes', 'typename', 'ubyte', 'ufunc', 'uint', 'uint16', 'uint32', 'uint64', 'uint8', 'uintc', 'uintp', 'ulonglong', 'unicode_', 'union1d', 'unique', 'unpackbits', 'unravel_index', 'unsignedinteger', 'unwrap', 'ushort', 'vander', 'var', 'vdot', 'vectorize', 'version', 'void', 'vsplit', 'vstack', 'where', 'who', 'zeros', 'zeros_like']\n"
          ]
        }
      ]
    },
    {
      "cell_type": "markdown",
      "source": [
        "## Funkcja Array."
      ],
      "metadata": {
        "id": "HPLhMek422da"
      }
    },
    {
      "cell_type": "markdown",
      "source": [
        "Podstawowa funkcja do tworzenia tablic."
      ],
      "metadata": {
        "id": "1-79-T_C2yCB"
      }
    },
    {
      "cell_type": "code",
      "source": [
        "help(np.array)"
      ],
      "metadata": {
        "colab": {
          "base_uri": "https://localhost:8080/"
        },
        "collapsed": true,
        "id": "Lqewdnma2e7o",
        "outputId": "10c401d8-827d-49b3-ef43-36824e7af4be"
      },
      "execution_count": 5,
      "outputs": [
        {
          "output_type": "stream",
          "name": "stdout",
          "text": [
            "Help on built-in function array in module numpy:\n",
            "\n",
            "array(...)\n",
            "    array(object, dtype=None, *, copy=True, order='K', subok=False, ndmin=0,\n",
            "          like=None)\n",
            "    \n",
            "    Create an array.\n",
            "    \n",
            "    Parameters\n",
            "    ----------\n",
            "    object : array_like\n",
            "        An array, any object exposing the array interface, an object whose\n",
            "        ``__array__`` method returns an array, or any (nested) sequence.\n",
            "        If object is a scalar, a 0-dimensional array containing object is\n",
            "        returned.\n",
            "    dtype : data-type, optional\n",
            "        The desired data-type for the array. If not given, NumPy will try to use\n",
            "        a default ``dtype`` that can represent the values (by applying promotion\n",
            "        rules when necessary.)\n",
            "    copy : bool, optional\n",
            "        If true (default), then the object is copied.  Otherwise, a copy will\n",
            "        only be made if ``__array__`` returns a copy, if obj is a nested\n",
            "        sequence, or if a copy is needed to satisfy any of the other\n",
            "        requirements (``dtype``, ``order``, etc.).\n",
            "    order : {'K', 'A', 'C', 'F'}, optional\n",
            "        Specify the memory layout of the array. If object is not an array, the\n",
            "        newly created array will be in C order (row major) unless 'F' is\n",
            "        specified, in which case it will be in Fortran order (column major).\n",
            "        If object is an array the following holds.\n",
            "    \n",
            "        ===== ========= ===================================================\n",
            "        order  no copy                     copy=True\n",
            "        ===== ========= ===================================================\n",
            "        'K'   unchanged F & C order preserved, otherwise most similar order\n",
            "        'A'   unchanged F order if input is F and not C, otherwise C order\n",
            "        'C'   C order   C order\n",
            "        'F'   F order   F order\n",
            "        ===== ========= ===================================================\n",
            "    \n",
            "        When ``copy=False`` and a copy is made for other reasons, the result is\n",
            "        the same as if ``copy=True``, with some exceptions for 'A', see the\n",
            "        Notes section. The default order is 'K'.\n",
            "    subok : bool, optional\n",
            "        If True, then sub-classes will be passed-through, otherwise\n",
            "        the returned array will be forced to be a base-class array (default).\n",
            "    ndmin : int, optional\n",
            "        Specifies the minimum number of dimensions that the resulting\n",
            "        array should have.  Ones will be prepended to the shape as\n",
            "        needed to meet this requirement.\n",
            "    like : array_like, optional\n",
            "        Reference object to allow the creation of arrays which are not\n",
            "        NumPy arrays. If an array-like passed in as ``like`` supports\n",
            "        the ``__array_function__`` protocol, the result will be defined\n",
            "        by it. In this case, it ensures the creation of an array object\n",
            "        compatible with that passed in via this argument.\n",
            "    \n",
            "        .. versionadded:: 1.20.0\n",
            "    \n",
            "    Returns\n",
            "    -------\n",
            "    out : ndarray\n",
            "        An array object satisfying the specified requirements.\n",
            "    \n",
            "    See Also\n",
            "    --------\n",
            "    empty_like : Return an empty array with shape and type of input.\n",
            "    ones_like : Return an array of ones with shape and type of input.\n",
            "    zeros_like : Return an array of zeros with shape and type of input.\n",
            "    full_like : Return a new array with shape of input filled with value.\n",
            "    empty : Return a new uninitialized array.\n",
            "    ones : Return a new array setting values to one.\n",
            "    zeros : Return a new array setting values to zero.\n",
            "    full : Return a new array of given shape filled with value.\n",
            "    \n",
            "    \n",
            "    Notes\n",
            "    -----\n",
            "    When order is 'A' and ``object`` is an array in neither 'C' nor 'F' order,\n",
            "    and a copy is forced by a change in dtype, then the order of the result is\n",
            "    not necessarily 'C' as expected. This is likely a bug.\n",
            "    \n",
            "    Examples\n",
            "    --------\n",
            "    >>> np.array([1, 2, 3])\n",
            "    array([1, 2, 3])\n",
            "    \n",
            "    Upcasting:\n",
            "    \n",
            "    >>> np.array([1, 2, 3.0])\n",
            "    array([ 1.,  2.,  3.])\n",
            "    \n",
            "    More than one dimension:\n",
            "    \n",
            "    >>> np.array([[1, 2], [3, 4]])\n",
            "    array([[1, 2],\n",
            "           [3, 4]])\n",
            "    \n",
            "    Minimum dimensions 2:\n",
            "    \n",
            "    >>> np.array([1, 2, 3], ndmin=2)\n",
            "    array([[1, 2, 3]])\n",
            "    \n",
            "    Type provided:\n",
            "    \n",
            "    >>> np.array([1, 2, 3], dtype=complex)\n",
            "    array([ 1.+0.j,  2.+0.j,  3.+0.j])\n",
            "    \n",
            "    Data-type consisting of more than one element:\n",
            "    \n",
            "    >>> x = np.array([(1,2),(3,4)],dtype=[('a','<i4'),('b','<i4')])\n",
            "    >>> x['a']\n",
            "    array([1, 3])\n",
            "    \n",
            "    Creating an array from sub-classes:\n",
            "    \n",
            "    >>> np.array(np.mat('1 2; 3 4'))\n",
            "    array([[1, 2],\n",
            "           [3, 4]])\n",
            "    \n",
            "    >>> np.array(np.mat('1 2; 3 4'), subok=True)\n",
            "    matrix([[1, 2],\n",
            "            [3, 4]])\n",
            "\n"
          ]
        }
      ]
    },
    {
      "cell_type": "markdown",
      "source": [
        "Podstawowym obiektem biblioteki NumPy jest wielowymiarowa tablica, której cechą charakterystyczną jest jednorodność typu danych. Wymiary tej tablicy nazywane są w dokumentacji \"osiami\" (\"axis\"). Klasa tych obiektów - **ndarray**."
      ],
      "metadata": {
        "id": "dpBFdM0b3M2N"
      }
    },
    {
      "cell_type": "markdown",
      "source": [
        "### Array 1D."
      ],
      "metadata": {
        "id": "xFYko9or6TTS"
      }
    },
    {
      "cell_type": "code",
      "source": [
        "x = np.array([2.1, 8]) # tablica jednowymiarowa\n",
        "x"
      ],
      "metadata": {
        "colab": {
          "base_uri": "https://localhost:8080/"
        },
        "id": "o94zdgKO3FLz",
        "outputId": "23fe07df-1540-4ffa-ecc2-67b517646ab7"
      },
      "execution_count": 6,
      "outputs": [
        {
          "output_type": "execute_result",
          "data": {
            "text/plain": [
              "array([2.1, 8. ])"
            ]
          },
          "metadata": {},
          "execution_count": 6
        }
      ]
    },
    {
      "cell_type": "code",
      "source": [
        "print(x)\n",
        "print(type(x))"
      ],
      "metadata": {
        "colab": {
          "base_uri": "https://localhost:8080/"
        },
        "id": "ulYUavJW3_jw",
        "outputId": "f54518c2-4c57-47ac-cff7-de86b1dc80e4"
      },
      "execution_count": 7,
      "outputs": [
        {
          "output_type": "stream",
          "name": "stdout",
          "text": [
            "[2.1 8. ]\n",
            "<class 'numpy.ndarray'>\n"
          ]
        }
      ]
    },
    {
      "cell_type": "markdown",
      "source": [
        "Tak utworzony obiekt możemy utożsamiać z wektorem."
      ],
      "metadata": {
        "id": "XSx56z894a4u"
      }
    },
    {
      "cell_type": "code",
      "source": [
        "x.ndim # wymiar tablicy"
      ],
      "metadata": {
        "colab": {
          "base_uri": "https://localhost:8080/"
        },
        "id": "J6LWlTle4fDE",
        "outputId": "a17b568b-f7a8-43b1-aa8d-af0693bfb639"
      },
      "execution_count": 8,
      "outputs": [
        {
          "output_type": "execute_result",
          "data": {
            "text/plain": [
              "1"
            ]
          },
          "metadata": {},
          "execution_count": 8
        }
      ]
    },
    {
      "cell_type": "code",
      "source": [
        "x.shape # kształt tablicy"
      ],
      "metadata": {
        "colab": {
          "base_uri": "https://localhost:8080/"
        },
        "id": "TPWa3X7j4ldQ",
        "outputId": "306db4a2-2fab-49c7-fae6-31306757dcf2"
      },
      "execution_count": 9,
      "outputs": [
        {
          "output_type": "execute_result",
          "data": {
            "text/plain": [
              "(2,)"
            ]
          },
          "metadata": {},
          "execution_count": 9
        }
      ]
    },
    {
      "cell_type": "markdown",
      "source": [
        "Kształt wyświetla się jako krotka."
      ],
      "metadata": {
        "id": "-61nm6Xi4sZe"
      }
    },
    {
      "cell_type": "code",
      "source": [
        "x.size # liczba elementów tablicy"
      ],
      "metadata": {
        "colab": {
          "base_uri": "https://localhost:8080/"
        },
        "id": "cdSB0NOo4oxF",
        "outputId": "64ce1faf-ba2f-472b-ecaf-04b819269069"
      },
      "execution_count": 10,
      "outputs": [
        {
          "output_type": "execute_result",
          "data": {
            "text/plain": [
              "2"
            ]
          },
          "metadata": {},
          "execution_count": 10
        }
      ]
    },
    {
      "cell_type": "code",
      "source": [
        "x.dtype # typ danych tablicy"
      ],
      "metadata": {
        "colab": {
          "base_uri": "https://localhost:8080/"
        },
        "id": "l-5O4UEy44kz",
        "outputId": "85ca66b9-175b-4a6a-fde5-24bc23334769"
      },
      "execution_count": 11,
      "outputs": [
        {
          "output_type": "execute_result",
          "data": {
            "text/plain": [
              "dtype('float64')"
            ]
          },
          "metadata": {},
          "execution_count": 11
        }
      ]
    },
    {
      "cell_type": "markdown",
      "source": [
        "Warto zauważyć, że choć drugi element został zapisany jako \"8\", to w tablicy wyświetla się jako \"8.\" i ma typ zmiennoprzecinkowy."
      ],
      "metadata": {
        "id": "OsEEIw4K5Aoj"
      }
    },
    {
      "cell_type": "code",
      "source": [
        "y = np.array([2, 6, 15])\n",
        "y"
      ],
      "metadata": {
        "colab": {
          "base_uri": "https://localhost:8080/"
        },
        "id": "UPKsaSEu49cJ",
        "outputId": "19bfa94f-4afa-4a0a-cf95-4bf11a042355"
      },
      "execution_count": 12,
      "outputs": [
        {
          "output_type": "execute_result",
          "data": {
            "text/plain": [
              "array([ 2,  6, 15])"
            ]
          },
          "metadata": {},
          "execution_count": 12
        }
      ]
    },
    {
      "cell_type": "code",
      "source": [
        "print(y.dtype)\n",
        "print(y.shape)"
      ],
      "metadata": {
        "colab": {
          "base_uri": "https://localhost:8080/"
        },
        "id": "E8pa1rC851FV",
        "outputId": "72d96096-f1b5-41c4-9751-acfcb5194ccc"
      },
      "execution_count": 13,
      "outputs": [
        {
          "output_type": "stream",
          "name": "stdout",
          "text": [
            "int64\n",
            "(3,)\n"
          ]
        }
      ]
    },
    {
      "cell_type": "markdown",
      "source": [
        "NumPy automatycznie określa typ danych, aby zachować jednorodność w tym zakresie."
      ],
      "metadata": {
        "id": "xKgFPwgy6EEG"
      }
    },
    {
      "cell_type": "markdown",
      "source": [
        "### Array 2D."
      ],
      "metadata": {
        "id": "JhjU7MjO6WU5"
      }
    },
    {
      "cell_type": "markdown",
      "source": [
        "Częściej spotykane w praktyce są tablice dwuwymiarowe, jako domyślna interpretacja macierzy w kodzie Pythona."
      ],
      "metadata": {
        "id": "cFnLGSgq6Yeq"
      }
    },
    {
      "cell_type": "code",
      "source": [
        "x1 = np.array([[1, 6], [-3, 4]]) # tablica dwuwymiarowa - definiujemy jako listę list\n",
        "x1"
      ],
      "metadata": {
        "colab": {
          "base_uri": "https://localhost:8080/"
        },
        "id": "rcEHlNJH5_0t",
        "outputId": "28990bf5-0cb1-4f5e-94ba-d42197371771"
      },
      "execution_count": 14,
      "outputs": [
        {
          "output_type": "execute_result",
          "data": {
            "text/plain": [
              "array([[ 1,  6],\n",
              "       [-3,  4]])"
            ]
          },
          "metadata": {},
          "execution_count": 14
        }
      ]
    },
    {
      "cell_type": "markdown",
      "source": [
        "Wyświetlamy domyślne atrybuty. Jak już zostało wskazane, również i ta tablica należy do klasy numpy.ndarray. Poza zmianą liczby elementów pojawił się drugi wymiar, zmienił się kształt tablicy."
      ],
      "metadata": {
        "id": "vMg6K6Te7kHK"
      }
    },
    {
      "cell_type": "code",
      "source": [
        "print(x1)\n",
        "print(type(x1))\n",
        "print(x1.ndim)\n",
        "print(x1.shape)\n",
        "print(x1.size)\n",
        "print(x1.dtype)"
      ],
      "metadata": {
        "colab": {
          "base_uri": "https://localhost:8080/"
        },
        "id": "VMQQDdaD7N3f",
        "outputId": "5ce4a6d5-3c28-40b9-fde1-4e096fc90d5b"
      },
      "execution_count": 15,
      "outputs": [
        {
          "output_type": "stream",
          "name": "stdout",
          "text": [
            "[[ 1  6]\n",
            " [-3  4]]\n",
            "<class 'numpy.ndarray'>\n",
            "2\n",
            "(2, 2)\n",
            "4\n",
            "int64\n"
          ]
        }
      ]
    },
    {
      "cell_type": "markdown",
      "source": [
        "**Uwaga** - aby być w stanie dobrze budować sieci neuronowe, należy umiejętnie posługiwać się wymiarami tablic; poprawne działanie tychże, które składają się z licznych operacji na macierzach, zależy od starannego określenia wymiarów tablic (mowa tu jednak o budowaniu ich przy pomocy NumPy; istnieją biblioteki wyższego poziomu, jak np. PyTorch czy Tensorflow, które radzą sobie z tym bardziej efektywnie)."
      ],
      "metadata": {
        "id": "6OICAZjb8npB"
      }
    },
    {
      "cell_type": "code",
      "source": [
        "x2 = np.array([[1, 2, 4], [8, -1, 0]])\n",
        "x2.shape"
      ],
      "metadata": {
        "colab": {
          "base_uri": "https://localhost:8080/"
        },
        "id": "3GDSCSK97iZ_",
        "outputId": "d7d19f67-1855-4d26-8d61-6bd91c5454b9"
      },
      "execution_count": 16,
      "outputs": [
        {
          "output_type": "execute_result",
          "data": {
            "text/plain": [
              "(2, 3)"
            ]
          },
          "metadata": {},
          "execution_count": 16
        }
      ]
    },
    {
      "cell_type": "markdown",
      "source": [
        "### 3D Array."
      ],
      "metadata": {
        "id": "1Hg6LaSP-QtS"
      }
    },
    {
      "cell_type": "markdown",
      "source": [
        "Bardziej skomplikowane są tablice trójwymiarowe - które można nazwać wektorem macierzy. Pozwalają nam one przechowywać np. obraz."
      ],
      "metadata": {
        "id": "yDiZF86x-SsW"
      }
    },
    {
      "cell_type": "code",
      "source": [
        "td = np.array(\n",
        "    [[[1, 2, 3],\n",
        "      [4, 5, 6]],\n",
        "\n",
        "      [[7, 8, 9],\n",
        "       [10, 11, 12]]]\n",
        ") # tablica trójwymiarowa\n",
        "td"
      ],
      "metadata": {
        "colab": {
          "base_uri": "https://localhost:8080/"
        },
        "id": "dQKekNQi-IJH",
        "outputId": "d2f93128-d47e-444b-ba32-5fac4006ffa7"
      },
      "execution_count": 17,
      "outputs": [
        {
          "output_type": "execute_result",
          "data": {
            "text/plain": [
              "array([[[ 1,  2,  3],\n",
              "        [ 4,  5,  6]],\n",
              "\n",
              "       [[ 7,  8,  9],\n",
              "        [10, 11, 12]]])"
            ]
          },
          "metadata": {},
          "execution_count": 17
        }
      ]
    },
    {
      "cell_type": "code",
      "source": [
        "print(td.ndim)\n",
        "print(td.shape)\n",
        "print(type(td))\n",
        "print(td.dtype)"
      ],
      "metadata": {
        "colab": {
          "base_uri": "https://localhost:8080/"
        },
        "id": "gPP0fuf5-0Wn",
        "outputId": "c2acbb58-c78f-4edc-b51a-b0da0adfd53e"
      },
      "execution_count": 18,
      "outputs": [
        {
          "output_type": "stream",
          "name": "stdout",
          "text": [
            "3\n",
            "(2, 2, 3)\n",
            "<class 'numpy.ndarray'>\n",
            "int64\n"
          ]
        }
      ]
    },
    {
      "cell_type": "markdown",
      "source": [
        "Mamy i trzeci wymiar. Wymiary to 2 x 2 x 3 (2 tablice, 2 wiersze, 3 kolumny)."
      ],
      "metadata": {
        "id": "9NJ3q7PG_b2y"
      }
    },
    {
      "cell_type": "code",
      "source": [
        "td2 = np.array(\n",
        "    [[[-1, 2, -3],\n",
        "      [4, -5, 6]],\n",
        "\n",
        "      [[-7, 8, -9],\n",
        "       [10, -11, 12.]],\n",
        "\n",
        "     [[-13, 14, -15],\n",
        "      [16, -17, 18.]]]\n",
        ")\n",
        "td2"
      ],
      "metadata": {
        "colab": {
          "base_uri": "https://localhost:8080/"
        },
        "id": "j6h4SjRW_Pxa",
        "outputId": "894ef968-0baa-44cb-adcc-a1d8cc792ba8"
      },
      "execution_count": 19,
      "outputs": [
        {
          "output_type": "execute_result",
          "data": {
            "text/plain": [
              "array([[[ -1.,   2.,  -3.],\n",
              "        [  4.,  -5.,   6.]],\n",
              "\n",
              "       [[ -7.,   8.,  -9.],\n",
              "        [ 10., -11.,  12.]],\n",
              "\n",
              "       [[-13.,  14., -15.],\n",
              "        [ 16., -17.,  18.]]])"
            ]
          },
          "metadata": {},
          "execution_count": 19
        }
      ]
    },
    {
      "cell_type": "code",
      "source": [
        "print(td2.ndim)\n",
        "print(td2.shape)\n",
        "print(type(td2))\n",
        "print(td2.dtype)"
      ],
      "metadata": {
        "colab": {
          "base_uri": "https://localhost:8080/"
        },
        "id": "nfd6X5GN_z7m",
        "outputId": "32bddc5d-13a5-4133-d964-c8cbdd3848d7"
      },
      "execution_count": 20,
      "outputs": [
        {
          "output_type": "stream",
          "name": "stdout",
          "text": [
            "3\n",
            "(3, 2, 3)\n",
            "<class 'numpy.ndarray'>\n",
            "float64\n"
          ]
        }
      ]
    },
    {
      "cell_type": "markdown",
      "source": [
        "Możemy dodawać również kolejne tablice do naszego tensora. Dotychczasowe uwagi dot. typów danych i zwiększenia wymiarów stosują się również tu."
      ],
      "metadata": {
        "id": "BXERSnOyAIr2"
      }
    },
    {
      "cell_type": "markdown",
      "source": [
        "## Typy danych."
      ],
      "metadata": {
        "id": "2ftAEHx2AguC"
      }
    },
    {
      "cell_type": "markdown",
      "source": [
        "Pora na utworzenie kilku tablic, aby wskazać na ich przykładach podstawowe typy danych w bibliotece NumPy."
      ],
      "metadata": {
        "id": "B1VLZNASBDdv"
      }
    },
    {
      "cell_type": "code",
      "source": [
        "A = np.array([1, 2, 3])\n",
        "A.dtype"
      ],
      "metadata": {
        "colab": {
          "base_uri": "https://localhost:8080/"
        },
        "id": "AL-Cfk48Afb1",
        "outputId": "c735bafe-4523-4be9-e8e2-bdd80d9a43de"
      },
      "execution_count": 21,
      "outputs": [
        {
          "output_type": "execute_result",
          "data": {
            "text/plain": [
              "dtype('int64')"
            ]
          },
          "metadata": {},
          "execution_count": 21
        }
      ]
    },
    {
      "cell_type": "markdown",
      "source": [
        "Jeżeli utworzymy tablicę składającą się w całości z liczb całkowitych, typem danych będzie **integer**."
      ],
      "metadata": {
        "id": "Y3e0fsuYBTXX"
      }
    },
    {
      "cell_type": "code",
      "source": [
        "B = np.array([0.178, -4.18, 3.])\n",
        "B.dtype"
      ],
      "metadata": {
        "colab": {
          "base_uri": "https://localhost:8080/"
        },
        "id": "FdLt1lalBS0D",
        "outputId": "22d120e0-bf4a-4164-ff62-7ffd5d72c28c"
      },
      "execution_count": 22,
      "outputs": [
        {
          "output_type": "execute_result",
          "data": {
            "text/plain": [
              "dtype('float64')"
            ]
          },
          "metadata": {},
          "execution_count": 22
        }
      ]
    },
    {
      "cell_type": "markdown",
      "source": [
        "Jeżeli utworzymy tablicę z liczb zmiennoprzecinkowych - typem danych tablicy będzie **float**."
      ],
      "metadata": {
        "id": "hPj4JBZnBmmi"
      }
    },
    {
      "cell_type": "code",
      "source": [
        "C = np.array([6, -1, 2.])\n",
        "C.dtype"
      ],
      "metadata": {
        "colab": {
          "base_uri": "https://localhost:8080/"
        },
        "id": "H-Hfy5X5BmBs",
        "outputId": "59608f72-03f6-49b5-ff01-e056ddf03178"
      },
      "execution_count": 23,
      "outputs": [
        {
          "output_type": "execute_result",
          "data": {
            "text/plain": [
              "dtype('float64')"
            ]
          },
          "metadata": {},
          "execution_count": 23
        }
      ]
    },
    {
      "cell_type": "markdown",
      "source": [
        "Jeżeli jednak chociaż jeden element tablicy to float, wówczas cała tablica jest interpretowana jako tablica liczb zmiennoprzecinkowych."
      ],
      "metadata": {
        "id": "WwhpmPnrB5NT"
      }
    },
    {
      "cell_type": "code",
      "source": [
        "D = np.array([1, 2, 3], dtype=float)\n",
        "D.dtype"
      ],
      "metadata": {
        "colab": {
          "base_uri": "https://localhost:8080/"
        },
        "id": "k1BYfmF8B4hB",
        "outputId": "0fae8791-6922-4aeb-c8c7-8c3bf64777db"
      },
      "execution_count": 24,
      "outputs": [
        {
          "output_type": "execute_result",
          "data": {
            "text/plain": [
              "dtype('float64')"
            ]
          },
          "metadata": {},
          "execution_count": 24
        }
      ]
    },
    {
      "cell_type": "markdown",
      "source": [
        "Można kontrolować typ danych przy pomocy hiperparametru dtype, w którym przekazujemy typ danych, który mają reprezentować elementy tablicy (domyślnie parametr ustawiony na None)."
      ],
      "metadata": {
        "id": "FNxchP9cCI10"
      }
    },
    {
      "cell_type": "code",
      "source": [
        "D = np.array([1.9, 2.6, -3.45], dtype=int)\n",
        "D.dtype"
      ],
      "metadata": {
        "colab": {
          "base_uri": "https://localhost:8080/"
        },
        "id": "PIlE_VaKCIIi",
        "outputId": "2080d59d-a10d-4f08-8181-71277c2400cb"
      },
      "execution_count": 25,
      "outputs": [
        {
          "output_type": "execute_result",
          "data": {
            "text/plain": [
              "dtype('int64')"
            ]
          },
          "metadata": {},
          "execution_count": 25
        }
      ]
    },
    {
      "cell_type": "code",
      "source": [
        "D"
      ],
      "metadata": {
        "colab": {
          "base_uri": "https://localhost:8080/"
        },
        "id": "XeFqhAXMCqFQ",
        "outputId": "af57b8aa-5f52-4b6a-c0b0-d67237025368"
      },
      "execution_count": 26,
      "outputs": [
        {
          "output_type": "execute_result",
          "data": {
            "text/plain": [
              "array([ 1,  2, -3])"
            ]
          },
          "metadata": {},
          "execution_count": 26
        }
      ]
    },
    {
      "cell_type": "markdown",
      "source": [
        "Parametr dtype może ingerować w naszą zmienną. Gdy w tablicy mamy liczby zmiennoprzecinkowe, a parametr przyjmuje wartość int, wówczas \"ucina\" on liczby po przecinku."
      ],
      "metadata": {
        "id": "L00_3XFRCspi"
      }
    },
    {
      "cell_type": "code",
      "source": [
        "E = np.array([1, 2, 3], dtype=complex)\n",
        "E.dtype"
      ],
      "metadata": {
        "colab": {
          "base_uri": "https://localhost:8080/"
        },
        "id": "se1kJfDeCrrQ",
        "outputId": "6a6a3341-75a5-4d84-838b-ec1a534778d6"
      },
      "execution_count": 27,
      "outputs": [
        {
          "output_type": "execute_result",
          "data": {
            "text/plain": [
              "dtype('complex128')"
            ]
          },
          "metadata": {},
          "execution_count": 27
        }
      ]
    },
    {
      "cell_type": "code",
      "source": [
        "E"
      ],
      "metadata": {
        "colab": {
          "base_uri": "https://localhost:8080/"
        },
        "id": "eBOXIYiJDugN",
        "outputId": "60f18e48-53f4-479c-82b0-5d6f92f2bce9"
      },
      "execution_count": 28,
      "outputs": [
        {
          "output_type": "execute_result",
          "data": {
            "text/plain": [
              "array([1.+0.j, 2.+0.j, 3.+0.j])"
            ]
          },
          "metadata": {},
          "execution_count": 28
        }
      ]
    },
    {
      "cell_type": "markdown",
      "source": [
        "Możemy też wskazać jako typ danych liczbę zespoloną (**complex**). NumPy ponowni przekonwertuje nasze wskazania wartości."
      ],
      "metadata": {
        "id": "rQ4NmLCUDwUy"
      }
    },
    {
      "cell_type": "code",
      "source": [
        "F = np.array([True, False])\n",
        "F.dtype"
      ],
      "metadata": {
        "colab": {
          "base_uri": "https://localhost:8080/"
        },
        "id": "DC_hVI6xDvVz",
        "outputId": "e73f71ec-a129-4170-f380-725e4977641c"
      },
      "execution_count": 29,
      "outputs": [
        {
          "output_type": "execute_result",
          "data": {
            "text/plain": [
              "dtype('bool')"
            ]
          },
          "metadata": {},
          "execution_count": 29
        }
      ]
    },
    {
      "cell_type": "code",
      "source": [
        "F"
      ],
      "metadata": {
        "colab": {
          "base_uri": "https://localhost:8080/"
        },
        "id": "WhN3tQvwEVuK",
        "outputId": "cd24ff6d-f862-4cc5-c96a-3e67c3435a55"
      },
      "execution_count": 30,
      "outputs": [
        {
          "output_type": "execute_result",
          "data": {
            "text/plain": [
              "array([ True, False])"
            ]
          },
          "metadata": {},
          "execution_count": 30
        }
      ]
    },
    {
      "cell_type": "markdown",
      "source": [
        "Możemy również stworzyć tablicę wartości boolowskich."
      ],
      "metadata": {
        "id": "XwrPE04nEWrz"
      }
    },
    {
      "cell_type": "code",
      "source": [
        "G = np.array([1, 2, 3], dtype='int8')\n",
        "G.dtype"
      ],
      "metadata": {
        "colab": {
          "base_uri": "https://localhost:8080/"
        },
        "id": "yrTcfxnYEWMT",
        "outputId": "2b147600-6f68-42b3-b3c4-17fffe61ddda"
      },
      "execution_count": 31,
      "outputs": [
        {
          "output_type": "execute_result",
          "data": {
            "text/plain": [
              "dtype('int8')"
            ]
          },
          "metadata": {},
          "execution_count": 31
        }
      ]
    },
    {
      "cell_type": "markdown",
      "source": [
        "Możemy też, oprócz typu danych, wskazać liczbę bitów, aby zaoszczędzić miejsce w pamięci."
      ],
      "metadata": {
        "id": "k-h4ePipE_ur"
      }
    },
    {
      "cell_type": "code",
      "source": [
        "G = np.array([16, 124, 248], dtype='uint8')\n",
        "G.dtype"
      ],
      "metadata": {
        "colab": {
          "base_uri": "https://localhost:8080/"
        },
        "id": "XA-qeck4E-xt",
        "outputId": "a900c1a2-708d-4faf-e8cf-95fc664ca7a8"
      },
      "execution_count": 32,
      "outputs": [
        {
          "output_type": "execute_result",
          "data": {
            "text/plain": [
              "dtype('uint8')"
            ]
          },
          "metadata": {},
          "execution_count": 32
        }
      ]
    },
    {
      "cell_type": "markdown",
      "source": [
        "Używając **uint** (Unsigned int) możemy np. opisać wymiary obrazów, zaoszczędziwszy miejsce w pamięci komputera."
      ],
      "metadata": {
        "id": "VERbikGjFrCH"
      }
    },
    {
      "cell_type": "code",
      "source": [],
      "metadata": {
        "id": "7DhJ9qdjFqWM"
      },
      "execution_count": 32,
      "outputs": []
    },
    {
      "cell_type": "markdown",
      "source": [
        "# Główne funkcje biblioteki NumPy."
      ],
      "metadata": {
        "id": "E0kelVa8GBNF"
      }
    },
    {
      "cell_type": "markdown",
      "source": [
        "## Tworzenie tablic ndarray."
      ],
      "metadata": {
        "id": "rF1O6UC4GKOw"
      }
    },
    {
      "cell_type": "markdown",
      "source": [
        "Pora na omówienie funkcji NumPy pozwalających na bardziej sprawne i zautomatyzowane budowanie tablic."
      ],
      "metadata": {
        "id": "v9Dig9V5lZZL"
      }
    },
    {
      "cell_type": "code",
      "source": [
        "np.zeros(shape=(3, 4, 3))"
      ],
      "metadata": {
        "id": "7SXlq4eKGJIC",
        "colab": {
          "base_uri": "https://localhost:8080/"
        },
        "outputId": "ab63e8a3-5a1c-4a8d-8982-de278f7fb534"
      },
      "execution_count": 33,
      "outputs": [
        {
          "output_type": "execute_result",
          "data": {
            "text/plain": [
              "array([[[0., 0., 0.],\n",
              "        [0., 0., 0.],\n",
              "        [0., 0., 0.],\n",
              "        [0., 0., 0.]],\n",
              "\n",
              "       [[0., 0., 0.],\n",
              "        [0., 0., 0.],\n",
              "        [0., 0., 0.],\n",
              "        [0., 0., 0.]],\n",
              "\n",
              "       [[0., 0., 0.],\n",
              "        [0., 0., 0.],\n",
              "        [0., 0., 0.],\n",
              "        [0., 0., 0.]]])"
            ]
          },
          "metadata": {},
          "execution_count": 33
        }
      ]
    },
    {
      "cell_type": "markdown",
      "source": [
        "Funkcja **zeros** pozwala tworzyć tablice wypełnione zerami. Parametrem funkcji jest **shape** - kształt, który podajemy w postaci krotki lub liczby całkowitej (wtedy tworzy się tablica w formie skalara).\n",
        "\n",
        "Domyślny typ danych to float, ale również możemy określić typ za pomocą parametru **dtype** (np. jako integer).\n",
        "\n",
        "Ta funkcja może posłużyć w widzeniu komputerowym do tworzenia mask dla zdjęć; jeżeli chcemy utworzyć zdjęcie z czarnym tłem, możemy wygenerować taką tablicę jako tło."
      ],
      "metadata": {
        "id": "jmBxKju5l1U6"
      }
    },
    {
      "cell_type": "code",
      "source": [
        "np.ones(shape=(8,6))"
      ],
      "metadata": {
        "colab": {
          "base_uri": "https://localhost:8080/"
        },
        "id": "c8MHH1EwlwRw",
        "outputId": "ffeb0113-b303-4d09-8f90-6913a79b6d73"
      },
      "execution_count": 34,
      "outputs": [
        {
          "output_type": "execute_result",
          "data": {
            "text/plain": [
              "array([[1., 1., 1., 1., 1., 1.],\n",
              "       [1., 1., 1., 1., 1., 1.],\n",
              "       [1., 1., 1., 1., 1., 1.],\n",
              "       [1., 1., 1., 1., 1., 1.],\n",
              "       [1., 1., 1., 1., 1., 1.],\n",
              "       [1., 1., 1., 1., 1., 1.],\n",
              "       [1., 1., 1., 1., 1., 1.],\n",
              "       [1., 1., 1., 1., 1., 1.]])"
            ]
          },
          "metadata": {},
          "execution_count": 34
        }
      ]
    },
    {
      "cell_type": "markdown",
      "source": [
        "Podobny case jak w przypadku funkcji zeros mamy w przypadku funkcji **ones**, z tą różnicą, że zamiast zerami tablica wypełniona zostaje jedynkami."
      ],
      "metadata": {
        "id": "EjloXnA5nHYb"
      }
    },
    {
      "cell_type": "code",
      "source": [
        "np.full(shape=(3, 5), fill_value=6, dtype='int')"
      ],
      "metadata": {
        "colab": {
          "base_uri": "https://localhost:8080/"
        },
        "id": "26Ua0d62nGbP",
        "outputId": "4edd088a-0324-40c7-bc52-a7a9e4036f79"
      },
      "execution_count": 35,
      "outputs": [
        {
          "output_type": "execute_result",
          "data": {
            "text/plain": [
              "array([[6, 6, 6, 6, 6],\n",
              "       [6, 6, 6, 6, 6],\n",
              "       [6, 6, 6, 6, 6]])"
            ]
          },
          "metadata": {},
          "execution_count": 35
        }
      ]
    },
    {
      "cell_type": "markdown",
      "source": [
        "Funkcja **full** jest podobna w działaniu jak dwie ww., lecz oprócz kształtu podajemy obowiązkowo również wartość, która ma wypełnić tablicę."
      ],
      "metadata": {
        "id": "9F6EZYh6nnHH"
      }
    },
    {
      "cell_type": "code",
      "source": [
        "np.arange(16)"
      ],
      "metadata": {
        "colab": {
          "base_uri": "https://localhost:8080/"
        },
        "id": "bi-ZmCVPoG0A",
        "outputId": "196b9e05-ff72-4cf6-9726-aad4e723c339"
      },
      "execution_count": 38,
      "outputs": [
        {
          "output_type": "execute_result",
          "data": {
            "text/plain": [
              "array([ 0,  1,  2,  3,  4,  5,  6,  7,  8,  9, 10, 11, 12, 13, 14, 15])"
            ]
          },
          "metadata": {},
          "execution_count": 38
        }
      ]
    },
    {
      "cell_type": "markdown",
      "source": [
        "Funkcja **arange** jest podobna do range w standardowym Pythonie i generuje nam tablicę do podanej wartości. Jedynym parametrem obowiązkowym jest stop, który jest liczbą, na której generator się zatrzymuje i kończy generowanie (ale jej już nie ujmuje w tablicy). Możemy podać również start (liczba początkowa) i step (krok, o który kolejna wygenerowana liczba ma być większa od poprzedniej)."
      ],
      "metadata": {
        "id": "dCOBSg2loUe7"
      }
    },
    {
      "cell_type": "code",
      "source": [
        "np.arange(start=6, stop=90, step=7)"
      ],
      "metadata": {
        "colab": {
          "base_uri": "https://localhost:8080/"
        },
        "id": "WGS3CZsToT0V",
        "outputId": "d67ce552-0c22-4cf6-8a6d-1d7ec36d6b11"
      },
      "execution_count": 39,
      "outputs": [
        {
          "output_type": "execute_result",
          "data": {
            "text/plain": [
              "array([ 6, 13, 20, 27, 34, 41, 48, 55, 62, 69, 76, 83])"
            ]
          },
          "metadata": {},
          "execution_count": 39
        }
      ]
    },
    {
      "cell_type": "code",
      "source": [
        "np.arange(start=90, stop=6, step=-7)"
      ],
      "metadata": {
        "colab": {
          "base_uri": "https://localhost:8080/"
        },
        "id": "ju50DNYkp6lv",
        "outputId": "8939e756-8629-4058-c670-ba085097624a"
      },
      "execution_count": 41,
      "outputs": [
        {
          "output_type": "execute_result",
          "data": {
            "text/plain": [
              "array([90, 83, 76, 69, 62, 55, 48, 41, 34, 27, 20, 13])"
            ]
          },
          "metadata": {},
          "execution_count": 41
        }
      ]
    },
    {
      "cell_type": "code",
      "source": [
        "np.arange(start=6, stop=90, step=4.5)"
      ],
      "metadata": {
        "colab": {
          "base_uri": "https://localhost:8080/"
        },
        "id": "7AwZsEttpuA-",
        "outputId": "fd3fc855-7629-42c2-c917-5baa39f6b616"
      },
      "execution_count": 42,
      "outputs": [
        {
          "output_type": "execute_result",
          "data": {
            "text/plain": [
              "array([ 6. , 10.5, 15. , 19.5, 24. , 28.5, 33. , 37.5, 42. , 46.5, 51. ,\n",
              "       55.5, 60. , 64.5, 69. , 73.5, 78. , 82.5, 87. ])"
            ]
          },
          "metadata": {},
          "execution_count": 42
        }
      ]
    },
    {
      "cell_type": "markdown",
      "source": [
        "Krok może być oczywiście ujemny i może być też liczbą zmiennoprzecinkową. Podanie kroku ujemnego przy stopie wyższym od startu (i dodatniego przy wyższym starcie od stopu) nie zwróci błędu, ale wygenerowana tablica będzie pusta."
      ],
      "metadata": {
        "id": "1qB7LKjAp9tP"
      }
    },
    {
      "cell_type": "code",
      "source": [
        "np.linspace(start=0, stop=1, num=30)"
      ],
      "metadata": {
        "colab": {
          "base_uri": "https://localhost:8080/"
        },
        "id": "pa3m71IOp5yx",
        "outputId": "f25c0672-9352-4c20-920c-977c8695fb02"
      },
      "execution_count": 43,
      "outputs": [
        {
          "output_type": "execute_result",
          "data": {
            "text/plain": [
              "array([0.        , 0.03448276, 0.06896552, 0.10344828, 0.13793103,\n",
              "       0.17241379, 0.20689655, 0.24137931, 0.27586207, 0.31034483,\n",
              "       0.34482759, 0.37931034, 0.4137931 , 0.44827586, 0.48275862,\n",
              "       0.51724138, 0.55172414, 0.5862069 , 0.62068966, 0.65517241,\n",
              "       0.68965517, 0.72413793, 0.75862069, 0.79310345, 0.82758621,\n",
              "       0.86206897, 0.89655172, 0.93103448, 0.96551724, 1.        ])"
            ]
          },
          "metadata": {},
          "execution_count": 43
        }
      ]
    },
    {
      "cell_type": "markdown",
      "source": [
        "**Linspace** działa podobnie, ale zamiast parametru step mamy parametr num, który odpowiada za to, ile liczb w równych odstępach z przedziału start - stop zostanie wygenerowanych (co istotne, tym razem liczba podana jako stop również znajduje się w tablicy)."
      ],
      "metadata": {
        "id": "zSZfOUiVrFTU"
      }
    },
    {
      "cell_type": "code",
      "source": [
        "A = np.arange(30)\n",
        "A"
      ],
      "metadata": {
        "colab": {
          "base_uri": "https://localhost:8080/"
        },
        "id": "RmI1J6vQrEKy",
        "outputId": "c35e1afc-3403-4f01-85d7-d2b0f53dc100"
      },
      "execution_count": 45,
      "outputs": [
        {
          "output_type": "execute_result",
          "data": {
            "text/plain": [
              "array([ 0,  1,  2,  3,  4,  5,  6,  7,  8,  9, 10, 11, 12, 13, 14, 15, 16,\n",
              "       17, 18, 19, 20, 21, 22, 23, 24, 25, 26, 27, 28, 29])"
            ]
          },
          "metadata": {},
          "execution_count": 45
        }
      ]
    },
    {
      "cell_type": "code",
      "source": [
        "A.reshape((5, 6))"
      ],
      "metadata": {
        "colab": {
          "base_uri": "https://localhost:8080/"
        },
        "id": "5CkoiSt_rxPl",
        "outputId": "c1d9f52b-2c47-4906-d26e-871887e86c17"
      },
      "execution_count": 48,
      "outputs": [
        {
          "output_type": "execute_result",
          "data": {
            "text/plain": [
              "array([[ 0,  1,  2,  3,  4,  5],\n",
              "       [ 6,  7,  8,  9, 10, 11],\n",
              "       [12, 13, 14, 15, 16, 17],\n",
              "       [18, 19, 20, 21, 22, 23],\n",
              "       [24, 25, 26, 27, 28, 29]])"
            ]
          },
          "metadata": {},
          "execution_count": 48
        }
      ]
    },
    {
      "cell_type": "markdown",
      "source": [
        "Możemy zmienić kształt tablicy funkcją **reshape** (parametrem jest shape, czyli kształt tablicy; należy mieć na względzie, że kształt powinien odpowiadać liczbie elementów)."
      ],
      "metadata": {
        "id": "WqZIWLmnr4f9"
      }
    },
    {
      "cell_type": "code",
      "source": [
        "A.reshape(-1, 5)"
      ],
      "metadata": {
        "colab": {
          "base_uri": "https://localhost:8080/"
        },
        "id": "Boeq4R3Ks_-0",
        "outputId": "f1d6222b-e045-41fb-e359-6ccb39381aa2"
      },
      "execution_count": 52,
      "outputs": [
        {
          "output_type": "execute_result",
          "data": {
            "text/plain": [
              "array([[ 0,  1,  2,  3,  4],\n",
              "       [ 5,  6,  7,  8,  9],\n",
              "       [10, 11, 12, 13, 14],\n",
              "       [15, 16, 17, 18, 19],\n",
              "       [20, 21, 22, 23, 24],\n",
              "       [25, 26, 27, 28, 29]])"
            ]
          },
          "metadata": {},
          "execution_count": 52
        }
      ]
    },
    {
      "cell_type": "code",
      "source": [
        "A.reshape((2, 3, -1))"
      ],
      "metadata": {
        "colab": {
          "base_uri": "https://localhost:8080/"
        },
        "id": "VIgmE9sqr2rD",
        "outputId": "c451d4ac-bd07-42d2-c702-42053bb74139"
      },
      "execution_count": 51,
      "outputs": [
        {
          "output_type": "execute_result",
          "data": {
            "text/plain": [
              "array([[[ 0,  1,  2,  3,  4],\n",
              "        [ 5,  6,  7,  8,  9],\n",
              "        [10, 11, 12, 13, 14]],\n",
              "\n",
              "       [[15, 16, 17, 18, 19],\n",
              "        [20, 21, 22, 23, 24],\n",
              "        [25, 26, 27, 28, 29]]])"
            ]
          },
          "metadata": {},
          "execution_count": 51
        }
      ]
    },
    {
      "cell_type": "markdown",
      "source": [
        "Podając jako którykolwiek wymiar -1 pozwalamy funkcji, aby automatycznie przypisała odpowiedni wymiar do przekształcanej tablicy."
      ],
      "metadata": {
        "id": "hIAMEmYWsqbX"
      }
    },
    {
      "cell_type": "markdown",
      "source": [
        "## Podstawowe operacje na tablicach."
      ],
      "metadata": {
        "id": "eM3xqQtAtMFd"
      }
    },
    {
      "cell_type": "code",
      "source": [
        "A = np.array([9, 2, 3.5, -1.7])\n",
        "B = np.array([1.8, 6, -2.4, 4])\n",
        "print(A)\n",
        "print(B)"
      ],
      "metadata": {
        "colab": {
          "base_uri": "https://localhost:8080/"
        },
        "id": "5uEvPvBosk6q",
        "outputId": "5a3ad229-ef67-4bf8-88b9-45653a4dc754"
      },
      "execution_count": 54,
      "outputs": [
        {
          "output_type": "stream",
          "name": "stdout",
          "text": [
            "[ 9.   2.   3.5 -1.7]\n",
            "[ 1.8  6.  -2.4  4. ]\n"
          ]
        }
      ]
    },
    {
      "cell_type": "code",
      "source": [
        "A + B # dodawanie tablic"
      ],
      "metadata": {
        "colab": {
          "base_uri": "https://localhost:8080/"
        },
        "id": "cwcQMvm7tieh",
        "outputId": "09012f50-d576-4446-ba98-dcb359d1d1d5"
      },
      "execution_count": 55,
      "outputs": [
        {
          "output_type": "execute_result",
          "data": {
            "text/plain": [
              "array([10.8,  8. ,  1.1,  2.3])"
            ]
          },
          "metadata": {},
          "execution_count": 55
        }
      ]
    },
    {
      "cell_type": "markdown",
      "source": [
        "Odpowiadające sobie elementy tablic zostały zsumowane. Jeżeli dodajemy 2 tablice, to liczba elementów musi być identyczna w obu."
      ],
      "metadata": {
        "id": "3-TTYKTTtspv"
      }
    },
    {
      "cell_type": "code",
      "source": [
        "A - B # odejmowanie"
      ],
      "metadata": {
        "colab": {
          "base_uri": "https://localhost:8080/"
        },
        "id": "rLiLdUELtrzf",
        "outputId": "05ee0e0e-a584-4a37-f039-337268d4e941"
      },
      "execution_count": 57,
      "outputs": [
        {
          "output_type": "execute_result",
          "data": {
            "text/plain": [
              "array([ 7.2, -4. ,  5.9, -5.7])"
            ]
          },
          "metadata": {},
          "execution_count": 57
        }
      ]
    },
    {
      "cell_type": "code",
      "source": [
        "A * B # mnożenie"
      ],
      "metadata": {
        "colab": {
          "base_uri": "https://localhost:8080/"
        },
        "id": "zLVMCoKZuLN9",
        "outputId": "8e05234b-1b6c-47bb-9222-346919f3e723"
      },
      "execution_count": 58,
      "outputs": [
        {
          "output_type": "execute_result",
          "data": {
            "text/plain": [
              "array([16.2, 12. , -8.4, -6.8])"
            ]
          },
          "metadata": {},
          "execution_count": 58
        }
      ]
    },
    {
      "cell_type": "code",
      "source": [
        "A / B # dzielenie"
      ],
      "metadata": {
        "colab": {
          "base_uri": "https://localhost:8080/"
        },
        "id": "oQI1BuH_uPmn",
        "outputId": "b0e61a3c-40b4-4371-c1b6-b17ad80e74a8"
      },
      "execution_count": 59,
      "outputs": [
        {
          "output_type": "execute_result",
          "data": {
            "text/plain": [
              "array([ 5.        ,  0.33333333, -1.45833333, -0.425     ])"
            ]
          },
          "metadata": {},
          "execution_count": 59
        }
      ]
    },
    {
      "cell_type": "markdown",
      "source": [
        "Proste działania algebraiczne na tego typu tablicach zawsze są wykonywane element po elemencie. Oczywiście w przypadku dzielenia trzeba pamiętać, żeby tablica-dzielnik nie zawierała zera."
      ],
      "metadata": {
        "id": "Wj4qU5o_uVos"
      }
    },
    {
      "cell_type": "code",
      "source": [
        "A + 2.5 # dodawanie do każdego elementu tablicy"
      ],
      "metadata": {
        "colab": {
          "base_uri": "https://localhost:8080/"
        },
        "id": "_AkqM_mRuTr6",
        "outputId": "a60caae7-aadb-4817-d24c-85193bc70e37"
      },
      "execution_count": 60,
      "outputs": [
        {
          "output_type": "execute_result",
          "data": {
            "text/plain": [
              "array([11.5,  4.5,  6. ,  0.8])"
            ]
          },
          "metadata": {},
          "execution_count": 60
        }
      ]
    },
    {
      "cell_type": "markdown",
      "source": [
        "Jeżeli wykonujemy dodawanie, odejmowanie, mnożenie lub dzielenie z udziałem tablicy i skalara, każdy z elementów tablicy poddawany jest operacji z osobna."
      ],
      "metadata": {
        "id": "9VAQd21_uyhQ"
      }
    },
    {
      "cell_type": "code",
      "source": [
        "A - 2.5"
      ],
      "metadata": {
        "colab": {
          "base_uri": "https://localhost:8080/"
        },
        "id": "oM9Ynwf3uvcI",
        "outputId": "c56714f2-a20f-42e4-d790-358447061bd6"
      },
      "execution_count": 61,
      "outputs": [
        {
          "output_type": "execute_result",
          "data": {
            "text/plain": [
              "array([ 6.5, -0.5,  1. , -4.2])"
            ]
          },
          "metadata": {},
          "execution_count": 61
        }
      ]
    },
    {
      "cell_type": "code",
      "source": [
        "A * 2.5"
      ],
      "metadata": {
        "colab": {
          "base_uri": "https://localhost:8080/"
        },
        "id": "8Igi-2D2vBjo",
        "outputId": "75151d61-e43d-4316-863f-3b21740f2c1f"
      },
      "execution_count": 62,
      "outputs": [
        {
          "output_type": "execute_result",
          "data": {
            "text/plain": [
              "array([22.5 ,  5.  ,  8.75, -4.25])"
            ]
          },
          "metadata": {},
          "execution_count": 62
        }
      ]
    },
    {
      "cell_type": "code",
      "source": [
        "A / 2.5"
      ],
      "metadata": {
        "colab": {
          "base_uri": "https://localhost:8080/"
        },
        "id": "rISxvXwlvDB-",
        "outputId": "7b4d076a-dbaf-4719-b7f7-6acd8498316d"
      },
      "execution_count": 63,
      "outputs": [
        {
          "output_type": "execute_result",
          "data": {
            "text/plain": [
              "array([ 3.6 ,  0.8 ,  1.4 , -0.68])"
            ]
          },
          "metadata": {},
          "execution_count": 63
        }
      ]
    },
    {
      "cell_type": "code",
      "source": [
        "A + 3 * B"
      ],
      "metadata": {
        "colab": {
          "base_uri": "https://localhost:8080/"
        },
        "id": "yKA7GlpYvEMp",
        "outputId": "fd65a474-d18f-4bba-80b5-22a9cefb9dc0"
      },
      "execution_count": 64,
      "outputs": [
        {
          "output_type": "execute_result",
          "data": {
            "text/plain": [
              "array([14.4, 20. , -3.7, 10.3])"
            ]
          },
          "metadata": {},
          "execution_count": 64
        }
      ]
    },
    {
      "cell_type": "markdown",
      "source": [
        "Operacje możemy łączyć - tak jak w komórce wyżej."
      ],
      "metadata": {
        "id": "Yi2mMG5wvQqY"
      }
    },
    {
      "cell_type": "markdown",
      "source": [
        "**Ogólnie jednak NumPy zawiera funkcje pozwalające na operacje matematyczne między tablicami.**"
      ],
      "metadata": {
        "id": "OkQIpHz-vcS0"
      }
    },
    {
      "cell_type": "code",
      "source": [
        "np.add(A, B) # dodawanie"
      ],
      "metadata": {
        "colab": {
          "base_uri": "https://localhost:8080/"
        },
        "id": "BaIhBLmUvQG3",
        "outputId": "55ccd39f-e7e2-4410-adbd-f709cb2763df"
      },
      "execution_count": 66,
      "outputs": [
        {
          "output_type": "execute_result",
          "data": {
            "text/plain": [
              "array([10.8,  8. ,  1.1,  2.3])"
            ]
          },
          "metadata": {},
          "execution_count": 66
        }
      ]
    },
    {
      "cell_type": "code",
      "source": [
        "np.subtract(A, B) # odejmowanie"
      ],
      "metadata": {
        "colab": {
          "base_uri": "https://localhost:8080/"
        },
        "id": "TduiNCHwvqOr",
        "outputId": "a98bbcc0-8020-4197-91b6-96a2d405be97"
      },
      "execution_count": 67,
      "outputs": [
        {
          "output_type": "execute_result",
          "data": {
            "text/plain": [
              "array([ 7.2, -4. ,  5.9, -5.7])"
            ]
          },
          "metadata": {},
          "execution_count": 67
        }
      ]
    },
    {
      "cell_type": "code",
      "source": [
        "np.multiply(A, B) # mnożenie"
      ],
      "metadata": {
        "colab": {
          "base_uri": "https://localhost:8080/"
        },
        "id": "EkgImPa8vwQu",
        "outputId": "a3466c1a-e7fb-470e-8c4c-8d21f93bac8e"
      },
      "execution_count": 68,
      "outputs": [
        {
          "output_type": "execute_result",
          "data": {
            "text/plain": [
              "array([16.2, 12. , -8.4, -6.8])"
            ]
          },
          "metadata": {},
          "execution_count": 68
        }
      ]
    },
    {
      "cell_type": "code",
      "source": [
        "np.divide(A, B) # dzielenie"
      ],
      "metadata": {
        "colab": {
          "base_uri": "https://localhost:8080/"
        },
        "id": "CSN2bnpQvxvT",
        "outputId": "8e69c37e-dd99-4dc7-cfa6-a80ae42f557b"
      },
      "execution_count": 69,
      "outputs": [
        {
          "output_type": "execute_result",
          "data": {
            "text/plain": [
              "array([ 5.        ,  0.33333333, -1.45833333, -0.425     ])"
            ]
          },
          "metadata": {},
          "execution_count": 69
        }
      ]
    },
    {
      "cell_type": "markdown",
      "source": [
        "**Bardzo istotnym tematem jest mnożenie macierzy.**"
      ],
      "metadata": {
        "id": "Pw_bvQ-EwE34"
      }
    },
    {
      "cell_type": "code",
      "source": [
        "X = np.array([[1, 3], [-2, 6]])\n",
        "Y = np.array([[6, 0], [-1, 2]])\n",
        "print(X)\n",
        "print(Y)"
      ],
      "metadata": {
        "colab": {
          "base_uri": "https://localhost:8080/"
        },
        "id": "Ma9oe9kKvy27",
        "outputId": "bd31ad20-223e-4f19-80b5-12757a2f99e9"
      },
      "execution_count": 70,
      "outputs": [
        {
          "output_type": "stream",
          "name": "stdout",
          "text": [
            "[[ 1  3]\n",
            " [-2  6]]\n",
            "[[ 6  0]\n",
            " [-1  2]]\n"
          ]
        }
      ]
    },
    {
      "cell_type": "markdown",
      "source": [
        "Możliwe jest mnożenie element po elemencie, jednakowoż nie jest ono właściwe z punktu widzenia algebry liniowej."
      ],
      "metadata": {
        "id": "gL4BYLQ3wkQZ"
      }
    },
    {
      "cell_type": "code",
      "source": [
        "X * Y"
      ],
      "metadata": {
        "colab": {
          "base_uri": "https://localhost:8080/"
        },
        "id": "bGQeUvyzwaJ6",
        "outputId": "7fb86f7e-7be1-478f-9c2c-b6d716ee3572"
      },
      "execution_count": 71,
      "outputs": [
        {
          "output_type": "execute_result",
          "data": {
            "text/plain": [
              "array([[ 6,  0],\n",
              "       [ 2, 12]])"
            ]
          },
          "metadata": {},
          "execution_count": 71
        }
      ]
    },
    {
      "cell_type": "markdown",
      "source": [
        "Prawidłowe jest mnożenie wiersz x kolumn; odpowiednie jest zastosowanie funkcji **dot**, funkcji **matmul** lub operatora **@**."
      ],
      "metadata": {
        "id": "9SS22fGuw68s"
      }
    },
    {
      "cell_type": "code",
      "source": [
        "np.dot(X, Y) # mnożenie macierzy"
      ],
      "metadata": {
        "colab": {
          "base_uri": "https://localhost:8080/"
        },
        "id": "VAYrwNsPxOiM",
        "outputId": "5e24de32-ec1c-46f5-847b-a79170721d14"
      },
      "execution_count": 73,
      "outputs": [
        {
          "output_type": "execute_result",
          "data": {
            "text/plain": [
              "array([[  3,   6],\n",
              "       [-18,  12]])"
            ]
          },
          "metadata": {},
          "execution_count": 73
        }
      ]
    },
    {
      "cell_type": "code",
      "source": [
        "np.matmul(X, Y) # mnożenie macierzy"
      ],
      "metadata": {
        "colab": {
          "base_uri": "https://localhost:8080/"
        },
        "id": "B3yAHzSmw6Q3",
        "outputId": "572921a3-3f1a-4bc2-cefb-f014a27cfbad"
      },
      "execution_count": 72,
      "outputs": [
        {
          "output_type": "execute_result",
          "data": {
            "text/plain": [
              "array([[  3,   6],\n",
              "       [-18,  12]])"
            ]
          },
          "metadata": {},
          "execution_count": 72
        }
      ]
    },
    {
      "cell_type": "code",
      "source": [
        "X @ Y # mnożenie macierzy"
      ],
      "metadata": {
        "colab": {
          "base_uri": "https://localhost:8080/"
        },
        "id": "4moCF__SxLlM",
        "outputId": "4ca1c3c5-a902-45d7-a86a-fa776e5682e7"
      },
      "execution_count": 74,
      "outputs": [
        {
          "output_type": "execute_result",
          "data": {
            "text/plain": [
              "array([[  3,   6],\n",
              "       [-18,  12]])"
            ]
          },
          "metadata": {},
          "execution_count": 74
        }
      ]
    },
    {
      "cell_type": "code",
      "source": [
        "X.dot(Y) # mnożenie macierzy"
      ],
      "metadata": {
        "colab": {
          "base_uri": "https://localhost:8080/"
        },
        "id": "8BMIQ3pJyvfy",
        "outputId": "3384f9bb-bd56-4e42-ba04-d69a812e710d"
      },
      "execution_count": 75,
      "outputs": [
        {
          "output_type": "execute_result",
          "data": {
            "text/plain": [
              "array([[  3,   6],\n",
              "       [-18,  12]])"
            ]
          },
          "metadata": {},
          "execution_count": 75
        }
      ]
    },
    {
      "cell_type": "markdown",
      "source": [
        "Pamiętajmy, że mnożenie macierzy nie jest przemienne."
      ],
      "metadata": {
        "id": "RR3IvgsCy9XE"
      }
    },
    {
      "cell_type": "code",
      "source": [
        "Y.dot(X)"
      ],
      "metadata": {
        "colab": {
          "base_uri": "https://localhost:8080/"
        },
        "id": "UAmNJdV8y8QR",
        "outputId": "383ec62b-4a8e-40c3-cfee-9a1d0efe73fc"
      },
      "execution_count": 76,
      "outputs": [
        {
          "output_type": "execute_result",
          "data": {
            "text/plain": [
              "array([[ 6, 18],\n",
              "       [-5,  9]])"
            ]
          },
          "metadata": {},
          "execution_count": 76
        }
      ]
    },
    {
      "cell_type": "markdown",
      "source": [
        "## Generowanie liczb pseudolosowych."
      ],
      "metadata": {
        "id": "yGIQu6z5ziQw"
      }
    },
    {
      "cell_type": "markdown",
      "source": [
        "Mówimy o liczbach pseudolosowych, bo one nie mają naturalną losowość, a tak naprawdę różne stany losowości.\n",
        "\n",
        "Ustawiamy sobie najpierw \"ziarno losowości\", aby za każdym razem uzyskać ten sam wynik losowania. Za generowanie odpowiada funkcja **random**."
      ],
      "metadata": {
        "id": "hPF8EYWG0y8-"
      }
    },
    {
      "cell_type": "code",
      "source": [
        "np.random.seed(42)"
      ],
      "metadata": {
        "id": "99Yij2rGzCVU"
      },
      "execution_count": 79,
      "outputs": []
    },
    {
      "cell_type": "code",
      "source": [
        "np.random.randn(10) # generowanie liczb z rozkładu normalnego"
      ],
      "metadata": {
        "colab": {
          "base_uri": "https://localhost:8080/"
        },
        "id": "odFtTQhm1QM0",
        "outputId": "d8e7bf32-cac4-4257-c2a4-0669fd39a115"
      },
      "execution_count": 80,
      "outputs": [
        {
          "output_type": "execute_result",
          "data": {
            "text/plain": [
              "array([ 0.49671415, -0.1382643 ,  0.64768854,  1.52302986, -0.23415337,\n",
              "       -0.23413696,  1.57921282,  0.76743473, -0.46947439,  0.54256004])"
            ]
          },
          "metadata": {},
          "execution_count": 80
        }
      ]
    },
    {
      "cell_type": "markdown",
      "source": [
        "Przy wywołaniu funkcji bez parametrów zwróci nam ona jedną liczbę z rozkładu normalnego o średniej 0 i odchyleniu standardowym 1; możemy podać, ile liczb ma zwrócić funkcja, jako parametr."
      ],
      "metadata": {
        "id": "YnQd0Dpk1tV9"
      }
    },
    {
      "cell_type": "code",
      "source": [
        "np.random.randn(6,4)"
      ],
      "metadata": {
        "colab": {
          "base_uri": "https://localhost:8080/"
        },
        "id": "CAn-iJZk1_3T",
        "outputId": "9a20ed28-75e0-4a98-c27f-9f32a86b9fdd"
      },
      "execution_count": 81,
      "outputs": [
        {
          "output_type": "execute_result",
          "data": {
            "text/plain": [
              "array([[-0.46341769, -0.46572975,  0.24196227, -1.91328024],\n",
              "       [-1.72491783, -0.56228753, -1.01283112,  0.31424733],\n",
              "       [-0.90802408, -1.4123037 ,  1.46564877, -0.2257763 ],\n",
              "       [ 0.0675282 , -1.42474819, -0.54438272,  0.11092259],\n",
              "       [-1.15099358,  0.37569802, -0.60063869, -0.29169375],\n",
              "       [-0.60170661,  1.85227818, -0.01349722, -1.05771093]])"
            ]
          },
          "metadata": {},
          "execution_count": 81
        }
      ]
    },
    {
      "cell_type": "markdown",
      "source": [
        "Można podać krotkę jako kształt zwróconej tablicy. Możemy taką funkcję użyć do generowania danych do zwizualizowania w formie histogramu lub wykresu gęstości rozkładu normalnego."
      ],
      "metadata": {
        "id": "j4AZim7a2RWp"
      }
    },
    {
      "cell_type": "markdown",
      "source": [
        "Funkcja **random.rand** zwraca losową liczbę z rozkładu jednostajnego z przedziału 0 - 1."
      ],
      "metadata": {
        "id": "AfKZIt-A2p-d"
      }
    },
    {
      "cell_type": "code",
      "source": [
        "np.random.rand() # losowa liczba z przedziału [0, 1)"
      ],
      "metadata": {
        "colab": {
          "base_uri": "https://localhost:8080/"
        },
        "id": "E9LfgGiC2Qmk",
        "outputId": "3587eb87-2f0c-4512-f7c3-ac80ef80590b"
      },
      "execution_count": 82,
      "outputs": [
        {
          "output_type": "execute_result",
          "data": {
            "text/plain": [
              "0.034388521115218396"
            ]
          },
          "metadata": {},
          "execution_count": 82
        }
      ]
    },
    {
      "cell_type": "code",
      "source": [
        "np.random.rand(8)"
      ],
      "metadata": {
        "colab": {
          "base_uri": "https://localhost:8080/"
        },
        "id": "cKb2y_Tf21qN",
        "outputId": "95cd05ff-4abe-4461-abe3-eaec0892fb9b"
      },
      "execution_count": 83,
      "outputs": [
        {
          "output_type": "execute_result",
          "data": {
            "text/plain": [
              "array([0.9093204 , 0.25877998, 0.66252228, 0.31171108, 0.52006802,\n",
              "       0.54671028, 0.18485446, 0.96958463])"
            ]
          },
          "metadata": {},
          "execution_count": 83
        }
      ]
    },
    {
      "cell_type": "code",
      "source": [
        "np.random.rand(3, 4)"
      ],
      "metadata": {
        "colab": {
          "base_uri": "https://localhost:8080/"
        },
        "id": "bxP0UVjN25Pa",
        "outputId": "3f6ddc22-8958-48eb-a892-db22d5a8d74c"
      },
      "execution_count": 84,
      "outputs": [
        {
          "output_type": "execute_result",
          "data": {
            "text/plain": [
              "array([[0.77513282, 0.93949894, 0.89482735, 0.59789998],\n",
              "       [0.92187424, 0.0884925 , 0.19598286, 0.04522729],\n",
              "       [0.32533033, 0.38867729, 0.27134903, 0.82873751]])"
            ]
          },
          "metadata": {},
          "execution_count": 84
        }
      ]
    },
    {
      "cell_type": "markdown",
      "source": [
        "Funkcja **random.randint** zwraca losową liczbę całkowitą z przedziału 0 - podana liczba (przedział otwarty prawostronnie - podana liczba nie wchodzi w skład przedziału)."
      ],
      "metadata": {
        "id": "5hf2ufk128QX"
      }
    },
    {
      "cell_type": "code",
      "source": [
        "np.random.randint(100)"
      ],
      "metadata": {
        "colab": {
          "base_uri": "https://localhost:8080/"
        },
        "id": "hw9dXlcO2687",
        "outputId": "d0d42a95-a94e-434f-8dd3-7b212fb06481"
      },
      "execution_count": 86,
      "outputs": [
        {
          "output_type": "execute_result",
          "data": {
            "text/plain": [
              "25"
            ]
          },
          "metadata": {},
          "execution_count": 86
        }
      ]
    },
    {
      "cell_type": "markdown",
      "source": [
        "Można podać parametr low, jeżeli chcemy, aby minimalna liczba była inna od 0. Parametr high jest jedynym obowiązkowym."
      ],
      "metadata": {
        "id": "RKOTHKtB3XTg"
      }
    },
    {
      "cell_type": "code",
      "source": [
        "np.random.randint(low=10, high=100)"
      ],
      "metadata": {
        "colab": {
          "base_uri": "https://localhost:8080/"
        },
        "id": "zLMEWpom3Diq",
        "outputId": "9311a317-13dc-4fbb-b1b0-1fd2b18088eb"
      },
      "execution_count": 87,
      "outputs": [
        {
          "output_type": "execute_result",
          "data": {
            "text/plain": [
              "98"
            ]
          },
          "metadata": {},
          "execution_count": 87
        }
      ]
    },
    {
      "cell_type": "markdown",
      "source": [
        "Parametr size pozwala określić rozmiar generowanych danych (można podać liczbę całkowitą, jak i krotkę wymiarów tablicy."
      ],
      "metadata": {
        "id": "-pOQ80b73xch"
      }
    },
    {
      "cell_type": "code",
      "source": [
        "np.random.randint(low=10, high=100, size=(2,5))"
      ],
      "metadata": {
        "colab": {
          "base_uri": "https://localhost:8080/"
        },
        "id": "Wb72kw7J3mJ1",
        "outputId": "d20fe135-b8f0-4170-b3e4-3377bc652bd0"
      },
      "execution_count": 88,
      "outputs": [
        {
          "output_type": "execute_result",
          "data": {
            "text/plain": [
              "array([[69, 50, 38, 24, 54],\n",
              "       [74, 98, 80, 18, 97]])"
            ]
          },
          "metadata": {},
          "execution_count": 88
        }
      ]
    },
    {
      "cell_type": "markdown",
      "source": [
        "Funkcja **random.choice** losuje z przekazanej listy lub tablicy."
      ],
      "metadata": {
        "id": "wGbm-iKN4Mck"
      }
    },
    {
      "cell_type": "code",
      "source": [
        "np.random.choice([5, 68, 1, 0, 6, 11])"
      ],
      "metadata": {
        "colab": {
          "base_uri": "https://localhost:8080/"
        },
        "id": "Zq3yx6MU3wce",
        "outputId": "2a209da1-7994-4642-fe13-ec16582874bc"
      },
      "execution_count": 89,
      "outputs": [
        {
          "output_type": "execute_result",
          "data": {
            "text/plain": [
              "5"
            ]
          },
          "metadata": {},
          "execution_count": 89
        }
      ]
    },
    {
      "cell_type": "markdown",
      "source": [
        "Parametr size również pozwala zwrócić tablicę o pożądanych wymiarach."
      ],
      "metadata": {
        "id": "qxN4VFlf4nOp"
      }
    },
    {
      "cell_type": "code",
      "source": [
        "np.random.choice(np.random.randint(low=10, high=100, size=30), size=(2, 3))"
      ],
      "metadata": {
        "colab": {
          "base_uri": "https://localhost:8080/"
        },
        "id": "3b2bF5a34ZMZ",
        "outputId": "b8769d60-778d-4f55-bba0-031749b92496"
      },
      "execution_count": 90,
      "outputs": [
        {
          "output_type": "execute_result",
          "data": {
            "text/plain": [
              "array([[17, 90, 44],\n",
              "       [46, 82, 44]])"
            ]
          },
          "metadata": {},
          "execution_count": 90
        }
      ]
    },
    {
      "cell_type": "markdown",
      "source": [
        "Jest też funkcja **random.shuffle**, która pozwala w miejscu potasować elementy naszej tablicy. Uwaga - jeżeli wywołujemy na tablicy składającej się z kilku elementów (wektory, macierze), wówczas losuje te elementy, ale nie elementy wewnątrz nich."
      ],
      "metadata": {
        "id": "N8c83FjI5TsE"
      }
    },
    {
      "cell_type": "code",
      "source": [
        "data = np.linspace(start=10, stop=100, num=30)\n",
        "data"
      ],
      "metadata": {
        "colab": {
          "base_uri": "https://localhost:8080/"
        },
        "id": "V2kH1Dbg4ma8",
        "outputId": "efe535d5-4cc5-4781-fd1b-ed54ab35e296"
      },
      "execution_count": 96,
      "outputs": [
        {
          "output_type": "execute_result",
          "data": {
            "text/plain": [
              "array([ 10.        ,  13.10344828,  16.20689655,  19.31034483,\n",
              "        22.4137931 ,  25.51724138,  28.62068966,  31.72413793,\n",
              "        34.82758621,  37.93103448,  41.03448276,  44.13793103,\n",
              "        47.24137931,  50.34482759,  53.44827586,  56.55172414,\n",
              "        59.65517241,  62.75862069,  65.86206897,  68.96551724,\n",
              "        72.06896552,  75.17241379,  78.27586207,  81.37931034,\n",
              "        84.48275862,  87.5862069 ,  90.68965517,  93.79310345,\n",
              "        96.89655172, 100.        ])"
            ]
          },
          "metadata": {},
          "execution_count": 96
        }
      ]
    },
    {
      "cell_type": "code",
      "source": [
        "np.random.shuffle(data)\n",
        "data"
      ],
      "metadata": {
        "colab": {
          "base_uri": "https://localhost:8080/"
        },
        "id": "yV2gvdBE5LPG",
        "outputId": "3e52c85f-cea3-4f2b-dd1a-7fe6119b23e9"
      },
      "execution_count": 97,
      "outputs": [
        {
          "output_type": "execute_result",
          "data": {
            "text/plain": [
              "array([ 53.44827586,  13.10344828,  75.17241379,  19.31034483,\n",
              "        44.13793103,  62.75862069,  56.55172414,  65.86206897,\n",
              "        59.65517241,  37.93103448,  93.79310345,  81.37931034,\n",
              "        22.4137931 ,  50.34482759,  72.06896552, 100.        ,\n",
              "        31.72413793,  25.51724138,  96.89655172,  16.20689655,\n",
              "        34.82758621,  47.24137931,  68.96551724,  90.68965517,\n",
              "        10.        ,  28.62068966,  84.48275862,  78.27586207,\n",
              "        87.5862069 ,  41.03448276])"
            ]
          },
          "metadata": {},
          "execution_count": 97
        }
      ]
    },
    {
      "cell_type": "code",
      "source": [
        "data = data.reshape((10,3))\n",
        "data"
      ],
      "metadata": {
        "colab": {
          "base_uri": "https://localhost:8080/"
        },
        "id": "omgvaUbN5SKt",
        "outputId": "4f6da906-a8ac-434c-e099-f5ff72c33f33"
      },
      "execution_count": 100,
      "outputs": [
        {
          "output_type": "execute_result",
          "data": {
            "text/plain": [
              "array([[ 53.44827586,  13.10344828,  75.17241379],\n",
              "       [ 19.31034483,  44.13793103,  62.75862069],\n",
              "       [ 56.55172414,  65.86206897,  59.65517241],\n",
              "       [ 37.93103448,  93.79310345,  81.37931034],\n",
              "       [ 22.4137931 ,  50.34482759,  72.06896552],\n",
              "       [100.        ,  31.72413793,  25.51724138],\n",
              "       [ 96.89655172,  16.20689655,  34.82758621],\n",
              "       [ 47.24137931,  68.96551724,  90.68965517],\n",
              "       [ 10.        ,  28.62068966,  84.48275862],\n",
              "       [ 78.27586207,  87.5862069 ,  41.03448276]])"
            ]
          },
          "metadata": {},
          "execution_count": 100
        }
      ]
    },
    {
      "cell_type": "code",
      "source": [
        "np.random.shuffle(data)\n",
        "data"
      ],
      "metadata": {
        "colab": {
          "base_uri": "https://localhost:8080/"
        },
        "id": "zySTD9Jo6HIW",
        "outputId": "3e34dd5f-a9bb-4450-df20-4cce06bef232"
      },
      "execution_count": 101,
      "outputs": [
        {
          "output_type": "execute_result",
          "data": {
            "text/plain": [
              "array([[ 96.89655172,  16.20689655,  34.82758621],\n",
              "       [ 22.4137931 ,  50.34482759,  72.06896552],\n",
              "       [ 47.24137931,  68.96551724,  90.68965517],\n",
              "       [ 78.27586207,  87.5862069 ,  41.03448276],\n",
              "       [ 56.55172414,  65.86206897,  59.65517241],\n",
              "       [ 19.31034483,  44.13793103,  62.75862069],\n",
              "       [100.        ,  31.72413793,  25.51724138],\n",
              "       [ 10.        ,  28.62068966,  84.48275862],\n",
              "       [ 37.93103448,  93.79310345,  81.37931034],\n",
              "       [ 53.44827586,  13.10344828,  75.17241379]])"
            ]
          },
          "metadata": {},
          "execution_count": 101
        }
      ]
    },
    {
      "cell_type": "markdown",
      "source": [
        "## Podstawowe funkcje NumPy."
      ],
      "metadata": {
        "id": "IusZonAn7HdR"
      }
    },
    {
      "cell_type": "markdown",
      "source": [
        "Tutaj zajmiemy się funkcjami, które wbudowane są w bibliotekę NumPy i nie trzeba ich z żadnej innej biblioteki importować."
      ],
      "metadata": {
        "id": "joG0g2d8_0un"
      }
    },
    {
      "cell_type": "code",
      "source": [
        "np.exp(1) # zwraca stałą Eulera"
      ],
      "metadata": {
        "colab": {
          "base_uri": "https://localhost:8080/"
        },
        "id": "-iz3fepE6N8K",
        "outputId": "e4e39bdb-9971-4199-c8a1-41c8f1e6c891"
      },
      "execution_count": 107,
      "outputs": [
        {
          "output_type": "execute_result",
          "data": {
            "text/plain": [
              "2.718281828459045"
            ]
          },
          "metadata": {},
          "execution_count": 107
        }
      ]
    },
    {
      "cell_type": "markdown",
      "source": [
        "Funkcja **exp** zwraca eksponent stałą Eulera, podstawę logarytmu naturalnego, bardzo istotną przy budowie sieci neuronowych."
      ],
      "metadata": {
        "id": "uPrVSMv8AO2S"
      }
    },
    {
      "cell_type": "code",
      "source": [
        "np.sqrt(9) # zwraca pierwiastek kwadratowy"
      ],
      "metadata": {
        "colab": {
          "base_uri": "https://localhost:8080/"
        },
        "id": "mRQ7Hf79AEpF",
        "outputId": "22d6b122-b150-4ce1-aeb3-83f675bd6f38"
      },
      "execution_count": 108,
      "outputs": [
        {
          "output_type": "execute_result",
          "data": {
            "text/plain": [
              "3.0"
            ]
          },
          "metadata": {},
          "execution_count": 108
        }
      ]
    },
    {
      "cell_type": "markdown",
      "source": [
        "**Sqrt** zwraca pierwiastek jako float."
      ],
      "metadata": {
        "id": "w4l1dKlvBGoj"
      }
    },
    {
      "cell_type": "code",
      "source": [
        "np.all([2, 3, -1])"
      ],
      "metadata": {
        "colab": {
          "base_uri": "https://localhost:8080/"
        },
        "id": "Sd78YcHoBUEB",
        "outputId": "1f55642c-a763-4967-e74c-7db3d9724723"
      },
      "execution_count": 114,
      "outputs": [
        {
          "output_type": "execute_result",
          "data": {
            "text/plain": [
              "True"
            ]
          },
          "metadata": {},
          "execution_count": 114
        }
      ]
    },
    {
      "cell_type": "code",
      "source": [
        "np.all([2, 8, 0])"
      ],
      "metadata": {
        "colab": {
          "base_uri": "https://localhost:8080/"
        },
        "id": "_Tb7PL6-BFgf",
        "outputId": "92ca15ef-b946-450a-884c-5fa433e03095"
      },
      "execution_count": 113,
      "outputs": [
        {
          "output_type": "execute_result",
          "data": {
            "text/plain": [
              "False"
            ]
          },
          "metadata": {},
          "execution_count": 113
        }
      ]
    },
    {
      "cell_type": "markdown",
      "source": [
        "Funkcja **all** iteruje po wszystkich elementach tablicy i zwraca wartość logiczną koniunkcji wszystkich elementów (każdy element liczbowy różny od 0 to prawda, 0 to fałsz)."
      ],
      "metadata": {
        "id": "31EFRycIBWA6"
      }
    },
    {
      "cell_type": "code",
      "source": [
        "np.any([2, 3, -1])"
      ],
      "metadata": {
        "colab": {
          "base_uri": "https://localhost:8080/"
        },
        "id": "nfCa7BCuBR7z",
        "outputId": "c7413740-8398-4a41-e1cc-053da01b4e3d"
      },
      "execution_count": 115,
      "outputs": [
        {
          "output_type": "execute_result",
          "data": {
            "text/plain": [
              "True"
            ]
          },
          "metadata": {},
          "execution_count": 115
        }
      ]
    },
    {
      "cell_type": "code",
      "source": [
        "np.any([2, 8, 0])"
      ],
      "metadata": {
        "colab": {
          "base_uri": "https://localhost:8080/"
        },
        "id": "wi6fVnOFB8QJ",
        "outputId": "1584e4bc-4d2a-4ce8-81cf-cbe58ff7f4e1"
      },
      "execution_count": 116,
      "outputs": [
        {
          "output_type": "execute_result",
          "data": {
            "text/plain": [
              "True"
            ]
          },
          "metadata": {},
          "execution_count": 116
        }
      ]
    },
    {
      "cell_type": "code",
      "source": [
        "np.any([0, 0, 0])"
      ],
      "metadata": {
        "colab": {
          "base_uri": "https://localhost:8080/"
        },
        "id": "tcgE2-ufB-pg",
        "outputId": "e17f4795-1dc7-4199-e2df-a9dd5d9f99d9"
      },
      "execution_count": 117,
      "outputs": [
        {
          "output_type": "execute_result",
          "data": {
            "text/plain": [
              "False"
            ]
          },
          "metadata": {},
          "execution_count": 117
        }
      ]
    },
    {
      "cell_type": "markdown",
      "source": [
        "Funkcja **any** sprawdza, czy jakikolwiek element jest prawdą. Funkcja ta może się sprawdzać przy bardzo dużych tablicach, gdzie mamy bardzo mało wartości innych od 0 i trzeba je odnaleźć."
      ],
      "metadata": {
        "id": "7qmFH_fdCAtP"
      }
    },
    {
      "cell_type": "code",
      "source": [
        "A = np.random.rand(8)\n",
        "A"
      ],
      "metadata": {
        "colab": {
          "base_uri": "https://localhost:8080/"
        },
        "id": "6a5JEMMoB_8d",
        "outputId": "43c0ee94-a83f-4713-9eb4-e4f873eb42a8"
      },
      "execution_count": 119,
      "outputs": [
        {
          "output_type": "execute_result",
          "data": {
            "text/plain": [
              "array([0.99774049, 0.26678101, 0.97661496, 0.41103701, 0.03305073,\n",
              "       0.34507125, 0.63435134, 0.68070545])"
            ]
          },
          "metadata": {},
          "execution_count": 119
        }
      ]
    },
    {
      "cell_type": "markdown",
      "source": [
        "Generujemy sobie 8 liczb z rozkładu jednostajnego - niech to będą umownie prawdopodobieństwa klasy 1 dla danej próbki."
      ],
      "metadata": {
        "id": "vv7JhVIPDJ2t"
      }
    },
    {
      "cell_type": "code",
      "source": [
        "np.argmax(A) # zwraca indeks największej wartości"
      ],
      "metadata": {
        "colab": {
          "base_uri": "https://localhost:8080/"
        },
        "id": "zTyQnxHyDGyo",
        "outputId": "1108d9f7-b0e5-4b05-8f07-3737718934c8"
      },
      "execution_count": 120,
      "outputs": [
        {
          "output_type": "execute_result",
          "data": {
            "text/plain": [
              "0"
            ]
          },
          "metadata": {},
          "execution_count": 120
        }
      ]
    },
    {
      "cell_type": "markdown",
      "source": [
        "Aby wyciąć tę największą wartość z próbki, możemy użyć liczby zwróconej przez funkcję jako indeksu."
      ],
      "metadata": {
        "id": "oenNoxbTDngg"
      }
    },
    {
      "cell_type": "code",
      "source": [
        "A[np.argmax(A)]"
      ],
      "metadata": {
        "colab": {
          "base_uri": "https://localhost:8080/"
        },
        "id": "urgOm53qDgvk",
        "outputId": "2192d734-1913-4aa3-fd7f-9536685cbb24"
      },
      "execution_count": 121,
      "outputs": [
        {
          "output_type": "execute_result",
          "data": {
            "text/plain": [
              "0.9977404850489419"
            ]
          },
          "metadata": {},
          "execution_count": 121
        }
      ]
    },
    {
      "cell_type": "markdown",
      "source": [
        "Przeciwna do argmax jest funkcja **argmin**."
      ],
      "metadata": {
        "id": "UrMRfVRFD2fa"
      }
    },
    {
      "cell_type": "code",
      "source": [
        "np.argmin(A)"
      ],
      "metadata": {
        "colab": {
          "base_uri": "https://localhost:8080/"
        },
        "id": "Os_ufzQTDx8l",
        "outputId": "9468c1c1-1c71-4789-af8b-3684b0060421"
      },
      "execution_count": 122,
      "outputs": [
        {
          "output_type": "execute_result",
          "data": {
            "text/plain": [
              "4"
            ]
          },
          "metadata": {},
          "execution_count": 122
        }
      ]
    },
    {
      "cell_type": "code",
      "source": [
        "A[np.argmin(A)]"
      ],
      "metadata": {
        "colab": {
          "base_uri": "https://localhost:8080/"
        },
        "id": "apRpmFXeD7db",
        "outputId": "b6cbc823-be8e-4b45-f29e-4c3b2f155160"
      },
      "execution_count": 123,
      "outputs": [
        {
          "output_type": "execute_result",
          "data": {
            "text/plain": [
              "0.033050732900548385"
            ]
          },
          "metadata": {},
          "execution_count": 123
        }
      ]
    },
    {
      "cell_type": "markdown",
      "source": [
        "Jeżeli mielibyśmy klasyfikację multiklasową - przydaje się funkcja **argsort**. Sortuje ona elementy, podając jednocześnie indeks."
      ],
      "metadata": {
        "id": "HyGDEsIjEEVF"
      }
    },
    {
      "cell_type": "code",
      "source": [
        "np.argsort(A)"
      ],
      "metadata": {
        "colab": {
          "base_uri": "https://localhost:8080/"
        },
        "id": "cMEZGVB3D9mb",
        "outputId": "eb7902a6-cdad-4a2d-af3e-aebd885528c1"
      },
      "execution_count": 124,
      "outputs": [
        {
          "output_type": "execute_result",
          "data": {
            "text/plain": [
              "array([4, 1, 5, 3, 6, 7, 2, 0])"
            ]
          },
          "metadata": {},
          "execution_count": 124
        }
      ]
    },
    {
      "cell_type": "markdown",
      "source": [
        "Oczywiście też możemy jej output potraktować w celu posortowania tablicy."
      ],
      "metadata": {
        "id": "82rtEpW6EnU5"
      }
    },
    {
      "cell_type": "code",
      "source": [
        "A[np.argsort(A)]"
      ],
      "metadata": {
        "colab": {
          "base_uri": "https://localhost:8080/"
        },
        "id": "Jy1Ov8aGEjK4",
        "outputId": "c60d0ece-b46a-462e-8eeb-be6ce4fed767"
      },
      "execution_count": 125,
      "outputs": [
        {
          "output_type": "execute_result",
          "data": {
            "text/plain": [
              "array([0.03305073, 0.26678101, 0.34507125, 0.41103701, 0.63435134,\n",
              "       0.68070545, 0.97661496, 0.99774049])"
            ]
          },
          "metadata": {},
          "execution_count": 125
        }
      ]
    },
    {
      "cell_type": "markdown",
      "source": [
        "I funkcje czysto statystyczne - **max**, **min**, **mean**, **std**, **var**."
      ],
      "metadata": {
        "id": "qrF1khZmEysP"
      }
    },
    {
      "cell_type": "code",
      "source": [
        "np.max(A)"
      ],
      "metadata": {
        "colab": {
          "base_uri": "https://localhost:8080/"
        },
        "id": "72TuyyanEhPD",
        "outputId": "43f483f4-df7b-4881-95f5-60b2f6ecf04f"
      },
      "execution_count": 126,
      "outputs": [
        {
          "output_type": "execute_result",
          "data": {
            "text/plain": [
              "0.9977404850489419"
            ]
          },
          "metadata": {},
          "execution_count": 126
        }
      ]
    },
    {
      "cell_type": "code",
      "source": [
        "np.min(A)"
      ],
      "metadata": {
        "colab": {
          "base_uri": "https://localhost:8080/"
        },
        "id": "wFeKhtNAE_zv",
        "outputId": "e4f63b73-a396-4695-f520-154d0763d355"
      },
      "execution_count": 127,
      "outputs": [
        {
          "output_type": "execute_result",
          "data": {
            "text/plain": [
              "0.033050732900548385"
            ]
          },
          "metadata": {},
          "execution_count": 127
        }
      ]
    },
    {
      "cell_type": "code",
      "source": [
        "np.mean(A)"
      ],
      "metadata": {
        "colab": {
          "base_uri": "https://localhost:8080/"
        },
        "id": "_-xsv2pbFA6U",
        "outputId": "c3a015e6-e4b3-42f5-9b0d-09de93789beb"
      },
      "execution_count": 128,
      "outputs": [
        {
          "output_type": "execute_result",
          "data": {
            "text/plain": [
              "0.5431690307073092"
            ]
          },
          "metadata": {},
          "execution_count": 128
        }
      ]
    },
    {
      "cell_type": "code",
      "source": [
        "np.std(A)"
      ],
      "metadata": {
        "colab": {
          "base_uri": "https://localhost:8080/"
        },
        "id": "g4ExqMLKFBq9",
        "outputId": "9119adf4-4312-4f01-f372-87600ed9ab30"
      },
      "execution_count": 129,
      "outputs": [
        {
          "output_type": "execute_result",
          "data": {
            "text/plain": [
              "0.31918914327199"
            ]
          },
          "metadata": {},
          "execution_count": 129
        }
      ]
    },
    {
      "cell_type": "code",
      "source": [
        "np.var(A)"
      ],
      "metadata": {
        "colab": {
          "base_uri": "https://localhost:8080/"
        },
        "id": "zCvaoweOFEcj",
        "outputId": "b0386303-1154-4377-d592-5feb48323dc2"
      },
      "execution_count": 131,
      "outputs": [
        {
          "output_type": "execute_result",
          "data": {
            "text/plain": [
              "0.10188170918270695"
            ]
          },
          "metadata": {},
          "execution_count": 131
        }
      ]
    },
    {
      "cell_type": "markdown",
      "source": [
        "## Indeksowanie i wycinanie tablic."
      ],
      "metadata": {
        "id": "ZBi5fNn5Gnid"
      }
    },
    {
      "cell_type": "code",
      "source": [
        "A = np.arange(20)\n",
        "A"
      ],
      "metadata": {
        "colab": {
          "base_uri": "https://localhost:8080/"
        },
        "id": "JIiRn_OrFaLx",
        "outputId": "98c0264b-69c8-4f12-e80e-6e57fa315aa9"
      },
      "execution_count": 133,
      "outputs": [
        {
          "output_type": "execute_result",
          "data": {
            "text/plain": [
              "array([ 0,  1,  2,  3,  4,  5,  6,  7,  8,  9, 10, 11, 12, 13, 14, 15, 16,\n",
              "       17, 18, 19])"
            ]
          },
          "metadata": {},
          "execution_count": 133
        }
      ]
    },
    {
      "cell_type": "markdown",
      "source": [
        "Mamy wygenerowaną tablicę. Teraz możemy sobie wycinać jej elementy. Możemy podać:"
      ],
      "metadata": {
        "id": "P2nCg3MRGvO-"
      }
    },
    {
      "cell_type": "code",
      "source": [
        "A[5] # konkretny indeks"
      ],
      "metadata": {
        "colab": {
          "base_uri": "https://localhost:8080/"
        },
        "id": "M8GY6k6iGtf8",
        "outputId": "0d044f81-d69d-46e8-dc9a-3d992b94b7c9"
      },
      "execution_count": 135,
      "outputs": [
        {
          "output_type": "execute_result",
          "data": {
            "text/plain": [
              "5"
            ]
          },
          "metadata": {},
          "execution_count": 135
        }
      ]
    },
    {
      "cell_type": "code",
      "source": [
        "A[5:12] # indeks startowy i końcowy"
      ],
      "metadata": {
        "colab": {
          "base_uri": "https://localhost:8080/"
        },
        "id": "XKryaz29JNpP",
        "outputId": "d69c7e76-b8d6-4f0b-dc6b-eb3821810c00"
      },
      "execution_count": 136,
      "outputs": [
        {
          "output_type": "execute_result",
          "data": {
            "text/plain": [
              "array([ 5,  6,  7,  8,  9, 10, 11])"
            ]
          },
          "metadata": {},
          "execution_count": 136
        }
      ]
    },
    {
      "cell_type": "code",
      "source": [
        "A[:8] # indeks, na którym chcemy skończyć"
      ],
      "metadata": {
        "colab": {
          "base_uri": "https://localhost:8080/"
        },
        "id": "imvmYYI9JYJY",
        "outputId": "2d542dd1-0f6f-400c-a998-bae9ae2740aa"
      },
      "execution_count": 137,
      "outputs": [
        {
          "output_type": "execute_result",
          "data": {
            "text/plain": [
              "array([0, 1, 2, 3, 4, 5, 6, 7])"
            ]
          },
          "metadata": {},
          "execution_count": 137
        }
      ]
    },
    {
      "cell_type": "code",
      "source": [
        "A[8:] # indeks, od którego chcemy rozpocząć"
      ],
      "metadata": {
        "colab": {
          "base_uri": "https://localhost:8080/"
        },
        "id": "QG02SwkAJdPg",
        "outputId": "d9ef3527-778e-43e4-baa3-4ca576539ffb"
      },
      "execution_count": 138,
      "outputs": [
        {
          "output_type": "execute_result",
          "data": {
            "text/plain": [
              "array([ 8,  9, 10, 11, 12, 13, 14, 15, 16, 17, 18, 19])"
            ]
          },
          "metadata": {},
          "execution_count": 138
        }
      ]
    },
    {
      "cell_type": "code",
      "source": [
        "A[[6, 9, 4]] # kilka konkretnych indeksów, wskazanych jako lista"
      ],
      "metadata": {
        "colab": {
          "base_uri": "https://localhost:8080/"
        },
        "id": "ORy1KVeXJgLh",
        "outputId": "1031820d-e733-4f89-b3cd-0e3d5331d2a5"
      },
      "execution_count": 139,
      "outputs": [
        {
          "output_type": "execute_result",
          "data": {
            "text/plain": [
              "array([6, 9, 4])"
            ]
          },
          "metadata": {},
          "execution_count": 139
        }
      ]
    },
    {
      "cell_type": "code",
      "source": [
        "A[-7] # indeks od końca"
      ],
      "metadata": {
        "colab": {
          "base_uri": "https://localhost:8080/"
        },
        "id": "aoDUc51GJ4po",
        "outputId": "0c24e7d5-27a7-4b19-f17f-97ce54662856"
      },
      "execution_count": 140,
      "outputs": [
        {
          "output_type": "execute_result",
          "data": {
            "text/plain": [
              "13"
            ]
          },
          "metadata": {},
          "execution_count": 140
        }
      ]
    },
    {
      "cell_type": "markdown",
      "source": [
        "To było proste. Zróbmy jednak z tego macierz, żeby trochę to utrudnić."
      ],
      "metadata": {
        "id": "1HM5sVK2KCSr"
      }
    },
    {
      "cell_type": "code",
      "source": [
        "A = A.reshape(4, 5)\n",
        "A"
      ],
      "metadata": {
        "colab": {
          "base_uri": "https://localhost:8080/"
        },
        "id": "wIiMvj0eJ_HO",
        "outputId": "7c166a6a-81c5-4eb1-a9a0-2e5f27c17582"
      },
      "execution_count": 141,
      "outputs": [
        {
          "output_type": "execute_result",
          "data": {
            "text/plain": [
              "array([[ 0,  1,  2,  3,  4],\n",
              "       [ 5,  6,  7,  8,  9],\n",
              "       [10, 11, 12, 13, 14],\n",
              "       [15, 16, 17, 18, 19]])"
            ]
          },
          "metadata": {},
          "execution_count": 141
        }
      ]
    },
    {
      "cell_type": "code",
      "source": [
        "A[0] # pierwszy wiersz"
      ],
      "metadata": {
        "colab": {
          "base_uri": "https://localhost:8080/"
        },
        "id": "vHuYOZiRKJ9_",
        "outputId": "7e9c584c-e5e9-422f-c3b0-38a34e1dceb7"
      },
      "execution_count": 142,
      "outputs": [
        {
          "output_type": "execute_result",
          "data": {
            "text/plain": [
              "array([0, 1, 2, 3, 4])"
            ]
          },
          "metadata": {},
          "execution_count": 142
        }
      ]
    },
    {
      "cell_type": "code",
      "source": [
        "A[:, 0] # pierwsza kolumna"
      ],
      "metadata": {
        "colab": {
          "base_uri": "https://localhost:8080/"
        },
        "id": "zCPdoHI7KNxn",
        "outputId": "fb308b07-830a-4b8d-f5ef-d6cc950d118d"
      },
      "execution_count": 143,
      "outputs": [
        {
          "output_type": "execute_result",
          "data": {
            "text/plain": [
              "array([ 0,  5, 10, 15])"
            ]
          },
          "metadata": {},
          "execution_count": 143
        }
      ]
    },
    {
      "cell_type": "code",
      "source": [
        "A[:, -1] # ostatnia kolumna"
      ],
      "metadata": {
        "colab": {
          "base_uri": "https://localhost:8080/"
        },
        "id": "9XAwaQ35LY7Z",
        "outputId": "ea2dba9a-75fe-4bb0-af0d-6de224a54b58"
      },
      "execution_count": 144,
      "outputs": [
        {
          "output_type": "execute_result",
          "data": {
            "text/plain": [
              "array([ 4,  9, 14, 19])"
            ]
          },
          "metadata": {},
          "execution_count": 144
        }
      ]
    },
    {
      "cell_type": "code",
      "source": [
        "A[1,1] # konkretny element"
      ],
      "metadata": {
        "colab": {
          "base_uri": "https://localhost:8080/"
        },
        "id": "xffy38mcLauw",
        "outputId": "1a66dfe4-f19e-40a8-b81a-bd7b87b6daf9"
      },
      "execution_count": 145,
      "outputs": [
        {
          "output_type": "execute_result",
          "data": {
            "text/plain": [
              "6"
            ]
          },
          "metadata": {},
          "execution_count": 145
        }
      ]
    },
    {
      "cell_type": "code",
      "source": [
        "A[1,-2]"
      ],
      "metadata": {
        "colab": {
          "base_uri": "https://localhost:8080/"
        },
        "id": "8F92F-55LgyJ",
        "outputId": "a1955f50-f0a2-413f-9a56-2683a0990d46"
      },
      "execution_count": 146,
      "outputs": [
        {
          "output_type": "execute_result",
          "data": {
            "text/plain": [
              "8"
            ]
          },
          "metadata": {},
          "execution_count": 146
        }
      ]
    },
    {
      "cell_type": "code",
      "source": [
        "A[1:3, 1:4] # wycinanie macierzy"
      ],
      "metadata": {
        "colab": {
          "base_uri": "https://localhost:8080/"
        },
        "id": "fqZkgk2sLlcn",
        "outputId": "17d83a27-ed18-447a-aab9-9eecdeed3e2f"
      },
      "execution_count": 148,
      "outputs": [
        {
          "output_type": "execute_result",
          "data": {
            "text/plain": [
              "array([[ 6,  7,  8],\n",
              "       [11, 12, 13]])"
            ]
          },
          "metadata": {},
          "execution_count": 148
        }
      ]
    },
    {
      "cell_type": "markdown",
      "source": [
        "Możemy też zmieniać elementy."
      ],
      "metadata": {
        "id": "P1fzfm0OL2--"
      }
    },
    {
      "cell_type": "code",
      "source": [
        "A[1, 2] = 14 # zmiana elementu\n",
        "A"
      ],
      "metadata": {
        "colab": {
          "base_uri": "https://localhost:8080/"
        },
        "id": "C-sfPn17LszV",
        "outputId": "b91f7d91-4eb0-4ddf-f49a-fc9c5240424b"
      },
      "execution_count": 149,
      "outputs": [
        {
          "output_type": "execute_result",
          "data": {
            "text/plain": [
              "array([[ 0,  1,  2,  3,  4],\n",
              "       [ 5,  6, 14,  8,  9],\n",
              "       [10, 11, 12, 13, 14],\n",
              "       [15, 16, 17, 18, 19]])"
            ]
          },
          "metadata": {},
          "execution_count": 149
        }
      ]
    },
    {
      "cell_type": "code",
      "source": [
        "A[1:3, 1:4] = np.zeros((2,3)) # zmiana wycinanego elementu\n",
        "A"
      ],
      "metadata": {
        "colab": {
          "base_uri": "https://localhost:8080/"
        },
        "id": "cnWFaeeTL1tz",
        "outputId": "f530e62c-5b5f-4eaa-90c5-90024d685261"
      },
      "execution_count": 150,
      "outputs": [
        {
          "output_type": "execute_result",
          "data": {
            "text/plain": [
              "array([[ 0,  1,  2,  3,  4],\n",
              "       [ 5,  0,  0,  0,  9],\n",
              "       [10,  0,  0,  0, 14],\n",
              "       [15, 16, 17, 18, 19]])"
            ]
          },
          "metadata": {},
          "execution_count": 150
        }
      ]
    },
    {
      "cell_type": "markdown",
      "source": [
        "## Iteracja po tablicach."
      ],
      "metadata": {
        "id": "8wClujh8MFYk"
      }
    },
    {
      "cell_type": "markdown",
      "source": [
        "Przypomnijmy sobie postać naszej tablicy 2D (macierzy). Jeżeli chcemy iterować wiersz po wierszu, możemy to robić za pomocą pętli."
      ],
      "metadata": {
        "id": "0f1lvfhDMRQC"
      }
    },
    {
      "cell_type": "code",
      "source": [
        "for row in A:\n",
        "    print(row)"
      ],
      "metadata": {
        "colab": {
          "base_uri": "https://localhost:8080/"
        },
        "id": "FeiE_AstMB9_",
        "outputId": "9b12bb80-193b-417a-fee8-5429d3a0c404"
      },
      "execution_count": 151,
      "outputs": [
        {
          "output_type": "stream",
          "name": "stdout",
          "text": [
            "[0 1 2 3 4]\n",
            "[5 0 0 0 9]\n",
            "[10  0  0  0 14]\n",
            "[15 16 17 18 19]\n"
          ]
        }
      ]
    },
    {
      "cell_type": "markdown",
      "source": [
        "Możemy też przy pomocy pętli wyświetlać wycinki tablicy."
      ],
      "metadata": {
        "id": "jyRm19-HMnzC"
      }
    },
    {
      "cell_type": "code",
      "source": [
        "for row in A:\n",
        "    print(row[:3])"
      ],
      "metadata": {
        "colab": {
          "base_uri": "https://localhost:8080/"
        },
        "id": "CLn9kyr0Mlb9",
        "outputId": "680e4d4e-5a88-4190-9931-edb00728588c"
      },
      "execution_count": 152,
      "outputs": [
        {
          "output_type": "stream",
          "name": "stdout",
          "text": [
            "[0 1 2]\n",
            "[5 0 0]\n",
            "[10  0  0]\n",
            "[15 16 17]\n"
          ]
        }
      ]
    },
    {
      "cell_type": "markdown",
      "source": [
        "Żeby wyświetlać element po elemencie, musimy \"spłaszczyć\" tablicę, używając atrybutu **flat**."
      ],
      "metadata": {
        "id": "_joY_wfJM8CW"
      }
    },
    {
      "cell_type": "code",
      "source": [
        "for item in A.flat:\n",
        "    print(item)"
      ],
      "metadata": {
        "colab": {
          "base_uri": "https://localhost:8080/"
        },
        "id": "OJdSM0lPMmom",
        "outputId": "d30845ff-11fd-4c53-cbe7-87b2ae9b610a"
      },
      "execution_count": 156,
      "outputs": [
        {
          "output_type": "stream",
          "name": "stdout",
          "text": [
            "0\n",
            "1\n",
            "2\n",
            "3\n",
            "4\n",
            "5\n",
            "0\n",
            "0\n",
            "0\n",
            "9\n",
            "10\n",
            "0\n",
            "0\n",
            "0\n",
            "14\n",
            "15\n",
            "16\n",
            "17\n",
            "18\n",
            "19\n"
          ]
        }
      ]
    },
    {
      "cell_type": "markdown",
      "source": [
        "## Zmiana rozmiaru tablic."
      ],
      "metadata": {
        "id": "cBCLp-XjNP1O"
      }
    },
    {
      "cell_type": "code",
      "source": [
        "A.shape"
      ],
      "metadata": {
        "colab": {
          "base_uri": "https://localhost:8080/"
        },
        "id": "0RnzCpVbNGFg",
        "outputId": "7846c9d6-1914-494d-a41f-1a93b2f131eb"
      },
      "execution_count": 158,
      "outputs": [
        {
          "output_type": "execute_result",
          "data": {
            "text/plain": [
              "(4, 5)"
            ]
          },
          "metadata": {},
          "execution_count": 158
        }
      ]
    },
    {
      "cell_type": "markdown",
      "source": [
        "Najoczywistszą metodą do zmiany kształtu takiej tablicy jest metoda **reshape**."
      ],
      "metadata": {
        "id": "YRUJbgdDNbSq"
      }
    },
    {
      "cell_type": "code",
      "source": [
        "A.reshape(5, 4)"
      ],
      "metadata": {
        "colab": {
          "base_uri": "https://localhost:8080/"
        },
        "id": "rqoxhIthNVBY",
        "outputId": "6d83be6a-02ab-45df-af0e-4f772d626ca6"
      },
      "execution_count": 159,
      "outputs": [
        {
          "output_type": "execute_result",
          "data": {
            "text/plain": [
              "array([[ 0,  1,  2,  3],\n",
              "       [ 4,  5,  0,  0],\n",
              "       [ 0,  9, 10,  0],\n",
              "       [ 0,  0, 14, 15],\n",
              "       [16, 17, 18, 19]])"
            ]
          },
          "metadata": {},
          "execution_count": 159
        }
      ]
    },
    {
      "cell_type": "markdown",
      "source": [
        "Można jednak też zastosować metodę **ravel**, która pozwoli wypłaszczyć naszą tablicę."
      ],
      "metadata": {
        "id": "D8qNmfLZNmTi"
      }
    },
    {
      "cell_type": "code",
      "source": [
        "A.ravel()"
      ],
      "metadata": {
        "colab": {
          "base_uri": "https://localhost:8080/"
        },
        "id": "040lGwiyNYVI",
        "outputId": "9e2e711f-c813-4920-b001-2290c70c44bf"
      },
      "execution_count": 160,
      "outputs": [
        {
          "output_type": "execute_result",
          "data": {
            "text/plain": [
              "array([ 0,  1,  2,  3,  4,  5,  0,  0,  0,  9, 10,  0,  0,  0, 14, 15, 16,\n",
              "       17, 18, 19])"
            ]
          },
          "metadata": {},
          "execution_count": 160
        }
      ]
    },
    {
      "cell_type": "markdown",
      "source": [
        "Transpozycja macierzy to zamiana wierszy na kolumny. Dwie metody:"
      ],
      "metadata": {
        "id": "SbIObfTaNxHC"
      }
    },
    {
      "cell_type": "code",
      "source": [
        "A.T"
      ],
      "metadata": {
        "colab": {
          "base_uri": "https://localhost:8080/"
        },
        "id": "6qNkVW5YNv42",
        "outputId": "ffd3d4f2-e9c8-42cb-b633-f59feacb5a39"
      },
      "execution_count": 161,
      "outputs": [
        {
          "output_type": "execute_result",
          "data": {
            "text/plain": [
              "array([[ 0,  5, 10, 15],\n",
              "       [ 1,  0,  0, 16],\n",
              "       [ 2,  0,  0, 17],\n",
              "       [ 3,  0,  0, 18],\n",
              "       [ 4,  9, 14, 19]])"
            ]
          },
          "metadata": {},
          "execution_count": 161
        }
      ]
    },
    {
      "cell_type": "code",
      "source": [
        "np.transpose(A)"
      ],
      "metadata": {
        "colab": {
          "base_uri": "https://localhost:8080/"
        },
        "id": "su9oi7voNz02",
        "outputId": "0895826b-482e-4d45-dc61-a97cafbd651f"
      },
      "execution_count": 162,
      "outputs": [
        {
          "output_type": "execute_result",
          "data": {
            "text/plain": [
              "array([[ 0,  5, 10, 15],\n",
              "       [ 1,  0,  0, 16],\n",
              "       [ 2,  0,  0, 17],\n",
              "       [ 3,  0,  0, 18],\n",
              "       [ 4,  9, 14, 19]])"
            ]
          },
          "metadata": {},
          "execution_count": 162
        }
      ]
    },
    {
      "cell_type": "markdown",
      "source": [
        "## Maski logiczne."
      ],
      "metadata": {
        "id": "ykfbrKmXOGYv"
      }
    },
    {
      "cell_type": "code",
      "source": [
        "A = np.random.randint(low=-100, high=100, size=(10, 5))\n",
        "A"
      ],
      "metadata": {
        "colab": {
          "base_uri": "https://localhost:8080/"
        },
        "id": "oriGrFImN_W7",
        "outputId": "4a7c9f47-bd65-451f-fc20-023df8412338"
      },
      "execution_count": 167,
      "outputs": [
        {
          "output_type": "execute_result",
          "data": {
            "text/plain": [
              "array([[-77,  -8, -55,  80,  -6],\n",
              "       [ -2,  87,  15,  90,  59],\n",
              "       [ 60, -34,  27, -83, -76],\n",
              "       [-47, -43, -34,   3,  73],\n",
              "       [-77,  13, -69,  74, -15],\n",
              "       [ 50,  93,  26,  54,  29],\n",
              "       [-84,   3,  60,  36, -58],\n",
              "       [ 75, -62,  69, -75,  -2],\n",
              "       [-51,  52,  51, -88, -41],\n",
              "       [ 34, -44, -65,  72, -81]])"
            ]
          },
          "metadata": {},
          "execution_count": 167
        }
      ]
    },
    {
      "cell_type": "markdown",
      "source": [
        "Po co nam maski logiczne? Np. chcielibyśmy się dowiedzieć, w których miejscach macierzy mamy wartości ujemne."
      ],
      "metadata": {
        "id": "DFH7SvjWOeB6"
      }
    },
    {
      "cell_type": "code",
      "source": [
        "A > 0"
      ],
      "metadata": {
        "colab": {
          "base_uri": "https://localhost:8080/"
        },
        "id": "138q7KZ6OTvD",
        "outputId": "a303a105-4bd3-416c-e679-5e5e80cfb92d"
      },
      "execution_count": 168,
      "outputs": [
        {
          "output_type": "execute_result",
          "data": {
            "text/plain": [
              "array([[False, False, False,  True, False],\n",
              "       [False,  True,  True,  True,  True],\n",
              "       [ True, False,  True, False, False],\n",
              "       [False, False, False,  True,  True],\n",
              "       [False,  True, False,  True, False],\n",
              "       [ True,  True,  True,  True,  True],\n",
              "       [False,  True,  True,  True, False],\n",
              "       [ True, False,  True, False, False],\n",
              "       [False,  True,  True, False, False],\n",
              "       [ True, False, False,  True, False]])"
            ]
          },
          "metadata": {},
          "execution_count": 168
        }
      ]
    },
    {
      "cell_type": "markdown",
      "source": [
        "Dzięki takiej masce możemy wyciąć tylko te dane, które nas interesują. Przekazujemy tę maskę jako indeks do wycięcia, dzięki czemu wyświetlą się te dane, dla których maska przyjmuje wartość True."
      ],
      "metadata": {
        "id": "OPEkldtpOwky"
      }
    },
    {
      "cell_type": "code",
      "source": [
        "A[A < 0]"
      ],
      "metadata": {
        "colab": {
          "base_uri": "https://localhost:8080/"
        },
        "id": "7lwDI4aSOooU",
        "outputId": "5a7f73c4-1b98-4c72-af9a-8a49f1f939ad"
      },
      "execution_count": 169,
      "outputs": [
        {
          "output_type": "execute_result",
          "data": {
            "text/plain": [
              "array([-77,  -8, -55,  -6,  -2, -34, -83, -76, -47, -43, -34, -77, -69,\n",
              "       -15, -84, -58, -62, -75,  -2, -51, -88, -41, -44, -65, -81])"
            ]
          },
          "metadata": {},
          "execution_count": 169
        }
      ]
    },
    {
      "cell_type": "markdown",
      "source": [
        "Aby wyświetlić tylko te wartości, które spełniają więcej niż jeden warunek logiczny, stosujemy funkcję **bitwise_and** (operator and nie znajdzie zastosowania, wyrzuci błąd)."
      ],
      "metadata": {
        "id": "H_Sh236mPcyj"
      }
    },
    {
      "cell_type": "code",
      "source": [
        "A[np.bitwise_and(A > -10, A < 10)]"
      ],
      "metadata": {
        "colab": {
          "base_uri": "https://localhost:8080/"
        },
        "id": "YVH69JqfO8ok",
        "outputId": "bf702eed-e35e-44b8-e9e3-36f015bacd94"
      },
      "execution_count": 171,
      "outputs": [
        {
          "output_type": "execute_result",
          "data": {
            "text/plain": [
              "array([-8, -6, -2,  3,  3, -2])"
            ]
          },
          "metadata": {},
          "execution_count": 171
        }
      ]
    },
    {
      "cell_type": "markdown",
      "source": [
        "Sama ta funkcja też oczywiście pełni rolę maski logicznej."
      ],
      "metadata": {
        "id": "p_tmOWpFPxsu"
      }
    },
    {
      "cell_type": "code",
      "source": [
        "np.bitwise_and(A > -10, A < 10)"
      ],
      "metadata": {
        "colab": {
          "base_uri": "https://localhost:8080/"
        },
        "id": "HKSbKN_OPZCw",
        "outputId": "5f425b01-5108-4f65-b684-916002b57266"
      },
      "execution_count": 172,
      "outputs": [
        {
          "output_type": "execute_result",
          "data": {
            "text/plain": [
              "array([[False,  True, False, False,  True],\n",
              "       [ True, False, False, False, False],\n",
              "       [False, False, False, False, False],\n",
              "       [False, False, False,  True, False],\n",
              "       [False, False, False, False, False],\n",
              "       [False, False, False, False, False],\n",
              "       [False,  True, False, False, False],\n",
              "       [False, False, False, False,  True],\n",
              "       [False, False, False, False, False],\n",
              "       [False, False, False, False, False]])"
            ]
          },
          "metadata": {},
          "execution_count": 172
        }
      ]
    },
    {
      "cell_type": "markdown",
      "source": [
        "Funkcja **bitwise_or** to z kolei maska dla alternatywy - wyświetli True dla wartości spełniających jeden z dwóch warunków."
      ],
      "metadata": {
        "id": "ECnYiQm4QENa"
      }
    },
    {
      "cell_type": "code",
      "source": [
        "np.bitwise_or(A < -50, A > 50)"
      ],
      "metadata": {
        "colab": {
          "base_uri": "https://localhost:8080/"
        },
        "id": "RdqzjOZ1QBn8",
        "outputId": "923fdab2-d042-4fc1-fd8f-d08c0a40767b"
      },
      "execution_count": 173,
      "outputs": [
        {
          "output_type": "execute_result",
          "data": {
            "text/plain": [
              "array([[ True, False,  True,  True, False],\n",
              "       [False,  True, False,  True,  True],\n",
              "       [ True, False, False,  True,  True],\n",
              "       [False, False, False, False,  True],\n",
              "       [ True, False,  True,  True, False],\n",
              "       [False,  True, False,  True, False],\n",
              "       [ True, False,  True, False,  True],\n",
              "       [ True,  True,  True,  True, False],\n",
              "       [ True,  True,  True,  True, False],\n",
              "       [False, False,  True,  True,  True]])"
            ]
          },
          "metadata": {},
          "execution_count": 173
        }
      ]
    },
    {
      "cell_type": "code",
      "source": [
        "A[np.bitwise_or(A < -50, A > 50)]"
      ],
      "metadata": {
        "colab": {
          "base_uri": "https://localhost:8080/"
        },
        "id": "jrmyZGNvQDC8",
        "outputId": "b4c19b22-e387-4747-8b50-4c127116bd28"
      },
      "execution_count": 174,
      "outputs": [
        {
          "output_type": "execute_result",
          "data": {
            "text/plain": [
              "array([-77, -55,  80,  87,  90,  59,  60, -83, -76,  73, -77, -69,  74,\n",
              "        93,  54, -84,  60, -58,  75, -62,  69, -75, -51,  52,  51, -88,\n",
              "       -65,  72, -81])"
            ]
          },
          "metadata": {},
          "execution_count": 174
        }
      ]
    }
  ]
}
