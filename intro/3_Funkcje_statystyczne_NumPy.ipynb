{
  "nbformat": 4,
  "nbformat_minor": 0,
  "metadata": {
    "colab": {
      "provenance": [],
      "authorship_tag": "ABX9TyNrOfWPuT8JKCXtDph/lP5t",
      "include_colab_link": true
    },
    "kernelspec": {
      "name": "python3",
      "display_name": "Python 3"
    },
    "language_info": {
      "name": "python"
    }
  },
  "cells": [
    {
      "cell_type": "markdown",
      "metadata": {
        "id": "view-in-github",
        "colab_type": "text"
      },
      "source": [
        "<a href=\"https://colab.research.google.com/github/jakubtwalczak/dsbootcampudemy/blob/main/3_Funkcje_statystyczne_NumPy.ipynb\" target=\"_parent\"><img src=\"https://colab.research.google.com/assets/colab-badge.svg\" alt=\"Open In Colab\"/></a>"
      ]
    },
    {
      "cell_type": "markdown",
      "source": [
        "Temat był już poruszony w pierwszym notebooku, teraz pora na jego rozwinięcie."
      ],
      "metadata": {
        "id": "1lQvisZbpMh4"
      }
    },
    {
      "cell_type": "code",
      "execution_count": 1,
      "metadata": {
        "id": "91ijE4u_o-5Z"
      },
      "outputs": [],
      "source": [
        "import numpy as np"
      ]
    },
    {
      "cell_type": "markdown",
      "source": [
        "Zacznijmy od utworzenia tablicy zawierającej fikcyjne dane dot. notowań giełdowych spółki z trzech dni (kolejno cena otwarcia, najwyższa, najniższa, zamknięcia i wolumen akcji)."
      ],
      "metadata": {
        "id": "M4BsA2xhpb5q"
      }
    },
    {
      "cell_type": "code",
      "source": [
        "price = np.array([[99.30, 102.15, 97.80, 101.80, 6500],\n",
        "          [101.80, 103.10, 100.20, 100.90, 4200],\n",
        "          [100.90, 101.50, 98.75, 100.45, 3800]])\n",
        "\n",
        "price"
      ],
      "metadata": {
        "colab": {
          "base_uri": "https://localhost:8080/"
        },
        "id": "XNEZpPqLpU9p",
        "outputId": "2de5ae8a-82f9-4c45-a3a9-d3eedda5ad29"
      },
      "execution_count": 3,
      "outputs": [
        {
          "output_type": "execute_result",
          "data": {
            "text/plain": [
              "array([[  99.3 ,  102.15,   97.8 ,  101.8 , 6500.  ],\n",
              "       [ 101.8 ,  103.1 ,  100.2 ,  100.9 , 4200.  ],\n",
              "       [ 100.9 ,  101.5 ,   98.75,  100.45, 3800.  ]])"
            ]
          },
          "metadata": {},
          "execution_count": 3
        }
      ]
    },
    {
      "cell_type": "code",
      "source": [
        "price.shape"
      ],
      "metadata": {
        "colab": {
          "base_uri": "https://localhost:8080/"
        },
        "id": "rPO8yW1HqsTo",
        "outputId": "45733c3c-dc71-47ef-87ab-af49cc4cdb01"
      },
      "execution_count": 4,
      "outputs": [
        {
          "output_type": "execute_result",
          "data": {
            "text/plain": [
              "(3, 5)"
            ]
          },
          "metadata": {},
          "execution_count": 4
        }
      ]
    },
    {
      "cell_type": "markdown",
      "source": [
        "# Sum."
      ],
      "metadata": {
        "id": "bMX4YTEDq5kz"
      }
    },
    {
      "cell_type": "markdown",
      "source": [
        "Jeżeli użyjemy funkcję **sum**, uzyskujemy jedną wartość - sumę wszystkich elementów tablicy."
      ],
      "metadata": {
        "id": "hKvFSuI-q8qR"
      }
    },
    {
      "cell_type": "code",
      "source": [
        "np.sum(price)"
      ],
      "metadata": {
        "colab": {
          "base_uri": "https://localhost:8080/"
        },
        "id": "Nac8u9C5q4wE",
        "outputId": "189494da-dfcc-4b4b-b883-a4731fe53ede"
      },
      "execution_count": 5,
      "outputs": [
        {
          "output_type": "execute_result",
          "data": {
            "text/plain": [
              "15708.65"
            ]
          },
          "metadata": {},
          "execution_count": 5
        }
      ]
    },
    {
      "cell_type": "markdown",
      "source": [
        "Jeżeli chcemy policzyć sumę w każdej kolumnie lub każdym wierszu, musimy podać funkcji parametr osi - axis (0 - kolumna, 1 - wiersz)."
      ],
      "metadata": {
        "id": "McN5yjJ7rHOW"
      }
    },
    {
      "cell_type": "code",
      "source": [
        "print(np.sum(price, axis=0))\n",
        "print(np.sum(price, axis=1))"
      ],
      "metadata": {
        "colab": {
          "base_uri": "https://localhost:8080/"
        },
        "id": "zXV_Nxm3rGaR",
        "outputId": "3220557c-5266-4a4e-9cbb-2ff7e20cea47"
      },
      "execution_count": 6,
      "outputs": [
        {
          "output_type": "stream",
          "name": "stdout",
          "text": [
            "[  302.     306.75   296.75   303.15 14500.  ]\n",
            "[6901.05 4606.   4201.6 ]\n"
          ]
        }
      ]
    },
    {
      "cell_type": "markdown",
      "source": [
        "# Min, Max, Mean, Std, Var, Median."
      ],
      "metadata": {
        "id": "zbPFHvCCr2rp"
      }
    },
    {
      "cell_type": "markdown",
      "source": [
        "Pozostałe funkcje statystyczne: **Min**, **Max**, **Mean**, **Median**, **Std**, **Var** stosuje się w podobny sposób."
      ],
      "metadata": {
        "id": "IarX4c6YscDS"
      }
    },
    {
      "cell_type": "code",
      "source": [
        "print(np.min(price))\n",
        "print(np.min(price, axis=0))\n",
        "print(np.min(price, axis=1))"
      ],
      "metadata": {
        "colab": {
          "base_uri": "https://localhost:8080/"
        },
        "id": "crb8y9GSrW2z",
        "outputId": "e2b7b2d0-15ac-4917-f4fc-7e2d4a66cf64"
      },
      "execution_count": 7,
      "outputs": [
        {
          "output_type": "stream",
          "name": "stdout",
          "text": [
            "97.8\n",
            "[  99.3   101.5    97.8   100.45 3800.  ]\n",
            "[ 97.8  100.2   98.75]\n"
          ]
        }
      ]
    },
    {
      "cell_type": "code",
      "source": [
        "print(np.max(price))\n",
        "print(np.max(price, axis=0))\n",
        "print(np.max(price, axis=1))"
      ],
      "metadata": {
        "colab": {
          "base_uri": "https://localhost:8080/"
        },
        "id": "dxs7X4FOr8pc",
        "outputId": "27d2b78d-9918-435f-b377-95167ce26817"
      },
      "execution_count": 8,
      "outputs": [
        {
          "output_type": "stream",
          "name": "stdout",
          "text": [
            "6500.0\n",
            "[ 101.8  103.1  100.2  101.8 6500. ]\n",
            "[6500. 4200. 3800.]\n"
          ]
        }
      ]
    },
    {
      "cell_type": "code",
      "source": [
        "print(np.mean(price))\n",
        "print(np.mean(price, axis=0))\n",
        "print(np.mean(price, axis=1))"
      ],
      "metadata": {
        "colab": {
          "base_uri": "https://localhost:8080/"
        },
        "id": "f2Cb1aywsI-D",
        "outputId": "fff17c2d-fb95-4a98-f9a6-e834755686fe"
      },
      "execution_count": 9,
      "outputs": [
        {
          "output_type": "stream",
          "name": "stdout",
          "text": [
            "1047.2433333333333\n",
            "[ 100.66666667  102.25         98.91666667  101.05       4833.33333333]\n",
            "[1380.21  921.2   840.32]\n"
          ]
        }
      ]
    },
    {
      "cell_type": "code",
      "source": [
        "print(np.std(price))\n",
        "print(np.std(price, axis=0))\n",
        "print(np.std(price, axis=1))"
      ],
      "metadata": {
        "colab": {
          "base_uri": "https://localhost:8080/"
        },
        "id": "-91aZXu8sKyR",
        "outputId": "9d1c47ba-56cc-4bf6-af20-f77adb9ba016"
      },
      "execution_count": 10,
      "outputs": [
        {
          "output_type": "stream",
          "name": "stdout",
          "text": [
            "1966.4008192521571\n",
            "[1.03387083e+00 6.57013445e-01 9.86858090e-01 5.61248608e-01\n",
            " 1.18977122e+03]\n",
            "[2559.89550459 1639.40028669 1479.8402828 ]\n"
          ]
        }
      ]
    },
    {
      "cell_type": "code",
      "source": [
        "print(np.var(price))\n",
        "print(np.var(price, axis=0))\n",
        "print(np.var(price, axis=1))"
      ],
      "metadata": {
        "colab": {
          "base_uri": "https://localhost:8080/"
        },
        "id": "1Gt-ls8xsN1y",
        "outputId": "001608ef-a05f-4927-90cd-d981b81be2b7"
      },
      "execution_count": 11,
      "outputs": [
        {
          "output_type": "stream",
          "name": "stdout",
          "text": [
            "3866732.181955555\n",
            "[1.06888889e+00 4.31666667e-01 9.73888889e-01 3.15000000e-01\n",
            " 1.41555556e+06]\n",
            "[6553064.9944 2687633.3    2189927.2626]\n"
          ]
        }
      ]
    },
    {
      "cell_type": "code",
      "source": [
        "print(np.median(price))\n",
        "print(np.median(price, axis=0))\n",
        "print(np.median(price, axis=1))"
      ],
      "metadata": {
        "colab": {
          "base_uri": "https://localhost:8080/"
        },
        "id": "g5B5d0gQsHpG",
        "outputId": "6f9e2770-8004-4fde-ad7c-3bce7992d430"
      },
      "execution_count": 12,
      "outputs": [
        {
          "output_type": "stream",
          "name": "stdout",
          "text": [
            "101.5\n",
            "[ 100.9   102.15   98.75  100.9  4200.  ]\n",
            "[101.8 101.8 100.9]\n"
          ]
        }
      ]
    }
  ]
}
