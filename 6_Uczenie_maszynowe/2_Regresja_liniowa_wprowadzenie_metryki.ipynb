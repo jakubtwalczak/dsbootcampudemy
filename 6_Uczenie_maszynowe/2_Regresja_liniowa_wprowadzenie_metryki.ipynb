{
  "nbformat": 4,
  "nbformat_minor": 0,
  "metadata": {
    "colab": {
      "provenance": [],
      "authorship_tag": "ABX9TyNynYEp3yCUJsjyQxHWUTIz",
      "include_colab_link": true
    },
    "kernelspec": {
      "name": "python3",
      "display_name": "Python 3"
    },
    "language_info": {
      "name": "python"
    }
  },
  "cells": [
    {
      "cell_type": "markdown",
      "metadata": {
        "id": "view-in-github",
        "colab_type": "text"
      },
      "source": [
        "<a href=\"https://colab.research.google.com/github/jakubtwalczak/dsbootcampudemy/blob/main/6_Uczenie_maszynowe/2_Regresja_liniowa_wprowadzenie_metryki.ipynb\" target=\"_parent\"><img src=\"https://colab.research.google.com/assets/colab-badge.svg\" alt=\"Open In Colab\"/></a>"
      ]
    },
    {
      "cell_type": "markdown",
      "source": [
        "# Wprowadzenie."
      ],
      "metadata": {
        "id": "3yslF2fW0lW2"
      }
    },
    {
      "cell_type": "markdown",
      "source": [
        "Regresja liniowa to metoda statystyczna, która pozwala przewidzieć wartość jednej zmiennej ciągłej na podstawie wartości innej zmiennej. Polega na znalezieniu prostej linii, która najlepiej opisuje zależność między tymi zmiennymi."
      ],
      "metadata": {
        "id": "Ly5Bg5Dz0n3V"
      }
    },
    {
      "cell_type": "markdown",
      "source": [
        "Importujemy biblioteki, które najbardziej przydadzą się do dalszej pracy."
      ],
      "metadata": {
        "id": "psLpVHo-A2dV"
      }
    },
    {
      "cell_type": "code",
      "execution_count": 1,
      "metadata": {
        "id": "i-bPKGAWiAVD"
      },
      "outputs": [],
      "source": [
        "import numpy as np\n",
        "import pandas as pd\n",
        "import plotly.express as px\n",
        "import plotly.graph_objects as go"
      ]
    },
    {
      "cell_type": "markdown",
      "source": [
        "# Generowanie danych."
      ],
      "metadata": {
        "id": "l6WDla46D27s"
      }
    },
    {
      "cell_type": "markdown",
      "source": [
        "Teraz wygenerujmy dane. Będzie to 100 próbek z rozkładu normalnego o wartości oczekiwanej 100 i odchyleniu standardowym 20."
      ],
      "metadata": {
        "id": "rhVPCU7cBAG9"
      }
    },
    {
      "cell_type": "code",
      "source": [
        "y_true = 100 + 20 * np.random.randn(100)\n",
        "y_true"
      ],
      "metadata": {
        "colab": {
          "base_uri": "https://localhost:8080/"
        },
        "id": "f9s_6erTBX8w",
        "outputId": "c78b4d95-722e-48ba-bf26-14158a56654f"
      },
      "execution_count": 2,
      "outputs": [
        {
          "output_type": "execute_result",
          "data": {
            "text/plain": [
              "array([107.52347456, 122.56611061, 102.83809728, 113.52101395,\n",
              "        72.05436747,  72.83482651,  80.53617139, 102.22590178,\n",
              "        96.64989458,  89.50961216, 110.13432549, 103.67459547,\n",
              "        73.16911387,  87.55569099, 100.14652176, 115.25870844,\n",
              "        71.70497178, 127.60881859, 107.93707537,  66.5212696 ,\n",
              "        84.90376591, 108.76210014, 109.83390732, 102.4505222 ,\n",
              "       119.26639687, 112.36463408, 117.92731135, 117.79046397,\n",
              "        95.63302115, 122.00790274,  82.65324207, 126.69917882,\n",
              "        88.3012426 ,  88.36225023,  94.17353333,  96.26690204,\n",
              "        67.80402852,  82.50201043,  61.26849436, 127.92480085,\n",
              "        96.90632057, 114.29466308,  61.86873064, 142.0186528 ,\n",
              "       108.36533973, 111.78649163, 127.01537153,  83.86234244,\n",
              "       112.68117454,  71.51587769,  88.20630657,  99.4943907 ,\n",
              "       128.91843797,  85.87456616, 107.40203548, 104.06353028,\n",
              "       116.80967003, 101.42247983, 117.41140534, 118.71590324,\n",
              "       118.18491673, 118.6825283 ,  76.07516939,  94.95287333,\n",
              "        61.52208709,  69.71679798, 109.69403757, 113.92165208,\n",
              "        94.63900307,  80.57251696,  60.73919893,  62.08926546,\n",
              "        73.60357252,  87.04172704,  92.7531232 ,  96.06714542,\n",
              "       132.24443158,  97.92490466, 124.46617869,  91.3503796 ,\n",
              "       109.24719286, 112.93722633,  78.12835713, 114.2163581 ,\n",
              "       106.5811066 ,  77.85264524, 129.76307003,  85.17819309,\n",
              "        76.71825892, 113.7739572 ,  84.78118625,  86.446649  ,\n",
              "        84.5539862 , 108.57692423, 146.91075987, 108.54917528,\n",
              "       128.09303249, 115.10096282,  52.39944448, 119.82131403])"
            ]
          },
          "metadata": {},
          "execution_count": 2
        }
      ]
    },
    {
      "cell_type": "markdown",
      "source": [
        "Dla zmiennej y_pred - naszych fikcyjnych predykcji - dodamy trochę szumu, odchylenie wyniesie 10x rozkład normalny."
      ],
      "metadata": {
        "id": "kByJHxrLBsrW"
      }
    },
    {
      "cell_type": "code",
      "source": [
        "y_pred = y_true + 10 * np.random.randn(100)\n",
        "y_pred"
      ],
      "metadata": {
        "colab": {
          "base_uri": "https://localhost:8080/"
        },
        "id": "uedp3LrABb4w",
        "outputId": "d2cf9eba-c97d-40d4-b310-3bee94014249"
      },
      "execution_count": 3,
      "outputs": [
        {
          "output_type": "execute_result",
          "data": {
            "text/plain": [
              "array([102.50654732, 103.69680887, 109.03439818,  97.12560228,\n",
              "        63.24598766,  75.30001754,  91.59423654, 108.49939199,\n",
              "       109.74452003,  57.83766712, 110.88128075, 101.48311453,\n",
              "        78.82099376,  93.86503604, 105.49919676, 115.47017653,\n",
              "        34.39725311, 124.51936176, 113.17314931,  72.95232098,\n",
              "        69.3504765 , 107.60769916, 102.1804324 ,  85.91394078,\n",
              "       127.03879991, 113.98771663, 120.5444429 , 124.37891664,\n",
              "        99.47118975, 135.57903066,  76.11694886, 116.5647742 ,\n",
              "        90.10222036,  88.88872262,  85.96521807,  89.96501342,\n",
              "        57.87795801,  80.47197088,  70.88693604, 130.98641127,\n",
              "        78.03952606, 103.34335473,  50.16861329, 148.2729289 ,\n",
              "        99.53662888, 117.30405556, 132.61222991,  75.35193507,\n",
              "       130.0278644 ,  75.81298197, 104.01821751,  97.57571337,\n",
              "       129.23744618,  92.89973505, 114.81574862, 103.37133407,\n",
              "       111.74703784, 120.5112304 , 108.42686968, 120.66180681,\n",
              "       108.04937396, 125.60093666,  63.87593489, 108.25561602,\n",
              "        78.80083678,  62.72357896, 124.07796676, 106.65322241,\n",
              "        82.97340927,  93.2688165 ,  58.86296562,  62.43993563,\n",
              "        73.78259548,  96.77768263,  79.27784593, 110.25812187,\n",
              "       117.67752692,  95.84798231, 122.60610753,  89.88479426,\n",
              "        98.24336914, 116.15518839,  75.27775932, 106.16026908,\n",
              "        98.2529233 ,  88.71412503, 123.5210825 ,  86.3059419 ,\n",
              "        88.56034658, 114.73567392,  79.17389351,  72.0530195 ,\n",
              "        79.7808351 , 101.54872842, 144.72943337, 118.20139196,\n",
              "       114.28527535,  96.90269909,  62.042843  , 129.42126868])"
            ]
          },
          "metadata": {},
          "execution_count": 3
        }
      ]
    },
    {
      "cell_type": "markdown",
      "source": [
        "Na podstawie tych wyników stworzymy ramkę danych. W jednej kolumnie znajdą się wartości \"prawdziwe\", w drugiej \"przewidziane\", dodamy też błąd - różnicę między nimi w trzeciej kolumnie. Wartość błędu jest prosta w interpretacji - jeśli jest większa od 0, to model przeszacował wartość, jeżeli mniejsza, nie doszacował."
      ],
      "metadata": {
        "id": "H1OlzyGHCK64"
      }
    },
    {
      "cell_type": "code",
      "source": [
        "results = pd.DataFrame({'y_true': y_true, 'y_pred': y_pred})\n",
        "results['error'] = results['y_true'] - results['y_pred']\n",
        "results"
      ],
      "metadata": {
        "colab": {
          "base_uri": "https://localhost:8080/",
          "height": 424
        },
        "id": "0zmxJ52sBlIv",
        "outputId": "44ebaefc-b16e-4978-e8c1-b419adccbc1c"
      },
      "execution_count": 4,
      "outputs": [
        {
          "output_type": "execute_result",
          "data": {
            "text/plain": [
              "        y_true      y_pred      error\n",
              "0   107.523475  102.506547   5.016927\n",
              "1   122.566111  103.696809  18.869302\n",
              "2   102.838097  109.034398  -6.196301\n",
              "3   113.521014   97.125602  16.395412\n",
              "4    72.054367   63.245988   8.808380\n",
              "..         ...         ...        ...\n",
              "95  108.549175  118.201392  -9.652217\n",
              "96  128.093032  114.285275  13.807757\n",
              "97  115.100963   96.902699  18.198264\n",
              "98   52.399444   62.042843  -9.643399\n",
              "99  119.821314  129.421269  -9.599955\n",
              "\n",
              "[100 rows x 3 columns]"
            ],
            "text/html": [
              "\n",
              "  <div id=\"df-fdcb8622-0207-4d0a-b606-372688de3e48\" class=\"colab-df-container\">\n",
              "    <div>\n",
              "<style scoped>\n",
              "    .dataframe tbody tr th:only-of-type {\n",
              "        vertical-align: middle;\n",
              "    }\n",
              "\n",
              "    .dataframe tbody tr th {\n",
              "        vertical-align: top;\n",
              "    }\n",
              "\n",
              "    .dataframe thead th {\n",
              "        text-align: right;\n",
              "    }\n",
              "</style>\n",
              "<table border=\"1\" class=\"dataframe\">\n",
              "  <thead>\n",
              "    <tr style=\"text-align: right;\">\n",
              "      <th></th>\n",
              "      <th>y_true</th>\n",
              "      <th>y_pred</th>\n",
              "      <th>error</th>\n",
              "    </tr>\n",
              "  </thead>\n",
              "  <tbody>\n",
              "    <tr>\n",
              "      <th>0</th>\n",
              "      <td>107.523475</td>\n",
              "      <td>102.506547</td>\n",
              "      <td>5.016927</td>\n",
              "    </tr>\n",
              "    <tr>\n",
              "      <th>1</th>\n",
              "      <td>122.566111</td>\n",
              "      <td>103.696809</td>\n",
              "      <td>18.869302</td>\n",
              "    </tr>\n",
              "    <tr>\n",
              "      <th>2</th>\n",
              "      <td>102.838097</td>\n",
              "      <td>109.034398</td>\n",
              "      <td>-6.196301</td>\n",
              "    </tr>\n",
              "    <tr>\n",
              "      <th>3</th>\n",
              "      <td>113.521014</td>\n",
              "      <td>97.125602</td>\n",
              "      <td>16.395412</td>\n",
              "    </tr>\n",
              "    <tr>\n",
              "      <th>4</th>\n",
              "      <td>72.054367</td>\n",
              "      <td>63.245988</td>\n",
              "      <td>8.808380</td>\n",
              "    </tr>\n",
              "    <tr>\n",
              "      <th>...</th>\n",
              "      <td>...</td>\n",
              "      <td>...</td>\n",
              "      <td>...</td>\n",
              "    </tr>\n",
              "    <tr>\n",
              "      <th>95</th>\n",
              "      <td>108.549175</td>\n",
              "      <td>118.201392</td>\n",
              "      <td>-9.652217</td>\n",
              "    </tr>\n",
              "    <tr>\n",
              "      <th>96</th>\n",
              "      <td>128.093032</td>\n",
              "      <td>114.285275</td>\n",
              "      <td>13.807757</td>\n",
              "    </tr>\n",
              "    <tr>\n",
              "      <th>97</th>\n",
              "      <td>115.100963</td>\n",
              "      <td>96.902699</td>\n",
              "      <td>18.198264</td>\n",
              "    </tr>\n",
              "    <tr>\n",
              "      <th>98</th>\n",
              "      <td>52.399444</td>\n",
              "      <td>62.042843</td>\n",
              "      <td>-9.643399</td>\n",
              "    </tr>\n",
              "    <tr>\n",
              "      <th>99</th>\n",
              "      <td>119.821314</td>\n",
              "      <td>129.421269</td>\n",
              "      <td>-9.599955</td>\n",
              "    </tr>\n",
              "  </tbody>\n",
              "</table>\n",
              "<p>100 rows × 3 columns</p>\n",
              "</div>\n",
              "    <div class=\"colab-df-buttons\">\n",
              "\n",
              "  <div class=\"colab-df-container\">\n",
              "    <button class=\"colab-df-convert\" onclick=\"convertToInteractive('df-fdcb8622-0207-4d0a-b606-372688de3e48')\"\n",
              "            title=\"Convert this dataframe to an interactive table.\"\n",
              "            style=\"display:none;\">\n",
              "\n",
              "  <svg xmlns=\"http://www.w3.org/2000/svg\" height=\"24px\" viewBox=\"0 -960 960 960\">\n",
              "    <path d=\"M120-120v-720h720v720H120Zm60-500h600v-160H180v160Zm220 220h160v-160H400v160Zm0 220h160v-160H400v160ZM180-400h160v-160H180v160Zm440 0h160v-160H620v160ZM180-180h160v-160H180v160Zm440 0h160v-160H620v160Z\"/>\n",
              "  </svg>\n",
              "    </button>\n",
              "\n",
              "  <style>\n",
              "    .colab-df-container {\n",
              "      display:flex;\n",
              "      gap: 12px;\n",
              "    }\n",
              "\n",
              "    .colab-df-convert {\n",
              "      background-color: #E8F0FE;\n",
              "      border: none;\n",
              "      border-radius: 50%;\n",
              "      cursor: pointer;\n",
              "      display: none;\n",
              "      fill: #1967D2;\n",
              "      height: 32px;\n",
              "      padding: 0 0 0 0;\n",
              "      width: 32px;\n",
              "    }\n",
              "\n",
              "    .colab-df-convert:hover {\n",
              "      background-color: #E2EBFA;\n",
              "      box-shadow: 0px 1px 2px rgba(60, 64, 67, 0.3), 0px 1px 3px 1px rgba(60, 64, 67, 0.15);\n",
              "      fill: #174EA6;\n",
              "    }\n",
              "\n",
              "    .colab-df-buttons div {\n",
              "      margin-bottom: 4px;\n",
              "    }\n",
              "\n",
              "    [theme=dark] .colab-df-convert {\n",
              "      background-color: #3B4455;\n",
              "      fill: #D2E3FC;\n",
              "    }\n",
              "\n",
              "    [theme=dark] .colab-df-convert:hover {\n",
              "      background-color: #434B5C;\n",
              "      box-shadow: 0px 1px 3px 1px rgba(0, 0, 0, 0.15);\n",
              "      filter: drop-shadow(0px 1px 2px rgba(0, 0, 0, 0.3));\n",
              "      fill: #FFFFFF;\n",
              "    }\n",
              "  </style>\n",
              "\n",
              "    <script>\n",
              "      const buttonEl =\n",
              "        document.querySelector('#df-fdcb8622-0207-4d0a-b606-372688de3e48 button.colab-df-convert');\n",
              "      buttonEl.style.display =\n",
              "        google.colab.kernel.accessAllowed ? 'block' : 'none';\n",
              "\n",
              "      async function convertToInteractive(key) {\n",
              "        const element = document.querySelector('#df-fdcb8622-0207-4d0a-b606-372688de3e48');\n",
              "        const dataTable =\n",
              "          await google.colab.kernel.invokeFunction('convertToInteractive',\n",
              "                                                    [key], {});\n",
              "        if (!dataTable) return;\n",
              "\n",
              "        const docLinkHtml = 'Like what you see? Visit the ' +\n",
              "          '<a target=\"_blank\" href=https://colab.research.google.com/notebooks/data_table.ipynb>data table notebook</a>'\n",
              "          + ' to learn more about interactive tables.';\n",
              "        element.innerHTML = '';\n",
              "        dataTable['output_type'] = 'display_data';\n",
              "        await google.colab.output.renderOutput(dataTable, element);\n",
              "        const docLink = document.createElement('div');\n",
              "        docLink.innerHTML = docLinkHtml;\n",
              "        element.appendChild(docLink);\n",
              "      }\n",
              "    </script>\n",
              "  </div>\n",
              "\n",
              "\n",
              "<div id=\"df-20e18363-3919-47b4-8d11-90e506519423\">\n",
              "  <button class=\"colab-df-quickchart\" onclick=\"quickchart('df-20e18363-3919-47b4-8d11-90e506519423')\"\n",
              "            title=\"Suggest charts\"\n",
              "            style=\"display:none;\">\n",
              "\n",
              "<svg xmlns=\"http://www.w3.org/2000/svg\" height=\"24px\"viewBox=\"0 0 24 24\"\n",
              "     width=\"24px\">\n",
              "    <g>\n",
              "        <path d=\"M19 3H5c-1.1 0-2 .9-2 2v14c0 1.1.9 2 2 2h14c1.1 0 2-.9 2-2V5c0-1.1-.9-2-2-2zM9 17H7v-7h2v7zm4 0h-2V7h2v10zm4 0h-2v-4h2v4z\"/>\n",
              "    </g>\n",
              "</svg>\n",
              "  </button>\n",
              "\n",
              "<style>\n",
              "  .colab-df-quickchart {\n",
              "      --bg-color: #E8F0FE;\n",
              "      --fill-color: #1967D2;\n",
              "      --hover-bg-color: #E2EBFA;\n",
              "      --hover-fill-color: #174EA6;\n",
              "      --disabled-fill-color: #AAA;\n",
              "      --disabled-bg-color: #DDD;\n",
              "  }\n",
              "\n",
              "  [theme=dark] .colab-df-quickchart {\n",
              "      --bg-color: #3B4455;\n",
              "      --fill-color: #D2E3FC;\n",
              "      --hover-bg-color: #434B5C;\n",
              "      --hover-fill-color: #FFFFFF;\n",
              "      --disabled-bg-color: #3B4455;\n",
              "      --disabled-fill-color: #666;\n",
              "  }\n",
              "\n",
              "  .colab-df-quickchart {\n",
              "    background-color: var(--bg-color);\n",
              "    border: none;\n",
              "    border-radius: 50%;\n",
              "    cursor: pointer;\n",
              "    display: none;\n",
              "    fill: var(--fill-color);\n",
              "    height: 32px;\n",
              "    padding: 0;\n",
              "    width: 32px;\n",
              "  }\n",
              "\n",
              "  .colab-df-quickchart:hover {\n",
              "    background-color: var(--hover-bg-color);\n",
              "    box-shadow: 0 1px 2px rgba(60, 64, 67, 0.3), 0 1px 3px 1px rgba(60, 64, 67, 0.15);\n",
              "    fill: var(--button-hover-fill-color);\n",
              "  }\n",
              "\n",
              "  .colab-df-quickchart-complete:disabled,\n",
              "  .colab-df-quickchart-complete:disabled:hover {\n",
              "    background-color: var(--disabled-bg-color);\n",
              "    fill: var(--disabled-fill-color);\n",
              "    box-shadow: none;\n",
              "  }\n",
              "\n",
              "  .colab-df-spinner {\n",
              "    border: 2px solid var(--fill-color);\n",
              "    border-color: transparent;\n",
              "    border-bottom-color: var(--fill-color);\n",
              "    animation:\n",
              "      spin 1s steps(1) infinite;\n",
              "  }\n",
              "\n",
              "  @keyframes spin {\n",
              "    0% {\n",
              "      border-color: transparent;\n",
              "      border-bottom-color: var(--fill-color);\n",
              "      border-left-color: var(--fill-color);\n",
              "    }\n",
              "    20% {\n",
              "      border-color: transparent;\n",
              "      border-left-color: var(--fill-color);\n",
              "      border-top-color: var(--fill-color);\n",
              "    }\n",
              "    30% {\n",
              "      border-color: transparent;\n",
              "      border-left-color: var(--fill-color);\n",
              "      border-top-color: var(--fill-color);\n",
              "      border-right-color: var(--fill-color);\n",
              "    }\n",
              "    40% {\n",
              "      border-color: transparent;\n",
              "      border-right-color: var(--fill-color);\n",
              "      border-top-color: var(--fill-color);\n",
              "    }\n",
              "    60% {\n",
              "      border-color: transparent;\n",
              "      border-right-color: var(--fill-color);\n",
              "    }\n",
              "    80% {\n",
              "      border-color: transparent;\n",
              "      border-right-color: var(--fill-color);\n",
              "      border-bottom-color: var(--fill-color);\n",
              "    }\n",
              "    90% {\n",
              "      border-color: transparent;\n",
              "      border-bottom-color: var(--fill-color);\n",
              "    }\n",
              "  }\n",
              "</style>\n",
              "\n",
              "  <script>\n",
              "    async function quickchart(key) {\n",
              "      const quickchartButtonEl =\n",
              "        document.querySelector('#' + key + ' button');\n",
              "      quickchartButtonEl.disabled = true;  // To prevent multiple clicks.\n",
              "      quickchartButtonEl.classList.add('colab-df-spinner');\n",
              "      try {\n",
              "        const charts = await google.colab.kernel.invokeFunction(\n",
              "            'suggestCharts', [key], {});\n",
              "      } catch (error) {\n",
              "        console.error('Error during call to suggestCharts:', error);\n",
              "      }\n",
              "      quickchartButtonEl.classList.remove('colab-df-spinner');\n",
              "      quickchartButtonEl.classList.add('colab-df-quickchart-complete');\n",
              "    }\n",
              "    (() => {\n",
              "      let quickchartButtonEl =\n",
              "        document.querySelector('#df-20e18363-3919-47b4-8d11-90e506519423 button');\n",
              "      quickchartButtonEl.style.display =\n",
              "        google.colab.kernel.accessAllowed ? 'block' : 'none';\n",
              "    })();\n",
              "  </script>\n",
              "</div>\n",
              "\n",
              "  <div id=\"id_dbb56491-a425-4c29-ab6c-fa07104e940d\">\n",
              "    <style>\n",
              "      .colab-df-generate {\n",
              "        background-color: #E8F0FE;\n",
              "        border: none;\n",
              "        border-radius: 50%;\n",
              "        cursor: pointer;\n",
              "        display: none;\n",
              "        fill: #1967D2;\n",
              "        height: 32px;\n",
              "        padding: 0 0 0 0;\n",
              "        width: 32px;\n",
              "      }\n",
              "\n",
              "      .colab-df-generate:hover {\n",
              "        background-color: #E2EBFA;\n",
              "        box-shadow: 0px 1px 2px rgba(60, 64, 67, 0.3), 0px 1px 3px 1px rgba(60, 64, 67, 0.15);\n",
              "        fill: #174EA6;\n",
              "      }\n",
              "\n",
              "      [theme=dark] .colab-df-generate {\n",
              "        background-color: #3B4455;\n",
              "        fill: #D2E3FC;\n",
              "      }\n",
              "\n",
              "      [theme=dark] .colab-df-generate:hover {\n",
              "        background-color: #434B5C;\n",
              "        box-shadow: 0px 1px 3px 1px rgba(0, 0, 0, 0.15);\n",
              "        filter: drop-shadow(0px 1px 2px rgba(0, 0, 0, 0.3));\n",
              "        fill: #FFFFFF;\n",
              "      }\n",
              "    </style>\n",
              "    <button class=\"colab-df-generate\" onclick=\"generateWithVariable('results')\"\n",
              "            title=\"Generate code using this dataframe.\"\n",
              "            style=\"display:none;\">\n",
              "\n",
              "  <svg xmlns=\"http://www.w3.org/2000/svg\" height=\"24px\"viewBox=\"0 0 24 24\"\n",
              "       width=\"24px\">\n",
              "    <path d=\"M7,19H8.4L18.45,9,17,7.55,7,17.6ZM5,21V16.75L18.45,3.32a2,2,0,0,1,2.83,0l1.4,1.43a1.91,1.91,0,0,1,.58,1.4,1.91,1.91,0,0,1-.58,1.4L9.25,21ZM18.45,9,17,7.55Zm-12,3A5.31,5.31,0,0,0,4.9,8.1,5.31,5.31,0,0,0,1,6.5,5.31,5.31,0,0,0,4.9,4.9,5.31,5.31,0,0,0,6.5,1,5.31,5.31,0,0,0,8.1,4.9,5.31,5.31,0,0,0,12,6.5,5.46,5.46,0,0,0,6.5,12Z\"/>\n",
              "  </svg>\n",
              "    </button>\n",
              "    <script>\n",
              "      (() => {\n",
              "      const buttonEl =\n",
              "        document.querySelector('#id_dbb56491-a425-4c29-ab6c-fa07104e940d button.colab-df-generate');\n",
              "      buttonEl.style.display =\n",
              "        google.colab.kernel.accessAllowed ? 'block' : 'none';\n",
              "\n",
              "      buttonEl.onclick = () => {\n",
              "        google.colab.notebook.generateWithVariable('results');\n",
              "      }\n",
              "      })();\n",
              "    </script>\n",
              "  </div>\n",
              "\n",
              "    </div>\n",
              "  </div>\n"
            ],
            "application/vnd.google.colaboratory.intrinsic+json": {
              "type": "dataframe",
              "variable_name": "results",
              "summary": "{\n  \"name\": \"results\",\n  \"rows\": 100,\n  \"fields\": [\n    {\n      \"column\": \"y_true\",\n      \"properties\": {\n        \"dtype\": \"number\",\n        \"std\": 20.472598381981417,\n        \"min\": 52.399444477548734,\n        \"max\": 146.91075987412464,\n        \"num_unique_values\": 100,\n        \"samples\": [\n          114.21635810179525,\n          85.87456616232305,\n          60.73919892838855\n        ],\n        \"semantic_type\": \"\",\n        \"description\": \"\"\n      }\n    },\n    {\n      \"column\": \"y_pred\",\n      \"properties\": {\n        \"dtype\": \"number\",\n        \"std\": 22.455224192569858,\n        \"min\": 34.39725311230921,\n        \"max\": 148.27292890443934,\n        \"num_unique_values\": 100,\n        \"samples\": [\n          106.16026907951851,\n          92.89973504693842,\n          58.86296562248381\n        ],\n        \"semantic_type\": \"\",\n        \"description\": \"\"\n      }\n    },\n    {\n      \"column\": \"error\",\n      \"properties\": {\n        \"dtype\": \"number\",\n        \"std\": 10.394224096959322,\n        \"min\": -19.0887505709412,\n        \"max\": 37.30771867160767,\n        \"num_unique_values\": 100,\n        \"samples\": [\n          8.056089022276737,\n          -7.025168884615368,\n          1.8762333059047336\n        ],\n        \"semantic_type\": \"\",\n        \"description\": \"\"\n      }\n    }\n  ]\n}"
            }
          },
          "metadata": {},
          "execution_count": 4
        }
      ]
    },
    {
      "cell_type": "markdown",
      "source": [
        "# Interpretacja graficzna."
      ],
      "metadata": {
        "id": "XhpayC5HD0In"
      }
    },
    {
      "cell_type": "markdown",
      "source": [
        "Przy pomocy poniższej funkcji tworzącej wykres punktowy z linią regresji możemy łatwo interpretować wyniki. Na osi X mamy wartości prawdziwe, na osi Y - przewidywane. To, jak daleko od linii leżą punkty, określa nam błąd w przewidywaniach. Naszym zadaniem jest minimalizacja błędu."
      ],
      "metadata": {
        "id": "sbQNqY3FC1AF"
      }
    },
    {
      "cell_type": "code",
      "source": [
        "def plot_regression_results(y_true, y_pred):\n",
        "    results = pd.DataFrame({'y_true': y_true, 'y_pred': y_pred})\n",
        "    min = results[['y_true', 'y_pred']].min().min()\n",
        "    max = results[['y_true', 'y_pred']].max().max()\n",
        "\n",
        "    fig = go.Figure(data=[go.Scatter(x=results['y_true'], y=results['y_pred'], mode='markers'),\n",
        "                    go.Scatter(x=[min, max], y=[min, max])],\n",
        "                    layout=go.Layout(showlegend=False, width=800, height=500,\n",
        "                                     xaxis_title='y_true',\n",
        "                                     yaxis_title='y_pred',\n",
        "                                     title='Regression results'))\n",
        "    fig.show()\n",
        "plot_regression_results(y_true, y_pred)"
      ],
      "metadata": {
        "colab": {
          "base_uri": "https://localhost:8080/",
          "height": 517
        },
        "id": "SQjBtycpCYvv",
        "outputId": "79cfa330-6fed-4cf7-8921-78307f6bfc7a"
      },
      "execution_count": 5,
      "outputs": [
        {
          "output_type": "display_data",
          "data": {
            "text/html": [
              "<html>\n",
              "<head><meta charset=\"utf-8\" /></head>\n",
              "<body>\n",
              "    <div>            <script src=\"https://cdnjs.cloudflare.com/ajax/libs/mathjax/2.7.5/MathJax.js?config=TeX-AMS-MML_SVG\"></script><script type=\"text/javascript\">if (window.MathJax && window.MathJax.Hub && window.MathJax.Hub.Config) {window.MathJax.Hub.Config({SVG: {font: \"STIX-Web\"}});}</script>                <script type=\"text/javascript\">window.PlotlyConfig = {MathJaxConfig: 'local'};</script>\n",
              "        <script charset=\"utf-8\" src=\"https://cdn.plot.ly/plotly-2.24.1.min.js\"></script>                <div id=\"e5ebf823-ca15-4aef-a3cd-35b8a3d889ee\" class=\"plotly-graph-div\" style=\"height:500px; width:800px;\"></div>            <script type=\"text/javascript\">                                    window.PLOTLYENV=window.PLOTLYENV || {};                                    if (document.getElementById(\"e5ebf823-ca15-4aef-a3cd-35b8a3d889ee\")) {                    Plotly.newPlot(                        \"e5ebf823-ca15-4aef-a3cd-35b8a3d889ee\",                        [{\"mode\":\"markers\",\"x\":[107.52347456372303,122.56611061197347,102.8380972816515,113.5210139480596,72.05436746644071,72.83482650614874,80.53617138564849,102.22590178068012,96.64989458113381,89.50961216079301,110.13432548949164,103.67459546676638,73.16911387440405,87.55569098501931,100.14652175848904,115.25870843657778,71.70497178391687,127.60881858898472,107.93707537334356,66.52126959974024,84.90376590517798,108.76210013559798,109.833907323317,102.45052220045542,119.26639686538064,112.36463408429185,117.9273113459528,117.79046397086255,95.63302114815107,122.00790273827955,82.65324206994568,126.69917881653987,88.30124259783936,88.3622502291511,94.17353332999109,96.26690203716565,67.8040285232299,82.5020104283073,61.26849436352975,127.92480084564512,96.9063205737557,114.29466307670519,61.86873064226435,142.0186528013018,108.36533972722812,111.786491629857,127.01537153332927,83.86234243855597,112.68117454057557,71.51587769142056,88.20630657419959,99.49439069709842,128.91843797086653,85.87456616232305,107.402035483914,104.06353027650034,116.80967003102627,101.42247982744792,117.4114053365355,118.71590323848929,118.18491673477862,118.68252829817746,76.07516938877818,94.95287333038233,61.52208709249602,69.71679797924514,109.69403757323845,113.92165208401215,94.63900306941707,80.57251696161376,60.73919892838855,62.089265462907555,73.60357252171681,87.04172703580221,92.75312320151005,96.06714541717652,132.24443158172136,97.92490465884278,124.46617869244879,91.35037959583745,109.24719286218888,112.93722632517759,78.12835712965186,114.21635810179525,106.5811065966775,77.85264524235419,129.76307003142622,85.17819308960297,76.71825892042939,113.77395720066693,84.78118625475544,86.44664899573755,84.55398619945434,108.57692423407403,146.91075987412464,108.54917528068205,128.09303249353167,115.10096281961943,52.399444477548734,119.82131403497722],\"y\":[102.50654731886704,103.69680886805969,109.03439817989644,97.1256022846934,63.24598766487502,75.3000175395482,91.59423653745722,108.49939198860183,109.7445200276126,57.83766711959133,110.88128075441529,101.48311453212986,78.82099376290061,93.86503604250304,105.49919676136912,115.47017653003509,34.39725311230921,124.51936175777443,113.17314930601576,72.95232098167901,69.35047650148051,107.60769915549027,102.18043239899575,85.91394078323461,127.03879991472243,113.98771663321352,120.54444289813138,124.37891664127369,99.47118975419023,135.57903065988265,76.11694886249099,116.56477419958425,90.10222036174655,88.8887226205937,85.96521806760784,89.96501342129078,57.877958010976315,80.4719708848627,70.88693604350222,130.9864112744479,78.03952605580378,103.34335472723002,50.16861329036199,148.27292890443934,99.53662888189209,117.30405556030216,132.61222990637572,75.35193507142979,130.02786440258848,75.81298196527989,104.01821750919393,97.57571336779142,129.23744617536718,92.89973504693842,114.81574862187709,103.37133407365162,111.74703784079549,120.51123039838912,108.42686967646375,120.66180681333795,108.04937395575887,125.60093665747526,63.87593489122208,108.2556160226494,78.80083678455374,62.723578959991656,124.07796676159725,106.65322241120329,82.97340926849762,93.26881649757607,58.86296562248381,62.43993563075098,73.78259547583485,96.77768263365138,79.27784592683312,110.25812187207381,117.67752691681049,95.8479823087178,122.60610752758497,89.8847942645923,98.24336913776509,116.15518839245912,75.27775932395106,106.16026907951851,98.25292329817515,88.71412502812487,123.52108249766259,86.30594190023923,88.56034658264053,114.73567392065966,79.17389351142388,72.05301950004797,79.78083510418749,101.54872842275773,144.72943336997042,118.2013919647217,114.28527535330214,96.9026990940985,62.04284299642383,129.42126867991468],\"type\":\"scatter\"},{\"x\":[34.39725311230921,148.27292890443934],\"y\":[34.39725311230921,148.27292890443934],\"type\":\"scatter\"}],                        {\"height\":500,\"showlegend\":false,\"title\":{\"text\":\"Regression results\"},\"width\":800,\"xaxis\":{\"title\":{\"text\":\"y_true\"}},\"yaxis\":{\"title\":{\"text\":\"y_pred\"}},\"template\":{\"data\":{\"histogram2dcontour\":[{\"type\":\"histogram2dcontour\",\"colorbar\":{\"outlinewidth\":0,\"ticks\":\"\"},\"colorscale\":[[0.0,\"#0d0887\"],[0.1111111111111111,\"#46039f\"],[0.2222222222222222,\"#7201a8\"],[0.3333333333333333,\"#9c179e\"],[0.4444444444444444,\"#bd3786\"],[0.5555555555555556,\"#d8576b\"],[0.6666666666666666,\"#ed7953\"],[0.7777777777777778,\"#fb9f3a\"],[0.8888888888888888,\"#fdca26\"],[1.0,\"#f0f921\"]]}],\"choropleth\":[{\"type\":\"choropleth\",\"colorbar\":{\"outlinewidth\":0,\"ticks\":\"\"}}],\"histogram2d\":[{\"type\":\"histogram2d\",\"colorbar\":{\"outlinewidth\":0,\"ticks\":\"\"},\"colorscale\":[[0.0,\"#0d0887\"],[0.1111111111111111,\"#46039f\"],[0.2222222222222222,\"#7201a8\"],[0.3333333333333333,\"#9c179e\"],[0.4444444444444444,\"#bd3786\"],[0.5555555555555556,\"#d8576b\"],[0.6666666666666666,\"#ed7953\"],[0.7777777777777778,\"#fb9f3a\"],[0.8888888888888888,\"#fdca26\"],[1.0,\"#f0f921\"]]}],\"heatmap\":[{\"type\":\"heatmap\",\"colorbar\":{\"outlinewidth\":0,\"ticks\":\"\"},\"colorscale\":[[0.0,\"#0d0887\"],[0.1111111111111111,\"#46039f\"],[0.2222222222222222,\"#7201a8\"],[0.3333333333333333,\"#9c179e\"],[0.4444444444444444,\"#bd3786\"],[0.5555555555555556,\"#d8576b\"],[0.6666666666666666,\"#ed7953\"],[0.7777777777777778,\"#fb9f3a\"],[0.8888888888888888,\"#fdca26\"],[1.0,\"#f0f921\"]]}],\"heatmapgl\":[{\"type\":\"heatmapgl\",\"colorbar\":{\"outlinewidth\":0,\"ticks\":\"\"},\"colorscale\":[[0.0,\"#0d0887\"],[0.1111111111111111,\"#46039f\"],[0.2222222222222222,\"#7201a8\"],[0.3333333333333333,\"#9c179e\"],[0.4444444444444444,\"#bd3786\"],[0.5555555555555556,\"#d8576b\"],[0.6666666666666666,\"#ed7953\"],[0.7777777777777778,\"#fb9f3a\"],[0.8888888888888888,\"#fdca26\"],[1.0,\"#f0f921\"]]}],\"contourcarpet\":[{\"type\":\"contourcarpet\",\"colorbar\":{\"outlinewidth\":0,\"ticks\":\"\"}}],\"contour\":[{\"type\":\"contour\",\"colorbar\":{\"outlinewidth\":0,\"ticks\":\"\"},\"colorscale\":[[0.0,\"#0d0887\"],[0.1111111111111111,\"#46039f\"],[0.2222222222222222,\"#7201a8\"],[0.3333333333333333,\"#9c179e\"],[0.4444444444444444,\"#bd3786\"],[0.5555555555555556,\"#d8576b\"],[0.6666666666666666,\"#ed7953\"],[0.7777777777777778,\"#fb9f3a\"],[0.8888888888888888,\"#fdca26\"],[1.0,\"#f0f921\"]]}],\"surface\":[{\"type\":\"surface\",\"colorbar\":{\"outlinewidth\":0,\"ticks\":\"\"},\"colorscale\":[[0.0,\"#0d0887\"],[0.1111111111111111,\"#46039f\"],[0.2222222222222222,\"#7201a8\"],[0.3333333333333333,\"#9c179e\"],[0.4444444444444444,\"#bd3786\"],[0.5555555555555556,\"#d8576b\"],[0.6666666666666666,\"#ed7953\"],[0.7777777777777778,\"#fb9f3a\"],[0.8888888888888888,\"#fdca26\"],[1.0,\"#f0f921\"]]}],\"mesh3d\":[{\"type\":\"mesh3d\",\"colorbar\":{\"outlinewidth\":0,\"ticks\":\"\"}}],\"scatter\":[{\"fillpattern\":{\"fillmode\":\"overlay\",\"size\":10,\"solidity\":0.2},\"type\":\"scatter\"}],\"parcoords\":[{\"type\":\"parcoords\",\"line\":{\"colorbar\":{\"outlinewidth\":0,\"ticks\":\"\"}}}],\"scatterpolargl\":[{\"type\":\"scatterpolargl\",\"marker\":{\"colorbar\":{\"outlinewidth\":0,\"ticks\":\"\"}}}],\"bar\":[{\"error_x\":{\"color\":\"#2a3f5f\"},\"error_y\":{\"color\":\"#2a3f5f\"},\"marker\":{\"line\":{\"color\":\"#E5ECF6\",\"width\":0.5},\"pattern\":{\"fillmode\":\"overlay\",\"size\":10,\"solidity\":0.2}},\"type\":\"bar\"}],\"scattergeo\":[{\"type\":\"scattergeo\",\"marker\":{\"colorbar\":{\"outlinewidth\":0,\"ticks\":\"\"}}}],\"scatterpolar\":[{\"type\":\"scatterpolar\",\"marker\":{\"colorbar\":{\"outlinewidth\":0,\"ticks\":\"\"}}}],\"histogram\":[{\"marker\":{\"pattern\":{\"fillmode\":\"overlay\",\"size\":10,\"solidity\":0.2}},\"type\":\"histogram\"}],\"scattergl\":[{\"type\":\"scattergl\",\"marker\":{\"colorbar\":{\"outlinewidth\":0,\"ticks\":\"\"}}}],\"scatter3d\":[{\"type\":\"scatter3d\",\"line\":{\"colorbar\":{\"outlinewidth\":0,\"ticks\":\"\"}},\"marker\":{\"colorbar\":{\"outlinewidth\":0,\"ticks\":\"\"}}}],\"scattermapbox\":[{\"type\":\"scattermapbox\",\"marker\":{\"colorbar\":{\"outlinewidth\":0,\"ticks\":\"\"}}}],\"scatterternary\":[{\"type\":\"scatterternary\",\"marker\":{\"colorbar\":{\"outlinewidth\":0,\"ticks\":\"\"}}}],\"scattercarpet\":[{\"type\":\"scattercarpet\",\"marker\":{\"colorbar\":{\"outlinewidth\":0,\"ticks\":\"\"}}}],\"carpet\":[{\"aaxis\":{\"endlinecolor\":\"#2a3f5f\",\"gridcolor\":\"white\",\"linecolor\":\"white\",\"minorgridcolor\":\"white\",\"startlinecolor\":\"#2a3f5f\"},\"baxis\":{\"endlinecolor\":\"#2a3f5f\",\"gridcolor\":\"white\",\"linecolor\":\"white\",\"minorgridcolor\":\"white\",\"startlinecolor\":\"#2a3f5f\"},\"type\":\"carpet\"}],\"table\":[{\"cells\":{\"fill\":{\"color\":\"#EBF0F8\"},\"line\":{\"color\":\"white\"}},\"header\":{\"fill\":{\"color\":\"#C8D4E3\"},\"line\":{\"color\":\"white\"}},\"type\":\"table\"}],\"barpolar\":[{\"marker\":{\"line\":{\"color\":\"#E5ECF6\",\"width\":0.5},\"pattern\":{\"fillmode\":\"overlay\",\"size\":10,\"solidity\":0.2}},\"type\":\"barpolar\"}],\"pie\":[{\"automargin\":true,\"type\":\"pie\"}]},\"layout\":{\"autotypenumbers\":\"strict\",\"colorway\":[\"#636efa\",\"#EF553B\",\"#00cc96\",\"#ab63fa\",\"#FFA15A\",\"#19d3f3\",\"#FF6692\",\"#B6E880\",\"#FF97FF\",\"#FECB52\"],\"font\":{\"color\":\"#2a3f5f\"},\"hovermode\":\"closest\",\"hoverlabel\":{\"align\":\"left\"},\"paper_bgcolor\":\"white\",\"plot_bgcolor\":\"#E5ECF6\",\"polar\":{\"bgcolor\":\"#E5ECF6\",\"angularaxis\":{\"gridcolor\":\"white\",\"linecolor\":\"white\",\"ticks\":\"\"},\"radialaxis\":{\"gridcolor\":\"white\",\"linecolor\":\"white\",\"ticks\":\"\"}},\"ternary\":{\"bgcolor\":\"#E5ECF6\",\"aaxis\":{\"gridcolor\":\"white\",\"linecolor\":\"white\",\"ticks\":\"\"},\"baxis\":{\"gridcolor\":\"white\",\"linecolor\":\"white\",\"ticks\":\"\"},\"caxis\":{\"gridcolor\":\"white\",\"linecolor\":\"white\",\"ticks\":\"\"}},\"coloraxis\":{\"colorbar\":{\"outlinewidth\":0,\"ticks\":\"\"}},\"colorscale\":{\"sequential\":[[0.0,\"#0d0887\"],[0.1111111111111111,\"#46039f\"],[0.2222222222222222,\"#7201a8\"],[0.3333333333333333,\"#9c179e\"],[0.4444444444444444,\"#bd3786\"],[0.5555555555555556,\"#d8576b\"],[0.6666666666666666,\"#ed7953\"],[0.7777777777777778,\"#fb9f3a\"],[0.8888888888888888,\"#fdca26\"],[1.0,\"#f0f921\"]],\"sequentialminus\":[[0.0,\"#0d0887\"],[0.1111111111111111,\"#46039f\"],[0.2222222222222222,\"#7201a8\"],[0.3333333333333333,\"#9c179e\"],[0.4444444444444444,\"#bd3786\"],[0.5555555555555556,\"#d8576b\"],[0.6666666666666666,\"#ed7953\"],[0.7777777777777778,\"#fb9f3a\"],[0.8888888888888888,\"#fdca26\"],[1.0,\"#f0f921\"]],\"diverging\":[[0,\"#8e0152\"],[0.1,\"#c51b7d\"],[0.2,\"#de77ae\"],[0.3,\"#f1b6da\"],[0.4,\"#fde0ef\"],[0.5,\"#f7f7f7\"],[0.6,\"#e6f5d0\"],[0.7,\"#b8e186\"],[0.8,\"#7fbc41\"],[0.9,\"#4d9221\"],[1,\"#276419\"]]},\"xaxis\":{\"gridcolor\":\"white\",\"linecolor\":\"white\",\"ticks\":\"\",\"title\":{\"standoff\":15},\"zerolinecolor\":\"white\",\"automargin\":true,\"zerolinewidth\":2},\"yaxis\":{\"gridcolor\":\"white\",\"linecolor\":\"white\",\"ticks\":\"\",\"title\":{\"standoff\":15},\"zerolinecolor\":\"white\",\"automargin\":true,\"zerolinewidth\":2},\"scene\":{\"xaxis\":{\"backgroundcolor\":\"#E5ECF6\",\"gridcolor\":\"white\",\"linecolor\":\"white\",\"showbackground\":true,\"ticks\":\"\",\"zerolinecolor\":\"white\",\"gridwidth\":2},\"yaxis\":{\"backgroundcolor\":\"#E5ECF6\",\"gridcolor\":\"white\",\"linecolor\":\"white\",\"showbackground\":true,\"ticks\":\"\",\"zerolinecolor\":\"white\",\"gridwidth\":2},\"zaxis\":{\"backgroundcolor\":\"#E5ECF6\",\"gridcolor\":\"white\",\"linecolor\":\"white\",\"showbackground\":true,\"ticks\":\"\",\"zerolinecolor\":\"white\",\"gridwidth\":2}},\"shapedefaults\":{\"line\":{\"color\":\"#2a3f5f\"}},\"annotationdefaults\":{\"arrowcolor\":\"#2a3f5f\",\"arrowhead\":0,\"arrowwidth\":1},\"geo\":{\"bgcolor\":\"white\",\"landcolor\":\"#E5ECF6\",\"subunitcolor\":\"white\",\"showland\":true,\"showlakes\":true,\"lakecolor\":\"white\"},\"title\":{\"x\":0.05},\"mapbox\":{\"style\":\"light\"}}}},                        {\"responsive\": true}                    ).then(function(){\n",
              "                            \n",
              "var gd = document.getElementById('e5ebf823-ca15-4aef-a3cd-35b8a3d889ee');\n",
              "var x = new MutationObserver(function (mutations, observer) {{\n",
              "        var display = window.getComputedStyle(gd).display;\n",
              "        if (!display || display === 'none') {{\n",
              "            console.log([gd, 'removed!']);\n",
              "            Plotly.purge(gd);\n",
              "            observer.disconnect();\n",
              "        }}\n",
              "}});\n",
              "\n",
              "// Listen for the removal of the full notebook cells\n",
              "var notebookContainer = gd.closest('#notebook-container');\n",
              "if (notebookContainer) {{\n",
              "    x.observe(notebookContainer, {childList: true});\n",
              "}}\n",
              "\n",
              "// Listen for the clearing of the current output cell\n",
              "var outputEl = gd.closest('.output');\n",
              "if (outputEl) {{\n",
              "    x.observe(outputEl, {childList: true});\n",
              "}}\n",
              "\n",
              "                        })                };                            </script>        </div>\n",
              "</body>\n",
              "</html>"
            ]
          },
          "metadata": {}
        }
      ]
    },
    {
      "cell_type": "markdown",
      "source": [
        "Stworzymy jeszcze jeden wykres - histogram do zbadania rozkładu błędów. W tym celu stworzymy jeszcze jedną ramkę danych wygenerowanych."
      ],
      "metadata": {
        "id": "uOzswhpXD7rV"
      }
    },
    {
      "cell_type": "code",
      "source": [
        "y_true = 100 + 20 * np.random.randn(2000)\n",
        "y_pred = y_true + 10 * np.random.randn(2000)\n",
        "results = pd.DataFrame({'y_true': y_true, 'y_pred': y_pred})\n",
        "results['error'] = results['y_true'] - results['y_pred']\n",
        "\n",
        "px.histogram(results, x='error', nbins=50, width=800)"
      ],
      "metadata": {
        "colab": {
          "base_uri": "https://localhost:8080/",
          "height": 542
        },
        "id": "Wjbf6L9GC-f0",
        "outputId": "24dbc476-0c32-43e3-d5ae-6dc4a7d5239d"
      },
      "execution_count": 6,
      "outputs": [
        {
          "output_type": "display_data",
          "data": {
            "text/html": [
              "<html>\n",
              "<head><meta charset=\"utf-8\" /></head>\n",
              "<body>\n",
              "    <div>            <script src=\"https://cdnjs.cloudflare.com/ajax/libs/mathjax/2.7.5/MathJax.js?config=TeX-AMS-MML_SVG\"></script><script type=\"text/javascript\">if (window.MathJax && window.MathJax.Hub && window.MathJax.Hub.Config) {window.MathJax.Hub.Config({SVG: {font: \"STIX-Web\"}});}</script>                <script type=\"text/javascript\">window.PlotlyConfig = {MathJaxConfig: 'local'};</script>\n",
              "        <script charset=\"utf-8\" src=\"https://cdn.plot.ly/plotly-2.24.1.min.js\"></script>                <div id=\"b62559ff-9aee-4cc6-81a4-2ba47d449789\" class=\"plotly-graph-div\" style=\"height:525px; width:800px;\"></div>            <script type=\"text/javascript\">                                    window.PLOTLYENV=window.PLOTLYENV || {};                                    if (document.getElementById(\"b62559ff-9aee-4cc6-81a4-2ba47d449789\")) {                    Plotly.newPlot(                        \"b62559ff-9aee-4cc6-81a4-2ba47d449789\",                        [{\"alignmentgroup\":\"True\",\"bingroup\":\"x\",\"hovertemplate\":\"error=%{x}\\u003cbr\\u003ecount=%{y}\\u003cextra\\u003e\\u003c\\u002fextra\\u003e\",\"legendgroup\":\"\",\"marker\":{\"color\":\"#636efa\",\"pattern\":{\"shape\":\"\"}},\"name\":\"\",\"nbinsx\":50,\"offsetgroup\":\"\",\"orientation\":\"v\",\"showlegend\":false,\"x\":[-4.239783328396982,-18.41068778866301,1.4655204751251034,-12.801624487256333,-10.504424225010752,-5.013214224774913,8.936301943877524,9.856058200867068,-9.41639148686103,3.859722717402434,1.8782513361209112,-9.494101166811532,-22.199562209055188,1.9684156132126986,-10.56414660803864,15.592862146088123,-2.358069260077798,-0.972304170444545,13.176765275777669,4.854233297276352,-1.4423260289692905,9.492288371053505,-1.4763305491302958,1.7018010331542968,-13.197913256081904,-14.775225202316278,10.075442316519784,4.083054665618889,9.787769843989793,0.5583278056936649,-7.490968079484418,1.3023107656400015,-11.855581473924047,12.296675345770282,4.929726107924026,-5.469561409098219,22.576739078250398,-14.699962750033365,14.062692914819124,-8.252421529264254,-0.670296385239169,-7.165790140570806,4.3679010200017245,5.322249155292695,-7.1118159213014565,-1.9384590843106935,23.44894182603594,-5.423020518968073,21.468143996830804,-4.009866414983847,-11.062876525811134,-8.670252098513458,2.5120239420164694,-2.4345646022626397,-4.2941847742040125,16.783755319035293,-13.165543125487403,6.1720196383770585,2.281076225009002,11.240112860096161,-10.722012935831088,-13.25381086367922,9.71134833827071,4.960039984250628,6.630814100411314,-15.23550461377124,4.682642477136383,-9.321977539570682,-5.121189760946521,-2.1020153106532575,-3.005149180496744,1.6545846694595525,7.333766984304376,-13.4805141469229,-7.089433856278177,0.1278887669625135,7.029881820104123,8.906967882463022,-8.109802763947485,-5.206725577463672,-4.319778944915157,23.26788523251723,1.8490364561213113,-4.018136504222127,-10.947391354509051,-10.031725946537534,7.972712493135305,-2.760344514264503,-12.600936618107141,-8.5850704546462,-7.700221469293993,-3.0645009619039882,1.4324496198640873,14.039297228943298,-2.606968229361911,-10.553468666314416,10.958129281592818,3.7450364901145434,-4.68232781616355,10.614393780876071,1.5748376496321157,10.269347344276525,6.699273479613652,-20.261683391689772,-16.431131270742327,-8.964114453837382,6.222891544761552,-6.846510116539662,-1.7607670831118867,-3.597857670008935,-7.101485108366035,-7.705982283605863,-5.734248885676607,-0.6512647963216409,-7.099999155709796,-2.8510483291315154,13.78903239898925,12.18619074185085,-0.019254236647078926,1.4461223586606735,-5.781208010371955,-1.055790317284476,-2.2048869911197215,3.6635510436381225,-0.32282030427967356,-7.12644249600995,9.90736246815058,-0.9921862712337912,3.1303024896601244,-4.349070454717165,10.988221665197699,-2.947236230242524,-16.0036502838445,4.396745683363463,9.547725687966121,10.55379720260754,-6.4976348772506896,12.78082529081933,-9.857127653691379,-26.901314843278925,-8.59946741834608,-15.811151437345202,-4.980218466125336,0.08964156129262335,-1.813302558197634,-3.4107450217521205,-2.0087754711214387,1.6126802574214025,23.924939752795325,8.245280395431124,4.414651493783936,-2.141936911134877,-6.091116142109314,1.7893607041437605,-13.7210790030298,-7.7402999727185176,0.8275852783106075,25.224080069397175,-3.0901018095959216,6.102846014956953,4.933851837741855,-8.908747257018533,-2.264547764847208,18.62967516240073,9.703502682887311,-7.613502756790993,-8.251499754941932,6.659018991380961,8.308442882619673,-3.132382431435616,6.7913039236406405,5.394359517394051,-6.4331401404362225,-10.522105991559812,8.933020309611578,-12.776438924850254,10.272945700039415,12.379639093998648,5.196237507654175,-5.367100555886296,-11.30237467177838,0.5037322933277437,-19.18708702994485,-5.382281194822127,7.93542023186113,-2.2809499729331293,-4.3443257291782515,-0.9509824109291998,2.9385023872874143,-9.90952339922434,12.590727696708782,4.303800476334558,5.4855065826821345,-1.5712238732599673,3.5020522870327255,16.369316286003226,0.9019722161547605,-0.39558514972819125,-2.1548165280092064,-7.786210439980167,-0.7388493620661052,1.6054820410784316,-3.0703180652452318,1.9436780636152946,12.817503991703916,-7.305967014872607,-2.055586824079967,-11.578480661939878,-18.555332867739168,1.6778610712954816,19.322295028624453,-22.285246558189883,9.078667320786778,6.8147546466203295,-19.018625782318097,7.996270754325607,2.5986321781839337,4.353041260464678,-5.011283127699926,3.551974542892154,-6.213055412688803,12.679951790940805,-2.218232682135195,5.8102651411861075,-0.8262105436853062,5.397296003052531,0.7750980049043648,0.9288845485372121,-1.7860674575129138,6.299310558066949,6.34441821139319,-15.822683168614859,-6.19933892118101,12.604053397371288,1.291474158609489,5.460361233615103,1.4267889155980242,-12.09989022202737,2.9916295186759783,-2.8758524772820095,-8.055386069066842,0.3502728143213574,28.446107421504777,4.581742106969827,-2.763126125541831,14.674338961456797,-5.020079507398236,-8.959884025765263,-16.925517016805486,0.9010542507023018,-4.876070597377094,-14.9077513058795,-14.386999172806725,-6.274752550149543,22.71088919952145,0.5113259781291788,-3.648660677360297,-0.5810165006950996,12.925032005489058,-3.323836226807231,13.178812445578885,-22.210281620636778,-1.3949649967482145,-16.333066808481036,5.592460627507037,2.051073561864939,-9.91608026043653,5.871111891839206,1.310548363734057,-13.63000224623812,-15.288431223785167,11.293518664428703,23.959737420072102,-12.672626851841912,5.282136815286634,-14.751868437810359,-2.3455581719593397,-14.350956115983777,-14.618792978522833,2.649954676602249,-16.08109833918097,-4.390847104229053,6.016360536282335,-11.358830366610619,2.238276187184212,-15.430147389572205,-5.940908983236099,1.3584004230742863,14.680131920634395,3.0634011178269844,-5.721963867904037,-9.4864258587003,-2.0352356105514815,4.79161865285316,7.94235506783302,0.39131215009284404,5.485654383981569,-7.267767900680127,5.5833594988403235,-0.6691614180021617,1.3939422539304047,1.9459042126772346,-14.005434896996405,5.689998892656632,-12.003586414487842,-1.422068606251429,-2.546205465011184,0.2023716290436255,-4.249075111312976,0.37369716740198555,-1.7032252908059462,-0.4334558757757492,-4.19542617557569,-8.604741141996499,13.04585148794935,-8.24026423935284,-4.385569795207232,10.92133173698025,3.1371173290695538,11.543256834641866,0.7359349686469017,10.884206477770931,-7.078423736133487,-0.9105882032784223,-11.165248102148851,-13.584687116348562,0.4637384644020983,11.372164651711756,10.435049198343194,13.79055681350448,-3.5692139727242136,8.603908681202853,-1.5666655388122877,8.661958003747763,-1.1676488245801835,-3.331088509945914,-1.4195005076696532,16.798498623211813,-3.028940137182346,3.5689197780779125,-18.468022911959224,-0.704117034860289,2.360827986480956,0.42365066163426945,-10.686672793454363,1.6458823668561138,2.5665055276022883,16.951001031301914,11.896876631061147,-11.680876404501305,2.466236344470289,-5.201827339426956,-6.806396092364707,7.381323487510457,19.31880986223898,5.701525164107139,-4.49948965269283,-8.501042376323284,-15.143357114743935,-1.486376741605568,-3.376197472637969,3.909229464099596,-2.584984431000329,8.221219177145215,1.354061553064298,7.411700310499555,7.659818459816563,-8.2899267220714,9.391908887215479,4.863681617828227,-18.727098993493996,-4.136756438426318,2.894107073202548,-8.500680371337495,-0.1452198604465309,1.997718087645282,-8.753726588168973,-2.814361687930713,-10.318391143803936,19.445078182139383,-5.864697417156663,16.990258223388807,-3.1778784328869563,-5.366697728137112,-22.89805482921725,12.94423784822996,12.36457931809747,-0.6913828528508361,5.74278380094232,7.616041467898597,-8.414131649661172,2.2948471572365605,6.175939862998632,-3.941757437310798,17.479933030645682,-4.915090659855487,22.1140253397043,1.354800550593481,5.648751479883671,9.198313464617797,-4.684521890808568,-12.57326863809125,13.667957177081227,6.766467986951227,2.4826418702105997,-22.01146475800371,-2.2351422992660304,1.9704787790422387,1.5304423305230586,4.224951512753776,-0.4490769649738695,-6.2304957028487,-8.86854433986423,-0.07631673733716582,7.315422840036291,-11.705307001583847,-1.6739602946928613,-13.277492140436976,-20.801289832496977,-21.34161451844153,8.702741436061231,-8.260214091380135,3.1510925797272336,10.596496725946281,-13.698682010538619,0.9059904019691629,-1.4488519782835994,5.880272700737592,-9.53979726160216,2.4816770437841598,-3.949112108282378,-0.674354014666207,13.56031421875636,-7.999817261858311,4.740005904513808,2.909579921732046,1.9613751128215995,4.359675015985218,6.522264949478853,13.808331885277696,-7.499931374241186,-10.341938999833516,3.549643076696441,0.3123846382264617,-10.594025104903281,-2.6996878771249015,10.471564055318765,23.078664659107872,-6.887034568548884,-18.968993478347244,-1.7471691617791834,2.86510034129239,-2.294798520718331,1.84026598933238,11.49071580064789,-3.865452124459054,2.551036317230512,26.958923060297806,-1.5977973718121916,-6.072583171683007,-7.686941409236326,-17.586499178428255,1.3586826068332698,-13.264573755141328,-6.976449024863953,19.934680000950664,11.418851771969443,6.442480159958805,-10.897738640444757,-9.900280641322482,-10.117333213769072,11.398626471724555,-5.989873645933258,6.0358773869214986,-0.4665000013457359,13.443051510028951,-4.602512941960903,-6.42203116037129,11.56961836794747,1.29226206269945,-2.5328980421552245,-13.750711579923134,-7.443579101264106,3.5928247921959127,1.4302472649624463,1.1163258554798574,-17.838814843470516,9.542672484858755,12.387224837477106,11.642053147137176,0.512476914295334,13.191731540606781,7.401094491790204,12.516096031821903,3.577166330430572,-1.7465809500643275,-2.6936603473011473,-0.6392950034472733,-1.8273602275278904,-9.439052579655652,-3.891795579016403,3.0745801180286207,0.5961971891851192,-11.929645258182433,-8.523435563246423,1.6424349827681795,8.902815987285841,-8.151459570976115,3.7722988157124746,2.0257806923241617,6.868056373586413,7.315112208203928,-1.2269274252364255,15.039224769213462,0.8598661427949708,14.344111652611687,-4.382385019050034,-5.648497414312516,-4.1058547709340445,3.365735753324202,-1.6448292732131478,3.4194659024960288,-5.45760805690864,-14.232725270090839,-5.125123892997806,16.351522378188946,0.5417571058060702,22.29859736620712,-22.334421034897517,12.03197394481316,-7.407017140068476,8.828329872514047,2.83188327561831,-0.8668727450491218,-8.436397080217418,2.409053833098042,15.574193694293257,0.4877772833714431,-7.064726103126716,9.767021421573304,14.857929753895448,-11.002851185134745,-8.144175780908185,-4.17534254698586,-7.186127187977917,-12.013624764003012,4.698046454696851,0.5630552783524365,-15.728655817767773,-8.850239376343907,-1.3108589534780748,-3.154177001773462,-1.9870228028916443,2.728200441451989,-5.927513575930391,8.811174499471093,9.084085215299496,6.802787931314995,9.681939584028626,-4.107063964726052,16.93853266994057,0.3746414275355363,4.871892906452402,-12.000712114088643,6.103275013429496,12.012169682962636,5.111081681619851,-17.323260099883043,-7.822235442341068,0.37878162461123566,2.6942276546724315,9.543428457693466,14.817693714722857,-3.208666273467159,15.56849804626495,0.019120039605013517,-1.3003553845444458,14.625075825641233,-8.508834223688467,-5.683042748953454,-0.4482544084902287,11.426403110590712,-5.495892944603,6.678578252673148,9.699311910368394,-9.457755797598736,15.03269817196356,15.957335486678943,0.1912607267068438,2.2520012901820508,7.52428154674466,-2.4818434328311128,-5.94656023931428,-12.095366187453422,-4.155719352481924,3.7795743260474524,9.526680886704867,13.039474539314966,-6.947595150687761,5.521512639451203,-11.983561290322456,4.82908484393954,4.559324527896081,-6.152067698884821,-4.667467172913192,-6.074220722933376,8.657339124298886,2.562173045662732,5.960112641303127,-9.858383621816458,9.12730139471806,0.6379259848470724,-7.6844741772315786,-1.907029365847663,14.061466780491799,4.40212160042401,0.10507494763704983,-14.629222732633394,1.6609763583157076,-6.988960209007729,0.04247139445695325,5.5414052710627,8.139054054380807,16.98167793412827,6.379353175796226,0.8360669758091959,-2.9357855595231683,-12.84526454902047,16.977421127155992,-11.845070938658367,22.103899715335444,-10.683742029660436,-24.417053114451804,3.366304331519814,-14.159875904390418,-2.292570609754165,5.332484193008369,-8.866468546614513,-3.1339784051224058,-8.836994016279533,-11.061405011039426,-15.218608677936786,2.8883836760985417,1.6814897395259152,8.500311646197275,2.8214007139794575,-10.051170830087528,8.696038053401573,-4.895140445577084,-4.239908234543236,4.084041848529409,-5.550173874229898,-8.76093992103214,10.202969492935296,-14.434460900025456,-7.651764696100642,-7.160400402020926,-4.172312164164794,7.5578760561352425,10.594281117269219,-13.283062659862011,3.4705334491582107,-3.040910021198556,-12.967181883344367,20.037504379742003,1.39335049865646,-7.235577700157627,-0.9757233020043827,2.169905280581503,5.675994439344279,8.092389076055454,2.6469750265735996,16.934558316741217,5.236588270456167,7.871995155218968,7.935716206562873,31.49121688917549,6.127880442934966,2.5660304591328185,-15.371899570244864,-0.9220129098726062,3.609244370920578,1.9735332184022951,-4.435347866222472,-4.965039565110217,-23.138666106999352,-9.581982734255533,4.850364789029598,-14.535791081811226,2.7969755065254844,1.1377968668638232,-7.089431348861197,-15.384751953593735,-0.5689642903710421,8.844803499825247,-15.19072115520737,-9.079776077719771,3.5018668177953742,10.063683158973333,-1.1664811854893031,16.012354932144703,4.774795693470253,10.561276489892407,21.02092316806973,-25.303777563638732,-2.7561057155352415,-18.931571099415038,-1.0827635664916926,3.858543959118194,-8.684304429053185,-8.75753827645957,3.964195720174118,-0.48303292254550456,-4.068966164678997,-7.820007023364667,-0.47766038729473337,12.4363382934594,-15.233277058068126,-16.00032638867232,5.432213002480751,-24.150755857001798,11.8964560169116,-3.393036380708594,-17.16330104554271,7.007129201396154,-4.799484564425626,-23.985036054933303,4.969082746254642,-5.9546780854355745,-7.138501279260041,-0.637931852133832,-12.678658167086923,-2.0970977136496955,-7.583788935918093,1.369130572209741,-18.264008787910626,5.437954169017914,-13.209793487847406,-2.721398177515468,-15.893941224787056,17.628042333549587,-1.5825180544106416,16.306276711555924,29.2074971198157,-7.4093968347800825,2.580587351764784,3.59175482987186,-7.218442508016139,2.400943919221092,-11.725664811975534,2.988906880538323,11.791094612633799,-16.57102160651698,16.519567135184403,-4.618122044535411,-1.61148676364202,5.369735072695306,9.500614110375281,-4.995001710458013,11.398524681023233,-3.7015234892024864,0.5008110656456068,-1.5356438120155644,0.5348247236274801,-2.050624466775602,14.891470825696231,5.525364892252327,0.8576727719673585,-10.04564142255019,-0.2579682661722984,3.0433893538086068,-5.185201315523166,-4.005786128106024,14.043648756221259,-10.63558451465613,5.270845321705963,-7.392950889855882,-5.02338371949449,5.637297162506684,-7.543540508164668,8.133954831342649,2.775575996590092,0.2544148671403548,4.1684989620544854,15.972943622818711,-6.527868887810371,-18.93660386294171,4.8399292279435,9.389714518429997,-10.14733199971704,3.417820146582301,2.8156695395202007,-3.494534577807798,2.3309678062054644,1.0335298633468568,-6.982436986290139,-14.945842684057581,11.198976737024907,22.665293169292674,-15.26892485092992,4.52149074847145,6.46404824359405,6.732667327581495,-4.741197024528745,-1.9151610112334794,-2.8733025316686707,9.611040461834236,-0.87738244847435,0.9524800070812631,0.10374317228604468,-0.8898890043702181,-7.396870072058093,6.79811212034538,20.4759116565465,-6.1398321300147956,-16.27210942561858,12.380955419503607,-2.6566013864887594,12.248610455842154,3.4216683606295675,2.9949140191390455,15.768379126958806,16.24257309528666,3.304784640929469,16.476796945151676,8.984846225647814,-3.332120530860294,23.880083877666166,-3.924569059754077,-2.934612079087671,-1.1027445478581228,-16.322044899573825,2.9046088564349333,-14.26378974850762,-1.9200634743868648,3.690997876797624,5.435800146118311,-3.0193534088491987,-13.564169449203717,-5.624163974995696,6.944054628634689,-21.333479940187345,-2.341879767479071,-0.5999238422520108,3.4162039702911926,-5.8986833630229825,0.7888909048284205,-2.874645638513101,-14.278796844625575,-24.595599147825297,-12.223955175193325,1.4017020984943969,22.7029666454861,7.800845965725301,-4.894068041053515,-2.701834385831347,-5.075079870207091,-11.62291534030048,9.800224422313306,-19.70015041830412,-1.6441852229962137,-0.36303569916239553,5.773956868683101,11.962074909295282,1.347211155840057,1.2800620471406887,16.671304697175216,-6.856657224991906,-2.6890807162612163,-3.830573186240457,-0.7761302718795662,-4.245570521138163,13.35051388580682,0.13349591611294898,2.6826810607342964,6.272331941880836,-8.699475493323433,-7.500366002086224,-3.8965077827576238,-7.876544872746564,-13.13424130038905,-2.5955557568723293,-12.187852568955606,7.225396998253231,-18.934770566360626,8.248308819943475,-1.1990875851476943,-2.8256953073110083,14.198109576829069,9.406649916542506,10.991370820802018,6.254485100362018,8.061767933524152,-3.4467324955416316,-3.682308025620756,9.266418189859408,11.818815657994861,-7.294113268103985,17.45764184327328,-19.469789024706813,11.160109185435594,-0.4026877939920155,-4.933041659542539,-3.128225634849187,6.736644031591396,9.381968107389625,8.561619485479241,11.20399762983891,-13.866313396153345,16.7149959355297,5.29936830317682,-13.97426561529349,-13.575025932070702,20.443503993397385,6.2741819606382165,-8.593291699832108,-15.320494060876086,2.9515289996111562,-16.969930800577828,5.234293107864076,-3.8005503069759072,6.101923045921218,10.945502136875604,-3.9785076929613012,-8.100544716456355,-4.491178284862002,4.6178261284662625,2.04664458445032,7.05188750728864,-20.462272932005945,-3.6509145570610713,1.905964412547803,5.648283705409909,-1.6410715877497353,-23.6569800541606,3.647199171689337,-3.3354002165454375,0.4709444389534241,-2.9365864572160376,1.476372158721162,5.423134001960861,-6.57240889761583,-9.706691522904237,-12.57323114970292,-7.179388469818875,10.412387333651623,-0.3603439009328042,5.686501873330016,4.728229127340725,1.3324111267541383,12.80059347667438,5.968887840045781,5.027583395780198,-16.944081901151222,-11.958832637072362,-9.547451907859283,-9.058164676216975,4.6866973107374434,12.442517848297754,4.4671623211172005,2.1816091907119386,-11.794009841046744,-3.090490250217897,-0.25416762597447473,-0.8084498272858127,5.172125033248577,-4.932527650826415,1.6726787924085613,-1.226934083251038,0.374253543578547,4.84339861233677,15.724427003226907,-18.049176484043173,-9.782593719290503,0.5827325119483646,-9.133835487354403,13.798306816928744,12.625360703337819,-12.440759722220008,-5.58701131428964,7.279131565183576,1.4664025650878898,-11.852019240981662,-1.29604965802001,-8.907571051707464,-11.080623113497865,-11.706639787578851,-13.372219465933114,-3.5303010615275667,11.900112491467809,14.198128686201471,-3.6612909807227254,-1.9304520460334516,-5.649525616486073,-1.015532421677264,-10.48094151294842,9.280276043655007,11.055990108958426,-3.4953560490096436,-12.864995508760558,-11.715854512512024,-7.13932431867606,0.3586132461925615,-11.367791994473038,7.555733527601973,1.0983780555990421,-0.10818089292814648,1.06327355141687,10.0892871189372,-9.772443287482162,3.7928249921878603,-14.393097904662767,-4.890387488685732,-11.88562186955619,1.4956690726337598,-21.71394934057588,-2.5908580957058973,15.825294009190387,-11.442797871778339,-1.926212363571537,-0.22985548460468408,27.62684393687303,2.6882954727974777,19.969065238449517,16.232261516915543,10.899684543448757,9.430222116055319,5.875204605743875,-2.5574152751098467,-5.625031551659745,17.910085166978448,1.7940472737081734,-0.06845872851144463,-5.798432755722118,7.742532899921088,6.414933479535165,3.1351143658222895,15.952419329807768,-1.6021847762075794,14.767021412188399,-15.059900075659343,3.65547787636433,-3.996013269085509,0.02171914729736102,-11.628489435068957,-4.955104368623907,5.103189548411564,-4.467500085205728,5.943259111056136,-14.651352081692039,-18.193483967483928,1.0850584916892956,-1.7442126329134453,-7.165792319557184,-12.738583440563517,-3.951884985320092,-18.13581886918648,-10.598353466146577,7.045733927926236,-9.007201996040067,-0.7658052439692682,-7.886135664817019,-6.345289301935182,-9.67882051616175,5.482262021948301,17.614534407621235,4.819613864693949,-0.07169342079060925,6.612030531783191,-10.27296571293698,-9.775429936324542,-7.023147137256231,-12.676864044642244,-4.643524930633333,-4.600168668212888,8.525107692281637,4.185166665582628,-23.843505916918062,-14.739227672146676,-4.218640779086371,4.460865089083896,4.3752548080323805,-5.46698907304858,-12.522781689922681,-15.498286951751084,-12.34732181605186,-0.3713126552429884,4.280388029170467,15.880854106475098,-0.3727189774498214,21.46134978496032,-12.909553086848092,-0.7925042696319977,7.516823572871843,22.11173439064108,-12.316320343431201,3.658656497381074,15.70841860968578,-4.047357483508179,-5.433494702946319,10.86371774262345,-4.599893853570009,15.054481098521762,-15.192961721935063,-10.526784213881626,-10.924217544904735,-2.228640952300907,8.399249078506344,-1.303326871658868,8.669670061810692,-9.798719897985762,-1.8088078889531118,7.909560797438047,12.510767407828908,-8.325203776703091,5.749046183123141,-1.1418173618882577,16.65683096381217,-3.335597584228992,-10.267996505590574,5.528956188184381,1.476524679011419,1.4140767949914164,-0.826876625918942,9.553032870642781,18.262384665469497,-18.41407238101253,-1.5035160364113551,7.404998394716188,-9.203203238837986,18.758073059218148,7.766230967042752,-3.1277386557635793,8.018208131606073,7.556134914466014,7.567824971101146,-2.5355869540495064,3.2890822748545077,-9.495443310093918,-9.99034687768453,5.556955403280668,-5.7277742903301885,-3.84572966476361,-13.876894220089355,8.505714045148594,-7.673984012159707,-5.891453244766581,-5.210207399695264,11.200738273039775,0.8624263145663775,-10.342648356111638,0.5677274475140308,1.9918746378590413,10.549362364786447,14.94920330931319,-8.071963508012658,-10.514114044553793,18.89079631412943,12.603324112256246,6.328228788739764,-19.302829316332037,-6.487839142394407,-17.772375102399707,-9.771358397292474,-2.0027294450959374,4.859865300624236,11.669071946036723,13.602220407782795,18.95531531560121,10.322393384598243,7.82901831573453,11.586097162985979,-17.79934946100076,3.7157933691986784,-5.459228195917987,-9.353042105833097,4.886873456043503,4.964596647230394,-5.191136173615234,9.345534571042307,-10.811993646894564,-5.834883073005997,3.2107550615743605,-8.718405695400676,-1.5966491469308863,-0.4282702338645663,7.610041396922725,0.5617453614361239,10.017774696961155,-17.543580480643413,-9.860134914660982,-0.6976883409456889,-2.444776138608333,-9.113504414664874,0.9086286262693477,-21.700759994832296,-0.3027475933383812,6.12483089692536,9.003788339720188,-10.095777391419958,-3.5554883685636725,14.887562721286884,-18.87040955503528,8.908066001428459,0.8830204911075867,7.1434738650828535,2.8716555576998957,-1.083424773329483,14.429181952752629,-1.0820386724047495,-2.927066736105971,-18.30153104368503,1.1316575557388262,11.646591768754078,1.6343061860298604,6.67883910665293,-1.1371851107031432,-3.909496314902327,4.929851760524173,4.390558541636324,-3.7464748699903367,-1.7615253632638144,-5.910583251124763,3.2651739647384375,9.366044021304162,-4.22313091278113,-5.0114987635634805,0.7233509665708482,-4.276825587335395,2.8536656446269433,-12.767064093622153,12.144064393331782,8.905541851395327,24.36002712470352,-8.607793099570642,-4.199778760295629,-3.230378708201954,-2.00333562847041,16.633920463079576,-5.503871818648676,-15.77823573428087,-2.734323412034044,16.301249177551497,-4.119843003915264,-26.249929623793406,7.118032051698535,-18.23014432010426,-7.268536370276131,-1.7226368169087323,-10.111837318319772,7.615098770917484,6.079599178436844,-11.685812587329849,-23.44822865431675,-0.3975102903089578,10.246633963260592,20.458155950371477,7.735228057296183,-5.649759105522364,1.5507208960696204,-11.123099242207985,7.820333649744157,33.342561218965415,0.3779946028323593,-7.166493532208804,0.013480894827210932,-7.564508482694265,-0.8121533338145355,0.532009633234054,7.849794637527637,3.7430488058524105,7.819549984081547,12.753227309395925,-7.050273371447275,2.09707636767358,21.467233848083737,-6.621949392863115,-2.0497083767013606,13.893493270746063,-14.853892228455791,6.332171604728458,16.154684923930176,11.108621237649828,-14.766320297516259,-2.9458653767116942,15.396215184954357,1.8396559161847534,5.559498141771286,-12.750481576616167,3.5250193506288667,-0.9076918193664483,-6.100076504097444,-3.74492870295839,-5.007642074703568,-10.98899616690018,-5.195888911217622,4.231521452026229,-5.095333591918603,19.532984285428483,-1.3801719323679578,2.1449496284896554,3.188517032244633,-14.288452021346842,2.5709022827114296,6.399819200879122,3.452423252658974,-11.33090808937878,6.405268170337763,-4.714193908061716,-7.699896192431439,16.997941089389613,-2.864845476506332,-3.856783004125461,15.377721539090317,-11.035315240504644,7.273650272217992,-2.7895732073625936,-18.456131345248693,-8.124544547243843,11.342011731325826,2.4066991516181133,-7.236556794940512,9.172957239516393,8.570621717609129,-8.15782580239518,2.7850797904461047,18.694767398394077,-3.1187567842250417,5.02122410603414,-10.949032117212411,1.0240175458882277,-12.228048649247754,3.427835105425828,-4.967832415055639,20.858479920701086,-6.717638221203629,8.245348198475256,-5.829834621633665,-12.120850908225563,-9.833735424137899,4.219406078889037,5.184562216258627,19.425004808314,-3.8639948864044698,10.35200653379404,-0.1691627420203332,-0.13206782092676406,4.6496147768578595,2.833413464128796,-2.8984831751876072,5.233956075811804,1.0041331308894428,13.79228051455948,14.06070096119187,0.867226887686428,-9.101593436920652,5.651541882757087,3.0909561989774517,4.883363355011994,10.605169537856682,14.943560909076083,-3.6994297623475774,2.233509333679436,8.838339031926068,-10.499611712570498,3.115956171226415,-5.458533463441185,11.591820758112476,0.6312845801386118,-7.1097847798047695,-0.3411629209509215,9.007969273720633,-0.21386341007564624,-14.795715568569534,-6.3803031339996465,-10.524353720790913,-8.71628033177322,-2.262039752290164,11.877937382629426,6.198803891400331,-2.9514731289752945,-7.27375262830634,-1.2340406778933755,16.099245005231886,-2.702524980496264,-3.354195755805563,6.860233061084131,0.09738226809704997,0.8865985970701615,24.103069059751334,15.896755188255085,-12.506013214773347,7.745240459556129,1.9847105281287014,-0.35242531048864123,-4.065424835839508,7.467530559163237,3.950365527683161,1.679652561498557,-2.932433400743548,14.032989717817571,25.0671906402318,2.043669145660047,-5.569132319996555,-11.739904316741423,-8.884604195402346,-21.76544368695353,1.791283778642864,4.258251404372757,-13.727395804226369,1.9741166551983724,2.542659772067111,-12.030016215831694,-17.134984601058733,-2.9044811269555453,-22.80653952369164,-5.338700705819775,-14.554181668869077,-1.1197345629057196,9.91248531972468,-6.790582134439333,-13.187126918714554,0.046514078289874305,7.844143915414975,-9.529631672259427,-1.182052183960991,-0.9973879822302223,-15.328697784438944,16.33209586225199,2.0578471041290243,5.468798312380343,-7.303650984884143,17.277385676730532,-14.343137258278034,17.415872738957177,-7.421298014361128,-17.82209642662994,1.8840050302661382,-0.3655976049405325,6.978025550139748,-9.556265985088672,-10.420676521168659,4.081950438623181,-6.357947590864768,-5.613699683183903,-3.408931175299145,9.276370466885709,15.593536993823605,-1.0745278331690287,-16.640828815732334,-11.577504304011,-0.15049850070980142,2.334766021522512,8.28664005170684,-8.838559052925277,-5.148349635802916,16.612320793532234,-16.8135286569008,-9.428617998876106,-4.818620250380491,3.5795737315186074,-2.986269058453132,-6.730886219660789,5.28343657272147,-12.320153099107415,-5.219615325590638,-6.110177028185177,-11.010786786745868,7.554053397156267,-8.204698833010156,7.825930433908013,2.654706863246716,-9.858739399772531,-2.9858206524191075,7.153066497075471,16.827309243320627,10.452193299443664,-14.420356979566037,-13.834336645269019,10.944779000546134,-10.611913707531443,-6.447506606149048,8.154673370776308,0.5297782899683909,-6.101521260826786,-6.5275057368005776,-17.348525944786473,5.131010510996788,-20.332023472135447,21.305734306154633,6.906037035076082,-14.583888434275451,-8.900360612406885,-5.063047483386796,13.550209849530972,0.9665605584697943,-5.615677673781789,0.5301656329777131,-4.543481871174166,-9.41670930599689,-12.118646556936937,-18.902888184050155,15.526373800737531,8.516566236378111,25.340754245434525,0.8488572164632515,11.876813872556767,-19.754476138775345,0.6953829123034438,-10.064442887659041,4.148409935661306,5.907745868443357,-9.465108667934516,13.501977852586876,-7.583405795217658,10.825513028902037,12.553986932228767,10.825091231156406,-2.7224862022593044,-17.3042392785309,-2.3191566825969403,8.712951302282463,6.402013667879643,6.190410380638085,4.337871321706231,7.886019534846625,15.165260410862118,9.154333374514177,-12.317285828258377,-7.074088398521468,0.2820008291319027,-2.426242312971411,2.405509416749055,4.887944980550046,9.327228582010235,7.487679251789075,9.095348768451629,-10.520140599951219,3.3257959011631044,-2.04313103084057,-1.3899008033421438,0.9106940472534291,0.7323569437098598,-10.244855733541243,-3.4694011391313495,26.638904009618358,-11.793029856015238,2.9965613510740923,12.134560873119469,0.8672813007829632,6.871658619361881,-2.52492525330959,-2.7171027957835605,0.6142234594859843,5.623901508246732,-0.6383978201999554,-7.169829902878888,-8.17375935046232,-24.634991416317035,4.436889516599976,-11.54299875037293,-7.15477470697563,-6.703958201530256,-11.911044493685921,10.953914636166871,13.21578493075475,-0.4641476776757827,7.4647426196744675,-5.151375863938554,5.698034409258881,6.502548414151562,-6.39367462617011,-3.539924418975076,-5.01251407191215,8.603990136232909,-0.6623418180885494,-10.246747506129594,-25.36992009553302,-4.081999264119901,15.876609511950335,-9.478447181538115,-6.954005571809191,17.898878952401873,7.8739138963766635,8.08913017840132,1.1580419554942125,10.53613136280488,13.597696690041758,-17.249857189128903,14.366386092936978,3.1507537077258547,4.654193641175738,-19.294501276698156,2.793910562257693,21.094028463255043,-17.106634321198086,6.823078959777831,0.028403688978357877,-1.4781438995191678,-5.345341390287359,-3.450941452715007,-7.669891463347852,-8.010723596760428,9.76573068803701,13.639727301127493,-11.653183556240961,3.9719927288483348,9.966262710255748,6.969174358363873,4.777072848073857,-2.315256557254685,-0.4312650939965863,15.460519199140137,-3.4321672546705457,-11.691618009312648,11.275573057197889,14.245973745490858,1.3358248903072933,-25.196897809393732,7.748868135446443,1.690458925895939,-7.9195716546422545,4.854822056701849,9.400657252709763,-7.423166974438942,4.694787582994607,-4.6281578782332105,24.031689982643783,-27.14705722041934,5.61721495755198,7.171225091667765,0.7702671894236488,-12.477309219003189,-17.932995160957148,-11.560608214053673,22.729240417943075,-1.3904080475546152,8.966473749447808,1.122355753622486,10.89565481086052,14.854540430383878,20.044110953038555,3.3528634313442325,-4.5950320247611955,5.737127565606372,2.902494385367575,-3.941587313336086,-5.295855390478295,-2.9307926651176643,-3.0610328294876723,4.94089980055125,-3.305141011846004,-8.490582054194903,-4.5231011972110196,8.950419962514516,4.893692167086783,-11.265679263719278,4.044336672915406,-10.423718593240892,3.165130492598408,-11.438313035513573,20.669360738085103,-4.047334345747615,6.0524664380765,-11.347882455097704,2.7230407947312756,14.799037282522391,-14.645905576354963,4.427583944929381,2.5545705408431445,7.067061996840323,-14.229504080033905,-7.035316735696355,-5.467174999151922,13.162270184112202,-17.50382012725001,-20.171846317015536,-0.27553662913585697,3.591289518804899,-6.875120113043479,-1.2611951238355772,2.2958382505566988,10.349771455424701,8.200357003424514,-0.7233124217777345,0.3249555455191029,10.855759268977351,16.23589340781095,16.44856037328661,6.481070116719522,-7.313653744822588,-11.157576614098701,13.487960286273797,16.19392408753545,7.415046197884124,-6.606917045434116,-4.498584608561799,-13.400629917405496,-14.991387721663244,-12.28556631739471,-7.31849767933295,-4.439541369519532,-4.345927870767511,-26.54419074426049,-7.9555903787207285,-10.889119513328666,-3.9297370693302724,7.598639906594883,-12.244479781450167,-7.801112289966369,-6.568019526872121,5.546957096238991,-18.11229418901216,-3.997542932713827,5.929454836246023,-5.161701808171472,0.44948835362785644,12.931055292827523,-5.56414944659231,0.4464428104189295,-1.9638314027230734,-1.5132126469985252,9.183116213846418,-3.4058487175921925,-5.5523855014505585,-11.871192776046755,-9.47121950710823,-3.9347563885559964,10.543131872688477,7.982555026533092,20.22902468181217,-0.5062958406033431,-2.98178752197542,-1.2172688823088151,-2.613159787781754,-2.3306067247729487,-2.248448095887909,19.599202743701056,5.810862902162512,14.103615520613346,-4.40386191359957,5.729361922365754,13.570350523611829,0.9162802805866761,-1.23378588315677,-2.3878307835826718,-16.030388155505477,11.537095900320253,-1.9194943420792612,6.64585490551589,4.680728775471366,8.784684543085064,-0.6937520319296624,-26.752656876702673,13.112043005898485,-6.914101380460565,12.553036718108544,9.491700166006439,3.061065741854989,-1.3463384165946906,1.7906471475456698,-19.684624430837374,-5.050728567189466,8.53966997783779,2.7629115494426912,12.329324315007895,-4.100420600643645,5.408472173940524,-8.519841072837394,1.5895196703760917,8.371972501665468,0.9090975270819683,-18.26079038096799,-3.239176451948296,16.420883089301128,-1.3504726165635361,-15.90119416015169,-7.261742831029451,20.31205742706271,6.388490618830204,20.06941946926905,6.623119404325706,-7.017468501742783,-6.180111051488737,6.031496672881133,0.4911666498744296,-19.427164958448486,-2.8981765800508015,-8.285856170622836,-5.871745574651456,6.739137765781962,-9.962886519490212,2.456686745673778,7.046855439551464,4.772515091452092,-19.690553462251998,-2.514160155510851,12.811976620120959,8.455393584150684,-3.7141011208454273,-10.340512890930754,20.380831515410392,-15.67547123859245,-21.988620556450655,-27.031226172971827,16.5774920220328,-6.282292218719277,-27.90275706273283,-0.32122256721608267,-0.5415665863153691,-11.140939041984282,3.585079548766956,16.576237092077548,-11.794541262316827,2.3006790726698227,8.866563881843234,-9.44183762905972,-9.53592293788492,-3.7994728936347855,-14.558978763428016,1.5020201153580501,14.853957125313741,-1.4202817395595702,-11.308788328593863,-6.741955863708981,-1.5825776008802706,0.0039922988797087555,13.505132145430906,-13.012756304221611,-4.954973217711611,-6.639028656180258,16.48144770364,0.404625160232996,-14.359454987498438,-0.209711022501196,-5.190800242276396,9.582657386279351,-9.26504975589883,2.0169074672757574,-2.44790925901944,-0.9096660007336084,-0.971467510941622,10.412062993965705,5.328989996431801,12.41117554454243,-1.9510595147586685,-11.745360128881117,0.518275400639368,-0.10008507422409707,-16.627669451080962,11.705080664337885,-10.204187619108907,15.457073069654584,-2.9652355049421004,-1.9803961327625927,-5.515032721013256,-15.291811237627513,20.56907647803982,-7.787286514738511,-9.327729149661394,0.010137077253773441,-6.472211533196756,-5.851748189295051,9.790656313376317,12.000897193859473,0.9646249402266562,7.653280381672346,10.825368455513754,7.29778827122982,-0.9905346408709477,-6.093333373225846,-2.6067214973027717,-5.374976497297226,-9.395934540250366,-1.460645804339137,-0.4353917094314852,9.738405845251464,4.7851904009436765,-0.4865972580222291,-12.398169044435903,-4.145982044580919,1.6769282428565049,-1.60348299340977,-1.9961684957578,-1.8986654348039451,0.9119736049376002,3.7933279807982174,-18.092223303246016,-3.6296496453621643,-4.704848257052205,3.3015355900629118,0.499677380847416,-10.912934532994228,-5.718536986990088,-4.44578255462369,25.265860012967778,16.263069302934554,-3.9259136958845318,-12.419326936083522,-12.178981271519959,2.015210551885289,-5.923202839643636,-14.998528030202223,-8.82163889341416,-1.017289151246331,-2.6655301430076292,13.530108668247145,15.654416809193933,-3.6749220483633565,-13.117819696782675,-16.774010361290173,-10.32185381870579,-18.12934207449257,6.07248058711464,-5.206921028349171,-5.623568418891864,5.253044399542802,-1.894698816456355,-4.333630812055262,15.857888711117994,-8.817892570111894,-11.224563110080538,4.1701166931443225,-10.991199801206804,-3.8110583412103836,1.1683530631215717,-6.6384735204885885,-5.758722632675912,-7.749861317740837,-8.35194218836331,-0.5028562823909937,-14.525865864470077,-2.1004990508831725,-24.28394580376606,3.962359553109877,-4.211278421346265,13.558453702110171,-10.692015760659018,-12.120675728719249,-5.225206035145703,2.052877294636886,7.359887421658414,-2.6354387483270756,4.684069701209722,-1.0387201575855727,21.53881514111687,6.441391777765261,11.64140269653091,-9.87714306778151,-8.675694817903363,3.316026694681284,-4.572432567965706,0.9791780506533172,-12.232113005643768,1.5452972217579415,-9.8156964552104,4.654155058407753,11.777346841080671,-11.46056591668787,-1.7170260270421522,3.7126171507444212,-1.1594644302113863,-7.8305112461928275,-5.150400388892692,3.887476615859299,5.1658534794971445,17.15379946078329,-14.702258556014357,11.187492179899664,-12.893405761309964,6.453510121304596,-1.4846164343069574,4.3864960364322485,-9.373460884383505,2.1811805255353534,-4.881979826652071,-0.5521022935364073,-8.276561372151264,3.6092709138938375,-0.1646266325787451,0.7209509704764656,-11.476806534387592,-6.614119356344176,10.003931438230012,-14.141427362745617,4.148643172365439,4.036985295814574,-1.4184894967790314,2.413180734061825,6.350838662398502,4.578159659049632,-8.891666231328855,5.326548517649442,-13.419543619981312,-0.26507543000435874,6.216265060889114,-3.7081022496942353,25.181880016493707,-11.556451591997856,1.237055235028123],\"xaxis\":\"x\",\"yaxis\":\"y\",\"type\":\"histogram\"}],                        {\"template\":{\"data\":{\"histogram2dcontour\":[{\"type\":\"histogram2dcontour\",\"colorbar\":{\"outlinewidth\":0,\"ticks\":\"\"},\"colorscale\":[[0.0,\"#0d0887\"],[0.1111111111111111,\"#46039f\"],[0.2222222222222222,\"#7201a8\"],[0.3333333333333333,\"#9c179e\"],[0.4444444444444444,\"#bd3786\"],[0.5555555555555556,\"#d8576b\"],[0.6666666666666666,\"#ed7953\"],[0.7777777777777778,\"#fb9f3a\"],[0.8888888888888888,\"#fdca26\"],[1.0,\"#f0f921\"]]}],\"choropleth\":[{\"type\":\"choropleth\",\"colorbar\":{\"outlinewidth\":0,\"ticks\":\"\"}}],\"histogram2d\":[{\"type\":\"histogram2d\",\"colorbar\":{\"outlinewidth\":0,\"ticks\":\"\"},\"colorscale\":[[0.0,\"#0d0887\"],[0.1111111111111111,\"#46039f\"],[0.2222222222222222,\"#7201a8\"],[0.3333333333333333,\"#9c179e\"],[0.4444444444444444,\"#bd3786\"],[0.5555555555555556,\"#d8576b\"],[0.6666666666666666,\"#ed7953\"],[0.7777777777777778,\"#fb9f3a\"],[0.8888888888888888,\"#fdca26\"],[1.0,\"#f0f921\"]]}],\"heatmap\":[{\"type\":\"heatmap\",\"colorbar\":{\"outlinewidth\":0,\"ticks\":\"\"},\"colorscale\":[[0.0,\"#0d0887\"],[0.1111111111111111,\"#46039f\"],[0.2222222222222222,\"#7201a8\"],[0.3333333333333333,\"#9c179e\"],[0.4444444444444444,\"#bd3786\"],[0.5555555555555556,\"#d8576b\"],[0.6666666666666666,\"#ed7953\"],[0.7777777777777778,\"#fb9f3a\"],[0.8888888888888888,\"#fdca26\"],[1.0,\"#f0f921\"]]}],\"heatmapgl\":[{\"type\":\"heatmapgl\",\"colorbar\":{\"outlinewidth\":0,\"ticks\":\"\"},\"colorscale\":[[0.0,\"#0d0887\"],[0.1111111111111111,\"#46039f\"],[0.2222222222222222,\"#7201a8\"],[0.3333333333333333,\"#9c179e\"],[0.4444444444444444,\"#bd3786\"],[0.5555555555555556,\"#d8576b\"],[0.6666666666666666,\"#ed7953\"],[0.7777777777777778,\"#fb9f3a\"],[0.8888888888888888,\"#fdca26\"],[1.0,\"#f0f921\"]]}],\"contourcarpet\":[{\"type\":\"contourcarpet\",\"colorbar\":{\"outlinewidth\":0,\"ticks\":\"\"}}],\"contour\":[{\"type\":\"contour\",\"colorbar\":{\"outlinewidth\":0,\"ticks\":\"\"},\"colorscale\":[[0.0,\"#0d0887\"],[0.1111111111111111,\"#46039f\"],[0.2222222222222222,\"#7201a8\"],[0.3333333333333333,\"#9c179e\"],[0.4444444444444444,\"#bd3786\"],[0.5555555555555556,\"#d8576b\"],[0.6666666666666666,\"#ed7953\"],[0.7777777777777778,\"#fb9f3a\"],[0.8888888888888888,\"#fdca26\"],[1.0,\"#f0f921\"]]}],\"surface\":[{\"type\":\"surface\",\"colorbar\":{\"outlinewidth\":0,\"ticks\":\"\"},\"colorscale\":[[0.0,\"#0d0887\"],[0.1111111111111111,\"#46039f\"],[0.2222222222222222,\"#7201a8\"],[0.3333333333333333,\"#9c179e\"],[0.4444444444444444,\"#bd3786\"],[0.5555555555555556,\"#d8576b\"],[0.6666666666666666,\"#ed7953\"],[0.7777777777777778,\"#fb9f3a\"],[0.8888888888888888,\"#fdca26\"],[1.0,\"#f0f921\"]]}],\"mesh3d\":[{\"type\":\"mesh3d\",\"colorbar\":{\"outlinewidth\":0,\"ticks\":\"\"}}],\"scatter\":[{\"fillpattern\":{\"fillmode\":\"overlay\",\"size\":10,\"solidity\":0.2},\"type\":\"scatter\"}],\"parcoords\":[{\"type\":\"parcoords\",\"line\":{\"colorbar\":{\"outlinewidth\":0,\"ticks\":\"\"}}}],\"scatterpolargl\":[{\"type\":\"scatterpolargl\",\"marker\":{\"colorbar\":{\"outlinewidth\":0,\"ticks\":\"\"}}}],\"bar\":[{\"error_x\":{\"color\":\"#2a3f5f\"},\"error_y\":{\"color\":\"#2a3f5f\"},\"marker\":{\"line\":{\"color\":\"#E5ECF6\",\"width\":0.5},\"pattern\":{\"fillmode\":\"overlay\",\"size\":10,\"solidity\":0.2}},\"type\":\"bar\"}],\"scattergeo\":[{\"type\":\"scattergeo\",\"marker\":{\"colorbar\":{\"outlinewidth\":0,\"ticks\":\"\"}}}],\"scatterpolar\":[{\"type\":\"scatterpolar\",\"marker\":{\"colorbar\":{\"outlinewidth\":0,\"ticks\":\"\"}}}],\"histogram\":[{\"marker\":{\"pattern\":{\"fillmode\":\"overlay\",\"size\":10,\"solidity\":0.2}},\"type\":\"histogram\"}],\"scattergl\":[{\"type\":\"scattergl\",\"marker\":{\"colorbar\":{\"outlinewidth\":0,\"ticks\":\"\"}}}],\"scatter3d\":[{\"type\":\"scatter3d\",\"line\":{\"colorbar\":{\"outlinewidth\":0,\"ticks\":\"\"}},\"marker\":{\"colorbar\":{\"outlinewidth\":0,\"ticks\":\"\"}}}],\"scattermapbox\":[{\"type\":\"scattermapbox\",\"marker\":{\"colorbar\":{\"outlinewidth\":0,\"ticks\":\"\"}}}],\"scatterternary\":[{\"type\":\"scatterternary\",\"marker\":{\"colorbar\":{\"outlinewidth\":0,\"ticks\":\"\"}}}],\"scattercarpet\":[{\"type\":\"scattercarpet\",\"marker\":{\"colorbar\":{\"outlinewidth\":0,\"ticks\":\"\"}}}],\"carpet\":[{\"aaxis\":{\"endlinecolor\":\"#2a3f5f\",\"gridcolor\":\"white\",\"linecolor\":\"white\",\"minorgridcolor\":\"white\",\"startlinecolor\":\"#2a3f5f\"},\"baxis\":{\"endlinecolor\":\"#2a3f5f\",\"gridcolor\":\"white\",\"linecolor\":\"white\",\"minorgridcolor\":\"white\",\"startlinecolor\":\"#2a3f5f\"},\"type\":\"carpet\"}],\"table\":[{\"cells\":{\"fill\":{\"color\":\"#EBF0F8\"},\"line\":{\"color\":\"white\"}},\"header\":{\"fill\":{\"color\":\"#C8D4E3\"},\"line\":{\"color\":\"white\"}},\"type\":\"table\"}],\"barpolar\":[{\"marker\":{\"line\":{\"color\":\"#E5ECF6\",\"width\":0.5},\"pattern\":{\"fillmode\":\"overlay\",\"size\":10,\"solidity\":0.2}},\"type\":\"barpolar\"}],\"pie\":[{\"automargin\":true,\"type\":\"pie\"}]},\"layout\":{\"autotypenumbers\":\"strict\",\"colorway\":[\"#636efa\",\"#EF553B\",\"#00cc96\",\"#ab63fa\",\"#FFA15A\",\"#19d3f3\",\"#FF6692\",\"#B6E880\",\"#FF97FF\",\"#FECB52\"],\"font\":{\"color\":\"#2a3f5f\"},\"hovermode\":\"closest\",\"hoverlabel\":{\"align\":\"left\"},\"paper_bgcolor\":\"white\",\"plot_bgcolor\":\"#E5ECF6\",\"polar\":{\"bgcolor\":\"#E5ECF6\",\"angularaxis\":{\"gridcolor\":\"white\",\"linecolor\":\"white\",\"ticks\":\"\"},\"radialaxis\":{\"gridcolor\":\"white\",\"linecolor\":\"white\",\"ticks\":\"\"}},\"ternary\":{\"bgcolor\":\"#E5ECF6\",\"aaxis\":{\"gridcolor\":\"white\",\"linecolor\":\"white\",\"ticks\":\"\"},\"baxis\":{\"gridcolor\":\"white\",\"linecolor\":\"white\",\"ticks\":\"\"},\"caxis\":{\"gridcolor\":\"white\",\"linecolor\":\"white\",\"ticks\":\"\"}},\"coloraxis\":{\"colorbar\":{\"outlinewidth\":0,\"ticks\":\"\"}},\"colorscale\":{\"sequential\":[[0.0,\"#0d0887\"],[0.1111111111111111,\"#46039f\"],[0.2222222222222222,\"#7201a8\"],[0.3333333333333333,\"#9c179e\"],[0.4444444444444444,\"#bd3786\"],[0.5555555555555556,\"#d8576b\"],[0.6666666666666666,\"#ed7953\"],[0.7777777777777778,\"#fb9f3a\"],[0.8888888888888888,\"#fdca26\"],[1.0,\"#f0f921\"]],\"sequentialminus\":[[0.0,\"#0d0887\"],[0.1111111111111111,\"#46039f\"],[0.2222222222222222,\"#7201a8\"],[0.3333333333333333,\"#9c179e\"],[0.4444444444444444,\"#bd3786\"],[0.5555555555555556,\"#d8576b\"],[0.6666666666666666,\"#ed7953\"],[0.7777777777777778,\"#fb9f3a\"],[0.8888888888888888,\"#fdca26\"],[1.0,\"#f0f921\"]],\"diverging\":[[0,\"#8e0152\"],[0.1,\"#c51b7d\"],[0.2,\"#de77ae\"],[0.3,\"#f1b6da\"],[0.4,\"#fde0ef\"],[0.5,\"#f7f7f7\"],[0.6,\"#e6f5d0\"],[0.7,\"#b8e186\"],[0.8,\"#7fbc41\"],[0.9,\"#4d9221\"],[1,\"#276419\"]]},\"xaxis\":{\"gridcolor\":\"white\",\"linecolor\":\"white\",\"ticks\":\"\",\"title\":{\"standoff\":15},\"zerolinecolor\":\"white\",\"automargin\":true,\"zerolinewidth\":2},\"yaxis\":{\"gridcolor\":\"white\",\"linecolor\":\"white\",\"ticks\":\"\",\"title\":{\"standoff\":15},\"zerolinecolor\":\"white\",\"automargin\":true,\"zerolinewidth\":2},\"scene\":{\"xaxis\":{\"backgroundcolor\":\"#E5ECF6\",\"gridcolor\":\"white\",\"linecolor\":\"white\",\"showbackground\":true,\"ticks\":\"\",\"zerolinecolor\":\"white\",\"gridwidth\":2},\"yaxis\":{\"backgroundcolor\":\"#E5ECF6\",\"gridcolor\":\"white\",\"linecolor\":\"white\",\"showbackground\":true,\"ticks\":\"\",\"zerolinecolor\":\"white\",\"gridwidth\":2},\"zaxis\":{\"backgroundcolor\":\"#E5ECF6\",\"gridcolor\":\"white\",\"linecolor\":\"white\",\"showbackground\":true,\"ticks\":\"\",\"zerolinecolor\":\"white\",\"gridwidth\":2}},\"shapedefaults\":{\"line\":{\"color\":\"#2a3f5f\"}},\"annotationdefaults\":{\"arrowcolor\":\"#2a3f5f\",\"arrowhead\":0,\"arrowwidth\":1},\"geo\":{\"bgcolor\":\"white\",\"landcolor\":\"#E5ECF6\",\"subunitcolor\":\"white\",\"showland\":true,\"showlakes\":true,\"lakecolor\":\"white\"},\"title\":{\"x\":0.05},\"mapbox\":{\"style\":\"light\"}}},\"xaxis\":{\"anchor\":\"y\",\"domain\":[0.0,1.0],\"title\":{\"text\":\"error\"}},\"yaxis\":{\"anchor\":\"x\",\"domain\":[0.0,1.0],\"title\":{\"text\":\"count\"}},\"legend\":{\"tracegroupgap\":0},\"margin\":{\"t\":60},\"barmode\":\"relative\",\"width\":800},                        {\"responsive\": true}                    ).then(function(){\n",
              "                            \n",
              "var gd = document.getElementById('b62559ff-9aee-4cc6-81a4-2ba47d449789');\n",
              "var x = new MutationObserver(function (mutations, observer) {{\n",
              "        var display = window.getComputedStyle(gd).display;\n",
              "        if (!display || display === 'none') {{\n",
              "            console.log([gd, 'removed!']);\n",
              "            Plotly.purge(gd);\n",
              "            observer.disconnect();\n",
              "        }}\n",
              "}});\n",
              "\n",
              "// Listen for the removal of the full notebook cells\n",
              "var notebookContainer = gd.closest('#notebook-container');\n",
              "if (notebookContainer) {{\n",
              "    x.observe(notebookContainer, {childList: true});\n",
              "}}\n",
              "\n",
              "// Listen for the clearing of the current output cell\n",
              "var outputEl = gd.closest('.output');\n",
              "if (outputEl) {{\n",
              "    x.observe(outputEl, {childList: true});\n",
              "}}\n",
              "\n",
              "                        })                };                            </script>        </div>\n",
              "</body>\n",
              "</html>"
            ]
          },
          "metadata": {}
        }
      ]
    },
    {
      "cell_type": "markdown",
      "source": [
        "Histogram ten przypomina rozkład normalny. Realnie może się jednak okazać, że histogram jest lewo- lub prawoskośny. Jeżeli więcej wartości jest po stronie prawej, wówczas będzie to oznaczać, że model przeszacowuje wartości, w przeciwnym wypadku - nie doszacowuje. Optymalnie byłoby, gdyby wartości były skupione blisko zera, jednak musimy też uważać na zbytnie dopasowanie modelu."
      ],
      "metadata": {
        "id": "-P0rHxzoEPwI"
      }
    },
    {
      "cell_type": "markdown",
      "source": [
        "# Średni błąd bezwględny - Mean Absolute Error."
      ],
      "metadata": {
        "id": "QjeUysfwFYUd"
      }
    },
    {
      "cell_type": "markdown",
      "source": [
        "Wzór:\n",
        "$$MAE = \\frac{1}{n}\\sum_{i=1}^{n}|y_{true} - y_{pred}|$$"
      ],
      "metadata": {
        "id": "tGFqsZYnFdUf"
      }
    },
    {
      "cell_type": "markdown",
      "source": [
        "Jest to więc suma wartości bezwzględnych wszystkich błędów (różnic między wartością prawdziwą a predykowaną) podzielona przez liczbę rekordów."
      ],
      "metadata": {
        "id": "Py1B6E2UFkdQ"
      }
    },
    {
      "cell_type": "code",
      "source": [
        "def mean_absolute_error(y_true, y_pred):\n",
        "    return abs(y_true - y_pred).sum() / len(y_true)\n",
        "\n",
        "mean_absolute_error(y_true, y_pred)"
      ],
      "metadata": {
        "colab": {
          "base_uri": "https://localhost:8080/"
        },
        "id": "vOSHA5clE7Z_",
        "outputId": "3ebad1c6-a4d6-44ea-99fe-9e98d9776df7"
      },
      "execution_count": 7,
      "outputs": [
        {
          "output_type": "execute_result",
          "data": {
            "text/plain": [
              "7.828068633956382"
            ]
          },
          "metadata": {},
          "execution_count": 7
        }
      ]
    },
    {
      "cell_type": "markdown",
      "source": [
        "Oczywiście implementacja powyżej jest jedynie treningowa. W praktyce będziemy korzystać z gotowej funkcji z biblioteki Scikit-learn."
      ],
      "metadata": {
        "id": "gO5ZfF-jF9Bg"
      }
    },
    {
      "cell_type": "code",
      "source": [
        "from sklearn.metrics import mean_absolute_error\n",
        "mean_absolute_error(y_true, y_pred)"
      ],
      "metadata": {
        "colab": {
          "base_uri": "https://localhost:8080/"
        },
        "id": "T2DoLDyHF4P_",
        "outputId": "cac6eb3e-f413-48f6-c035-cf32e8e2e421"
      },
      "execution_count": 8,
      "outputs": [
        {
          "output_type": "execute_result",
          "data": {
            "text/plain": [
              "7.828068633956382"
            ]
          },
          "metadata": {},
          "execution_count": 8
        }
      ]
    },
    {
      "cell_type": "markdown",
      "source": [
        "# Średni błąd kwadratowy - Mean Squared Error."
      ],
      "metadata": {
        "id": "VYcm0qi6GPZt"
      }
    },
    {
      "cell_type": "markdown",
      "source": [
        "Wzór:\n",
        "$$MSE = \\frac{1}{n}\\sum_{i=1}^{n}(y_{true} - y_{pred})^{2}$$"
      ],
      "metadata": {
        "id": "n1FiGUCsGZN9"
      }
    },
    {
      "cell_type": "markdown",
      "source": [
        "W wypadku tej metryki, zamiast dodawać wartości absolutne błędów, dodajemy ich kwadraty przed dzieleniem. Powoduje to, że większe błędy są bardziej \"karane\" za niedopasowanie."
      ],
      "metadata": {
        "id": "HBlASK8eHHRw"
      }
    },
    {
      "cell_type": "code",
      "source": [
        "def mean_squared_error(y_true, y_pred):\n",
        "    return ((y_true - y_pred) ** 2).sum() / len(y_true)\n",
        "\n",
        "mean_squared_error(y_true, y_pred)"
      ],
      "metadata": {
        "colab": {
          "base_uri": "https://localhost:8080/"
        },
        "id": "Uu2J30xLGVu_",
        "outputId": "d5ca6ad1-c73e-4021-d4b0-5ae642100bd2"
      },
      "execution_count": 9,
      "outputs": [
        {
          "output_type": "execute_result",
          "data": {
            "text/plain": [
              "96.30957611991315"
            ]
          },
          "metadata": {},
          "execution_count": 9
        }
      ]
    },
    {
      "cell_type": "markdown",
      "source": [
        "Również i ta metryka znajduje się w bibliotece Scikit-learn."
      ],
      "metadata": {
        "id": "LpmLz5ZIHewX"
      }
    },
    {
      "cell_type": "code",
      "source": [
        "from sklearn.metrics import mean_squared_error\n",
        "\n",
        "mean_squared_error(y_true, y_pred)"
      ],
      "metadata": {
        "colab": {
          "base_uri": "https://localhost:8080/"
        },
        "id": "uXkjWRDfHeE_",
        "outputId": "27a6fb62-7d01-4572-fcf4-34fcbc1d7a93"
      },
      "execution_count": 10,
      "outputs": [
        {
          "output_type": "execute_result",
          "data": {
            "text/plain": [
              "96.30957611991315"
            ]
          },
          "metadata": {},
          "execution_count": 10
        }
      ]
    },
    {
      "cell_type": "markdown",
      "source": [
        "# Pierwiastek średniego błędu kwadratowego - Root MSE."
      ],
      "metadata": {
        "id": "Glo-UvDRHkM0"
      }
    },
    {
      "cell_type": "markdown",
      "source": [
        "Wzór:\n",
        "$$RMSE = \\sqrt{MSE}$$"
      ],
      "metadata": {
        "id": "z5XaupTMHtfd"
      }
    },
    {
      "cell_type": "code",
      "source": [
        "def root_mean_squared_error(y_true, y_pred):\n",
        "    return np.sqrt(((y_true - y_pred) ** 2).sum() / len(y_true))\n",
        "\n",
        "root_mean_squared_error(y_true, y_pred)"
      ],
      "metadata": {
        "colab": {
          "base_uri": "https://localhost:8080/"
        },
        "id": "yLwNWEeTHswJ",
        "outputId": "1bfeba7d-3f63-44ec-d593-01f557375316"
      },
      "execution_count": 11,
      "outputs": [
        {
          "output_type": "execute_result",
          "data": {
            "text/plain": [
              "9.813744245695073"
            ]
          },
          "metadata": {},
          "execution_count": 11
        }
      ]
    },
    {
      "cell_type": "markdown",
      "source": [
        "Tej metryki nie mamy zaimplementowanej w Scikit-learn, ale możemy ją łatwo obliczyć, dysponując MSE."
      ],
      "metadata": {
        "id": "oH-oEx2yIR-J"
      }
    },
    {
      "cell_type": "code",
      "source": [
        "np.sqrt(mean_squared_error(y_true, y_pred))"
      ],
      "metadata": {
        "colab": {
          "base_uri": "https://localhost:8080/"
        },
        "id": "APhapOSEIQiI",
        "outputId": "6ea1fff8-14fc-409e-eae9-0ddc245a90cb"
      },
      "execution_count": 12,
      "outputs": [
        {
          "output_type": "execute_result",
          "data": {
            "text/plain": [
              "9.813744245695073"
            ]
          },
          "metadata": {},
          "execution_count": 12
        }
      ]
    },
    {
      "cell_type": "markdown",
      "source": [
        "# Błąd maksymalny - Max Error."
      ],
      "metadata": {
        "id": "4jSb5h2qIgFp"
      }
    },
    {
      "cell_type": "markdown",
      "source": [
        "Wzór:\n",
        "$$ME = max(|y\\_true - y\\_pred|)$$"
      ],
      "metadata": {
        "id": "9sMD0-yrIg1K"
      }
    },
    {
      "cell_type": "markdown",
      "source": [
        "Prosta metryka - jest to najwyższa wartość absolutna błędu."
      ],
      "metadata": {
        "id": "cznAbHpzIxXg"
      }
    },
    {
      "cell_type": "code",
      "source": [
        "def max_error(y_true, y_pred):\n",
        "    return abs(y_true - y_pred).max()\n",
        "\n",
        "max_error(y_true, y_pred)"
      ],
      "metadata": {
        "colab": {
          "base_uri": "https://localhost:8080/"
        },
        "id": "kZhade6_Io1b",
        "outputId": "558babd4-e49c-4ee0-f803-78869e92c5ee"
      },
      "execution_count": 13,
      "outputs": [
        {
          "output_type": "execute_result",
          "data": {
            "text/plain": [
              "33.342561218965415"
            ]
          },
          "metadata": {},
          "execution_count": 13
        }
      ]
    },
    {
      "cell_type": "code",
      "source": [
        "from sklearn.metrics import max_error\n",
        "\n",
        "max_error(y_true, y_pred)"
      ],
      "metadata": {
        "colab": {
          "base_uri": "https://localhost:8080/"
        },
        "id": "bMwthdzaIsQE",
        "outputId": "2d7d73df-370f-4e88-9b15-8157fc34435d"
      },
      "execution_count": 14,
      "outputs": [
        {
          "output_type": "execute_result",
          "data": {
            "text/plain": [
              "33.342561218965415"
            ]
          },
          "metadata": {},
          "execution_count": 14
        }
      ]
    },
    {
      "cell_type": "markdown",
      "source": [
        "# Współczynnik determinacji - ${R^2}$."
      ],
      "metadata": {
        "id": "V-bD0IbNI5u8"
      }
    },
    {
      "cell_type": "markdown",
      "source": [
        "Wzór:\n",
        "$$R2\\_score = 1 - \\frac{\\sum_{i=1}^{N}(y_{true} - y_{pred})^{2}}{\\sum_{i=1}^{N}(y_{true} - \\overline{y_{true}})^{2}}$$"
      ],
      "metadata": {
        "id": "6lyfBlYWI6Ec"
      }
    },
    {
      "cell_type": "markdown",
      "source": [
        "Oblicza się go, odejmując od 1 iloraz sumy kwadratów błędów i sumy kwadratów odchyleń od średniej.\n",
        "\n",
        "Informuje on o tym, jaka część zmienności (wariancji) zmiennej objaśnianej w próbie pokrywa się z korelacjami ze zmiennymi zawartymi w modelu. Jest on więc miarą stopnia, w jakim model pasuje do próby."
      ],
      "metadata": {
        "id": "vSHhTLk6JW4B"
      }
    },
    {
      "cell_type": "markdown",
      "source": [
        "Jest to domyślna metryka, którą Scikit-learn używa do ewaluacji modeli; im bliżej wartości 1, tym lepszy wynik regresji. Możemy ją znaleźć w tej bibliotece, ale najpierw zdefiniujmy sobie ją samodzielnie."
      ],
      "metadata": {
        "id": "5pJadm7yJ4p9"
      }
    },
    {
      "cell_type": "code",
      "source": [
        "def r2_score(y_true, y_pred):\n",
        "    numerator = ((y_true - y_pred) ** 2).sum()\n",
        "    denominator = ((y_true - y_true.mean()) ** 2).sum()\n",
        "    try:\n",
        "        r2 = 1 - numerator / denominator\n",
        "    except ZeroDivisionError:\n",
        "        print('Dzielenie przez zero')\n",
        "    return r2\n",
        "\n",
        "r2_score(y_true, y_pred)"
      ],
      "metadata": {
        "colab": {
          "base_uri": "https://localhost:8080/"
        },
        "id": "EHuvgLIIJQNH",
        "outputId": "d499f48c-f851-499e-8b13-a7f9496c3fdf"
      },
      "execution_count": 15,
      "outputs": [
        {
          "output_type": "execute_result",
          "data": {
            "text/plain": [
              "0.7631192702917797"
            ]
          },
          "metadata": {},
          "execution_count": 15
        }
      ]
    },
    {
      "cell_type": "code",
      "source": [
        "from sklearn.metrics import r2_score\n",
        "\n",
        "r2_score(y_true, y_pred)"
      ],
      "metadata": {
        "colab": {
          "base_uri": "https://localhost:8080/"
        },
        "id": "W59Xf5F7J2JR",
        "outputId": "36fc543f-49a6-48d2-8fe3-83bccd9bd9ce"
      },
      "execution_count": 16,
      "outputs": [
        {
          "output_type": "execute_result",
          "data": {
            "text/plain": [
              "0.7631192702917797"
            ]
          },
          "metadata": {},
          "execution_count": 16
        }
      ]
    }
  ]
}