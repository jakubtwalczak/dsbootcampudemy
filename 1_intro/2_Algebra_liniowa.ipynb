{
  "nbformat": 4,
  "nbformat_minor": 0,
  "metadata": {
    "colab": {
      "provenance": [],
      "toc_visible": true,
      "authorship_tag": "ABX9TyPcR0rP2Wxxl65WO7wLYDs1",
      "include_colab_link": true
    },
    "kernelspec": {
      "name": "python3",
      "display_name": "Python 3"
    },
    "language_info": {
      "name": "python"
    }
  },
  "cells": [
    {
      "cell_type": "markdown",
      "metadata": {
        "id": "view-in-github",
        "colab_type": "text"
      },
      "source": [
        "<a href=\"https://colab.research.google.com/github/jakubtwalczak/dsbootcampudemy/blob/main/2_Algebra_liniowa.ipynb\" target=\"_parent\"><img src=\"https://colab.research.google.com/assets/colab-badge.svg\" alt=\"Open In Colab\"/></a>"
      ]
    },
    {
      "cell_type": "markdown",
      "source": [
        "# Norma wektora i długość wektora w przestrzeni $R^{2}$."
      ],
      "metadata": {
        "id": "kPkL1AuNTdha"
      }
    },
    {
      "cell_type": "markdown",
      "source": [
        "Wektor w NumPy jest tablicą jednowymiarową składającą się z więcej niż jednej liczby, natomiast matematycznie jest to obiekt opisywany przy pomocy wielkości: modułu i kierunku ze zwrotem. Wg poniżej definicji wektor jest przedstawiony jako dwa punkty w układzie współrzędnych, które określają koniec tegoż wektora (początek wektora - punkt przecięcia osi w układzie współrzędnych).\n",
        "\n",
        "${\\mathbf  {v}} = [v_{1}, v_{2}]$  \n",
        "\n",
        "Norma (długość) wektora to pierwiastek z sumy kwadratów obu współrzędnych wektora. Jest to inaczej odległość euklidesowa od początku układu współrzędnych. Wykorzystuje się do jej obliczenia twierdzenie Pitagorasa; wektor v stanowi sumę dwóch wektorów (0, v1) i (v1, 0), i wraz z nimi tworzy trójkąt prostokątny, którego jest przeciwprostokątną.\n",
        "\n",
        "$\\left\\|{\\mathbf  {v}}\\right\\|={\\sqrt  {v_{1}^{2}+v_{2}^{2}}}$"
      ],
      "metadata": {
        "id": "Hm-i_fLTDj6J"
      }
    },
    {
      "cell_type": "code",
      "execution_count": 1,
      "metadata": {
        "id": "AGaYq-YgTGmh"
      },
      "outputs": [],
      "source": [
        "import numpy as np"
      ]
    },
    {
      "cell_type": "code",
      "source": [
        "v1 = np.array([0,4])\n",
        "v1"
      ],
      "metadata": {
        "colab": {
          "base_uri": "https://localhost:8080/"
        },
        "id": "fAtFelCvDm34",
        "outputId": "87fdd2ed-d139-4b09-8a79-62052e16ac65"
      },
      "execution_count": 2,
      "outputs": [
        {
          "output_type": "execute_result",
          "data": {
            "text/plain": [
              "array([0, 4])"
            ]
          },
          "metadata": {},
          "execution_count": 2
        }
      ]
    },
    {
      "cell_type": "markdown",
      "source": [
        "Normę wektora oblicza funkcja **linalg.norm**. Dla wektora o jednej ze współrzędnych równej 0 normą będzie wartość bezwględna drugiej współrzędnej."
      ],
      "metadata": {
        "id": "NoDKssGWGm4d"
      }
    },
    {
      "cell_type": "code",
      "source": [
        "np.linalg.norm(v1)"
      ],
      "metadata": {
        "colab": {
          "base_uri": "https://localhost:8080/"
        },
        "id": "T9h1fLM9Gh8i",
        "outputId": "cd381961-9560-4c07-cbad-fc440d0d43ba"
      },
      "execution_count": 3,
      "outputs": [
        {
          "output_type": "execute_result",
          "data": {
            "text/plain": [
              "4.0"
            ]
          },
          "metadata": {},
          "execution_count": 3
        }
      ]
    },
    {
      "cell_type": "code",
      "source": [
        "v2 = np.array([-3,0])\n",
        "np.linalg.norm(v2)"
      ],
      "metadata": {
        "colab": {
          "base_uri": "https://localhost:8080/"
        },
        "id": "IODSgm9iGlhx",
        "outputId": "cb1dc166-176c-46d6-accf-cc9688b04d04"
      },
      "execution_count": 5,
      "outputs": [
        {
          "output_type": "execute_result",
          "data": {
            "text/plain": [
              "3.0"
            ]
          },
          "metadata": {},
          "execution_count": 5
        }
      ]
    },
    {
      "cell_type": "markdown",
      "source": [
        "Jak widać, norma dla wektora v3 została obliczona zgodnie ze wzorem i stanowi pierwiastek z sumy kwadratów współrzędnych."
      ],
      "metadata": {
        "id": "7cxgZ3WsHP04"
      }
    },
    {
      "cell_type": "code",
      "source": [
        "v3 = np.array([3,4])\n",
        "np.linalg.norm(v3)"
      ],
      "metadata": {
        "colab": {
          "base_uri": "https://localhost:8080/"
        },
        "id": "Tv-Y_eP7G91c",
        "outputId": "19533960-d17d-4603-9e34-e887b3803f69"
      },
      "execution_count": 6,
      "outputs": [
        {
          "output_type": "execute_result",
          "data": {
            "text/plain": [
              "5.0"
            ]
          },
          "metadata": {},
          "execution_count": 6
        }
      ]
    },
    {
      "cell_type": "code",
      "source": [
        "np.sqrt(3**2 + 4**2)"
      ],
      "metadata": {
        "colab": {
          "base_uri": "https://localhost:8080/"
        },
        "id": "4SLmPJXrHMjK",
        "outputId": "47d59087-64ca-4a53-896d-cc6e8270ba0a"
      },
      "execution_count": 7,
      "outputs": [
        {
          "output_type": "execute_result",
          "data": {
            "text/plain": [
              "5.0"
            ]
          },
          "metadata": {},
          "execution_count": 7
        }
      ]
    },
    {
      "cell_type": "markdown",
      "source": [
        "## Norma euklidesowa w $R^{n}$"
      ],
      "metadata": {
        "id": "aVKlvm6FHtf_"
      }
    },
    {
      "cell_type": "markdown",
      "source": [
        "Długość wektora w tej przestrzeni liczymy podobnie - bierzemy n elementów wektora, sumujemy ich kwadraty i wyciągamy z tej sumy pierwiastek.\n",
        "\n",
        "$\\left\\|{\\mathbf  {v}}\\right\\|={\\sqrt  {v_{1}^{2}+v_{2}^{2}+\\cdots +v_{n}^{2}}}$"
      ],
      "metadata": {
        "id": "n3-MJNjHH8ht"
      }
    },
    {
      "cell_type": "code",
      "source": [
        "v4 = np.array([6, 10, -4, 7])\n",
        "np.linalg.norm(v4)"
      ],
      "metadata": {
        "colab": {
          "base_uri": "https://localhost:8080/"
        },
        "id": "aV_0FuixHo4e",
        "outputId": "779e6ee9-2032-41c4-82b0-25a73220a067"
      },
      "execution_count": 8,
      "outputs": [
        {
          "output_type": "execute_result",
          "data": {
            "text/plain": [
              "14.177446878757825"
            ]
          },
          "metadata": {},
          "execution_count": 8
        }
      ]
    },
    {
      "cell_type": "code",
      "source": [
        "np.sqrt(6**2 + 10**2 + (-4)**2 + 7**2)"
      ],
      "metadata": {
        "colab": {
          "base_uri": "https://localhost:8080/"
        },
        "id": "rSgCqQshIw6l",
        "outputId": "4c87fb3b-aba3-4701-a2d5-8c9069a8fc14"
      },
      "execution_count": 9,
      "outputs": [
        {
          "output_type": "execute_result",
          "data": {
            "text/plain": [
              "14.177446878757825"
            ]
          },
          "metadata": {},
          "execution_count": 9
        }
      ]
    },
    {
      "cell_type": "markdown",
      "source": [
        "Normy w przestrzeniach o większej liczbie wymiarów (R^3 itd.) są trudniejsze do wizualizacji. Modele ML-owe potrafią wykorzystywać ogromne liczby wymiarów przestrzeni (podczas gdy człowiek ma już problem z wyobrażeniem sobie czwartego wymiaru)."
      ],
      "metadata": {
        "id": "Afrez1b0I9pz"
      }
    },
    {
      "cell_type": "markdown",
      "source": [
        "## Odległość dwóch punktów na płaszczyźnie."
      ],
      "metadata": {
        "id": "1YqmXwghJz_0"
      }
    },
    {
      "cell_type": "markdown",
      "source": [
        "Standardowy wzór - jest to pierwiastek z sumy kwadratów różnic dwóch odpowiadających sobie punktów dwóch wektorów.\n",
        "\n",
        " \\begin{aligned}d(\\mathbf {p} ,\\mathbf {q} )=d(\\mathbf {q} ,\\mathbf {p} )&={\\sqrt {(q_{1}-p_{1})^{2}+(q_{2}-p_{2})^{2}}}\\end{aligned}"
      ],
      "metadata": {
        "id": "EKEyvas4Kldd"
      }
    },
    {
      "cell_type": "code",
      "source": [
        "p = np.array([3, 2])\n",
        "q = np.array([-2, 4])\n",
        "\n",
        "np.linalg.norm(p - q)"
      ],
      "metadata": {
        "colab": {
          "base_uri": "https://localhost:8080/"
        },
        "id": "SFf6z4mmIyzB",
        "outputId": "36adc797-658e-45c1-b05e-34a022127ffa"
      },
      "execution_count": 10,
      "outputs": [
        {
          "output_type": "execute_result",
          "data": {
            "text/plain": [
              "5.385164807134504"
            ]
          },
          "metadata": {},
          "execution_count": 10
        }
      ]
    },
    {
      "cell_type": "code",
      "source": [
        "np.sqrt((3-(-2))**2 + (2-4)**2)"
      ],
      "metadata": {
        "colab": {
          "base_uri": "https://localhost:8080/"
        },
        "id": "2MDMyDuRL7uZ",
        "outputId": "7c7fab5e-0f9c-4605-8a8d-0cf663cc7c76"
      },
      "execution_count": 11,
      "outputs": [
        {
          "output_type": "execute_result",
          "data": {
            "text/plain": [
              "5.385164807134504"
            ]
          },
          "metadata": {},
          "execution_count": 11
        }
      ]
    },
    {
      "cell_type": "markdown",
      "source": [
        " Wzór na odległość 2 punktów w przestrzeni R^n:\n",
        "\n",
        " \\begin{aligned}d(\\mathbf {p} ,\\mathbf {q} )=d(\\mathbf {q} ,\\mathbf {p} )&={\\sqrt {(q_{1}-p_{1})^{2}+(q_{2}-p_{2})^{2}+\\cdots +(q_{n}-p_{n})^{2}}}\\\\[8pt]&={\\sqrt {\\sum _{i=1}^{n}(q_{i}-p_{i})^{2}}}\\end{aligned}\n",
        "\n",
        " Jest to suma kwadratów różnic między punktami pod pierwiastkiem."
      ],
      "metadata": {
        "id": "pK2UyKLLKQK4"
      }
    },
    {
      "cell_type": "code",
      "source": [
        "p = np.array([3, 2, 5])\n",
        "q = np.array([0.5, -2, 4])\n",
        "\n",
        "np.linalg.norm(p - q)"
      ],
      "metadata": {
        "colab": {
          "base_uri": "https://localhost:8080/"
        },
        "id": "sLL0OvoEKYCm",
        "outputId": "2a57f04d-2e57-4d51-c5df-4f42058b03c8"
      },
      "execution_count": 12,
      "outputs": [
        {
          "output_type": "execute_result",
          "data": {
            "text/plain": [
              "4.8218253804964775"
            ]
          },
          "metadata": {},
          "execution_count": 12
        }
      ]
    },
    {
      "cell_type": "code",
      "source": [
        "np.sqrt((3-0.5)**2 + (2-(-2))**2 + (5-4)**2)"
      ],
      "metadata": {
        "colab": {
          "base_uri": "https://localhost:8080/"
        },
        "id": "hF7hLFXCMUYn",
        "outputId": "45e5d174-1da4-4ec9-ebb5-6fd943bdf488"
      },
      "execution_count": 13,
      "outputs": [
        {
          "output_type": "execute_result",
          "data": {
            "text/plain": [
              "4.8218253804964775"
            ]
          },
          "metadata": {},
          "execution_count": 13
        }
      ]
    },
    {
      "cell_type": "markdown",
      "source": [
        "Każdy kolejny wymiar to dodanie kolejnej współrzędnej - zasada obliczania jest taka sama."
      ],
      "metadata": {
        "id": "7cj_zhyGMda9"
      }
    },
    {
      "cell_type": "markdown",
      "source": [
        "# Macierze."
      ],
      "metadata": {
        "id": "kft1Bm9yWmUq"
      }
    },
    {
      "cell_type": "markdown",
      "source": [
        "## Mnożenie macierzy."
      ],
      "metadata": {
        "id": "ZRhGWpszMozg"
      }
    },
    {
      "cell_type": "markdown",
      "source": [
        "Zacznijmy od tego, jakie warunki muszą zostać spełnione, aby macierze można było pomnożyć.\n",
        "\n",
        "Aby było to możliwe, liczba kolumn w lewej macierzy musi zgadzać się z liczbą wierszy prawej macierzy.\n",
        "\n",
        "$${A} ={\\begin{bmatrix}a_{11}&a_{12}&\\cdots &a_{1n}\\\\a_{21}&a_{22}&\\cdots &a_{2n}\\\\\\vdots &\\vdots &\\ddots &\\vdots \\\\a_{m1}&a_{m2}&\\cdots &a_{mn}\\\\\\end{bmatrix}}$$\n",
        "A - macierz o wymiarze $m\\ x\\ n$\n",
        "\n",
        "$$ {B} ={\\begin{bmatrix}b_{11}&b_{12}&\\cdots &b_{1p}\\\\b_{21}&b_{22}&\\cdots &b_{2p}\\\\\\vdots &\\vdots &\\ddots &\\vdots \\\\b_{n1}&b_{n2}&\\cdots &b_{np}\\\\\\end{bmatrix}}$$\n",
        "B - macierz o wymiarze $n\\ x\\ p$\n",
        "\n",
        "$$C = AB$$\n",
        "C - macierz o wymiarze $m\\ x\\ p$  \n",
        "\n",
        "Jak już wspomniano, mnożenie macierzy nie jest przemienne.\n",
        "\n",
        " $$AB \\neq BA$$"
      ],
      "metadata": {
        "id": "l1rjwFKzNvDt"
      }
    },
    {
      "cell_type": "markdown",
      "source": [
        "Przykład 1:\n",
        "\n",
        "$ X = \\begin{bmatrix}5&3\\\\3&9\\end{bmatrix}$, $ Y= \\begin{bmatrix}1\\\\-1\\end{bmatrix} $  \n",
        "$X$ macierz 2x2  \n",
        "$Y$ macierz 2x1\n",
        "\n",
        "Możemy te macierze pomnożyć, bo liczba kolumn X zgadza się z liczbą wierszy Y.\n",
        "\n",
        "$$Z = X \\cdot Y = \\begin{bmatrix}5&3\\\\3&9\\end{bmatrix} \\cdot \\begin{bmatrix}1\\\\-1\\end{bmatrix} = \\begin{bmatrix}2\\\\-6\\end{bmatrix}$$\n",
        "\n",
        "Wynikiem mnożenia w wypadku dwóch różnych kształtów jest macierz o kształcie odpowiadającym prawej.\n",
        "\n",
        "$Z$ macierz 2x1\n",
        "\n",
        "Zaimplementujmy to w Pythonie."
      ],
      "metadata": {
        "id": "8t8210ZXPayC"
      }
    },
    {
      "cell_type": "code",
      "source": [
        "X = np.array([[5, 3], [3, 9]])\n",
        "Y = np.array([[1], [-1]])\n",
        "print(X, \"\\n\")\n",
        "print(Y)"
      ],
      "metadata": {
        "colab": {
          "base_uri": "https://localhost:8080/"
        },
        "id": "u1zTMJbTMX88",
        "outputId": "ba540f05-29d1-47a5-fc18-33db8d48d570"
      },
      "execution_count": 14,
      "outputs": [
        {
          "output_type": "stream",
          "name": "stdout",
          "text": [
            "[[5 3]\n",
            " [3 9]] \n",
            "\n",
            "[[ 1]\n",
            " [-1]]\n"
          ]
        }
      ]
    },
    {
      "cell_type": "code",
      "source": [
        "Z = X.dot(Y)\n",
        "Z"
      ],
      "metadata": {
        "colab": {
          "base_uri": "https://localhost:8080/"
        },
        "id": "hbyL-F8MRWOO",
        "outputId": "8fad8bfa-4ba3-4fb0-f288-01b38d124c88"
      },
      "execution_count": 16,
      "outputs": [
        {
          "output_type": "execute_result",
          "data": {
            "text/plain": [
              "array([[ 2],\n",
              "       [-6]])"
            ]
          },
          "metadata": {},
          "execution_count": 16
        }
      ]
    },
    {
      "cell_type": "code",
      "source": [
        "Z.shape"
      ],
      "metadata": {
        "colab": {
          "base_uri": "https://localhost:8080/"
        },
        "id": "g48h0j32RY6c",
        "outputId": "53bda8af-e35e-4e0d-c21d-43aa75830c19"
      },
      "execution_count": 17,
      "outputs": [
        {
          "output_type": "execute_result",
          "data": {
            "text/plain": [
              "(2, 1)"
            ]
          },
          "metadata": {},
          "execution_count": 17
        }
      ]
    },
    {
      "cell_type": "markdown",
      "source": [
        "Przykład 2:\n",
        "\n",
        "$X = \\begin{bmatrix}2&-1&3\\\\3&1&0\\end{bmatrix}$, $Y = \\begin{bmatrix}2&1&-1\\\\0&-1&2\\\\3&2&0\\end{bmatrix}$\n",
        "\n",
        "$X$ macierz 2x3  \n",
        "$Y$ macierz 3x3\n",
        "$$Z = X \\cdot Y =  \\begin{bmatrix}2&-1&3\\\\3&1&0\\end{bmatrix} \\cdot \\begin{bmatrix}2&1&-1\\\\0&-1&2\\\\3&2&0\\end{bmatrix} = \\begin{bmatrix}13&9&-4\\\\6&2&-1\\end{bmatrix}$$\n",
        "$Z$ macierz 2x3"
      ],
      "metadata": {
        "id": "1JxLDANlSFDu"
      }
    },
    {
      "cell_type": "code",
      "source": [
        "X = np.array([[2, -1, 3],\n",
        "              [3, 1, 0]])\n",
        "Y = np.array([[2, 1, -1],\n",
        "              [0, -1, 2],\n",
        "              [3, 2, 0]])\n",
        "\n",
        "print(X, '\\n')\n",
        "print(Y)"
      ],
      "metadata": {
        "colab": {
          "base_uri": "https://localhost:8080/"
        },
        "id": "uU0RjS9-RfVT",
        "outputId": "b6359abf-99f4-49ef-86d1-6eb7135206fa"
      },
      "execution_count": 18,
      "outputs": [
        {
          "output_type": "stream",
          "name": "stdout",
          "text": [
            "[[ 2 -1  3]\n",
            " [ 3  1  0]] \n",
            "\n",
            "[[ 2  1 -1]\n",
            " [ 0 -1  2]\n",
            " [ 3  2  0]]\n"
          ]
        }
      ]
    },
    {
      "cell_type": "code",
      "source": [
        "np.dot(X, Y)"
      ],
      "metadata": {
        "colab": {
          "base_uri": "https://localhost:8080/"
        },
        "id": "dEKYx-uRVb9m",
        "outputId": "220170f7-572f-46e8-e080-05add03dab56"
      },
      "execution_count": 19,
      "outputs": [
        {
          "output_type": "execute_result",
          "data": {
            "text/plain": [
              "array([[13,  9, -4],\n",
              "       [ 6,  2, -1]])"
            ]
          },
          "metadata": {},
          "execution_count": 19
        }
      ]
    },
    {
      "cell_type": "markdown",
      "source": [
        "**Ważne**: Macierz wynikowa zawsze ma wymiar: liczba wierszy w lewej macierzy x liczba kolumn w prawej macierzy."
      ],
      "metadata": {
        "id": "QlATwrEsWLgN"
      }
    },
    {
      "cell_type": "markdown",
      "source": [
        "## Wyznacznik macierzy."
      ],
      "metadata": {
        "id": "17zDrgi0Wpqi"
      }
    },
    {
      "cell_type": "markdown",
      "source": [
        "Jest to wartość liczbowa przypisywana macierzy kwadratowej oznaczana jako **det A** (z francuskiego \"determinant\").\n",
        "\n",
        "\n",
        "$${\\displaystyle A={\\begin{bmatrix}a_{11}&a_{12}&\\dots &a_{1n}\\\\a_{21}&a_{22}&\\dots &a_{2n}\\\\\\vdots &\\vdots &\\ddots &\\vdots \\\\a_{n1}&a_{n2}&\\dots &a_{nn}\\end{bmatrix}}}$$\n",
        "$A$ - macierz wymiaru nxn\n",
        "\n",
        "Oznaczenia:\n",
        "\n",
        "${\\displaystyle |A|=\\left|{\\begin{array}{c}a_{11}&a_{12}&\\dots &a_{1n}\\\\a_{21}&a_{22}&\\dots &a_{2n}\\\\\\vdots &\\vdots &\\ddots &\\vdots \\\\a_{n1}&a_{n2}&\\dots &a_{nn}\\end{array}}\\right|} $  lub  $ {\\displaystyle \\det A=\\det {\\begin{bmatrix}a_{11}&a_{12}&\\dots &a_{1n}\\\\a_{21}&a_{22}&\\dots &a_{2n}\\\\\\vdots &\\vdots &\\ddots &\\vdots \\\\a_{n1}&a_{n2}&\\dots &a_{nn}\\end{bmatrix}}}$\n",
        "\n",
        "Dla macierzy 1x1 wyznacznikiem jest skalar będący jedynym elementem macierzy.\n",
        "\n",
        "Dla macierzy 2x2 liczymy iloczyn przekątnej zawierającej elementy (1,1) i (2,2) i odejmujemy odeń iloczyn elementów drugiej przekątnej: (2,1) i (1,2).\n",
        "\n",
        "Dla macierzy 3x3 mamy operację zwielokrotnioną: sumujemy iloczyny elementów:\n",
        "- (1,1), (2,2), (3,3)\n",
        "- (2,1), (3,2), (1,3)\n",
        "- (3,1), (1,2), (2,3)\n",
        "i odejmujemy iloczyny elementów:\n",
        "- (2,1), (1,2), (3,3)\n",
        "- (1,1), (3,2), (2,3)\n",
        "- (3,1), (2,2), (1,3)\n",
        "\n",
        "Zastosować można tu schemat Sarrusa:\n",
        "Aby obliczyć wyznacznik:\n",
        "\n",
        "\n",
        "\\begin{matrix}a_{11}&a_{12}&a_{13}\\\\a_{21}&a_{22}&a_{23}\\\\a_{31}&a_{32}&a_{33}\\end{matrix}\n",
        "\n",
        "dopisuje się z jego prawej strony dwie pierwsze kolumny,\n",
        "\n",
        "![image.png](data:image/png;base64,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)\n",
        "oblicza sumę iloczynów wzdłuż \"czerwonych strzałek\" i odejmuje od niej sumę iloczynów wzdłuż \"niebieskich strzałek\".\n",
        "\n",
        "Przykład:\n",
        "\n",
        "${\\displaystyle \\det A={\\begin{vmatrix}a_{11}&a_{12}\\\\a_{21}&a_{22}\\end{vmatrix}}=a_{11}a_{22}-a_{12}a_{21}}$\n",
        "\n",
        "${\\displaystyle \\det A={\\begin{vmatrix}a_{11}&a_{12}&a_{13}\\\\a_{21}&a_{22}&a_{23}\\\\a_{31}&a_{32}&a_{33}\\end{vmatrix}}=a_{11}a_{22}a_{33}+a_{21}a_{32}a_{13}+a_{31}a_{12}a_{23}-a_{21}a_{12}a_{33}-a_{11}a_{32}a_{23}-a_{31}a_{22}a_{13}}$\n",
        "\n",
        "${\\displaystyle \\det A={\\begin{vmatrix}2&4\\\\-1&3\\end{vmatrix}}=2\\cdot3-4\\cdot(-1)} = 6 + 4 = 10 $"
      ],
      "metadata": {
        "id": "6o8n-_YwYC9u"
      }
    },
    {
      "cell_type": "markdown",
      "source": [
        "Funkcja do obliczania wyznacznika: **linalg.det**."
      ],
      "metadata": {
        "id": "haOYsxTqdJpu"
      }
    },
    {
      "cell_type": "code",
      "source": [
        "A = np.array([[2, 4], [-1, 3]])\n",
        "round(np.linalg.det(A))"
      ],
      "metadata": {
        "colab": {
          "base_uri": "https://localhost:8080/"
        },
        "id": "Hv2nC93YWYch",
        "outputId": "07d50b25-2c6a-4394-e78e-43b9df1bb556"
      },
      "execution_count": 20,
      "outputs": [
        {
          "output_type": "execute_result",
          "data": {
            "text/plain": [
              "10"
            ]
          },
          "metadata": {},
          "execution_count": 20
        }
      ]
    },
    {
      "cell_type": "code",
      "source": [
        "A = np.array([[2, 4, 6], [-1, 3, 5], [-3, 7, 2]])\n",
        "round(np.linalg.det(A))"
      ],
      "metadata": {
        "colab": {
          "base_uri": "https://localhost:8080/"
        },
        "id": "dqS9RUCUcBou",
        "outputId": "008d9dc0-36e1-41bb-c916-dec088c4d83b"
      },
      "execution_count": 21,
      "outputs": [
        {
          "output_type": "execute_result",
          "data": {
            "text/plain": [
              "-98"
            ]
          },
          "metadata": {},
          "execution_count": 21
        }
      ]
    },
    {
      "cell_type": "markdown",
      "source": [
        "## Ślad macierzy."
      ],
      "metadata": {
        "id": "8DqECRXAcM3z"
      }
    },
    {
      "cell_type": "markdown",
      "source": [
        "Mamy macierz kwadratową.\n",
        "\n",
        "$${\\displaystyle A={\\begin{bmatrix}a_{11}&a_{12}&\\dots &a_{1n}\\\\a_{21}&a_{22}&\\dots &a_{2n}\\\\\\vdots &\\vdots &\\ddots &\\vdots \\\\a_{n1}&a_{n2}&\\dots &a_{nn}\\end{bmatrix}}}$$\n",
        "$A$ - macierz wymiaru nxn\n",
        "\n",
        "Śladem macierzy **tr(A)** jest po prostu suma elementów na przekątnej macierzy.\n",
        "\n",
        "${\\displaystyle \\operatorname {tr} (A)=\\sum _{i=1}^{n}a_{ii}=a_{11}+a_{22}+\\dots +a_{nn}}$\n",
        "\n",
        "Przykład:\n",
        "\n",
        "$A = \\begin{bmatrix}2&4\\\\-1&3\\end{bmatrix}$\n",
        "\n",
        "${\\displaystyle \\operatorname {tr} (A)=\\sum _{i=1}^{2}a_{ii}=a_{11}+a_{22} = 2 + 3 = 5}$"
      ],
      "metadata": {
        "id": "ZKCYt99Scgsq"
      }
    },
    {
      "cell_type": "markdown",
      "source": [
        "Funkcja do obliczania śladu: **trace**."
      ],
      "metadata": {
        "id": "Dj4jsbjmdOyG"
      }
    },
    {
      "cell_type": "code",
      "source": [
        "A = np.array([[2, 4, 6], [-1, 3, 5], [-3, 7, 2]])\n",
        "np.trace(A)"
      ],
      "metadata": {
        "colab": {
          "base_uri": "https://localhost:8080/"
        },
        "id": "PFrDBN_ccKbk",
        "outputId": "8a262d4d-3cf5-4c90-9538-a348b742d409"
      },
      "execution_count": 22,
      "outputs": [
        {
          "output_type": "execute_result",
          "data": {
            "text/plain": [
              "7"
            ]
          },
          "metadata": {},
          "execution_count": 22
        }
      ]
    },
    {
      "cell_type": "markdown",
      "source": [
        "## Macierz jednostkowa."
      ],
      "metadata": {
        "id": "2BrR_2Wtdk0a"
      }
    },
    {
      "cell_type": "markdown",
      "source": [
        "Macierz jednostkowa - macierz kwadratowa, której współczynniki podane są wzorem:\n",
        "$${\\displaystyle a_{ij}={\\begin{cases}1\\quad {\\text{dla}}\\quad i=j\\\\[2pt]0\\quad {\\text{dla}}\\quad i\\neq j\\end{cases}}}$$\n",
        "\n",
        "Przykłady\n",
        "\n",
        "${\\displaystyle I_{1}={\\begin{bmatrix}1\\end{bmatrix}},\\;I_{2}={\\begin{bmatrix}1&0\\\\0&1\\end{bmatrix}},\\;I_{3}={\\begin{bmatrix}1&0&0\\\\0&1&0\\\\0&0&1\\end{bmatrix}}}$\n",
        "\n",
        "Czyli, nieformalnie ujmując, jest to macierz, dla której każdy element na przekątnej przyjmuje wartość 1, a pozostałe elementy macierzy mają wartość 0. Macierz ta jest elementem neutralnych dla mnożenia macierzy (jak 1 w mnożeniu/dzieleniu lub 0 w dodawaniu/odejmowaniu)."
      ],
      "metadata": {
        "id": "ULlo9xwgdnmJ"
      }
    },
    {
      "cell_type": "markdown",
      "source": [
        "Generowanie macierzy jednostkowej: funkcja **eye**, dla której podajemy jako parametr jeden wymiar dla wierszy i kolumn, możemy też zdefiniować typ danych (domyślnie float)."
      ],
      "metadata": {
        "id": "DrZo60RZeZW2"
      }
    },
    {
      "cell_type": "code",
      "source": [
        "np.eye(4, dtype=np.int64)"
      ],
      "metadata": {
        "colab": {
          "base_uri": "https://localhost:8080/"
        },
        "id": "hiwrTSn_dao0",
        "outputId": "ddf444cf-c3ad-411e-97a9-c1af9636ddbf"
      },
      "execution_count": 24,
      "outputs": [
        {
          "output_type": "execute_result",
          "data": {
            "text/plain": [
              "array([[1, 0, 0, 0],\n",
              "       [0, 1, 0, 0],\n",
              "       [0, 0, 1, 0],\n",
              "       [0, 0, 0, 1]])"
            ]
          },
          "metadata": {},
          "execution_count": 24
        }
      ]
    },
    {
      "cell_type": "markdown",
      "source": [
        "## Macierz odwrotna."
      ],
      "metadata": {
        "id": "tn2Vd5q6e2vp"
      }
    },
    {
      "cell_type": "markdown",
      "source": [
        "$A$ - macierz kwadratowa stopnia $n$. Macierz $A$ posiada macierz odwrotną, gdy istnieje macierz $B$, taka, że\n",
        "$$AB = BA = I$$\n",
        "\n",
        "$A = \\begin{bmatrix}2&4\\\\-1&3\\end{bmatrix}$"
      ],
      "metadata": {
        "id": "rLL_BwQte-0d"
      }
    },
    {
      "cell_type": "markdown",
      "source": [
        "Oznacza to, że macierze A i B po pomnożeniu przez siebie (niezależnie od tego, która jest z lewej, a która z prawej) dają w wyniku macierz jednostkową. Za zwrócenie odpowiada funkcja **linalg.inv**."
      ],
      "metadata": {
        "id": "QsTVsUkXfSNm"
      }
    },
    {
      "cell_type": "code",
      "source": [
        "A = np.array([[2, 4], [-1, 3]])\n",
        "B = np.linalg.inv(A)\n",
        "B"
      ],
      "metadata": {
        "colab": {
          "base_uri": "https://localhost:8080/"
        },
        "id": "dHV1naCrepVG",
        "outputId": "15a6aef2-49d0-412a-81c3-6485bffefd1f"
      },
      "execution_count": 26,
      "outputs": [
        {
          "output_type": "execute_result",
          "data": {
            "text/plain": [
              "array([[ 0.3, -0.4],\n",
              "       [ 0.1,  0.2]])"
            ]
          },
          "metadata": {},
          "execution_count": 26
        }
      ]
    },
    {
      "cell_type": "code",
      "source": [
        "C = np.dot(A, B)\n",
        "C"
      ],
      "metadata": {
        "colab": {
          "base_uri": "https://localhost:8080/"
        },
        "id": "05zhBtkvff9Q",
        "outputId": "ad809b3a-abc2-4971-f630-9b804c569295"
      },
      "execution_count": 27,
      "outputs": [
        {
          "output_type": "execute_result",
          "data": {
            "text/plain": [
              "array([[1.00000000e+00, 0.00000000e+00],\n",
              "       [2.77555756e-17, 1.00000000e+00]])"
            ]
          },
          "metadata": {},
          "execution_count": 27
        }
      ]
    },
    {
      "cell_type": "markdown",
      "source": [
        "Wyniki wyświetliły się w notacji matematycznej; element (2,1) pokazuje się nie jako 0. W tym celu ustawiamy odpowiednio parametry wyświetlania przy pomocy funkcji **set_printoptions**."
      ],
      "metadata": {
        "id": "QrwtUiORh5ju"
      }
    },
    {
      "cell_type": "code",
      "source": [
        "np.set_printoptions(precision=4, suppress=True)\n",
        "C"
      ],
      "metadata": {
        "colab": {
          "base_uri": "https://localhost:8080/"
        },
        "id": "L0t4_8m1fkJN",
        "outputId": "0eb79645-0e81-4f62-ae2d-d57aac505e3a"
      },
      "execution_count": 28,
      "outputs": [
        {
          "output_type": "execute_result",
          "data": {
            "text/plain": [
              "array([[1., 0.],\n",
              "       [0., 1.]])"
            ]
          },
          "metadata": {},
          "execution_count": 28
        }
      ]
    },
    {
      "cell_type": "markdown",
      "source": [
        "Dla sprawdzenia, czy macierze spełniają warunki odwrotności, wykonujemy mnożenie w drugą stronę."
      ],
      "metadata": {
        "id": "exwztNAPihmM"
      }
    },
    {
      "cell_type": "code",
      "source": [
        "D = np.dot(B, A)\n",
        "D"
      ],
      "metadata": {
        "colab": {
          "base_uri": "https://localhost:8080/"
        },
        "id": "Bb9FZhvGhydF",
        "outputId": "47e80e27-fc05-400f-9299-33dd9438d274"
      },
      "execution_count": 29,
      "outputs": [
        {
          "output_type": "execute_result",
          "data": {
            "text/plain": [
              "array([[ 1., -0.],\n",
              "       [ 0.,  1.]])"
            ]
          },
          "metadata": {},
          "execution_count": 29
        }
      ]
    },
    {
      "cell_type": "markdown",
      "source": [
        "## Macierz transponowana."
      ],
      "metadata": {
        "id": "SZ35nGCKivuq"
      }
    },
    {
      "cell_type": "markdown",
      "source": [
        "Transpozycja polega na zamianie wierszy na kolumny i vice versa.\n",
        "\n",
        "$A = \\begin{bmatrix}2&4\\\\-1&3\\end{bmatrix}$,\n",
        "$A^{T} = \\begin{bmatrix}2&-1\\\\4&3\\end{bmatrix}$\n",
        "\n",
        "$A = \\begin{bmatrix}2&1&-1\\\\0&-1&2\\end{bmatrix}$,\n",
        "$A^{T} = \\begin{bmatrix}2&0\\\\1&-1\\\\-1&2\\end{bmatrix}$"
      ],
      "metadata": {
        "id": "e7NH2ub_i1q8"
      }
    },
    {
      "cell_type": "code",
      "source": [
        "B"
      ],
      "metadata": {
        "colab": {
          "base_uri": "https://localhost:8080/"
        },
        "id": "0NIKNjt_ic0R",
        "outputId": "95679826-b0f3-4d44-9854-23734234747e"
      },
      "execution_count": 30,
      "outputs": [
        {
          "output_type": "execute_result",
          "data": {
            "text/plain": [
              "array([[ 0.3, -0.4],\n",
              "       [ 0.1,  0.2]])"
            ]
          },
          "metadata": {},
          "execution_count": 30
        }
      ]
    },
    {
      "cell_type": "markdown",
      "source": [
        "Sposoby na transponowanie: funkcja **transpose** i parametr **T**."
      ],
      "metadata": {
        "id": "x5FZpQcIjX0H"
      }
    },
    {
      "cell_type": "code",
      "source": [
        "np.transpose(B)"
      ],
      "metadata": {
        "colab": {
          "base_uri": "https://localhost:8080/"
        },
        "id": "PBvpfODpjnAF",
        "outputId": "02003140-b164-4765-ee4e-04b695bb1b4a"
      },
      "execution_count": 33,
      "outputs": [
        {
          "output_type": "execute_result",
          "data": {
            "text/plain": [
              "array([[ 0.3,  0.1],\n",
              "       [-0.4,  0.2]])"
            ]
          },
          "metadata": {},
          "execution_count": 33
        }
      ]
    },
    {
      "cell_type": "code",
      "source": [
        "B.transpose()"
      ],
      "metadata": {
        "colab": {
          "base_uri": "https://localhost:8080/"
        },
        "id": "P-eE2I8YjTNy",
        "outputId": "bd67d479-d759-40b8-e759-3994d2892077"
      },
      "execution_count": 34,
      "outputs": [
        {
          "output_type": "execute_result",
          "data": {
            "text/plain": [
              "array([[ 0.3,  0.1],\n",
              "       [-0.4,  0.2]])"
            ]
          },
          "metadata": {},
          "execution_count": 34
        }
      ]
    },
    {
      "cell_type": "code",
      "source": [
        "B.T"
      ],
      "metadata": {
        "colab": {
          "base_uri": "https://localhost:8080/"
        },
        "id": "YU9IGvu4jVqm",
        "outputId": "21001b42-0bb2-4b1a-f05d-a08865c6fb35"
      },
      "execution_count": 35,
      "outputs": [
        {
          "output_type": "execute_result",
          "data": {
            "text/plain": [
              "array([[ 0.3,  0.1],\n",
              "       [-0.4,  0.2]])"
            ]
          },
          "metadata": {},
          "execution_count": 35
        }
      ]
    },
    {
      "cell_type": "markdown",
      "source": [
        "# Rozwiązywanie układów równań."
      ],
      "metadata": {
        "id": "De6BA-byjtEa"
      }
    },
    {
      "cell_type": "markdown",
      "source": [
        "Rozważmy układ równań $U$:  \n",
        "$${\\displaystyle \\mathrm {U} \\colon {\\begin{cases}{\\begin{matrix}a_{11}x_{1}&+&a_{12}x_{2}&+&\\dots &+&a_{1n}x_{n}&=b_{1},\\\\a_{21}x_{1}&+&a_{22}x_{2}&+&\\dots &+&a_{2n}x_{n}&=b_{2},\\\\\\vdots &&\\vdots &&\\ddots &&\\vdots &\\vdots \\\\a_{m1}x_{1}&+&a_{m2}x_{2}&+&\\dots &+&a_{mn}x_{n}&=b_{m}.\\end{matrix}}\\end{cases}}.}$$\n",
        "\n",
        "\n",
        "Gdzie wyrazy a11, a12, ..., amn to współczynniki układu równań, x1, x2, ..., xn to niewiadome układu równań, a b1, b2, ..., bn to wyrazy wolne. Taki układ możemy zapisać w formie macierzy następująco:\n",
        "\n",
        "$${\\begin{bmatrix}a_{11}&a_{12}&\\dots &a_{1n}\\\\a_{21}&a_{22}&\\dots &a_{2n}\\\\\\vdots &\\vdots &\\ddots &\\vdots \\\\a_{m1}&a_{m2}&\\dots &a_{mn}\\end{bmatrix}}{\\begin{bmatrix}x_{1}\\\\x_{2}\\\\\\vdots \\\\x_{n}\\end{bmatrix}}={\\begin{bmatrix}b_{1}\\\\b_{2}\\\\\\vdots \\\\b_{m}\\end{bmatrix}}$$\n",
        "\n",
        "Wyodrębniamy z tego układu macierz współczynników oraz wektory niewiadomych i wyrazów wolnych.\n",
        "\n",
        "I w zapisie skrótowym:\n",
        "$$\\mathbf {AX} =\\mathbf {B}$$\n",
        "\n",
        "Gdzie:  \n",
        "$A = {\\begin{bmatrix}a_{11}&a_{12}&\\dots &a_{1n}\\\\a_{21}&a_{22}&\\dots &a_{2n}\\\\\\vdots &\\vdots &\\ddots &\\vdots \\\\a_{m1}&a_{m2}&\\dots &a_{mn}\\end{bmatrix}}$ - macierz współczynników\n",
        "\n",
        "${\\displaystyle \\mathbf {B} =[b_{1},b_{2},\\dots ,b_{m}]} $ - wektor wyrazów wolnych  \n",
        "${\\mathbf  X}=[x_{1},x_{2},\\dots ,x_{n}] $ - wektor niewiadomych\n",
        "\n",
        "Jeśli macierz układu $A$ jest macierzą kwadratową, to oznaczoność układu jest równoważna jej odwracalności, tzn.\n",
        "$$\\mathbf {AX} =\\mathbf {B}$$\n",
        "$${\\displaystyle \\mathbf {A} ^{-1}\\mathbf {AX} =\\mathbf {A} ^{-1}\\mathbf {B}} $$\n",
        "$$\\mathbf {X} =\\mathbf {A} ^{-1}\\mathbf {B} .$$\n",
        "\n",
        "Mnożymy obie strony przez macierz odwrotną do macierzy współczynników i w ten sposób redukujemy z lewej strony macierz współczynników do macierzy jednostkowej, która jest elementem neutralnym dla mnożenia w algebrze liniowej. Wektor niewiadomych X jest więc równy iloczynowi macierzy odwrotnej do A i wektorowi wyrazów wolnych B.\n",
        "\n",
        "Przykład:\n",
        "\n",
        "Rozważmy układ równań:\n",
        "$$\\begin{cases}2x + 4y = 10 \\\\ x - y = -1 \\end{cases}$$  \n",
        "Rozwiązaniem jest para liczb:\n",
        "$$\\begin{cases}x = 1 \\\\ y = 2 \\end{cases}$$  "
      ],
      "metadata": {
        "id": "bMGsP7rWkno6"
      }
    },
    {
      "cell_type": "markdown",
      "source": [
        "Definiujemy macierz współczynników - musimy uporządkować zmienne w poprawnej kolejności."
      ],
      "metadata": {
        "id": "R12tFy-CngSb"
      }
    },
    {
      "cell_type": "code",
      "source": [
        "A = np.array([[2, 4], [1, -1]])\n",
        "A"
      ],
      "metadata": {
        "colab": {
          "base_uri": "https://localhost:8080/"
        },
        "id": "8653kmb7jWs_",
        "outputId": "6f911e93-421a-4768-aebb-5a5dd9977b72"
      },
      "execution_count": 36,
      "outputs": [
        {
          "output_type": "execute_result",
          "data": {
            "text/plain": [
              "array([[ 2,  4],\n",
              "       [ 1, -1]])"
            ]
          },
          "metadata": {},
          "execution_count": 36
        }
      ]
    },
    {
      "cell_type": "markdown",
      "source": [
        "Następnie tworzymy wektor wyrazów wolnych, również uporządkowany."
      ],
      "metadata": {
        "id": "WceOwkOqnp_i"
      }
    },
    {
      "cell_type": "code",
      "source": [
        "B = np.array([[10], [-1]])\n",
        "B"
      ],
      "metadata": {
        "colab": {
          "base_uri": "https://localhost:8080/"
        },
        "id": "WzrfmAdxnfQr",
        "outputId": "a68f01d0-14c8-41a8-8d04-2925df598955"
      },
      "execution_count": 37,
      "outputs": [
        {
          "output_type": "execute_result",
          "data": {
            "text/plain": [
              "array([[10],\n",
              "       [-1]])"
            ]
          },
          "metadata": {},
          "execution_count": 37
        }
      ]
    },
    {
      "cell_type": "markdown",
      "source": [
        "Następnie obliczmy macierz odwrotną do macierzy współczynników."
      ],
      "metadata": {
        "id": "LJsRndNjn4J3"
      }
    },
    {
      "cell_type": "code",
      "source": [
        "A_inv = np.linalg.inv(A)\n",
        "A_inv"
      ],
      "metadata": {
        "colab": {
          "base_uri": "https://localhost:8080/"
        },
        "id": "vNwNZBfvnvsq",
        "outputId": "874dd353-93aa-4087-ffdd-fa938beb7313"
      },
      "execution_count": 39,
      "outputs": [
        {
          "output_type": "execute_result",
          "data": {
            "text/plain": [
              "array([[ 0.1667,  0.6667],\n",
              "       [ 0.1667, -0.3333]])"
            ]
          },
          "metadata": {},
          "execution_count": 39
        }
      ]
    },
    {
      "cell_type": "markdown",
      "source": [
        "Na samym końcu mnożymy macierz A-odwrotną i B, w rezultacie otrzymujemy macierz niewiadomych X."
      ],
      "metadata": {
        "id": "zv_twCIQoFaa"
      }
    },
    {
      "cell_type": "code",
      "source": [
        "X = np.dot(A_inv, B)\n",
        "X"
      ],
      "metadata": {
        "colab": {
          "base_uri": "https://localhost:8080/"
        },
        "id": "9Ly18NTUn3PZ",
        "outputId": "3b4f9b50-837f-409b-950e-db9b989e5d09"
      },
      "execution_count": 40,
      "outputs": [
        {
          "output_type": "execute_result",
          "data": {
            "text/plain": [
              "array([[1.],\n",
              "       [2.]])"
            ]
          },
          "metadata": {},
          "execution_count": 40
        }
      ]
    },
    {
      "cell_type": "markdown",
      "source": [
        "Jest to bardzo efektywna alternatywna dla ręcznych metod rozwiązywania równań liniowych (jak np. metoda eliminacji Gaussa), w szczególności w wypadku równań z ogromną liczbą niewiadomych."
      ],
      "metadata": {
        "id": "B1Pq6zT2oYBE"
      }
    }
  ]
}
