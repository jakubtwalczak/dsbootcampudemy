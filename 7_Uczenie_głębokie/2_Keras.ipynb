{
  "nbformat": 4,
  "nbformat_minor": 0,
  "metadata": {
    "colab": {
      "provenance": [],
      "authorship_tag": "ABX9TyNgEs/H5sEFn5i8jG8o8W+0",
      "include_colab_link": true
    },
    "kernelspec": {
      "name": "python3",
      "display_name": "Python 3"
    },
    "language_info": {
      "name": "python"
    }
  },
  "cells": [
    {
      "cell_type": "markdown",
      "metadata": {
        "id": "view-in-github",
        "colab_type": "text"
      },
      "source": [
        "<a href=\"https://colab.research.google.com/github/jakubtwalczak/dsbootcampudemy/blob/main/7_Uczenie_g%C5%82%C4%99bokie/2_Keras.ipynb\" target=\"_parent\"><img src=\"https://colab.research.google.com/assets/colab-badge.svg\" alt=\"Open In Colab\"/></a>"
      ]
    },
    {
      "cell_type": "markdown",
      "source": [
        "# Wstęp."
      ],
      "metadata": {
        "id": "L2jgdEZLz7Yq"
      }
    },
    {
      "cell_type": "markdown",
      "source": [
        "W tym notebooku zobaczymy bardziej szczegółowo działanie biblioteki Keras. Na początku załadujmy biblioteki niezbędne do dalszej pracy."
      ],
      "metadata": {
        "id": "-KOtfZ_nzxrz"
      }
    },
    {
      "cell_type": "code",
      "execution_count": 1,
      "metadata": {
        "id": "SiYSCgdGvlQO"
      },
      "outputs": [],
      "source": [
        "import tensorflow as tf\n",
        "import numpy as np\n",
        "import pandas as pd\n",
        "import plotly.express as px"
      ]
    },
    {
      "cell_type": "markdown",
      "source": [
        "W pakiecie Keras mamy do wyboru dwa sposoby budowania modeli sieci neuronowych: Sequential i Functional. Ten drugi jest sposobem dla wysoko zaawansowanych."
      ],
      "metadata": {
        "id": "V46hKTuT0B93"
      }
    },
    {
      "cell_type": "markdown",
      "source": [
        "# Model Sequential."
      ],
      "metadata": {
        "id": "S-vbwg_80hpO"
      }
    },
    {
      "cell_type": "markdown",
      "source": [
        "Jest to liniowy stos warstw. Importujemy jego klasę z biblioteki Keras i tworzymy instancję, która na razie nie zostaje rozbudowana."
      ],
      "metadata": {
        "id": "kZL4eB_T0ktO"
      }
    },
    {
      "cell_type": "code",
      "source": [
        "from tensorflow.keras.models import Sequential\n",
        "\n",
        "model = Sequential()\n",
        "model"
      ],
      "metadata": {
        "colab": {
          "base_uri": "https://localhost:8080/"
        },
        "id": "7JzDlYFx0hJO",
        "outputId": "0d90cba9-8c77-4f87-e69f-17fd5f35c273"
      },
      "execution_count": 2,
      "outputs": [
        {
          "output_type": "execute_result",
          "data": {
            "text/plain": [
              "<Sequential name=sequential, built=False>"
            ]
          },
          "metadata": {},
          "execution_count": 2
        }
      ]
    },
    {
      "cell_type": "markdown",
      "source": [
        "Podstawowym elementem składowym modelu są warstwy. Aby dodać warstwę do modelu należy użyć metody **.add()**. Na początku jednak tworzymy obiekt **Input**, któremu podajemy parametr shape, określający kształt danych, jakie model będzie przetwarzać."
      ],
      "metadata": {
        "id": "gj1pazyc07US"
      }
    },
    {
      "cell_type": "code",
      "source": [
        "from tensorflow.keras import Input\n",
        "\n",
        "model.add(Input(shape=(10,)))"
      ],
      "metadata": {
        "id": "xRJD_xSh1mkj"
      },
      "execution_count": 3,
      "outputs": []
    },
    {
      "cell_type": "markdown",
      "source": [
        "Aby dodać najbardziej standardową warstwę - warstwę gęsto połączoną należy użyć warstwy **Dense**. Parametrem units określamy liczbę neuronów w warstwie."
      ],
      "metadata": {
        "id": "kTpCV8Q5138L"
      }
    },
    {
      "cell_type": "code",
      "source": [
        "from tensorflow.keras.layers import Dense\n",
        "\n",
        "model.add(Dense(units=10))"
      ],
      "metadata": {
        "id": "m7RUdUB90uJ_"
      },
      "execution_count": 4,
      "outputs": []
    },
    {
      "cell_type": "markdown",
      "source": [
        "Metodą **summary** możemy w każdym momencie wyświetlić informację o modelu."
      ],
      "metadata": {
        "id": "WXOAwRTQ3DPa"
      }
    },
    {
      "cell_type": "code",
      "source": [
        "model.summary()"
      ],
      "metadata": {
        "colab": {
          "base_uri": "https://localhost:8080/",
          "height": 161
        },
        "id": "C-ttHbqe2LGE",
        "outputId": "f471e990-9a7f-4e21-8088-0918385c4308"
      },
      "execution_count": 5,
      "outputs": [
        {
          "output_type": "display_data",
          "data": {
            "text/plain": [
              "\u001b[1mModel: \"sequential\"\u001b[0m\n"
            ],
            "text/html": [
              "<pre style=\"white-space:pre;overflow-x:auto;line-height:normal;font-family:Menlo,'DejaVu Sans Mono',consolas,'Courier New',monospace\"><span style=\"font-weight: bold\">Model: \"sequential\"</span>\n",
              "</pre>\n"
            ]
          },
          "metadata": {}
        },
        {
          "output_type": "display_data",
          "data": {
            "text/plain": [
              "┏━━━━━━━━━━━━━━━━━━━━━━━━━━━━━━━━━━━━━━┳━━━━━━━━━━━━━━━━━━━━━━━━━━━━━┳━━━━━━━━━━━━━━━━━┓\n",
              "┃\u001b[1m \u001b[0m\u001b[1mLayer (type)                        \u001b[0m\u001b[1m \u001b[0m┃\u001b[1m \u001b[0m\u001b[1mOutput Shape               \u001b[0m\u001b[1m \u001b[0m┃\u001b[1m \u001b[0m\u001b[1m        Param #\u001b[0m\u001b[1m \u001b[0m┃\n",
              "┡━━━━━━━━━━━━━━━━━━━━━━━━━━━━━━━━━━━━━━╇━━━━━━━━━━━━━━━━━━━━━━━━━━━━━╇━━━━━━━━━━━━━━━━━┩\n",
              "│ dense (\u001b[38;5;33mDense\u001b[0m)                        │ (\u001b[38;5;45mNone\u001b[0m, \u001b[38;5;34m10\u001b[0m)                  │             \u001b[38;5;34m110\u001b[0m │\n",
              "└──────────────────────────────────────┴─────────────────────────────┴─────────────────┘\n"
            ],
            "text/html": [
              "<pre style=\"white-space:pre;overflow-x:auto;line-height:normal;font-family:Menlo,'DejaVu Sans Mono',consolas,'Courier New',monospace\">┏━━━━━━━━━━━━━━━━━━━━━━━━━━━━━━━━━━━━━━┳━━━━━━━━━━━━━━━━━━━━━━━━━━━━━┳━━━━━━━━━━━━━━━━━┓\n",
              "┃<span style=\"font-weight: bold\"> Layer (type)                         </span>┃<span style=\"font-weight: bold\"> Output Shape                </span>┃<span style=\"font-weight: bold\">         Param # </span>┃\n",
              "┡━━━━━━━━━━━━━━━━━━━━━━━━━━━━━━━━━━━━━━╇━━━━━━━━━━━━━━━━━━━━━━━━━━━━━╇━━━━━━━━━━━━━━━━━┩\n",
              "│ dense (<span style=\"color: #0087ff; text-decoration-color: #0087ff\">Dense</span>)                        │ (<span style=\"color: #00d7ff; text-decoration-color: #00d7ff\">None</span>, <span style=\"color: #00af00; text-decoration-color: #00af00\">10</span>)                  │             <span style=\"color: #00af00; text-decoration-color: #00af00\">110</span> │\n",
              "└──────────────────────────────────────┴─────────────────────────────┴─────────────────┘\n",
              "</pre>\n"
            ]
          },
          "metadata": {}
        },
        {
          "output_type": "display_data",
          "data": {
            "text/plain": [
              "\u001b[1m Total params: \u001b[0m\u001b[38;5;34m110\u001b[0m (440.00 B)\n"
            ],
            "text/html": [
              "<pre style=\"white-space:pre;overflow-x:auto;line-height:normal;font-family:Menlo,'DejaVu Sans Mono',consolas,'Courier New',monospace\"><span style=\"font-weight: bold\"> Total params: </span><span style=\"color: #00af00; text-decoration-color: #00af00\">110</span> (440.00 B)\n",
              "</pre>\n"
            ]
          },
          "metadata": {}
        },
        {
          "output_type": "display_data",
          "data": {
            "text/plain": [
              "\u001b[1m Trainable params: \u001b[0m\u001b[38;5;34m110\u001b[0m (440.00 B)\n"
            ],
            "text/html": [
              "<pre style=\"white-space:pre;overflow-x:auto;line-height:normal;font-family:Menlo,'DejaVu Sans Mono',consolas,'Courier New',monospace\"><span style=\"font-weight: bold\"> Trainable params: </span><span style=\"color: #00af00; text-decoration-color: #00af00\">110</span> (440.00 B)\n",
              "</pre>\n"
            ]
          },
          "metadata": {}
        },
        {
          "output_type": "display_data",
          "data": {
            "text/plain": [
              "\u001b[1m Non-trainable params: \u001b[0m\u001b[38;5;34m0\u001b[0m (0.00 B)\n"
            ],
            "text/html": [
              "<pre style=\"white-space:pre;overflow-x:auto;line-height:normal;font-family:Menlo,'DejaVu Sans Mono',consolas,'Courier New',monospace\"><span style=\"font-weight: bold\"> Non-trainable params: </span><span style=\"color: #00af00; text-decoration-color: #00af00\">0</span> (0.00 B)\n",
              "</pre>\n"
            ]
          },
          "metadata": {}
        }
      ]
    },
    {
      "cell_type": "markdown",
      "source": [
        "Dodajemy kolejną warstwę Dense - tym razem z pięcioma neuronami - i znowu sprawdzamy informacje o naszym modelu."
      ],
      "metadata": {
        "id": "wJCNwq395gVS"
      }
    },
    {
      "cell_type": "code",
      "source": [
        "model.add(Dense(units=5))\n",
        "model.summary()"
      ],
      "metadata": {
        "colab": {
          "base_uri": "https://localhost:8080/",
          "height": 193
        },
        "id": "KuumD3yx2Mn7",
        "outputId": "cd6c006c-d04e-45a7-8f76-c5c0a19d7516"
      },
      "execution_count": 6,
      "outputs": [
        {
          "output_type": "display_data",
          "data": {
            "text/plain": [
              "\u001b[1mModel: \"sequential\"\u001b[0m\n"
            ],
            "text/html": [
              "<pre style=\"white-space:pre;overflow-x:auto;line-height:normal;font-family:Menlo,'DejaVu Sans Mono',consolas,'Courier New',monospace\"><span style=\"font-weight: bold\">Model: \"sequential\"</span>\n",
              "</pre>\n"
            ]
          },
          "metadata": {}
        },
        {
          "output_type": "display_data",
          "data": {
            "text/plain": [
              "┏━━━━━━━━━━━━━━━━━━━━━━━━━━━━━━━━━━━━━━┳━━━━━━━━━━━━━━━━━━━━━━━━━━━━━┳━━━━━━━━━━━━━━━━━┓\n",
              "┃\u001b[1m \u001b[0m\u001b[1mLayer (type)                        \u001b[0m\u001b[1m \u001b[0m┃\u001b[1m \u001b[0m\u001b[1mOutput Shape               \u001b[0m\u001b[1m \u001b[0m┃\u001b[1m \u001b[0m\u001b[1m        Param #\u001b[0m\u001b[1m \u001b[0m┃\n",
              "┡━━━━━━━━━━━━━━━━━━━━━━━━━━━━━━━━━━━━━━╇━━━━━━━━━━━━━━━━━━━━━━━━━━━━━╇━━━━━━━━━━━━━━━━━┩\n",
              "│ dense (\u001b[38;5;33mDense\u001b[0m)                        │ (\u001b[38;5;45mNone\u001b[0m, \u001b[38;5;34m10\u001b[0m)                  │             \u001b[38;5;34m110\u001b[0m │\n",
              "├──────────────────────────────────────┼─────────────────────────────┼─────────────────┤\n",
              "│ dense_1 (\u001b[38;5;33mDense\u001b[0m)                      │ (\u001b[38;5;45mNone\u001b[0m, \u001b[38;5;34m5\u001b[0m)                   │              \u001b[38;5;34m55\u001b[0m │\n",
              "└──────────────────────────────────────┴─────────────────────────────┴─────────────────┘\n"
            ],
            "text/html": [
              "<pre style=\"white-space:pre;overflow-x:auto;line-height:normal;font-family:Menlo,'DejaVu Sans Mono',consolas,'Courier New',monospace\">┏━━━━━━━━━━━━━━━━━━━━━━━━━━━━━━━━━━━━━━┳━━━━━━━━━━━━━━━━━━━━━━━━━━━━━┳━━━━━━━━━━━━━━━━━┓\n",
              "┃<span style=\"font-weight: bold\"> Layer (type)                         </span>┃<span style=\"font-weight: bold\"> Output Shape                </span>┃<span style=\"font-weight: bold\">         Param # </span>┃\n",
              "┡━━━━━━━━━━━━━━━━━━━━━━━━━━━━━━━━━━━━━━╇━━━━━━━━━━━━━━━━━━━━━━━━━━━━━╇━━━━━━━━━━━━━━━━━┩\n",
              "│ dense (<span style=\"color: #0087ff; text-decoration-color: #0087ff\">Dense</span>)                        │ (<span style=\"color: #00d7ff; text-decoration-color: #00d7ff\">None</span>, <span style=\"color: #00af00; text-decoration-color: #00af00\">10</span>)                  │             <span style=\"color: #00af00; text-decoration-color: #00af00\">110</span> │\n",
              "├──────────────────────────────────────┼─────────────────────────────┼─────────────────┤\n",
              "│ dense_1 (<span style=\"color: #0087ff; text-decoration-color: #0087ff\">Dense</span>)                      │ (<span style=\"color: #00d7ff; text-decoration-color: #00d7ff\">None</span>, <span style=\"color: #00af00; text-decoration-color: #00af00\">5</span>)                   │              <span style=\"color: #00af00; text-decoration-color: #00af00\">55</span> │\n",
              "└──────────────────────────────────────┴─────────────────────────────┴─────────────────┘\n",
              "</pre>\n"
            ]
          },
          "metadata": {}
        },
        {
          "output_type": "display_data",
          "data": {
            "text/plain": [
              "\u001b[1m Total params: \u001b[0m\u001b[38;5;34m165\u001b[0m (660.00 B)\n"
            ],
            "text/html": [
              "<pre style=\"white-space:pre;overflow-x:auto;line-height:normal;font-family:Menlo,'DejaVu Sans Mono',consolas,'Courier New',monospace\"><span style=\"font-weight: bold\"> Total params: </span><span style=\"color: #00af00; text-decoration-color: #00af00\">165</span> (660.00 B)\n",
              "</pre>\n"
            ]
          },
          "metadata": {}
        },
        {
          "output_type": "display_data",
          "data": {
            "text/plain": [
              "\u001b[1m Trainable params: \u001b[0m\u001b[38;5;34m165\u001b[0m (660.00 B)\n"
            ],
            "text/html": [
              "<pre style=\"white-space:pre;overflow-x:auto;line-height:normal;font-family:Menlo,'DejaVu Sans Mono',consolas,'Courier New',monospace\"><span style=\"font-weight: bold\"> Trainable params: </span><span style=\"color: #00af00; text-decoration-color: #00af00\">165</span> (660.00 B)\n",
              "</pre>\n"
            ]
          },
          "metadata": {}
        },
        {
          "output_type": "display_data",
          "data": {
            "text/plain": [
              "\u001b[1m Non-trainable params: \u001b[0m\u001b[38;5;34m0\u001b[0m (0.00 B)\n"
            ],
            "text/html": [
              "<pre style=\"white-space:pre;overflow-x:auto;line-height:normal;font-family:Menlo,'DejaVu Sans Mono',consolas,'Courier New',monospace\"><span style=\"font-weight: bold\"> Non-trainable params: </span><span style=\"color: #00af00; text-decoration-color: #00af00\">0</span> (0.00 B)\n",
              "</pre>\n"
            ]
          },
          "metadata": {}
        }
      ]
    },
    {
      "cell_type": "markdown",
      "source": [
        "# Funkcje aktywacji."
      ],
      "metadata": {
        "id": "pGtLQ6f055L-"
      }
    },
    {
      "cell_type": "markdown",
      "source": [
        "Istotnym elemenem sieci neuronowych jest dobór odpowiednich funkcji aktywacji.\n",
        "Funkcje aktywacji, jak sama nazwa wskazuje, są odpowiedzialne za aktywowanie odpowiednich neuronów podczas procesu uczenia. Pozwalają one wrzucić element nieliniowości do modelu sieci głębokiej.\n",
        "\n",
        "Jeżeli nie określimy podczas dodawania warstwy funkcji aktywacji, domyślnie stosowana jest tożsamościowa funkcja aktywacji, tzn. $a(x)=x$\n",
        "\n",
        "Warstwa z liniową funkcją aktywacji może uczyć się tylko liniowych przekształceń danych wejściowych. Dlatego stosuje się różne funkcje aktywacji aby rozwiazywać problemy nieliniowe."
      ],
      "metadata": {
        "id": "hMlp98zG5_E3"
      }
    },
    {
      "cell_type": "markdown",
      "source": [
        "## Funkcja liniowa."
      ],
      "metadata": {
        "id": "VEM0tMWX_BAX"
      }
    },
    {
      "cell_type": "markdown",
      "source": [
        "Domyślna funkcja - jeżeli nie wskażemy żadnej funkcji aktywacji dla warstwy, implementowana jest właśnie funkcja liniowa tożsamościowa.\n",
        "\n",
        "Generujemy dane: 500 próbek z przedziału od -5 do 5, na której będziemy sprawdzać działanie funkcji i ją wizualizować."
      ],
      "metadata": {
        "id": "Juy0ktIa_ECX"
      }
    },
    {
      "cell_type": "code",
      "source": [
        "from tensorflow.keras.activations import linear\n",
        "\n",
        "random_data = np.linspace(start=-5, stop=5, num=500)\n",
        "data = pd.DataFrame({'data': random_data, 'linear': linear(random_data)})\n",
        "data"
      ],
      "metadata": {
        "colab": {
          "base_uri": "https://localhost:8080/",
          "height": 424
        },
        "id": "RHliGCyM563b",
        "outputId": "39c9f35f-bf14-4c28-9f41-ba143f2ed9af"
      },
      "execution_count": 7,
      "outputs": [
        {
          "output_type": "execute_result",
          "data": {
            "text/plain": [
              "        data   linear\n",
              "0   -5.00000 -5.00000\n",
              "1   -4.97996 -4.97996\n",
              "2   -4.95992 -4.95992\n",
              "3   -4.93988 -4.93988\n",
              "4   -4.91984 -4.91984\n",
              "..       ...      ...\n",
              "495  4.91984  4.91984\n",
              "496  4.93988  4.93988\n",
              "497  4.95992  4.95992\n",
              "498  4.97996  4.97996\n",
              "499  5.00000  5.00000\n",
              "\n",
              "[500 rows x 2 columns]"
            ],
            "text/html": [
              "\n",
              "  <div id=\"df-c4250592-aaa7-42df-bd66-d5ded56082f0\" class=\"colab-df-container\">\n",
              "    <div>\n",
              "<style scoped>\n",
              "    .dataframe tbody tr th:only-of-type {\n",
              "        vertical-align: middle;\n",
              "    }\n",
              "\n",
              "    .dataframe tbody tr th {\n",
              "        vertical-align: top;\n",
              "    }\n",
              "\n",
              "    .dataframe thead th {\n",
              "        text-align: right;\n",
              "    }\n",
              "</style>\n",
              "<table border=\"1\" class=\"dataframe\">\n",
              "  <thead>\n",
              "    <tr style=\"text-align: right;\">\n",
              "      <th></th>\n",
              "      <th>data</th>\n",
              "      <th>linear</th>\n",
              "    </tr>\n",
              "  </thead>\n",
              "  <tbody>\n",
              "    <tr>\n",
              "      <th>0</th>\n",
              "      <td>-5.00000</td>\n",
              "      <td>-5.00000</td>\n",
              "    </tr>\n",
              "    <tr>\n",
              "      <th>1</th>\n",
              "      <td>-4.97996</td>\n",
              "      <td>-4.97996</td>\n",
              "    </tr>\n",
              "    <tr>\n",
              "      <th>2</th>\n",
              "      <td>-4.95992</td>\n",
              "      <td>-4.95992</td>\n",
              "    </tr>\n",
              "    <tr>\n",
              "      <th>3</th>\n",
              "      <td>-4.93988</td>\n",
              "      <td>-4.93988</td>\n",
              "    </tr>\n",
              "    <tr>\n",
              "      <th>4</th>\n",
              "      <td>-4.91984</td>\n",
              "      <td>-4.91984</td>\n",
              "    </tr>\n",
              "    <tr>\n",
              "      <th>...</th>\n",
              "      <td>...</td>\n",
              "      <td>...</td>\n",
              "    </tr>\n",
              "    <tr>\n",
              "      <th>495</th>\n",
              "      <td>4.91984</td>\n",
              "      <td>4.91984</td>\n",
              "    </tr>\n",
              "    <tr>\n",
              "      <th>496</th>\n",
              "      <td>4.93988</td>\n",
              "      <td>4.93988</td>\n",
              "    </tr>\n",
              "    <tr>\n",
              "      <th>497</th>\n",
              "      <td>4.95992</td>\n",
              "      <td>4.95992</td>\n",
              "    </tr>\n",
              "    <tr>\n",
              "      <th>498</th>\n",
              "      <td>4.97996</td>\n",
              "      <td>4.97996</td>\n",
              "    </tr>\n",
              "    <tr>\n",
              "      <th>499</th>\n",
              "      <td>5.00000</td>\n",
              "      <td>5.00000</td>\n",
              "    </tr>\n",
              "  </tbody>\n",
              "</table>\n",
              "<p>500 rows × 2 columns</p>\n",
              "</div>\n",
              "    <div class=\"colab-df-buttons\">\n",
              "\n",
              "  <div class=\"colab-df-container\">\n",
              "    <button class=\"colab-df-convert\" onclick=\"convertToInteractive('df-c4250592-aaa7-42df-bd66-d5ded56082f0')\"\n",
              "            title=\"Convert this dataframe to an interactive table.\"\n",
              "            style=\"display:none;\">\n",
              "\n",
              "  <svg xmlns=\"http://www.w3.org/2000/svg\" height=\"24px\" viewBox=\"0 -960 960 960\">\n",
              "    <path d=\"M120-120v-720h720v720H120Zm60-500h600v-160H180v160Zm220 220h160v-160H400v160Zm0 220h160v-160H400v160ZM180-400h160v-160H180v160Zm440 0h160v-160H620v160ZM180-180h160v-160H180v160Zm440 0h160v-160H620v160Z\"/>\n",
              "  </svg>\n",
              "    </button>\n",
              "\n",
              "  <style>\n",
              "    .colab-df-container {\n",
              "      display:flex;\n",
              "      gap: 12px;\n",
              "    }\n",
              "\n",
              "    .colab-df-convert {\n",
              "      background-color: #E8F0FE;\n",
              "      border: none;\n",
              "      border-radius: 50%;\n",
              "      cursor: pointer;\n",
              "      display: none;\n",
              "      fill: #1967D2;\n",
              "      height: 32px;\n",
              "      padding: 0 0 0 0;\n",
              "      width: 32px;\n",
              "    }\n",
              "\n",
              "    .colab-df-convert:hover {\n",
              "      background-color: #E2EBFA;\n",
              "      box-shadow: 0px 1px 2px rgba(60, 64, 67, 0.3), 0px 1px 3px 1px rgba(60, 64, 67, 0.15);\n",
              "      fill: #174EA6;\n",
              "    }\n",
              "\n",
              "    .colab-df-buttons div {\n",
              "      margin-bottom: 4px;\n",
              "    }\n",
              "\n",
              "    [theme=dark] .colab-df-convert {\n",
              "      background-color: #3B4455;\n",
              "      fill: #D2E3FC;\n",
              "    }\n",
              "\n",
              "    [theme=dark] .colab-df-convert:hover {\n",
              "      background-color: #434B5C;\n",
              "      box-shadow: 0px 1px 3px 1px rgba(0, 0, 0, 0.15);\n",
              "      filter: drop-shadow(0px 1px 2px rgba(0, 0, 0, 0.3));\n",
              "      fill: #FFFFFF;\n",
              "    }\n",
              "  </style>\n",
              "\n",
              "    <script>\n",
              "      const buttonEl =\n",
              "        document.querySelector('#df-c4250592-aaa7-42df-bd66-d5ded56082f0 button.colab-df-convert');\n",
              "      buttonEl.style.display =\n",
              "        google.colab.kernel.accessAllowed ? 'block' : 'none';\n",
              "\n",
              "      async function convertToInteractive(key) {\n",
              "        const element = document.querySelector('#df-c4250592-aaa7-42df-bd66-d5ded56082f0');\n",
              "        const dataTable =\n",
              "          await google.colab.kernel.invokeFunction('convertToInteractive',\n",
              "                                                    [key], {});\n",
              "        if (!dataTable) return;\n",
              "\n",
              "        const docLinkHtml = 'Like what you see? Visit the ' +\n",
              "          '<a target=\"_blank\" href=https://colab.research.google.com/notebooks/data_table.ipynb>data table notebook</a>'\n",
              "          + ' to learn more about interactive tables.';\n",
              "        element.innerHTML = '';\n",
              "        dataTable['output_type'] = 'display_data';\n",
              "        await google.colab.output.renderOutput(dataTable, element);\n",
              "        const docLink = document.createElement('div');\n",
              "        docLink.innerHTML = docLinkHtml;\n",
              "        element.appendChild(docLink);\n",
              "      }\n",
              "    </script>\n",
              "  </div>\n",
              "\n",
              "\n",
              "<div id=\"df-8fdc2195-9d6f-40a8-834e-f873f79734d4\">\n",
              "  <button class=\"colab-df-quickchart\" onclick=\"quickchart('df-8fdc2195-9d6f-40a8-834e-f873f79734d4')\"\n",
              "            title=\"Suggest charts\"\n",
              "            style=\"display:none;\">\n",
              "\n",
              "<svg xmlns=\"http://www.w3.org/2000/svg\" height=\"24px\"viewBox=\"0 0 24 24\"\n",
              "     width=\"24px\">\n",
              "    <g>\n",
              "        <path d=\"M19 3H5c-1.1 0-2 .9-2 2v14c0 1.1.9 2 2 2h14c1.1 0 2-.9 2-2V5c0-1.1-.9-2-2-2zM9 17H7v-7h2v7zm4 0h-2V7h2v10zm4 0h-2v-4h2v4z\"/>\n",
              "    </g>\n",
              "</svg>\n",
              "  </button>\n",
              "\n",
              "<style>\n",
              "  .colab-df-quickchart {\n",
              "      --bg-color: #E8F0FE;\n",
              "      --fill-color: #1967D2;\n",
              "      --hover-bg-color: #E2EBFA;\n",
              "      --hover-fill-color: #174EA6;\n",
              "      --disabled-fill-color: #AAA;\n",
              "      --disabled-bg-color: #DDD;\n",
              "  }\n",
              "\n",
              "  [theme=dark] .colab-df-quickchart {\n",
              "      --bg-color: #3B4455;\n",
              "      --fill-color: #D2E3FC;\n",
              "      --hover-bg-color: #434B5C;\n",
              "      --hover-fill-color: #FFFFFF;\n",
              "      --disabled-bg-color: #3B4455;\n",
              "      --disabled-fill-color: #666;\n",
              "  }\n",
              "\n",
              "  .colab-df-quickchart {\n",
              "    background-color: var(--bg-color);\n",
              "    border: none;\n",
              "    border-radius: 50%;\n",
              "    cursor: pointer;\n",
              "    display: none;\n",
              "    fill: var(--fill-color);\n",
              "    height: 32px;\n",
              "    padding: 0;\n",
              "    width: 32px;\n",
              "  }\n",
              "\n",
              "  .colab-df-quickchart:hover {\n",
              "    background-color: var(--hover-bg-color);\n",
              "    box-shadow: 0 1px 2px rgba(60, 64, 67, 0.3), 0 1px 3px 1px rgba(60, 64, 67, 0.15);\n",
              "    fill: var(--button-hover-fill-color);\n",
              "  }\n",
              "\n",
              "  .colab-df-quickchart-complete:disabled,\n",
              "  .colab-df-quickchart-complete:disabled:hover {\n",
              "    background-color: var(--disabled-bg-color);\n",
              "    fill: var(--disabled-fill-color);\n",
              "    box-shadow: none;\n",
              "  }\n",
              "\n",
              "  .colab-df-spinner {\n",
              "    border: 2px solid var(--fill-color);\n",
              "    border-color: transparent;\n",
              "    border-bottom-color: var(--fill-color);\n",
              "    animation:\n",
              "      spin 1s steps(1) infinite;\n",
              "  }\n",
              "\n",
              "  @keyframes spin {\n",
              "    0% {\n",
              "      border-color: transparent;\n",
              "      border-bottom-color: var(--fill-color);\n",
              "      border-left-color: var(--fill-color);\n",
              "    }\n",
              "    20% {\n",
              "      border-color: transparent;\n",
              "      border-left-color: var(--fill-color);\n",
              "      border-top-color: var(--fill-color);\n",
              "    }\n",
              "    30% {\n",
              "      border-color: transparent;\n",
              "      border-left-color: var(--fill-color);\n",
              "      border-top-color: var(--fill-color);\n",
              "      border-right-color: var(--fill-color);\n",
              "    }\n",
              "    40% {\n",
              "      border-color: transparent;\n",
              "      border-right-color: var(--fill-color);\n",
              "      border-top-color: var(--fill-color);\n",
              "    }\n",
              "    60% {\n",
              "      border-color: transparent;\n",
              "      border-right-color: var(--fill-color);\n",
              "    }\n",
              "    80% {\n",
              "      border-color: transparent;\n",
              "      border-right-color: var(--fill-color);\n",
              "      border-bottom-color: var(--fill-color);\n",
              "    }\n",
              "    90% {\n",
              "      border-color: transparent;\n",
              "      border-bottom-color: var(--fill-color);\n",
              "    }\n",
              "  }\n",
              "</style>\n",
              "\n",
              "  <script>\n",
              "    async function quickchart(key) {\n",
              "      const quickchartButtonEl =\n",
              "        document.querySelector('#' + key + ' button');\n",
              "      quickchartButtonEl.disabled = true;  // To prevent multiple clicks.\n",
              "      quickchartButtonEl.classList.add('colab-df-spinner');\n",
              "      try {\n",
              "        const charts = await google.colab.kernel.invokeFunction(\n",
              "            'suggestCharts', [key], {});\n",
              "      } catch (error) {\n",
              "        console.error('Error during call to suggestCharts:', error);\n",
              "      }\n",
              "      quickchartButtonEl.classList.remove('colab-df-spinner');\n",
              "      quickchartButtonEl.classList.add('colab-df-quickchart-complete');\n",
              "    }\n",
              "    (() => {\n",
              "      let quickchartButtonEl =\n",
              "        document.querySelector('#df-8fdc2195-9d6f-40a8-834e-f873f79734d4 button');\n",
              "      quickchartButtonEl.style.display =\n",
              "        google.colab.kernel.accessAllowed ? 'block' : 'none';\n",
              "    })();\n",
              "  </script>\n",
              "</div>\n",
              "\n",
              "  <div id=\"id_233d0500-0c97-45d3-832b-e3bb32f96e53\">\n",
              "    <style>\n",
              "      .colab-df-generate {\n",
              "        background-color: #E8F0FE;\n",
              "        border: none;\n",
              "        border-radius: 50%;\n",
              "        cursor: pointer;\n",
              "        display: none;\n",
              "        fill: #1967D2;\n",
              "        height: 32px;\n",
              "        padding: 0 0 0 0;\n",
              "        width: 32px;\n",
              "      }\n",
              "\n",
              "      .colab-df-generate:hover {\n",
              "        background-color: #E2EBFA;\n",
              "        box-shadow: 0px 1px 2px rgba(60, 64, 67, 0.3), 0px 1px 3px 1px rgba(60, 64, 67, 0.15);\n",
              "        fill: #174EA6;\n",
              "      }\n",
              "\n",
              "      [theme=dark] .colab-df-generate {\n",
              "        background-color: #3B4455;\n",
              "        fill: #D2E3FC;\n",
              "      }\n",
              "\n",
              "      [theme=dark] .colab-df-generate:hover {\n",
              "        background-color: #434B5C;\n",
              "        box-shadow: 0px 1px 3px 1px rgba(0, 0, 0, 0.15);\n",
              "        filter: drop-shadow(0px 1px 2px rgba(0, 0, 0, 0.3));\n",
              "        fill: #FFFFFF;\n",
              "      }\n",
              "    </style>\n",
              "    <button class=\"colab-df-generate\" onclick=\"generateWithVariable('data')\"\n",
              "            title=\"Generate code using this dataframe.\"\n",
              "            style=\"display:none;\">\n",
              "\n",
              "  <svg xmlns=\"http://www.w3.org/2000/svg\" height=\"24px\"viewBox=\"0 0 24 24\"\n",
              "       width=\"24px\">\n",
              "    <path d=\"M7,19H8.4L18.45,9,17,7.55,7,17.6ZM5,21V16.75L18.45,3.32a2,2,0,0,1,2.83,0l1.4,1.43a1.91,1.91,0,0,1,.58,1.4,1.91,1.91,0,0,1-.58,1.4L9.25,21ZM18.45,9,17,7.55Zm-12,3A5.31,5.31,0,0,0,4.9,8.1,5.31,5.31,0,0,0,1,6.5,5.31,5.31,0,0,0,4.9,4.9,5.31,5.31,0,0,0,6.5,1,5.31,5.31,0,0,0,8.1,4.9,5.31,5.31,0,0,0,12,6.5,5.46,5.46,0,0,0,6.5,12Z\"/>\n",
              "  </svg>\n",
              "    </button>\n",
              "    <script>\n",
              "      (() => {\n",
              "      const buttonEl =\n",
              "        document.querySelector('#id_233d0500-0c97-45d3-832b-e3bb32f96e53 button.colab-df-generate');\n",
              "      buttonEl.style.display =\n",
              "        google.colab.kernel.accessAllowed ? 'block' : 'none';\n",
              "\n",
              "      buttonEl.onclick = () => {\n",
              "        google.colab.notebook.generateWithVariable('data');\n",
              "      }\n",
              "      })();\n",
              "    </script>\n",
              "  </div>\n",
              "\n",
              "    </div>\n",
              "  </div>\n"
            ],
            "application/vnd.google.colaboratory.intrinsic+json": {
              "type": "dataframe",
              "variable_name": "data",
              "summary": "{\n  \"name\": \"data\",\n  \"rows\": 500,\n  \"fields\": [\n    {\n      \"column\": \"data\",\n      \"properties\": {\n        \"dtype\": \"number\",\n        \"std\": 2.895427510380739,\n        \"min\": -5.0,\n        \"max\": 5.0,\n        \"num_unique_values\": 500,\n        \"samples\": [\n          2.234468937875751,\n          -3.5370741482965933,\n          2.49498997995992\n        ],\n        \"semantic_type\": \"\",\n        \"description\": \"\"\n      }\n    },\n    {\n      \"column\": \"linear\",\n      \"properties\": {\n        \"dtype\": \"number\",\n        \"std\": 2.895427510380739,\n        \"min\": -5.0,\n        \"max\": 5.0,\n        \"num_unique_values\": 500,\n        \"samples\": [\n          2.234468937875751,\n          -3.5370741482965933,\n          2.49498997995992\n        ],\n        \"semantic_type\": \"\",\n        \"description\": \"\"\n      }\n    }\n  ]\n}"
            }
          },
          "metadata": {},
          "execution_count": 7
        }
      ]
    },
    {
      "cell_type": "markdown",
      "source": [
        "Funkcja ta zwraca nam to, co jej przekazaliśmy."
      ],
      "metadata": {
        "id": "geRdSt1G_zHH"
      }
    },
    {
      "cell_type": "code",
      "source": [
        "px.line(data, x='data', y='linear', width=800, height=600, range_y=[-5.5, 5.5], range_x=[-5.5, 5.5])"
      ],
      "metadata": {
        "colab": {
          "base_uri": "https://localhost:8080/",
          "height": 617
        },
        "id": "FdbUbyXt_kvT",
        "outputId": "aa465261-48dc-4bf8-efb3-b0d47cddc294"
      },
      "execution_count": 8,
      "outputs": [
        {
          "output_type": "display_data",
          "data": {
            "text/html": [
              "<html>\n",
              "<head><meta charset=\"utf-8\" /></head>\n",
              "<body>\n",
              "    <div>            <script src=\"https://cdnjs.cloudflare.com/ajax/libs/mathjax/2.7.5/MathJax.js?config=TeX-AMS-MML_SVG\"></script><script type=\"text/javascript\">if (window.MathJax && window.MathJax.Hub && window.MathJax.Hub.Config) {window.MathJax.Hub.Config({SVG: {font: \"STIX-Web\"}});}</script>                <script type=\"text/javascript\">window.PlotlyConfig = {MathJaxConfig: 'local'};</script>\n",
              "        <script charset=\"utf-8\" src=\"https://cdn.plot.ly/plotly-2.24.1.min.js\"></script>                <div id=\"59d6b3eb-739b-41a7-8842-f250bb42174c\" class=\"plotly-graph-div\" style=\"height:600px; width:800px;\"></div>            <script type=\"text/javascript\">                                    window.PLOTLYENV=window.PLOTLYENV || {};                                    if (document.getElementById(\"59d6b3eb-739b-41a7-8842-f250bb42174c\")) {                    Plotly.newPlot(                        \"59d6b3eb-739b-41a7-8842-f250bb42174c\",                        [{\"hovertemplate\":\"data=%{x}\\u003cbr\\u003elinear=%{y}\\u003cextra\\u003e\\u003c\\u002fextra\\u003e\",\"legendgroup\":\"\",\"line\":{\"color\":\"#636efa\",\"dash\":\"solid\"},\"marker\":{\"symbol\":\"circle\"},\"mode\":\"lines\",\"name\":\"\",\"orientation\":\"v\",\"showlegend\":false,\"x\":[-5.0,-4.979959919839679,-4.959919839679359,-4.939879759519038,-4.919839679358717,-4.8997995991983965,-4.8797595190380765,-4.859719438877756,-4.839679358717435,-4.819639278557114,-4.799599198396794,-4.779559118236473,-4.759519038076152,-4.739478957915832,-4.719438877755511,-4.69939879759519,-4.679358717434869,-4.659318637274549,-4.6392785571142285,-4.619238476953908,-4.599198396793588,-4.579158316633267,-4.559118236472946,-4.539078156312625,-4.519038076152305,-4.498997995991984,-4.478957915831663,-4.458917835671342,-4.438877755511022,-4.4188376753507015,-4.398797595190381,-4.37875751503006,-4.35871743486974,-4.338677354709419,-4.318637274549098,-4.298597194388778,-4.278557114228457,-4.258517034068136,-4.238476953907815,-4.218436873747495,-4.198396793587174,-4.1783567134268536,-4.158316633266534,-4.138276553106213,-4.118236472945892,-4.098196392785571,-4.078156312625251,-4.05811623246493,-4.038076152304609,-4.018036072144288,-3.9979959919839683,-3.9779559118236474,-3.9579158316633265,-3.937875751503006,-3.9178356713426856,-3.8977955911823647,-3.877755511022044,-3.8577154308617234,-3.837675350701403,-3.817635270541082,-3.7975951903807617,-3.777555110220441,-3.7575150300601203,-3.7374749498997994,-3.717434869739479,-3.6973947895791586,-3.6773547094188377,-3.657314629258517,-3.6372745490981964,-3.617234468937876,-3.597194388777555,-3.5771543086172346,-3.557114228456914,-3.5370741482965933,-3.5170340681362724,-3.496993987975952,-3.4769539078156315,-3.4569138276553106,-3.4368737474949898,-3.4168336673346693,-3.396793587174349,-3.376753507014028,-3.3567134268537075,-3.336673346693387,-3.3166332665330662,-3.2965931863727453,-3.276553106212425,-3.2565130260521045,-3.2364729458917836,-3.2164328657314627,-3.1963927855711423,-3.176352705410822,-3.156312625250501,-3.1362725450901805,-3.11623246492986,-3.096192384769539,-3.0761523046092183,-3.056112224448898,-3.0360721442885774,-3.0160320641282565,-2.995991983967936,-2.975951903807615,-2.9559118236472948,-2.935871743486974,-2.9158316633266534,-2.8957915831663326,-2.875751503006012,-2.8557114228456917,-2.835671342685371,-2.8156312625250504,-2.7955911823647295,-2.775551102204409,-2.755511022044088,-2.7354709418837677,-2.715430861723447,-2.6953907815631264,-2.6753507014028055,-2.655310621242485,-2.6352705410821646,-2.6152304609218437,-2.5951903807615233,-2.5751503006012024,-2.555110220440882,-2.535070140280561,-2.5150300601202407,-2.49498997995992,-2.4749498997995993,-2.4549098196392785,-2.434869739478958,-2.4148296593186376,-2.3947895791583167,-2.3747494989979963,-2.3547094188376754,-2.334669338677355,-2.314629258517034,-2.2945891783567136,-2.2745490981963927,-2.2545090180360723,-2.2344689378757514,-2.214428857715431,-2.1943887775551105,-2.1743486973947896,-2.154308617234469,-2.1342685370741483,-2.114228456913828,-2.094188376753507,-2.0741482965931866,-2.0541082164328657,-2.0340681362725452,-2.0140280561122244,-1.993987975951904,-1.9739478957915835,-1.9539078156312626,-1.9338677354709422,-1.9138276553106213,-1.8937875751503008,-1.87374749498998,-1.8537074148296595,-1.8336673346693386,-1.8136272545090182,-1.7935871743486977,-1.7735470941883769,-1.7535070140280564,-1.7334669338677355,-1.713426853707415,-1.6933867735470942,-1.6733466933867738,-1.653306613226453,-1.6332665330661325,-1.6132264529058116,-1.5931863727454911,-1.5731462925851707,-1.5531062124248498,-1.5330661322645294,-1.5130260521042085,-1.492985971943888,-1.4729458917835672,-1.4529058116232467,-1.4328657314629258,-1.4128256513026054,-1.3927855711422845,-1.372745490981964,-1.3527054108216436,-1.3326653306613228,-1.3126252505010023,-1.2925851703406814,-1.272545090180361,-1.25250501002004,-1.2324649298597197,-1.2124248496993988,-1.1923847695390783,-1.1723446893787575,-1.152304609218437,-1.1322645290581166,-1.1122244488977957,-1.0921843687374753,-1.0721442885771544,-1.052104208416834,-1.032064128256513,-1.0120240480961926,-0.9919839679358722,-0.9719438877755513,-0.9519038076152304,-0.9318637274549104,-0.9118236472945895,-0.8917835671342687,-0.8717434869739478,-0.8517034068136278,-0.8316633266533069,-0.811623246492986,-0.7915831663326651,-0.7715430861723451,-0.7515030060120242,-0.7314629258517034,-0.7114228456913834,-0.6913827655310625,-0.6713426853707416,-0.6513026052104207,-0.6312625250501007,-0.6112224448897798,-0.591182364729459,-0.5711422845691381,-0.5511022044088181,-0.5310621242484972,-0.5110220440881763,-0.4909819639278563,-0.47094188376753543,-0.45090180360721455,-0.43086172344689366,-0.41082164328657367,-0.3907815631262528,-0.3707414829659319,-0.350701402805611,-0.330661322645291,-0.31062124248497014,-0.29058116232464926,-0.27054108216432926,-0.2505010020040084,-0.2304609218436875,-0.2104208416833666,-0.19038076152304662,-0.17034068136272573,-0.15030060120240485,-0.13026052104208397,-0.11022044088176397,-0.09018036072144309,-0.0701402805611222,-0.05010020040080221,-0.030060120240481325,-0.010020040080160442,0.010020040080160442,0.030060120240480437,0.05010020040080132,0.0701402805611222,0.09018036072144309,0.11022044088176308,0.13026052104208397,0.15030060120240485,0.17034068136272484,0.19038076152304573,0.2104208416833666,0.2304609218436875,0.2505010020040075,0.2705410821643284,0.29058116232464926,0.31062124248497014,0.33066132264529013,0.350701402805611,0.3707414829659319,0.3907815631262519,0.4108216432865728,0.43086172344689366,0.45090180360721455,0.47094188376753454,0.4909819639278554,0.5110220440881763,0.5310621242484972,0.5511022044088172,0.5711422845691381,0.591182364729459,0.611222444889779,0.6312625250500998,0.6513026052104207,0.6713426853707416,0.6913827655310616,0.7114228456913825,0.7314629258517034,0.7515030060120242,0.7715430861723442,0.7915831663326651,0.811623246492986,0.831663326653306,0.8517034068136269,0.8717434869739478,0.8917835671342687,0.9118236472945886,0.9318637274549095,0.9519038076152304,0.9719438877755513,0.9919839679358713,1.0120240480961922,1.032064128256513,1.052104208416833,1.072144288577154,1.0921843687374748,1.1122244488977957,1.1322645290581157,1.1523046092184366,1.1723446893787575,1.1923847695390783,1.2124248496993983,1.2324649298597192,1.25250501002004,1.27254509018036,1.292585170340681,1.3126252505010019,1.3326653306613228,1.3527054108216428,1.3727454909819636,1.3927855711422845,1.4128256513026045,1.4328657314629254,1.4529058116232463,1.4729458917835672,1.4929859719438872,1.513026052104208,1.533066132264529,1.5531062124248498,1.5731462925851698,1.5931863727454907,1.6132264529058116,1.6332665330661316,1.6533066132264524,1.6733466933867733,1.6933867735470942,1.7134268537074142,1.733466933867735,1.753507014028056,1.7735470941883769,1.7935871743486969,1.8136272545090177,1.8336673346693386,1.8537074148296586,1.8737474949899795,1.8937875751503004,1.9138276553106213,1.9338677354709413,1.9539078156312621,1.973947895791583,1.993987975951904,2.014028056112224,2.034068136272545,2.0541082164328657,2.0741482965931857,2.0941883767535066,2.1142284569138274,2.1342685370741483,2.1543086172344683,2.174348697394789,2.19438877755511,2.214428857715431,2.234468937875751,2.254509018036072,2.2745490981963927,2.2945891783567127,2.3146292585170336,2.3346693386773545,2.3547094188376754,2.3747494989979954,2.3947895791583163,2.414829659318637,2.434869739478958,2.454909819639278,2.474949899799599,2.49498997995992,2.5150300601202398,2.5350701402805607,2.5551102204408815,2.5751503006012024,2.5951903807615224,2.6152304609218433,2.635270541082164,2.655310621242485,2.675350701402805,2.695390781563126,2.715430861723447,2.735470941883767,2.7555110220440877,2.7755511022044086,2.7955911823647295,2.8156312625250495,2.8356713426853704,2.8557114228456912,2.875751503006012,2.895791583166332,2.915831663326653,2.935871743486974,2.955911823647294,2.9759519038076148,2.9959919839679356,3.0160320641282556,3.0360721442885765,3.0561122244488974,3.0761523046092183,3.096192384769539,3.11623246492986,3.136272545090179,3.1563126252505,3.176352705410821,3.196392785571142,3.2164328657314627,3.2364729458917836,3.2565130260521045,3.2765531062124253,3.2965931863727445,3.3166332665330653,3.336673346693386,3.356713426853707,3.376753507014028,3.396793587174349,3.4168336673346698,3.436873747494989,3.4569138276553097,3.4769539078156306,3.4969939879759515,3.5170340681362724,3.5370741482965933,3.557114228456914,3.5771543086172333,3.597194388777554,3.617234468937875,3.637274549098196,3.657314629258517,3.6773547094188377,3.6973947895791586,3.7174348697394795,3.7374749498997986,3.7575150300601194,3.7775551102204403,3.797595190380761,3.817635270541082,3.837675350701403,3.857715430861724,3.877755511022043,3.897795591182364,3.9178356713426847,3.9378757515030056,3.9579158316633265,3.9779559118236474,3.9979959919839683,4.018036072144287,4.038076152304608,4.058116232464929,4.07815631262525,4.098196392785571,4.118236472945892,4.138276553106213,4.158316633266534,4.178356713426853,4.1983967935871735,4.218436873747494,4.238476953907815,4.258517034068136,4.278557114228457,4.298597194388778,4.318637274549097,4.338677354709418,4.358717434869739,4.37875751503006,4.398797595190381,4.4188376753507015,4.438877755511022,4.4589178356713415,4.478957915831662,4.498997995991983,4.519038076152304,4.539078156312625,4.559118236472946,4.579158316633267,4.599198396793588,4.619238476953907,4.639278557114228,4.6593186372745485,4.679358717434869,4.69939879759519,4.719438877755511,4.739478957915832,4.759519038076151,4.779559118236472,4.799599198396793,4.819639278557114,4.839679358717435,4.859719438877756,4.8797595190380765,4.899799599198396,4.9198396793587165,4.939879759519037,4.959919839679358,4.979959919839679,5.0],\"xaxis\":\"x\",\"y\":[-5.0,-4.979959919839679,-4.959919839679359,-4.939879759519038,-4.919839679358717,-4.8997995991983965,-4.8797595190380765,-4.859719438877756,-4.839679358717435,-4.819639278557114,-4.799599198396794,-4.779559118236473,-4.759519038076152,-4.739478957915832,-4.719438877755511,-4.69939879759519,-4.679358717434869,-4.659318637274549,-4.6392785571142285,-4.619238476953908,-4.599198396793588,-4.579158316633267,-4.559118236472946,-4.539078156312625,-4.519038076152305,-4.498997995991984,-4.478957915831663,-4.458917835671342,-4.438877755511022,-4.4188376753507015,-4.398797595190381,-4.37875751503006,-4.35871743486974,-4.338677354709419,-4.318637274549098,-4.298597194388778,-4.278557114228457,-4.258517034068136,-4.238476953907815,-4.218436873747495,-4.198396793587174,-4.1783567134268536,-4.158316633266534,-4.138276553106213,-4.118236472945892,-4.098196392785571,-4.078156312625251,-4.05811623246493,-4.038076152304609,-4.018036072144288,-3.9979959919839683,-3.9779559118236474,-3.9579158316633265,-3.937875751503006,-3.9178356713426856,-3.8977955911823647,-3.877755511022044,-3.8577154308617234,-3.837675350701403,-3.817635270541082,-3.7975951903807617,-3.777555110220441,-3.7575150300601203,-3.7374749498997994,-3.717434869739479,-3.6973947895791586,-3.6773547094188377,-3.657314629258517,-3.6372745490981964,-3.617234468937876,-3.597194388777555,-3.5771543086172346,-3.557114228456914,-3.5370741482965933,-3.5170340681362724,-3.496993987975952,-3.4769539078156315,-3.4569138276553106,-3.4368737474949898,-3.4168336673346693,-3.396793587174349,-3.376753507014028,-3.3567134268537075,-3.336673346693387,-3.3166332665330662,-3.2965931863727453,-3.276553106212425,-3.2565130260521045,-3.2364729458917836,-3.2164328657314627,-3.1963927855711423,-3.176352705410822,-3.156312625250501,-3.1362725450901805,-3.11623246492986,-3.096192384769539,-3.0761523046092183,-3.056112224448898,-3.0360721442885774,-3.0160320641282565,-2.995991983967936,-2.975951903807615,-2.9559118236472948,-2.935871743486974,-2.9158316633266534,-2.8957915831663326,-2.875751503006012,-2.8557114228456917,-2.835671342685371,-2.8156312625250504,-2.7955911823647295,-2.775551102204409,-2.755511022044088,-2.7354709418837677,-2.715430861723447,-2.6953907815631264,-2.6753507014028055,-2.655310621242485,-2.6352705410821646,-2.6152304609218437,-2.5951903807615233,-2.5751503006012024,-2.555110220440882,-2.535070140280561,-2.5150300601202407,-2.49498997995992,-2.4749498997995993,-2.4549098196392785,-2.434869739478958,-2.4148296593186376,-2.3947895791583167,-2.3747494989979963,-2.3547094188376754,-2.334669338677355,-2.314629258517034,-2.2945891783567136,-2.2745490981963927,-2.2545090180360723,-2.2344689378757514,-2.214428857715431,-2.1943887775551105,-2.1743486973947896,-2.154308617234469,-2.1342685370741483,-2.114228456913828,-2.094188376753507,-2.0741482965931866,-2.0541082164328657,-2.0340681362725452,-2.0140280561122244,-1.993987975951904,-1.9739478957915835,-1.9539078156312626,-1.9338677354709422,-1.9138276553106213,-1.8937875751503008,-1.87374749498998,-1.8537074148296595,-1.8336673346693386,-1.8136272545090182,-1.7935871743486977,-1.7735470941883769,-1.7535070140280564,-1.7334669338677355,-1.713426853707415,-1.6933867735470942,-1.6733466933867738,-1.653306613226453,-1.6332665330661325,-1.6132264529058116,-1.5931863727454911,-1.5731462925851707,-1.5531062124248498,-1.5330661322645294,-1.5130260521042085,-1.492985971943888,-1.4729458917835672,-1.4529058116232467,-1.4328657314629258,-1.4128256513026054,-1.3927855711422845,-1.372745490981964,-1.3527054108216436,-1.3326653306613228,-1.3126252505010023,-1.2925851703406814,-1.272545090180361,-1.25250501002004,-1.2324649298597197,-1.2124248496993988,-1.1923847695390783,-1.1723446893787575,-1.152304609218437,-1.1322645290581166,-1.1122244488977957,-1.0921843687374753,-1.0721442885771544,-1.052104208416834,-1.032064128256513,-1.0120240480961926,-0.9919839679358722,-0.9719438877755513,-0.9519038076152304,-0.9318637274549104,-0.9118236472945895,-0.8917835671342687,-0.8717434869739478,-0.8517034068136278,-0.8316633266533069,-0.811623246492986,-0.7915831663326651,-0.7715430861723451,-0.7515030060120242,-0.7314629258517034,-0.7114228456913834,-0.6913827655310625,-0.6713426853707416,-0.6513026052104207,-0.6312625250501007,-0.6112224448897798,-0.591182364729459,-0.5711422845691381,-0.5511022044088181,-0.5310621242484972,-0.5110220440881763,-0.4909819639278563,-0.47094188376753543,-0.45090180360721455,-0.43086172344689366,-0.41082164328657367,-0.3907815631262528,-0.3707414829659319,-0.350701402805611,-0.330661322645291,-0.31062124248497014,-0.29058116232464926,-0.27054108216432926,-0.2505010020040084,-0.2304609218436875,-0.2104208416833666,-0.19038076152304662,-0.17034068136272573,-0.15030060120240485,-0.13026052104208397,-0.11022044088176397,-0.09018036072144309,-0.0701402805611222,-0.05010020040080221,-0.030060120240481325,-0.010020040080160442,0.010020040080160442,0.030060120240480437,0.05010020040080132,0.0701402805611222,0.09018036072144309,0.11022044088176308,0.13026052104208397,0.15030060120240485,0.17034068136272484,0.19038076152304573,0.2104208416833666,0.2304609218436875,0.2505010020040075,0.2705410821643284,0.29058116232464926,0.31062124248497014,0.33066132264529013,0.350701402805611,0.3707414829659319,0.3907815631262519,0.4108216432865728,0.43086172344689366,0.45090180360721455,0.47094188376753454,0.4909819639278554,0.5110220440881763,0.5310621242484972,0.5511022044088172,0.5711422845691381,0.591182364729459,0.611222444889779,0.6312625250500998,0.6513026052104207,0.6713426853707416,0.6913827655310616,0.7114228456913825,0.7314629258517034,0.7515030060120242,0.7715430861723442,0.7915831663326651,0.811623246492986,0.831663326653306,0.8517034068136269,0.8717434869739478,0.8917835671342687,0.9118236472945886,0.9318637274549095,0.9519038076152304,0.9719438877755513,0.9919839679358713,1.0120240480961922,1.032064128256513,1.052104208416833,1.072144288577154,1.0921843687374748,1.1122244488977957,1.1322645290581157,1.1523046092184366,1.1723446893787575,1.1923847695390783,1.2124248496993983,1.2324649298597192,1.25250501002004,1.27254509018036,1.292585170340681,1.3126252505010019,1.3326653306613228,1.3527054108216428,1.3727454909819636,1.3927855711422845,1.4128256513026045,1.4328657314629254,1.4529058116232463,1.4729458917835672,1.4929859719438872,1.513026052104208,1.533066132264529,1.5531062124248498,1.5731462925851698,1.5931863727454907,1.6132264529058116,1.6332665330661316,1.6533066132264524,1.6733466933867733,1.6933867735470942,1.7134268537074142,1.733466933867735,1.753507014028056,1.7735470941883769,1.7935871743486969,1.8136272545090177,1.8336673346693386,1.8537074148296586,1.8737474949899795,1.8937875751503004,1.9138276553106213,1.9338677354709413,1.9539078156312621,1.973947895791583,1.993987975951904,2.014028056112224,2.034068136272545,2.0541082164328657,2.0741482965931857,2.0941883767535066,2.1142284569138274,2.1342685370741483,2.1543086172344683,2.174348697394789,2.19438877755511,2.214428857715431,2.234468937875751,2.254509018036072,2.2745490981963927,2.2945891783567127,2.3146292585170336,2.3346693386773545,2.3547094188376754,2.3747494989979954,2.3947895791583163,2.414829659318637,2.434869739478958,2.454909819639278,2.474949899799599,2.49498997995992,2.5150300601202398,2.5350701402805607,2.5551102204408815,2.5751503006012024,2.5951903807615224,2.6152304609218433,2.635270541082164,2.655310621242485,2.675350701402805,2.695390781563126,2.715430861723447,2.735470941883767,2.7555110220440877,2.7755511022044086,2.7955911823647295,2.8156312625250495,2.8356713426853704,2.8557114228456912,2.875751503006012,2.895791583166332,2.915831663326653,2.935871743486974,2.955911823647294,2.9759519038076148,2.9959919839679356,3.0160320641282556,3.0360721442885765,3.0561122244488974,3.0761523046092183,3.096192384769539,3.11623246492986,3.136272545090179,3.1563126252505,3.176352705410821,3.196392785571142,3.2164328657314627,3.2364729458917836,3.2565130260521045,3.2765531062124253,3.2965931863727445,3.3166332665330653,3.336673346693386,3.356713426853707,3.376753507014028,3.396793587174349,3.4168336673346698,3.436873747494989,3.4569138276553097,3.4769539078156306,3.4969939879759515,3.5170340681362724,3.5370741482965933,3.557114228456914,3.5771543086172333,3.597194388777554,3.617234468937875,3.637274549098196,3.657314629258517,3.6773547094188377,3.6973947895791586,3.7174348697394795,3.7374749498997986,3.7575150300601194,3.7775551102204403,3.797595190380761,3.817635270541082,3.837675350701403,3.857715430861724,3.877755511022043,3.897795591182364,3.9178356713426847,3.9378757515030056,3.9579158316633265,3.9779559118236474,3.9979959919839683,4.018036072144287,4.038076152304608,4.058116232464929,4.07815631262525,4.098196392785571,4.118236472945892,4.138276553106213,4.158316633266534,4.178356713426853,4.1983967935871735,4.218436873747494,4.238476953907815,4.258517034068136,4.278557114228457,4.298597194388778,4.318637274549097,4.338677354709418,4.358717434869739,4.37875751503006,4.398797595190381,4.4188376753507015,4.438877755511022,4.4589178356713415,4.478957915831662,4.498997995991983,4.519038076152304,4.539078156312625,4.559118236472946,4.579158316633267,4.599198396793588,4.619238476953907,4.639278557114228,4.6593186372745485,4.679358717434869,4.69939879759519,4.719438877755511,4.739478957915832,4.759519038076151,4.779559118236472,4.799599198396793,4.819639278557114,4.839679358717435,4.859719438877756,4.8797595190380765,4.899799599198396,4.9198396793587165,4.939879759519037,4.959919839679358,4.979959919839679,5.0],\"yaxis\":\"y\",\"type\":\"scatter\"}],                        {\"template\":{\"data\":{\"histogram2dcontour\":[{\"type\":\"histogram2dcontour\",\"colorbar\":{\"outlinewidth\":0,\"ticks\":\"\"},\"colorscale\":[[0.0,\"#0d0887\"],[0.1111111111111111,\"#46039f\"],[0.2222222222222222,\"#7201a8\"],[0.3333333333333333,\"#9c179e\"],[0.4444444444444444,\"#bd3786\"],[0.5555555555555556,\"#d8576b\"],[0.6666666666666666,\"#ed7953\"],[0.7777777777777778,\"#fb9f3a\"],[0.8888888888888888,\"#fdca26\"],[1.0,\"#f0f921\"]]}],\"choropleth\":[{\"type\":\"choropleth\",\"colorbar\":{\"outlinewidth\":0,\"ticks\":\"\"}}],\"histogram2d\":[{\"type\":\"histogram2d\",\"colorbar\":{\"outlinewidth\":0,\"ticks\":\"\"},\"colorscale\":[[0.0,\"#0d0887\"],[0.1111111111111111,\"#46039f\"],[0.2222222222222222,\"#7201a8\"],[0.3333333333333333,\"#9c179e\"],[0.4444444444444444,\"#bd3786\"],[0.5555555555555556,\"#d8576b\"],[0.6666666666666666,\"#ed7953\"],[0.7777777777777778,\"#fb9f3a\"],[0.8888888888888888,\"#fdca26\"],[1.0,\"#f0f921\"]]}],\"heatmap\":[{\"type\":\"heatmap\",\"colorbar\":{\"outlinewidth\":0,\"ticks\":\"\"},\"colorscale\":[[0.0,\"#0d0887\"],[0.1111111111111111,\"#46039f\"],[0.2222222222222222,\"#7201a8\"],[0.3333333333333333,\"#9c179e\"],[0.4444444444444444,\"#bd3786\"],[0.5555555555555556,\"#d8576b\"],[0.6666666666666666,\"#ed7953\"],[0.7777777777777778,\"#fb9f3a\"],[0.8888888888888888,\"#fdca26\"],[1.0,\"#f0f921\"]]}],\"heatmapgl\":[{\"type\":\"heatmapgl\",\"colorbar\":{\"outlinewidth\":0,\"ticks\":\"\"},\"colorscale\":[[0.0,\"#0d0887\"],[0.1111111111111111,\"#46039f\"],[0.2222222222222222,\"#7201a8\"],[0.3333333333333333,\"#9c179e\"],[0.4444444444444444,\"#bd3786\"],[0.5555555555555556,\"#d8576b\"],[0.6666666666666666,\"#ed7953\"],[0.7777777777777778,\"#fb9f3a\"],[0.8888888888888888,\"#fdca26\"],[1.0,\"#f0f921\"]]}],\"contourcarpet\":[{\"type\":\"contourcarpet\",\"colorbar\":{\"outlinewidth\":0,\"ticks\":\"\"}}],\"contour\":[{\"type\":\"contour\",\"colorbar\":{\"outlinewidth\":0,\"ticks\":\"\"},\"colorscale\":[[0.0,\"#0d0887\"],[0.1111111111111111,\"#46039f\"],[0.2222222222222222,\"#7201a8\"],[0.3333333333333333,\"#9c179e\"],[0.4444444444444444,\"#bd3786\"],[0.5555555555555556,\"#d8576b\"],[0.6666666666666666,\"#ed7953\"],[0.7777777777777778,\"#fb9f3a\"],[0.8888888888888888,\"#fdca26\"],[1.0,\"#f0f921\"]]}],\"surface\":[{\"type\":\"surface\",\"colorbar\":{\"outlinewidth\":0,\"ticks\":\"\"},\"colorscale\":[[0.0,\"#0d0887\"],[0.1111111111111111,\"#46039f\"],[0.2222222222222222,\"#7201a8\"],[0.3333333333333333,\"#9c179e\"],[0.4444444444444444,\"#bd3786\"],[0.5555555555555556,\"#d8576b\"],[0.6666666666666666,\"#ed7953\"],[0.7777777777777778,\"#fb9f3a\"],[0.8888888888888888,\"#fdca26\"],[1.0,\"#f0f921\"]]}],\"mesh3d\":[{\"type\":\"mesh3d\",\"colorbar\":{\"outlinewidth\":0,\"ticks\":\"\"}}],\"scatter\":[{\"fillpattern\":{\"fillmode\":\"overlay\",\"size\":10,\"solidity\":0.2},\"type\":\"scatter\"}],\"parcoords\":[{\"type\":\"parcoords\",\"line\":{\"colorbar\":{\"outlinewidth\":0,\"ticks\":\"\"}}}],\"scatterpolargl\":[{\"type\":\"scatterpolargl\",\"marker\":{\"colorbar\":{\"outlinewidth\":0,\"ticks\":\"\"}}}],\"bar\":[{\"error_x\":{\"color\":\"#2a3f5f\"},\"error_y\":{\"color\":\"#2a3f5f\"},\"marker\":{\"line\":{\"color\":\"#E5ECF6\",\"width\":0.5},\"pattern\":{\"fillmode\":\"overlay\",\"size\":10,\"solidity\":0.2}},\"type\":\"bar\"}],\"scattergeo\":[{\"type\":\"scattergeo\",\"marker\":{\"colorbar\":{\"outlinewidth\":0,\"ticks\":\"\"}}}],\"scatterpolar\":[{\"type\":\"scatterpolar\",\"marker\":{\"colorbar\":{\"outlinewidth\":0,\"ticks\":\"\"}}}],\"histogram\":[{\"marker\":{\"pattern\":{\"fillmode\":\"overlay\",\"size\":10,\"solidity\":0.2}},\"type\":\"histogram\"}],\"scattergl\":[{\"type\":\"scattergl\",\"marker\":{\"colorbar\":{\"outlinewidth\":0,\"ticks\":\"\"}}}],\"scatter3d\":[{\"type\":\"scatter3d\",\"line\":{\"colorbar\":{\"outlinewidth\":0,\"ticks\":\"\"}},\"marker\":{\"colorbar\":{\"outlinewidth\":0,\"ticks\":\"\"}}}],\"scattermapbox\":[{\"type\":\"scattermapbox\",\"marker\":{\"colorbar\":{\"outlinewidth\":0,\"ticks\":\"\"}}}],\"scatterternary\":[{\"type\":\"scatterternary\",\"marker\":{\"colorbar\":{\"outlinewidth\":0,\"ticks\":\"\"}}}],\"scattercarpet\":[{\"type\":\"scattercarpet\",\"marker\":{\"colorbar\":{\"outlinewidth\":0,\"ticks\":\"\"}}}],\"carpet\":[{\"aaxis\":{\"endlinecolor\":\"#2a3f5f\",\"gridcolor\":\"white\",\"linecolor\":\"white\",\"minorgridcolor\":\"white\",\"startlinecolor\":\"#2a3f5f\"},\"baxis\":{\"endlinecolor\":\"#2a3f5f\",\"gridcolor\":\"white\",\"linecolor\":\"white\",\"minorgridcolor\":\"white\",\"startlinecolor\":\"#2a3f5f\"},\"type\":\"carpet\"}],\"table\":[{\"cells\":{\"fill\":{\"color\":\"#EBF0F8\"},\"line\":{\"color\":\"white\"}},\"header\":{\"fill\":{\"color\":\"#C8D4E3\"},\"line\":{\"color\":\"white\"}},\"type\":\"table\"}],\"barpolar\":[{\"marker\":{\"line\":{\"color\":\"#E5ECF6\",\"width\":0.5},\"pattern\":{\"fillmode\":\"overlay\",\"size\":10,\"solidity\":0.2}},\"type\":\"barpolar\"}],\"pie\":[{\"automargin\":true,\"type\":\"pie\"}]},\"layout\":{\"autotypenumbers\":\"strict\",\"colorway\":[\"#636efa\",\"#EF553B\",\"#00cc96\",\"#ab63fa\",\"#FFA15A\",\"#19d3f3\",\"#FF6692\",\"#B6E880\",\"#FF97FF\",\"#FECB52\"],\"font\":{\"color\":\"#2a3f5f\"},\"hovermode\":\"closest\",\"hoverlabel\":{\"align\":\"left\"},\"paper_bgcolor\":\"white\",\"plot_bgcolor\":\"#E5ECF6\",\"polar\":{\"bgcolor\":\"#E5ECF6\",\"angularaxis\":{\"gridcolor\":\"white\",\"linecolor\":\"white\",\"ticks\":\"\"},\"radialaxis\":{\"gridcolor\":\"white\",\"linecolor\":\"white\",\"ticks\":\"\"}},\"ternary\":{\"bgcolor\":\"#E5ECF6\",\"aaxis\":{\"gridcolor\":\"white\",\"linecolor\":\"white\",\"ticks\":\"\"},\"baxis\":{\"gridcolor\":\"white\",\"linecolor\":\"white\",\"ticks\":\"\"},\"caxis\":{\"gridcolor\":\"white\",\"linecolor\":\"white\",\"ticks\":\"\"}},\"coloraxis\":{\"colorbar\":{\"outlinewidth\":0,\"ticks\":\"\"}},\"colorscale\":{\"sequential\":[[0.0,\"#0d0887\"],[0.1111111111111111,\"#46039f\"],[0.2222222222222222,\"#7201a8\"],[0.3333333333333333,\"#9c179e\"],[0.4444444444444444,\"#bd3786\"],[0.5555555555555556,\"#d8576b\"],[0.6666666666666666,\"#ed7953\"],[0.7777777777777778,\"#fb9f3a\"],[0.8888888888888888,\"#fdca26\"],[1.0,\"#f0f921\"]],\"sequentialminus\":[[0.0,\"#0d0887\"],[0.1111111111111111,\"#46039f\"],[0.2222222222222222,\"#7201a8\"],[0.3333333333333333,\"#9c179e\"],[0.4444444444444444,\"#bd3786\"],[0.5555555555555556,\"#d8576b\"],[0.6666666666666666,\"#ed7953\"],[0.7777777777777778,\"#fb9f3a\"],[0.8888888888888888,\"#fdca26\"],[1.0,\"#f0f921\"]],\"diverging\":[[0,\"#8e0152\"],[0.1,\"#c51b7d\"],[0.2,\"#de77ae\"],[0.3,\"#f1b6da\"],[0.4,\"#fde0ef\"],[0.5,\"#f7f7f7\"],[0.6,\"#e6f5d0\"],[0.7,\"#b8e186\"],[0.8,\"#7fbc41\"],[0.9,\"#4d9221\"],[1,\"#276419\"]]},\"xaxis\":{\"gridcolor\":\"white\",\"linecolor\":\"white\",\"ticks\":\"\",\"title\":{\"standoff\":15},\"zerolinecolor\":\"white\",\"automargin\":true,\"zerolinewidth\":2},\"yaxis\":{\"gridcolor\":\"white\",\"linecolor\":\"white\",\"ticks\":\"\",\"title\":{\"standoff\":15},\"zerolinecolor\":\"white\",\"automargin\":true,\"zerolinewidth\":2},\"scene\":{\"xaxis\":{\"backgroundcolor\":\"#E5ECF6\",\"gridcolor\":\"white\",\"linecolor\":\"white\",\"showbackground\":true,\"ticks\":\"\",\"zerolinecolor\":\"white\",\"gridwidth\":2},\"yaxis\":{\"backgroundcolor\":\"#E5ECF6\",\"gridcolor\":\"white\",\"linecolor\":\"white\",\"showbackground\":true,\"ticks\":\"\",\"zerolinecolor\":\"white\",\"gridwidth\":2},\"zaxis\":{\"backgroundcolor\":\"#E5ECF6\",\"gridcolor\":\"white\",\"linecolor\":\"white\",\"showbackground\":true,\"ticks\":\"\",\"zerolinecolor\":\"white\",\"gridwidth\":2}},\"shapedefaults\":{\"line\":{\"color\":\"#2a3f5f\"}},\"annotationdefaults\":{\"arrowcolor\":\"#2a3f5f\",\"arrowhead\":0,\"arrowwidth\":1},\"geo\":{\"bgcolor\":\"white\",\"landcolor\":\"#E5ECF6\",\"subunitcolor\":\"white\",\"showland\":true,\"showlakes\":true,\"lakecolor\":\"white\"},\"title\":{\"x\":0.05},\"mapbox\":{\"style\":\"light\"}}},\"xaxis\":{\"anchor\":\"y\",\"domain\":[0.0,1.0],\"title\":{\"text\":\"data\"},\"range\":[-5.5,5.5]},\"yaxis\":{\"anchor\":\"x\",\"domain\":[0.0,1.0],\"title\":{\"text\":\"linear\"},\"range\":[-5.5,5.5]},\"legend\":{\"tracegroupgap\":0},\"margin\":{\"t\":60},\"height\":600,\"width\":800},                        {\"responsive\": true}                    ).then(function(){\n",
              "                            \n",
              "var gd = document.getElementById('59d6b3eb-739b-41a7-8842-f250bb42174c');\n",
              "var x = new MutationObserver(function (mutations, observer) {{\n",
              "        var display = window.getComputedStyle(gd).display;\n",
              "        if (!display || display === 'none') {{\n",
              "            console.log([gd, 'removed!']);\n",
              "            Plotly.purge(gd);\n",
              "            observer.disconnect();\n",
              "        }}\n",
              "}});\n",
              "\n",
              "// Listen for the removal of the full notebook cells\n",
              "var notebookContainer = gd.closest('#notebook-container');\n",
              "if (notebookContainer) {{\n",
              "    x.observe(notebookContainer, {childList: true});\n",
              "}}\n",
              "\n",
              "// Listen for the clearing of the current output cell\n",
              "var outputEl = gd.closest('.output');\n",
              "if (outputEl) {{\n",
              "    x.observe(outputEl, {childList: true});\n",
              "}}\n",
              "\n",
              "                        })                };                            </script>        </div>\n",
              "</body>\n",
              "</html>"
            ]
          },
          "metadata": {}
        }
      ]
    },
    {
      "cell_type": "markdown",
      "source": [
        "## Funkcja sigmoidalna."
      ],
      "metadata": {
        "id": "A0o2waEQ_7L_"
      }
    },
    {
      "cell_type": "markdown",
      "source": [
        "Bardzo popularna funkcja, o której szerzej mowa była przy omawianiu regresji logistycznej."
      ],
      "metadata": {
        "id": "1z0688Vb_-2u"
      }
    },
    {
      "cell_type": "code",
      "source": [
        "from tensorflow.keras.activations import sigmoid\n",
        "\n",
        "data = pd.DataFrame({'data': random_data, 'sigmoid': sigmoid(random_data)})\n",
        "data"
      ],
      "metadata": {
        "colab": {
          "base_uri": "https://localhost:8080/",
          "height": 424
        },
        "id": "PPh6eiZG_sfI",
        "outputId": "30a0c350-0710-4500-c81b-67b81b1edf9f"
      },
      "execution_count": 9,
      "outputs": [
        {
          "output_type": "execute_result",
          "data": {
            "text/plain": [
              "        data   sigmoid\n",
              "0   -5.00000  0.006693\n",
              "1   -4.97996  0.006827\n",
              "2   -4.95992  0.006965\n",
              "3   -4.93988  0.007105\n",
              "4   -4.91984  0.007247\n",
              "..       ...       ...\n",
              "495  4.91984  0.992753\n",
              "496  4.93988  0.992895\n",
              "497  4.95992  0.993035\n",
              "498  4.97996  0.993173\n",
              "499  5.00000  0.993307\n",
              "\n",
              "[500 rows x 2 columns]"
            ],
            "text/html": [
              "\n",
              "  <div id=\"df-76ae82c5-43ae-456d-9824-5a34ca8fc6f6\" class=\"colab-df-container\">\n",
              "    <div>\n",
              "<style scoped>\n",
              "    .dataframe tbody tr th:only-of-type {\n",
              "        vertical-align: middle;\n",
              "    }\n",
              "\n",
              "    .dataframe tbody tr th {\n",
              "        vertical-align: top;\n",
              "    }\n",
              "\n",
              "    .dataframe thead th {\n",
              "        text-align: right;\n",
              "    }\n",
              "</style>\n",
              "<table border=\"1\" class=\"dataframe\">\n",
              "  <thead>\n",
              "    <tr style=\"text-align: right;\">\n",
              "      <th></th>\n",
              "      <th>data</th>\n",
              "      <th>sigmoid</th>\n",
              "    </tr>\n",
              "  </thead>\n",
              "  <tbody>\n",
              "    <tr>\n",
              "      <th>0</th>\n",
              "      <td>-5.00000</td>\n",
              "      <td>0.006693</td>\n",
              "    </tr>\n",
              "    <tr>\n",
              "      <th>1</th>\n",
              "      <td>-4.97996</td>\n",
              "      <td>0.006827</td>\n",
              "    </tr>\n",
              "    <tr>\n",
              "      <th>2</th>\n",
              "      <td>-4.95992</td>\n",
              "      <td>0.006965</td>\n",
              "    </tr>\n",
              "    <tr>\n",
              "      <th>3</th>\n",
              "      <td>-4.93988</td>\n",
              "      <td>0.007105</td>\n",
              "    </tr>\n",
              "    <tr>\n",
              "      <th>4</th>\n",
              "      <td>-4.91984</td>\n",
              "      <td>0.007247</td>\n",
              "    </tr>\n",
              "    <tr>\n",
              "      <th>...</th>\n",
              "      <td>...</td>\n",
              "      <td>...</td>\n",
              "    </tr>\n",
              "    <tr>\n",
              "      <th>495</th>\n",
              "      <td>4.91984</td>\n",
              "      <td>0.992753</td>\n",
              "    </tr>\n",
              "    <tr>\n",
              "      <th>496</th>\n",
              "      <td>4.93988</td>\n",
              "      <td>0.992895</td>\n",
              "    </tr>\n",
              "    <tr>\n",
              "      <th>497</th>\n",
              "      <td>4.95992</td>\n",
              "      <td>0.993035</td>\n",
              "    </tr>\n",
              "    <tr>\n",
              "      <th>498</th>\n",
              "      <td>4.97996</td>\n",
              "      <td>0.993173</td>\n",
              "    </tr>\n",
              "    <tr>\n",
              "      <th>499</th>\n",
              "      <td>5.00000</td>\n",
              "      <td>0.993307</td>\n",
              "    </tr>\n",
              "  </tbody>\n",
              "</table>\n",
              "<p>500 rows × 2 columns</p>\n",
              "</div>\n",
              "    <div class=\"colab-df-buttons\">\n",
              "\n",
              "  <div class=\"colab-df-container\">\n",
              "    <button class=\"colab-df-convert\" onclick=\"convertToInteractive('df-76ae82c5-43ae-456d-9824-5a34ca8fc6f6')\"\n",
              "            title=\"Convert this dataframe to an interactive table.\"\n",
              "            style=\"display:none;\">\n",
              "\n",
              "  <svg xmlns=\"http://www.w3.org/2000/svg\" height=\"24px\" viewBox=\"0 -960 960 960\">\n",
              "    <path d=\"M120-120v-720h720v720H120Zm60-500h600v-160H180v160Zm220 220h160v-160H400v160Zm0 220h160v-160H400v160ZM180-400h160v-160H180v160Zm440 0h160v-160H620v160ZM180-180h160v-160H180v160Zm440 0h160v-160H620v160Z\"/>\n",
              "  </svg>\n",
              "    </button>\n",
              "\n",
              "  <style>\n",
              "    .colab-df-container {\n",
              "      display:flex;\n",
              "      gap: 12px;\n",
              "    }\n",
              "\n",
              "    .colab-df-convert {\n",
              "      background-color: #E8F0FE;\n",
              "      border: none;\n",
              "      border-radius: 50%;\n",
              "      cursor: pointer;\n",
              "      display: none;\n",
              "      fill: #1967D2;\n",
              "      height: 32px;\n",
              "      padding: 0 0 0 0;\n",
              "      width: 32px;\n",
              "    }\n",
              "\n",
              "    .colab-df-convert:hover {\n",
              "      background-color: #E2EBFA;\n",
              "      box-shadow: 0px 1px 2px rgba(60, 64, 67, 0.3), 0px 1px 3px 1px rgba(60, 64, 67, 0.15);\n",
              "      fill: #174EA6;\n",
              "    }\n",
              "\n",
              "    .colab-df-buttons div {\n",
              "      margin-bottom: 4px;\n",
              "    }\n",
              "\n",
              "    [theme=dark] .colab-df-convert {\n",
              "      background-color: #3B4455;\n",
              "      fill: #D2E3FC;\n",
              "    }\n",
              "\n",
              "    [theme=dark] .colab-df-convert:hover {\n",
              "      background-color: #434B5C;\n",
              "      box-shadow: 0px 1px 3px 1px rgba(0, 0, 0, 0.15);\n",
              "      filter: drop-shadow(0px 1px 2px rgba(0, 0, 0, 0.3));\n",
              "      fill: #FFFFFF;\n",
              "    }\n",
              "  </style>\n",
              "\n",
              "    <script>\n",
              "      const buttonEl =\n",
              "        document.querySelector('#df-76ae82c5-43ae-456d-9824-5a34ca8fc6f6 button.colab-df-convert');\n",
              "      buttonEl.style.display =\n",
              "        google.colab.kernel.accessAllowed ? 'block' : 'none';\n",
              "\n",
              "      async function convertToInteractive(key) {\n",
              "        const element = document.querySelector('#df-76ae82c5-43ae-456d-9824-5a34ca8fc6f6');\n",
              "        const dataTable =\n",
              "          await google.colab.kernel.invokeFunction('convertToInteractive',\n",
              "                                                    [key], {});\n",
              "        if (!dataTable) return;\n",
              "\n",
              "        const docLinkHtml = 'Like what you see? Visit the ' +\n",
              "          '<a target=\"_blank\" href=https://colab.research.google.com/notebooks/data_table.ipynb>data table notebook</a>'\n",
              "          + ' to learn more about interactive tables.';\n",
              "        element.innerHTML = '';\n",
              "        dataTable['output_type'] = 'display_data';\n",
              "        await google.colab.output.renderOutput(dataTable, element);\n",
              "        const docLink = document.createElement('div');\n",
              "        docLink.innerHTML = docLinkHtml;\n",
              "        element.appendChild(docLink);\n",
              "      }\n",
              "    </script>\n",
              "  </div>\n",
              "\n",
              "\n",
              "<div id=\"df-e1835ad3-bea5-43d5-b48f-5762751f6d96\">\n",
              "  <button class=\"colab-df-quickchart\" onclick=\"quickchart('df-e1835ad3-bea5-43d5-b48f-5762751f6d96')\"\n",
              "            title=\"Suggest charts\"\n",
              "            style=\"display:none;\">\n",
              "\n",
              "<svg xmlns=\"http://www.w3.org/2000/svg\" height=\"24px\"viewBox=\"0 0 24 24\"\n",
              "     width=\"24px\">\n",
              "    <g>\n",
              "        <path d=\"M19 3H5c-1.1 0-2 .9-2 2v14c0 1.1.9 2 2 2h14c1.1 0 2-.9 2-2V5c0-1.1-.9-2-2-2zM9 17H7v-7h2v7zm4 0h-2V7h2v10zm4 0h-2v-4h2v4z\"/>\n",
              "    </g>\n",
              "</svg>\n",
              "  </button>\n",
              "\n",
              "<style>\n",
              "  .colab-df-quickchart {\n",
              "      --bg-color: #E8F0FE;\n",
              "      --fill-color: #1967D2;\n",
              "      --hover-bg-color: #E2EBFA;\n",
              "      --hover-fill-color: #174EA6;\n",
              "      --disabled-fill-color: #AAA;\n",
              "      --disabled-bg-color: #DDD;\n",
              "  }\n",
              "\n",
              "  [theme=dark] .colab-df-quickchart {\n",
              "      --bg-color: #3B4455;\n",
              "      --fill-color: #D2E3FC;\n",
              "      --hover-bg-color: #434B5C;\n",
              "      --hover-fill-color: #FFFFFF;\n",
              "      --disabled-bg-color: #3B4455;\n",
              "      --disabled-fill-color: #666;\n",
              "  }\n",
              "\n",
              "  .colab-df-quickchart {\n",
              "    background-color: var(--bg-color);\n",
              "    border: none;\n",
              "    border-radius: 50%;\n",
              "    cursor: pointer;\n",
              "    display: none;\n",
              "    fill: var(--fill-color);\n",
              "    height: 32px;\n",
              "    padding: 0;\n",
              "    width: 32px;\n",
              "  }\n",
              "\n",
              "  .colab-df-quickchart:hover {\n",
              "    background-color: var(--hover-bg-color);\n",
              "    box-shadow: 0 1px 2px rgba(60, 64, 67, 0.3), 0 1px 3px 1px rgba(60, 64, 67, 0.15);\n",
              "    fill: var(--button-hover-fill-color);\n",
              "  }\n",
              "\n",
              "  .colab-df-quickchart-complete:disabled,\n",
              "  .colab-df-quickchart-complete:disabled:hover {\n",
              "    background-color: var(--disabled-bg-color);\n",
              "    fill: var(--disabled-fill-color);\n",
              "    box-shadow: none;\n",
              "  }\n",
              "\n",
              "  .colab-df-spinner {\n",
              "    border: 2px solid var(--fill-color);\n",
              "    border-color: transparent;\n",
              "    border-bottom-color: var(--fill-color);\n",
              "    animation:\n",
              "      spin 1s steps(1) infinite;\n",
              "  }\n",
              "\n",
              "  @keyframes spin {\n",
              "    0% {\n",
              "      border-color: transparent;\n",
              "      border-bottom-color: var(--fill-color);\n",
              "      border-left-color: var(--fill-color);\n",
              "    }\n",
              "    20% {\n",
              "      border-color: transparent;\n",
              "      border-left-color: var(--fill-color);\n",
              "      border-top-color: var(--fill-color);\n",
              "    }\n",
              "    30% {\n",
              "      border-color: transparent;\n",
              "      border-left-color: var(--fill-color);\n",
              "      border-top-color: var(--fill-color);\n",
              "      border-right-color: var(--fill-color);\n",
              "    }\n",
              "    40% {\n",
              "      border-color: transparent;\n",
              "      border-right-color: var(--fill-color);\n",
              "      border-top-color: var(--fill-color);\n",
              "    }\n",
              "    60% {\n",
              "      border-color: transparent;\n",
              "      border-right-color: var(--fill-color);\n",
              "    }\n",
              "    80% {\n",
              "      border-color: transparent;\n",
              "      border-right-color: var(--fill-color);\n",
              "      border-bottom-color: var(--fill-color);\n",
              "    }\n",
              "    90% {\n",
              "      border-color: transparent;\n",
              "      border-bottom-color: var(--fill-color);\n",
              "    }\n",
              "  }\n",
              "</style>\n",
              "\n",
              "  <script>\n",
              "    async function quickchart(key) {\n",
              "      const quickchartButtonEl =\n",
              "        document.querySelector('#' + key + ' button');\n",
              "      quickchartButtonEl.disabled = true;  // To prevent multiple clicks.\n",
              "      quickchartButtonEl.classList.add('colab-df-spinner');\n",
              "      try {\n",
              "        const charts = await google.colab.kernel.invokeFunction(\n",
              "            'suggestCharts', [key], {});\n",
              "      } catch (error) {\n",
              "        console.error('Error during call to suggestCharts:', error);\n",
              "      }\n",
              "      quickchartButtonEl.classList.remove('colab-df-spinner');\n",
              "      quickchartButtonEl.classList.add('colab-df-quickchart-complete');\n",
              "    }\n",
              "    (() => {\n",
              "      let quickchartButtonEl =\n",
              "        document.querySelector('#df-e1835ad3-bea5-43d5-b48f-5762751f6d96 button');\n",
              "      quickchartButtonEl.style.display =\n",
              "        google.colab.kernel.accessAllowed ? 'block' : 'none';\n",
              "    })();\n",
              "  </script>\n",
              "</div>\n",
              "\n",
              "  <div id=\"id_70fb00cd-0122-43d2-9e14-6599969df4e1\">\n",
              "    <style>\n",
              "      .colab-df-generate {\n",
              "        background-color: #E8F0FE;\n",
              "        border: none;\n",
              "        border-radius: 50%;\n",
              "        cursor: pointer;\n",
              "        display: none;\n",
              "        fill: #1967D2;\n",
              "        height: 32px;\n",
              "        padding: 0 0 0 0;\n",
              "        width: 32px;\n",
              "      }\n",
              "\n",
              "      .colab-df-generate:hover {\n",
              "        background-color: #E2EBFA;\n",
              "        box-shadow: 0px 1px 2px rgba(60, 64, 67, 0.3), 0px 1px 3px 1px rgba(60, 64, 67, 0.15);\n",
              "        fill: #174EA6;\n",
              "      }\n",
              "\n",
              "      [theme=dark] .colab-df-generate {\n",
              "        background-color: #3B4455;\n",
              "        fill: #D2E3FC;\n",
              "      }\n",
              "\n",
              "      [theme=dark] .colab-df-generate:hover {\n",
              "        background-color: #434B5C;\n",
              "        box-shadow: 0px 1px 3px 1px rgba(0, 0, 0, 0.15);\n",
              "        filter: drop-shadow(0px 1px 2px rgba(0, 0, 0, 0.3));\n",
              "        fill: #FFFFFF;\n",
              "      }\n",
              "    </style>\n",
              "    <button class=\"colab-df-generate\" onclick=\"generateWithVariable('data')\"\n",
              "            title=\"Generate code using this dataframe.\"\n",
              "            style=\"display:none;\">\n",
              "\n",
              "  <svg xmlns=\"http://www.w3.org/2000/svg\" height=\"24px\"viewBox=\"0 0 24 24\"\n",
              "       width=\"24px\">\n",
              "    <path d=\"M7,19H8.4L18.45,9,17,7.55,7,17.6ZM5,21V16.75L18.45,3.32a2,2,0,0,1,2.83,0l1.4,1.43a1.91,1.91,0,0,1,.58,1.4,1.91,1.91,0,0,1-.58,1.4L9.25,21ZM18.45,9,17,7.55Zm-12,3A5.31,5.31,0,0,0,4.9,8.1,5.31,5.31,0,0,0,1,6.5,5.31,5.31,0,0,0,4.9,4.9,5.31,5.31,0,0,0,6.5,1,5.31,5.31,0,0,0,8.1,4.9,5.31,5.31,0,0,0,12,6.5,5.46,5.46,0,0,0,6.5,12Z\"/>\n",
              "  </svg>\n",
              "    </button>\n",
              "    <script>\n",
              "      (() => {\n",
              "      const buttonEl =\n",
              "        document.querySelector('#id_70fb00cd-0122-43d2-9e14-6599969df4e1 button.colab-df-generate');\n",
              "      buttonEl.style.display =\n",
              "        google.colab.kernel.accessAllowed ? 'block' : 'none';\n",
              "\n",
              "      buttonEl.onclick = () => {\n",
              "        google.colab.notebook.generateWithVariable('data');\n",
              "      }\n",
              "      })();\n",
              "    </script>\n",
              "  </div>\n",
              "\n",
              "    </div>\n",
              "  </div>\n"
            ],
            "application/vnd.google.colaboratory.intrinsic+json": {
              "type": "dataframe",
              "variable_name": "data",
              "summary": "{\n  \"name\": \"data\",\n  \"rows\": 500,\n  \"fields\": [\n    {\n      \"column\": \"data\",\n      \"properties\": {\n        \"dtype\": \"number\",\n        \"std\": 2.895427510380739,\n        \"min\": -5.0,\n        \"max\": 5.0,\n        \"num_unique_values\": 500,\n        \"samples\": [\n          2.234468937875751,\n          -3.5370741482965933,\n          2.49498997995992\n        ],\n        \"semantic_type\": \"\",\n        \"description\": \"\"\n      }\n    },\n    {\n      \"column\": \"sigmoid\",\n      \"properties\": {\n        \"dtype\": \"number\",\n        \"std\": 0.3896489360081563,\n        \"min\": 0.006692850924284856,\n        \"max\": 0.9933071490757152,\n        \"num_unique_values\": 500,\n        \"samples\": [\n          0.9033024122218084,\n          0.028275567988399326,\n          0.9237898517721754\n        ],\n        \"semantic_type\": \"\",\n        \"description\": \"\"\n      }\n    }\n  ]\n}"
            }
          },
          "metadata": {},
          "execution_count": 9
        }
      ]
    },
    {
      "cell_type": "markdown",
      "source": [
        "Funkcja ta przyjmuje wartości z przedziału od 0 do 1. Często jest ona stosowana w ostatnich warstwach w klasyfikacji binarnej, gdy trzeba przekształcić wynik równań dokonywanych przez neurony przekształcić na prawdopodobieństwo przynależności do klasy pozytywnej."
      ],
      "metadata": {
        "id": "wyPYb65tAcir"
      }
    },
    {
      "cell_type": "code",
      "source": [
        "px.line(data, x='data', y='sigmoid', width=800, height=600, range_y=[-0.5, 1.5], range_x=[-5.5, 5.5])"
      ],
      "metadata": {
        "colab": {
          "base_uri": "https://localhost:8080/",
          "height": 617
        },
        "id": "8u1gjjYrAVcT",
        "outputId": "b524eedc-78c3-4e71-a8e2-9607d7216c25"
      },
      "execution_count": 10,
      "outputs": [
        {
          "output_type": "display_data",
          "data": {
            "text/html": [
              "<html>\n",
              "<head><meta charset=\"utf-8\" /></head>\n",
              "<body>\n",
              "    <div>            <script src=\"https://cdnjs.cloudflare.com/ajax/libs/mathjax/2.7.5/MathJax.js?config=TeX-AMS-MML_SVG\"></script><script type=\"text/javascript\">if (window.MathJax && window.MathJax.Hub && window.MathJax.Hub.Config) {window.MathJax.Hub.Config({SVG: {font: \"STIX-Web\"}});}</script>                <script type=\"text/javascript\">window.PlotlyConfig = {MathJaxConfig: 'local'};</script>\n",
              "        <script charset=\"utf-8\" src=\"https://cdn.plot.ly/plotly-2.24.1.min.js\"></script>                <div id=\"2b320e68-3485-420f-ae27-7d22febcdc4b\" class=\"plotly-graph-div\" style=\"height:600px; width:800px;\"></div>            <script type=\"text/javascript\">                                    window.PLOTLYENV=window.PLOTLYENV || {};                                    if (document.getElementById(\"2b320e68-3485-420f-ae27-7d22febcdc4b\")) {                    Plotly.newPlot(                        \"2b320e68-3485-420f-ae27-7d22febcdc4b\",                        [{\"hovertemplate\":\"data=%{x}\\u003cbr\\u003esigmoid=%{y}\\u003cextra\\u003e\\u003c\\u002fextra\\u003e\",\"legendgroup\":\"\",\"line\":{\"color\":\"#636efa\",\"dash\":\"solid\"},\"marker\":{\"symbol\":\"circle\"},\"mode\":\"lines\",\"name\":\"\",\"orientation\":\"v\",\"showlegend\":false,\"x\":[-5.0,-4.979959919839679,-4.959919839679359,-4.939879759519038,-4.919839679358717,-4.8997995991983965,-4.8797595190380765,-4.859719438877756,-4.839679358717435,-4.819639278557114,-4.799599198396794,-4.779559118236473,-4.759519038076152,-4.739478957915832,-4.719438877755511,-4.69939879759519,-4.679358717434869,-4.659318637274549,-4.6392785571142285,-4.619238476953908,-4.599198396793588,-4.579158316633267,-4.559118236472946,-4.539078156312625,-4.519038076152305,-4.498997995991984,-4.478957915831663,-4.458917835671342,-4.438877755511022,-4.4188376753507015,-4.398797595190381,-4.37875751503006,-4.35871743486974,-4.338677354709419,-4.318637274549098,-4.298597194388778,-4.278557114228457,-4.258517034068136,-4.238476953907815,-4.218436873747495,-4.198396793587174,-4.1783567134268536,-4.158316633266534,-4.138276553106213,-4.118236472945892,-4.098196392785571,-4.078156312625251,-4.05811623246493,-4.038076152304609,-4.018036072144288,-3.9979959919839683,-3.9779559118236474,-3.9579158316633265,-3.937875751503006,-3.9178356713426856,-3.8977955911823647,-3.877755511022044,-3.8577154308617234,-3.837675350701403,-3.817635270541082,-3.7975951903807617,-3.777555110220441,-3.7575150300601203,-3.7374749498997994,-3.717434869739479,-3.6973947895791586,-3.6773547094188377,-3.657314629258517,-3.6372745490981964,-3.617234468937876,-3.597194388777555,-3.5771543086172346,-3.557114228456914,-3.5370741482965933,-3.5170340681362724,-3.496993987975952,-3.4769539078156315,-3.4569138276553106,-3.4368737474949898,-3.4168336673346693,-3.396793587174349,-3.376753507014028,-3.3567134268537075,-3.336673346693387,-3.3166332665330662,-3.2965931863727453,-3.276553106212425,-3.2565130260521045,-3.2364729458917836,-3.2164328657314627,-3.1963927855711423,-3.176352705410822,-3.156312625250501,-3.1362725450901805,-3.11623246492986,-3.096192384769539,-3.0761523046092183,-3.056112224448898,-3.0360721442885774,-3.0160320641282565,-2.995991983967936,-2.975951903807615,-2.9559118236472948,-2.935871743486974,-2.9158316633266534,-2.8957915831663326,-2.875751503006012,-2.8557114228456917,-2.835671342685371,-2.8156312625250504,-2.7955911823647295,-2.775551102204409,-2.755511022044088,-2.7354709418837677,-2.715430861723447,-2.6953907815631264,-2.6753507014028055,-2.655310621242485,-2.6352705410821646,-2.6152304609218437,-2.5951903807615233,-2.5751503006012024,-2.555110220440882,-2.535070140280561,-2.5150300601202407,-2.49498997995992,-2.4749498997995993,-2.4549098196392785,-2.434869739478958,-2.4148296593186376,-2.3947895791583167,-2.3747494989979963,-2.3547094188376754,-2.334669338677355,-2.314629258517034,-2.2945891783567136,-2.2745490981963927,-2.2545090180360723,-2.2344689378757514,-2.214428857715431,-2.1943887775551105,-2.1743486973947896,-2.154308617234469,-2.1342685370741483,-2.114228456913828,-2.094188376753507,-2.0741482965931866,-2.0541082164328657,-2.0340681362725452,-2.0140280561122244,-1.993987975951904,-1.9739478957915835,-1.9539078156312626,-1.9338677354709422,-1.9138276553106213,-1.8937875751503008,-1.87374749498998,-1.8537074148296595,-1.8336673346693386,-1.8136272545090182,-1.7935871743486977,-1.7735470941883769,-1.7535070140280564,-1.7334669338677355,-1.713426853707415,-1.6933867735470942,-1.6733466933867738,-1.653306613226453,-1.6332665330661325,-1.6132264529058116,-1.5931863727454911,-1.5731462925851707,-1.5531062124248498,-1.5330661322645294,-1.5130260521042085,-1.492985971943888,-1.4729458917835672,-1.4529058116232467,-1.4328657314629258,-1.4128256513026054,-1.3927855711422845,-1.372745490981964,-1.3527054108216436,-1.3326653306613228,-1.3126252505010023,-1.2925851703406814,-1.272545090180361,-1.25250501002004,-1.2324649298597197,-1.2124248496993988,-1.1923847695390783,-1.1723446893787575,-1.152304609218437,-1.1322645290581166,-1.1122244488977957,-1.0921843687374753,-1.0721442885771544,-1.052104208416834,-1.032064128256513,-1.0120240480961926,-0.9919839679358722,-0.9719438877755513,-0.9519038076152304,-0.9318637274549104,-0.9118236472945895,-0.8917835671342687,-0.8717434869739478,-0.8517034068136278,-0.8316633266533069,-0.811623246492986,-0.7915831663326651,-0.7715430861723451,-0.7515030060120242,-0.7314629258517034,-0.7114228456913834,-0.6913827655310625,-0.6713426853707416,-0.6513026052104207,-0.6312625250501007,-0.6112224448897798,-0.591182364729459,-0.5711422845691381,-0.5511022044088181,-0.5310621242484972,-0.5110220440881763,-0.4909819639278563,-0.47094188376753543,-0.45090180360721455,-0.43086172344689366,-0.41082164328657367,-0.3907815631262528,-0.3707414829659319,-0.350701402805611,-0.330661322645291,-0.31062124248497014,-0.29058116232464926,-0.27054108216432926,-0.2505010020040084,-0.2304609218436875,-0.2104208416833666,-0.19038076152304662,-0.17034068136272573,-0.15030060120240485,-0.13026052104208397,-0.11022044088176397,-0.09018036072144309,-0.0701402805611222,-0.05010020040080221,-0.030060120240481325,-0.010020040080160442,0.010020040080160442,0.030060120240480437,0.05010020040080132,0.0701402805611222,0.09018036072144309,0.11022044088176308,0.13026052104208397,0.15030060120240485,0.17034068136272484,0.19038076152304573,0.2104208416833666,0.2304609218436875,0.2505010020040075,0.2705410821643284,0.29058116232464926,0.31062124248497014,0.33066132264529013,0.350701402805611,0.3707414829659319,0.3907815631262519,0.4108216432865728,0.43086172344689366,0.45090180360721455,0.47094188376753454,0.4909819639278554,0.5110220440881763,0.5310621242484972,0.5511022044088172,0.5711422845691381,0.591182364729459,0.611222444889779,0.6312625250500998,0.6513026052104207,0.6713426853707416,0.6913827655310616,0.7114228456913825,0.7314629258517034,0.7515030060120242,0.7715430861723442,0.7915831663326651,0.811623246492986,0.831663326653306,0.8517034068136269,0.8717434869739478,0.8917835671342687,0.9118236472945886,0.9318637274549095,0.9519038076152304,0.9719438877755513,0.9919839679358713,1.0120240480961922,1.032064128256513,1.052104208416833,1.072144288577154,1.0921843687374748,1.1122244488977957,1.1322645290581157,1.1523046092184366,1.1723446893787575,1.1923847695390783,1.2124248496993983,1.2324649298597192,1.25250501002004,1.27254509018036,1.292585170340681,1.3126252505010019,1.3326653306613228,1.3527054108216428,1.3727454909819636,1.3927855711422845,1.4128256513026045,1.4328657314629254,1.4529058116232463,1.4729458917835672,1.4929859719438872,1.513026052104208,1.533066132264529,1.5531062124248498,1.5731462925851698,1.5931863727454907,1.6132264529058116,1.6332665330661316,1.6533066132264524,1.6733466933867733,1.6933867735470942,1.7134268537074142,1.733466933867735,1.753507014028056,1.7735470941883769,1.7935871743486969,1.8136272545090177,1.8336673346693386,1.8537074148296586,1.8737474949899795,1.8937875751503004,1.9138276553106213,1.9338677354709413,1.9539078156312621,1.973947895791583,1.993987975951904,2.014028056112224,2.034068136272545,2.0541082164328657,2.0741482965931857,2.0941883767535066,2.1142284569138274,2.1342685370741483,2.1543086172344683,2.174348697394789,2.19438877755511,2.214428857715431,2.234468937875751,2.254509018036072,2.2745490981963927,2.2945891783567127,2.3146292585170336,2.3346693386773545,2.3547094188376754,2.3747494989979954,2.3947895791583163,2.414829659318637,2.434869739478958,2.454909819639278,2.474949899799599,2.49498997995992,2.5150300601202398,2.5350701402805607,2.5551102204408815,2.5751503006012024,2.5951903807615224,2.6152304609218433,2.635270541082164,2.655310621242485,2.675350701402805,2.695390781563126,2.715430861723447,2.735470941883767,2.7555110220440877,2.7755511022044086,2.7955911823647295,2.8156312625250495,2.8356713426853704,2.8557114228456912,2.875751503006012,2.895791583166332,2.915831663326653,2.935871743486974,2.955911823647294,2.9759519038076148,2.9959919839679356,3.0160320641282556,3.0360721442885765,3.0561122244488974,3.0761523046092183,3.096192384769539,3.11623246492986,3.136272545090179,3.1563126252505,3.176352705410821,3.196392785571142,3.2164328657314627,3.2364729458917836,3.2565130260521045,3.2765531062124253,3.2965931863727445,3.3166332665330653,3.336673346693386,3.356713426853707,3.376753507014028,3.396793587174349,3.4168336673346698,3.436873747494989,3.4569138276553097,3.4769539078156306,3.4969939879759515,3.5170340681362724,3.5370741482965933,3.557114228456914,3.5771543086172333,3.597194388777554,3.617234468937875,3.637274549098196,3.657314629258517,3.6773547094188377,3.6973947895791586,3.7174348697394795,3.7374749498997986,3.7575150300601194,3.7775551102204403,3.797595190380761,3.817635270541082,3.837675350701403,3.857715430861724,3.877755511022043,3.897795591182364,3.9178356713426847,3.9378757515030056,3.9579158316633265,3.9779559118236474,3.9979959919839683,4.018036072144287,4.038076152304608,4.058116232464929,4.07815631262525,4.098196392785571,4.118236472945892,4.138276553106213,4.158316633266534,4.178356713426853,4.1983967935871735,4.218436873747494,4.238476953907815,4.258517034068136,4.278557114228457,4.298597194388778,4.318637274549097,4.338677354709418,4.358717434869739,4.37875751503006,4.398797595190381,4.4188376753507015,4.438877755511022,4.4589178356713415,4.478957915831662,4.498997995991983,4.519038076152304,4.539078156312625,4.559118236472946,4.579158316633267,4.599198396793588,4.619238476953907,4.639278557114228,4.6593186372745485,4.679358717434869,4.69939879759519,4.719438877755511,4.739478957915832,4.759519038076151,4.779559118236472,4.799599198396793,4.819639278557114,4.839679358717435,4.859719438877756,4.8797595190380765,4.899799599198396,4.9198396793587165,4.939879759519037,4.959919839679358,4.979959919839679,5.0],\"xaxis\":\"x\",\"y\":[0.006692850924284856,0.006827404191946325,0.006964643555634967,0.007104621868055501,0.007247392990610067,0.007393011811376326,0.00754153426335334,0.007693017342977048,0.007847519128906836,0.00800509880108483,0.008165816660069193,0.008329734146642785,0.008496913861698166,0.008667419586400105,0.008841316302626323,0.009018670213687142,0.009199548765324599,0.009384020666991351,0.009572155913409508,0.009764025806409301,0.009959702977047402,0.010159261408004397,0.01036277645626062,0.010570324876049541,0.010781984842087361,0.010997835973077486,0.011217959355487908,0.011442437567599698,0.011671354703824065,0.0119047963992854,0.01214284985466716,0.012385603861317377,0.012633148826609904,0.012885576799557374,0.013142981496671154,0.013405458328063518,0.01367310442378658,0.013946018660401953,0.014224301687775014,0.014508055956086759,0.014797385743055991,0.015092397181363704,0.01539319828627146,0.01569989898342451,0.01601261113682989,0.01633144857699942,0.016656527129246305,0.016987964642124008,0.017325881015994582,0.01767039823171374,0.01802164037941846,0.018379733687402693,0.018744806551065286,0.019116989561914155,0.019496415536609198,0.019883219546025767,0.020277538944319724,0.02067951339797383,0.021089284914804482,0.0215069978729065,0.021932799049512813,0.02236683764974475,0.022809265335227282,0.023260236252542664,0.02371990706149449,0.024188436963153134,0.024665987727651932,0.025152723721702436,0.025648811935795657,0.026154422011054623,0.026669726265702298,0.027194899721107328,0.02773012012736882,0.028275567988399326,0.028831426586463954,0.02939788200613204,0.029975123157595585,0.030563341799307486,0.031162732559890594,0.031773492959266854,0.03239582342895414,0.03302992733147616,0.03367601097882931,0.03433428364994841,0.035004957607110754,0.03568824811121678,0.036384373435882855,0.037093554880280266,0.03781601678065172,0.03855198652043538,0.03930169453892366,0.04006537433838233,0.04084326248955287,0.04163559863545925,0.04244262549343811,0.043264588855308726,0.04410173758559717,0.04495432361772735,0.04582260194808849,0.04670683062788712,0.04760727075268927,0.04852418644955653,0.0494578448616769,0.05040851613039048,0.051376473374506355,0.052361992666806745,0.05336535300763069,0.05438683629542948,0.0554267272941825,0.05648531359756141,0.05756288558972873,0.05865973640265454,0.05977616186983469,0.0609124604762912,0.06206893330473532,0.06324588397777156,0.06444361859602085,0.06566244567203935,0.06690267605990924,0.06816462288037653,0.06944860144141154,0.07075492915406686,0.07208392544350692,0.07343591165508574,0.07481121095534714,0.07621014822782457,0.07763304996351744,0.07908024414592302,0.08055206013050338,0.0820488285184704,0.08357088102477186,0.08511855034016653,0.08669216998727734,0.08829207417051556,0.08991859761977301,0.09157207542778256,0.09325284288105254,0.09496123528428466,0.09669758777819161,0.09846223515063494,0.10025551164101179,0.10207775073782423,0.10392928496937322,0.10581044568752788,0.10772156284452655,0.10966296476277848,0.11163497789764143,0.11363792659316307,0.11567213283078244,0.11773791597100133,0.11983559248804505,0.12196547569754632,0.12412787547729788,0.1263230979811335,0.128551445346012,0.13081321539239166,0.13310870131800118,0.13543819138512533,0.13780196860154445,0.1402003103952796,0.1426334882833174,0.14510176753450263,0.14760540682680884,0.1501446578992148,0.15271976519843425,0.1553309655207675,0.15797848764936331,0.16066255198720072,0.16338337018612126,0.16614114477226488,0.16893606876828254,0.1717683253127228,0.1746380872770095,0.17754551688045156,0.18049076530374775,0.18347397230146978,0.18649526581403203,0.18955476157967466,0.19265256274701145,0.19578875948871183,0.1989634286169107,0.20217663320095564,0.20542842218812551,0.20871883002796843,0.21204787630092833,0.21541556535194692,0.21882188592973978,0.2222668108324665,0.2257502965605227,0.22927228297719962,0.23283269297796325,0.23643143216911974,0.24006838855663662,0.24374343224590106,0.24745641515319744,0.2512071707296895,0.2549955136986968,0.2588212398070484,0.26268412559129933,0.2665839281595838,0.2705203849898781,0.27449321374542884,0.27850211210809594,0.2825467576303412,0.28662680760657727,0.2907418989645698,0.2948916481775681,0.29907565119780766,0.30329348341200785,0.30754469961944875,0.3118288340331902,0.31614540030494886,0.32049389157412095,0.324873780541391,0.3292845195673314,0.33372554079634725,0.3381962563062753,0.34269605828390043,0.3472243192265973,0.3517803921702551,0.3563636109435866,0.36097329044887,0.3656087269691101,0.37026919850155127,0.374953965117409,0.3796622693476347,0.3843933365944577,0.38914637556839243,0.39392057875033687,0.39871512287832195,0.4035291694584149,0.40836186529921287,0.4132123430693083,0.4180797218770413,0.4229631078718005,0.4278615948660721,0.432774264977385,0.43770018928924387,0.4426384285300863,0.44758803376925854,0.45254804712894847,0.457517502510976,0.4624954263372916,0.4674808383030057,0.47247275214072365,0.47747017639493955,0.48247211520520195,0.4874775690967507,0.49248553577729515,0.49749501093858445,0.5025049890614155,0.5075144642227045,0.5125224309032491,0.517527884794798,0.5225298236050605,0.5275272478592761,0.5325191616969943,0.5375045736627084,0.5424824974890238,0.5474519528710513,0.5524119662307415,0.5573615714699137,0.5622998107107559,0.5672257350226148,0.572138405133928,0.5770368921281995,0.5819202781229585,0.5867876569306918,0.5916381347007872,0.5964708305415849,0.6012848771216778,0.6060794212496631,0.6108536244316076,0.6156066634055422,0.6203377306523651,0.625046034882591,0.6297308014984487,0.6343912730308896,0.63902670955113,0.6436363890564134,0.6482196078297447,0.6527756807734025,0.6573039417160995,0.6618037436937247,0.6662744592036526,0.6707154804326684,0.675126219458609,0.679506108425879,0.6838545996950509,0.6881711659668097,0.6924553003805513,0.696706516587992,0.7009243488021921,0.7051083518224319,0.7092581010354302,0.7133731923934226,0.7174532423696586,0.721497887891904,0.7255067862545712,0.7294796150101217,0.7334160718404161,0.7373158744087007,0.7411787601929515,0.7450044863013031,0.7487928292703104,0.7525435848468025,0.7562565677540987,0.7599316114433634,0.7635685678308803,0.7671673070220367,0.7707277170228002,0.7742497034394772,0.7777331891675335,0.7811781140702602,0.7845844346480529,0.7879521236990716,0.7912811699720316,0.7945715778118743,0.7978233667990443,0.8010365713830894,0.804211240511288,0.8073474372529885,0.8104452384203252,0.8135047341859679,0.8165260276985301,0.8195092346962521,0.8224544831195484,0.8253619127229905,0.8282316746872771,0.8310639312317174,0.8338588552277351,0.8366166298138786,0.8393374480127992,0.8420215123506366,0.8446690344792325,0.8472802348015657,0.8498553421007852,0.8523945931731911,0.8548982324654973,0.8573665117166824,0.8597996896047203,0.8621980313984555,0.8645618086148745,0.8668912986819988,0.8691867846076082,0.871448554653988,0.8736769020188664,0.8758721245227021,0.8780345243024537,0.8801644075119549,0.8822620840289987,0.8843278671692175,0.8863620734068369,0.8883650221023585,0.8903370352372214,0.8922784371554734,0.8941895543124722,0.8960707150306267,0.8979222492621758,0.8997444883589881,0.9015377648493651,0.9033024122218084,0.9050387647157153,0.9067471571189475,0.9084279245722173,0.910081402380227,0.9117079258294845,0.9133078300127226,0.9148814496598334,0.916429118975228,0.9179511714815296,0.9194479398694966,0.9209197558540769,0.9223669500364825,0.9237898517721754,0.9251887890446528,0.9265640883449142,0.927916074556493,0.9292450708459331,0.9305513985585884,0.9318353771196235,0.9330973239400907,0.9343375543279606,0.9355563814039791,0.9367541160222285,0.9379310666952647,0.9390875395237086,0.9402238381301653,0.9413402635973455,0.9424371144102712,0.9435146864024385,0.9445732727058175,0.9456131637045705,0.9466346469923693,0.9476380073331933,0.9486235266254937,0.9495914838696096,0.9505421551383231,0.9514758135504434,0.9523927292473107,0.9532931693721128,0.9541773980519115,0.9550456763822727,0.9558982624144028,0.9567354111446913,0.9575573745065619,0.9583644013645407,0.959156737510447,0.9599346256616176,0.9606983054610764,0.9614480134795647,0.9621839832193483,0.9629064451197198,0.9636156265641171,0.9643117518887832,0.9649950423928892,0.9656657163500516,0.9663239890211707,0.9669700726685239,0.9676041765710459,0.9682265070407332,0.9688372674401095,0.9694366582006926,0.9700248768424043,0.970602117993868,0.971168573413536,0.9717244320116006,0.9722698798726311,0.9728051002788927,0.9733302737342977,0.9738455779889453,0.9743511880642043,0.9748472762782976,0.9753340122723481,0.9758115630368469,0.9762800929385055,0.9767397637474573,0.9771907346647727,0.9776331623502552,0.9780672009504872,0.9784930021270934,0.9789107150851956,0.9793204866020262,0.9797224610556803,0.9801167804539742,0.9805035844633908,0.9808830104380858,0.9812551934489347,0.9816202663125974,0.9819783596205816,0.9823296017682862,0.9826741189840054,0.983012035357876,0.9833434728707536,0.9836685514230006,0.98398738886317,0.9843001010165755,0.9846068017137286,0.9849076028186363,0.985202614256944,0.9854919440439133,0.985775698312225,0.9860539813395981,0.9863268955762134,0.9865945416719365,0.9868570185033289,0.9871144232004426,0.9873668511733901,0.9876143961386826,0.9878571501453328,0.9880952036007146,0.9883286452961759,0.9885575624324003,0.988782040644512,0.9890021640269225,0.9892180151579126,0.9894296751239504,0.9896372235437394,0.9898407385919956,0.9900402970229526,0.9902359741935907,0.9904278440865905,0.9906159793330086,0.9908004512346754,0.9909813297863128,0.9911586836973737,0.9913325804136,0.9915030861383018,0.9916702658533572,0.9918341833399308,0.9919949011989152,0.9921524808710932,0.992306982657023,0.9924584657366466,0.9926069881886237,0.9927526070093899,0.9928953781319445,0.993035356444365,0.9931725958080537,0.9933071490757152],\"yaxis\":\"y\",\"type\":\"scatter\"}],                        {\"template\":{\"data\":{\"histogram2dcontour\":[{\"type\":\"histogram2dcontour\",\"colorbar\":{\"outlinewidth\":0,\"ticks\":\"\"},\"colorscale\":[[0.0,\"#0d0887\"],[0.1111111111111111,\"#46039f\"],[0.2222222222222222,\"#7201a8\"],[0.3333333333333333,\"#9c179e\"],[0.4444444444444444,\"#bd3786\"],[0.5555555555555556,\"#d8576b\"],[0.6666666666666666,\"#ed7953\"],[0.7777777777777778,\"#fb9f3a\"],[0.8888888888888888,\"#fdca26\"],[1.0,\"#f0f921\"]]}],\"choropleth\":[{\"type\":\"choropleth\",\"colorbar\":{\"outlinewidth\":0,\"ticks\":\"\"}}],\"histogram2d\":[{\"type\":\"histogram2d\",\"colorbar\":{\"outlinewidth\":0,\"ticks\":\"\"},\"colorscale\":[[0.0,\"#0d0887\"],[0.1111111111111111,\"#46039f\"],[0.2222222222222222,\"#7201a8\"],[0.3333333333333333,\"#9c179e\"],[0.4444444444444444,\"#bd3786\"],[0.5555555555555556,\"#d8576b\"],[0.6666666666666666,\"#ed7953\"],[0.7777777777777778,\"#fb9f3a\"],[0.8888888888888888,\"#fdca26\"],[1.0,\"#f0f921\"]]}],\"heatmap\":[{\"type\":\"heatmap\",\"colorbar\":{\"outlinewidth\":0,\"ticks\":\"\"},\"colorscale\":[[0.0,\"#0d0887\"],[0.1111111111111111,\"#46039f\"],[0.2222222222222222,\"#7201a8\"],[0.3333333333333333,\"#9c179e\"],[0.4444444444444444,\"#bd3786\"],[0.5555555555555556,\"#d8576b\"],[0.6666666666666666,\"#ed7953\"],[0.7777777777777778,\"#fb9f3a\"],[0.8888888888888888,\"#fdca26\"],[1.0,\"#f0f921\"]]}],\"heatmapgl\":[{\"type\":\"heatmapgl\",\"colorbar\":{\"outlinewidth\":0,\"ticks\":\"\"},\"colorscale\":[[0.0,\"#0d0887\"],[0.1111111111111111,\"#46039f\"],[0.2222222222222222,\"#7201a8\"],[0.3333333333333333,\"#9c179e\"],[0.4444444444444444,\"#bd3786\"],[0.5555555555555556,\"#d8576b\"],[0.6666666666666666,\"#ed7953\"],[0.7777777777777778,\"#fb9f3a\"],[0.8888888888888888,\"#fdca26\"],[1.0,\"#f0f921\"]]}],\"contourcarpet\":[{\"type\":\"contourcarpet\",\"colorbar\":{\"outlinewidth\":0,\"ticks\":\"\"}}],\"contour\":[{\"type\":\"contour\",\"colorbar\":{\"outlinewidth\":0,\"ticks\":\"\"},\"colorscale\":[[0.0,\"#0d0887\"],[0.1111111111111111,\"#46039f\"],[0.2222222222222222,\"#7201a8\"],[0.3333333333333333,\"#9c179e\"],[0.4444444444444444,\"#bd3786\"],[0.5555555555555556,\"#d8576b\"],[0.6666666666666666,\"#ed7953\"],[0.7777777777777778,\"#fb9f3a\"],[0.8888888888888888,\"#fdca26\"],[1.0,\"#f0f921\"]]}],\"surface\":[{\"type\":\"surface\",\"colorbar\":{\"outlinewidth\":0,\"ticks\":\"\"},\"colorscale\":[[0.0,\"#0d0887\"],[0.1111111111111111,\"#46039f\"],[0.2222222222222222,\"#7201a8\"],[0.3333333333333333,\"#9c179e\"],[0.4444444444444444,\"#bd3786\"],[0.5555555555555556,\"#d8576b\"],[0.6666666666666666,\"#ed7953\"],[0.7777777777777778,\"#fb9f3a\"],[0.8888888888888888,\"#fdca26\"],[1.0,\"#f0f921\"]]}],\"mesh3d\":[{\"type\":\"mesh3d\",\"colorbar\":{\"outlinewidth\":0,\"ticks\":\"\"}}],\"scatter\":[{\"fillpattern\":{\"fillmode\":\"overlay\",\"size\":10,\"solidity\":0.2},\"type\":\"scatter\"}],\"parcoords\":[{\"type\":\"parcoords\",\"line\":{\"colorbar\":{\"outlinewidth\":0,\"ticks\":\"\"}}}],\"scatterpolargl\":[{\"type\":\"scatterpolargl\",\"marker\":{\"colorbar\":{\"outlinewidth\":0,\"ticks\":\"\"}}}],\"bar\":[{\"error_x\":{\"color\":\"#2a3f5f\"},\"error_y\":{\"color\":\"#2a3f5f\"},\"marker\":{\"line\":{\"color\":\"#E5ECF6\",\"width\":0.5},\"pattern\":{\"fillmode\":\"overlay\",\"size\":10,\"solidity\":0.2}},\"type\":\"bar\"}],\"scattergeo\":[{\"type\":\"scattergeo\",\"marker\":{\"colorbar\":{\"outlinewidth\":0,\"ticks\":\"\"}}}],\"scatterpolar\":[{\"type\":\"scatterpolar\",\"marker\":{\"colorbar\":{\"outlinewidth\":0,\"ticks\":\"\"}}}],\"histogram\":[{\"marker\":{\"pattern\":{\"fillmode\":\"overlay\",\"size\":10,\"solidity\":0.2}},\"type\":\"histogram\"}],\"scattergl\":[{\"type\":\"scattergl\",\"marker\":{\"colorbar\":{\"outlinewidth\":0,\"ticks\":\"\"}}}],\"scatter3d\":[{\"type\":\"scatter3d\",\"line\":{\"colorbar\":{\"outlinewidth\":0,\"ticks\":\"\"}},\"marker\":{\"colorbar\":{\"outlinewidth\":0,\"ticks\":\"\"}}}],\"scattermapbox\":[{\"type\":\"scattermapbox\",\"marker\":{\"colorbar\":{\"outlinewidth\":0,\"ticks\":\"\"}}}],\"scatterternary\":[{\"type\":\"scatterternary\",\"marker\":{\"colorbar\":{\"outlinewidth\":0,\"ticks\":\"\"}}}],\"scattercarpet\":[{\"type\":\"scattercarpet\",\"marker\":{\"colorbar\":{\"outlinewidth\":0,\"ticks\":\"\"}}}],\"carpet\":[{\"aaxis\":{\"endlinecolor\":\"#2a3f5f\",\"gridcolor\":\"white\",\"linecolor\":\"white\",\"minorgridcolor\":\"white\",\"startlinecolor\":\"#2a3f5f\"},\"baxis\":{\"endlinecolor\":\"#2a3f5f\",\"gridcolor\":\"white\",\"linecolor\":\"white\",\"minorgridcolor\":\"white\",\"startlinecolor\":\"#2a3f5f\"},\"type\":\"carpet\"}],\"table\":[{\"cells\":{\"fill\":{\"color\":\"#EBF0F8\"},\"line\":{\"color\":\"white\"}},\"header\":{\"fill\":{\"color\":\"#C8D4E3\"},\"line\":{\"color\":\"white\"}},\"type\":\"table\"}],\"barpolar\":[{\"marker\":{\"line\":{\"color\":\"#E5ECF6\",\"width\":0.5},\"pattern\":{\"fillmode\":\"overlay\",\"size\":10,\"solidity\":0.2}},\"type\":\"barpolar\"}],\"pie\":[{\"automargin\":true,\"type\":\"pie\"}]},\"layout\":{\"autotypenumbers\":\"strict\",\"colorway\":[\"#636efa\",\"#EF553B\",\"#00cc96\",\"#ab63fa\",\"#FFA15A\",\"#19d3f3\",\"#FF6692\",\"#B6E880\",\"#FF97FF\",\"#FECB52\"],\"font\":{\"color\":\"#2a3f5f\"},\"hovermode\":\"closest\",\"hoverlabel\":{\"align\":\"left\"},\"paper_bgcolor\":\"white\",\"plot_bgcolor\":\"#E5ECF6\",\"polar\":{\"bgcolor\":\"#E5ECF6\",\"angularaxis\":{\"gridcolor\":\"white\",\"linecolor\":\"white\",\"ticks\":\"\"},\"radialaxis\":{\"gridcolor\":\"white\",\"linecolor\":\"white\",\"ticks\":\"\"}},\"ternary\":{\"bgcolor\":\"#E5ECF6\",\"aaxis\":{\"gridcolor\":\"white\",\"linecolor\":\"white\",\"ticks\":\"\"},\"baxis\":{\"gridcolor\":\"white\",\"linecolor\":\"white\",\"ticks\":\"\"},\"caxis\":{\"gridcolor\":\"white\",\"linecolor\":\"white\",\"ticks\":\"\"}},\"coloraxis\":{\"colorbar\":{\"outlinewidth\":0,\"ticks\":\"\"}},\"colorscale\":{\"sequential\":[[0.0,\"#0d0887\"],[0.1111111111111111,\"#46039f\"],[0.2222222222222222,\"#7201a8\"],[0.3333333333333333,\"#9c179e\"],[0.4444444444444444,\"#bd3786\"],[0.5555555555555556,\"#d8576b\"],[0.6666666666666666,\"#ed7953\"],[0.7777777777777778,\"#fb9f3a\"],[0.8888888888888888,\"#fdca26\"],[1.0,\"#f0f921\"]],\"sequentialminus\":[[0.0,\"#0d0887\"],[0.1111111111111111,\"#46039f\"],[0.2222222222222222,\"#7201a8\"],[0.3333333333333333,\"#9c179e\"],[0.4444444444444444,\"#bd3786\"],[0.5555555555555556,\"#d8576b\"],[0.6666666666666666,\"#ed7953\"],[0.7777777777777778,\"#fb9f3a\"],[0.8888888888888888,\"#fdca26\"],[1.0,\"#f0f921\"]],\"diverging\":[[0,\"#8e0152\"],[0.1,\"#c51b7d\"],[0.2,\"#de77ae\"],[0.3,\"#f1b6da\"],[0.4,\"#fde0ef\"],[0.5,\"#f7f7f7\"],[0.6,\"#e6f5d0\"],[0.7,\"#b8e186\"],[0.8,\"#7fbc41\"],[0.9,\"#4d9221\"],[1,\"#276419\"]]},\"xaxis\":{\"gridcolor\":\"white\",\"linecolor\":\"white\",\"ticks\":\"\",\"title\":{\"standoff\":15},\"zerolinecolor\":\"white\",\"automargin\":true,\"zerolinewidth\":2},\"yaxis\":{\"gridcolor\":\"white\",\"linecolor\":\"white\",\"ticks\":\"\",\"title\":{\"standoff\":15},\"zerolinecolor\":\"white\",\"automargin\":true,\"zerolinewidth\":2},\"scene\":{\"xaxis\":{\"backgroundcolor\":\"#E5ECF6\",\"gridcolor\":\"white\",\"linecolor\":\"white\",\"showbackground\":true,\"ticks\":\"\",\"zerolinecolor\":\"white\",\"gridwidth\":2},\"yaxis\":{\"backgroundcolor\":\"#E5ECF6\",\"gridcolor\":\"white\",\"linecolor\":\"white\",\"showbackground\":true,\"ticks\":\"\",\"zerolinecolor\":\"white\",\"gridwidth\":2},\"zaxis\":{\"backgroundcolor\":\"#E5ECF6\",\"gridcolor\":\"white\",\"linecolor\":\"white\",\"showbackground\":true,\"ticks\":\"\",\"zerolinecolor\":\"white\",\"gridwidth\":2}},\"shapedefaults\":{\"line\":{\"color\":\"#2a3f5f\"}},\"annotationdefaults\":{\"arrowcolor\":\"#2a3f5f\",\"arrowhead\":0,\"arrowwidth\":1},\"geo\":{\"bgcolor\":\"white\",\"landcolor\":\"#E5ECF6\",\"subunitcolor\":\"white\",\"showland\":true,\"showlakes\":true,\"lakecolor\":\"white\"},\"title\":{\"x\":0.05},\"mapbox\":{\"style\":\"light\"}}},\"xaxis\":{\"anchor\":\"y\",\"domain\":[0.0,1.0],\"title\":{\"text\":\"data\"},\"range\":[-5.5,5.5]},\"yaxis\":{\"anchor\":\"x\",\"domain\":[0.0,1.0],\"title\":{\"text\":\"sigmoid\"},\"range\":[-0.5,1.5]},\"legend\":{\"tracegroupgap\":0},\"margin\":{\"t\":60},\"height\":600,\"width\":800},                        {\"responsive\": true}                    ).then(function(){\n",
              "                            \n",
              "var gd = document.getElementById('2b320e68-3485-420f-ae27-7d22febcdc4b');\n",
              "var x = new MutationObserver(function (mutations, observer) {{\n",
              "        var display = window.getComputedStyle(gd).display;\n",
              "        if (!display || display === 'none') {{\n",
              "            console.log([gd, 'removed!']);\n",
              "            Plotly.purge(gd);\n",
              "            observer.disconnect();\n",
              "        }}\n",
              "}});\n",
              "\n",
              "// Listen for the removal of the full notebook cells\n",
              "var notebookContainer = gd.closest('#notebook-container');\n",
              "if (notebookContainer) {{\n",
              "    x.observe(notebookContainer, {childList: true});\n",
              "}}\n",
              "\n",
              "// Listen for the clearing of the current output cell\n",
              "var outputEl = gd.closest('.output');\n",
              "if (outputEl) {{\n",
              "    x.observe(outputEl, {childList: true});\n",
              "}}\n",
              "\n",
              "                        })                };                            </script>        </div>\n",
              "</body>\n",
              "</html>"
            ]
          },
          "metadata": {}
        }
      ]
    },
    {
      "cell_type": "markdown",
      "source": [
        "## Funkcja ReLU."
      ],
      "metadata": {
        "id": "2XWKidTHBCSQ"
      }
    },
    {
      "cell_type": "markdown",
      "source": [
        "Funkcja ta jest liniowa dla wartości większych od 0, zaś wartościom ujemnym przypisuje wartość 0."
      ],
      "metadata": {
        "id": "HdZC2yQOBHsA"
      }
    },
    {
      "cell_type": "code",
      "source": [
        "from tensorflow.keras.activations import relu\n",
        "\n",
        "data = pd.DataFrame({'data': random_data, 'relu': relu(random_data)})\n",
        "data"
      ],
      "metadata": {
        "colab": {
          "base_uri": "https://localhost:8080/",
          "height": 424
        },
        "id": "e4qHH_q4BEFp",
        "outputId": "c4c51f4d-82c4-417f-99a4-69516411ad8f"
      },
      "execution_count": 11,
      "outputs": [
        {
          "output_type": "execute_result",
          "data": {
            "text/plain": [
              "        data     relu\n",
              "0   -5.00000  0.00000\n",
              "1   -4.97996  0.00000\n",
              "2   -4.95992  0.00000\n",
              "3   -4.93988  0.00000\n",
              "4   -4.91984  0.00000\n",
              "..       ...      ...\n",
              "495  4.91984  4.91984\n",
              "496  4.93988  4.93988\n",
              "497  4.95992  4.95992\n",
              "498  4.97996  4.97996\n",
              "499  5.00000  5.00000\n",
              "\n",
              "[500 rows x 2 columns]"
            ],
            "text/html": [
              "\n",
              "  <div id=\"df-9b035f94-c08a-4528-acad-306a84fb4b67\" class=\"colab-df-container\">\n",
              "    <div>\n",
              "<style scoped>\n",
              "    .dataframe tbody tr th:only-of-type {\n",
              "        vertical-align: middle;\n",
              "    }\n",
              "\n",
              "    .dataframe tbody tr th {\n",
              "        vertical-align: top;\n",
              "    }\n",
              "\n",
              "    .dataframe thead th {\n",
              "        text-align: right;\n",
              "    }\n",
              "</style>\n",
              "<table border=\"1\" class=\"dataframe\">\n",
              "  <thead>\n",
              "    <tr style=\"text-align: right;\">\n",
              "      <th></th>\n",
              "      <th>data</th>\n",
              "      <th>relu</th>\n",
              "    </tr>\n",
              "  </thead>\n",
              "  <tbody>\n",
              "    <tr>\n",
              "      <th>0</th>\n",
              "      <td>-5.00000</td>\n",
              "      <td>0.00000</td>\n",
              "    </tr>\n",
              "    <tr>\n",
              "      <th>1</th>\n",
              "      <td>-4.97996</td>\n",
              "      <td>0.00000</td>\n",
              "    </tr>\n",
              "    <tr>\n",
              "      <th>2</th>\n",
              "      <td>-4.95992</td>\n",
              "      <td>0.00000</td>\n",
              "    </tr>\n",
              "    <tr>\n",
              "      <th>3</th>\n",
              "      <td>-4.93988</td>\n",
              "      <td>0.00000</td>\n",
              "    </tr>\n",
              "    <tr>\n",
              "      <th>4</th>\n",
              "      <td>-4.91984</td>\n",
              "      <td>0.00000</td>\n",
              "    </tr>\n",
              "    <tr>\n",
              "      <th>...</th>\n",
              "      <td>...</td>\n",
              "      <td>...</td>\n",
              "    </tr>\n",
              "    <tr>\n",
              "      <th>495</th>\n",
              "      <td>4.91984</td>\n",
              "      <td>4.91984</td>\n",
              "    </tr>\n",
              "    <tr>\n",
              "      <th>496</th>\n",
              "      <td>4.93988</td>\n",
              "      <td>4.93988</td>\n",
              "    </tr>\n",
              "    <tr>\n",
              "      <th>497</th>\n",
              "      <td>4.95992</td>\n",
              "      <td>4.95992</td>\n",
              "    </tr>\n",
              "    <tr>\n",
              "      <th>498</th>\n",
              "      <td>4.97996</td>\n",
              "      <td>4.97996</td>\n",
              "    </tr>\n",
              "    <tr>\n",
              "      <th>499</th>\n",
              "      <td>5.00000</td>\n",
              "      <td>5.00000</td>\n",
              "    </tr>\n",
              "  </tbody>\n",
              "</table>\n",
              "<p>500 rows × 2 columns</p>\n",
              "</div>\n",
              "    <div class=\"colab-df-buttons\">\n",
              "\n",
              "  <div class=\"colab-df-container\">\n",
              "    <button class=\"colab-df-convert\" onclick=\"convertToInteractive('df-9b035f94-c08a-4528-acad-306a84fb4b67')\"\n",
              "            title=\"Convert this dataframe to an interactive table.\"\n",
              "            style=\"display:none;\">\n",
              "\n",
              "  <svg xmlns=\"http://www.w3.org/2000/svg\" height=\"24px\" viewBox=\"0 -960 960 960\">\n",
              "    <path d=\"M120-120v-720h720v720H120Zm60-500h600v-160H180v160Zm220 220h160v-160H400v160Zm0 220h160v-160H400v160ZM180-400h160v-160H180v160Zm440 0h160v-160H620v160ZM180-180h160v-160H180v160Zm440 0h160v-160H620v160Z\"/>\n",
              "  </svg>\n",
              "    </button>\n",
              "\n",
              "  <style>\n",
              "    .colab-df-container {\n",
              "      display:flex;\n",
              "      gap: 12px;\n",
              "    }\n",
              "\n",
              "    .colab-df-convert {\n",
              "      background-color: #E8F0FE;\n",
              "      border: none;\n",
              "      border-radius: 50%;\n",
              "      cursor: pointer;\n",
              "      display: none;\n",
              "      fill: #1967D2;\n",
              "      height: 32px;\n",
              "      padding: 0 0 0 0;\n",
              "      width: 32px;\n",
              "    }\n",
              "\n",
              "    .colab-df-convert:hover {\n",
              "      background-color: #E2EBFA;\n",
              "      box-shadow: 0px 1px 2px rgba(60, 64, 67, 0.3), 0px 1px 3px 1px rgba(60, 64, 67, 0.15);\n",
              "      fill: #174EA6;\n",
              "    }\n",
              "\n",
              "    .colab-df-buttons div {\n",
              "      margin-bottom: 4px;\n",
              "    }\n",
              "\n",
              "    [theme=dark] .colab-df-convert {\n",
              "      background-color: #3B4455;\n",
              "      fill: #D2E3FC;\n",
              "    }\n",
              "\n",
              "    [theme=dark] .colab-df-convert:hover {\n",
              "      background-color: #434B5C;\n",
              "      box-shadow: 0px 1px 3px 1px rgba(0, 0, 0, 0.15);\n",
              "      filter: drop-shadow(0px 1px 2px rgba(0, 0, 0, 0.3));\n",
              "      fill: #FFFFFF;\n",
              "    }\n",
              "  </style>\n",
              "\n",
              "    <script>\n",
              "      const buttonEl =\n",
              "        document.querySelector('#df-9b035f94-c08a-4528-acad-306a84fb4b67 button.colab-df-convert');\n",
              "      buttonEl.style.display =\n",
              "        google.colab.kernel.accessAllowed ? 'block' : 'none';\n",
              "\n",
              "      async function convertToInteractive(key) {\n",
              "        const element = document.querySelector('#df-9b035f94-c08a-4528-acad-306a84fb4b67');\n",
              "        const dataTable =\n",
              "          await google.colab.kernel.invokeFunction('convertToInteractive',\n",
              "                                                    [key], {});\n",
              "        if (!dataTable) return;\n",
              "\n",
              "        const docLinkHtml = 'Like what you see? Visit the ' +\n",
              "          '<a target=\"_blank\" href=https://colab.research.google.com/notebooks/data_table.ipynb>data table notebook</a>'\n",
              "          + ' to learn more about interactive tables.';\n",
              "        element.innerHTML = '';\n",
              "        dataTable['output_type'] = 'display_data';\n",
              "        await google.colab.output.renderOutput(dataTable, element);\n",
              "        const docLink = document.createElement('div');\n",
              "        docLink.innerHTML = docLinkHtml;\n",
              "        element.appendChild(docLink);\n",
              "      }\n",
              "    </script>\n",
              "  </div>\n",
              "\n",
              "\n",
              "<div id=\"df-cccb52c8-c80c-4e30-bec8-7887e526a63a\">\n",
              "  <button class=\"colab-df-quickchart\" onclick=\"quickchart('df-cccb52c8-c80c-4e30-bec8-7887e526a63a')\"\n",
              "            title=\"Suggest charts\"\n",
              "            style=\"display:none;\">\n",
              "\n",
              "<svg xmlns=\"http://www.w3.org/2000/svg\" height=\"24px\"viewBox=\"0 0 24 24\"\n",
              "     width=\"24px\">\n",
              "    <g>\n",
              "        <path d=\"M19 3H5c-1.1 0-2 .9-2 2v14c0 1.1.9 2 2 2h14c1.1 0 2-.9 2-2V5c0-1.1-.9-2-2-2zM9 17H7v-7h2v7zm4 0h-2V7h2v10zm4 0h-2v-4h2v4z\"/>\n",
              "    </g>\n",
              "</svg>\n",
              "  </button>\n",
              "\n",
              "<style>\n",
              "  .colab-df-quickchart {\n",
              "      --bg-color: #E8F0FE;\n",
              "      --fill-color: #1967D2;\n",
              "      --hover-bg-color: #E2EBFA;\n",
              "      --hover-fill-color: #174EA6;\n",
              "      --disabled-fill-color: #AAA;\n",
              "      --disabled-bg-color: #DDD;\n",
              "  }\n",
              "\n",
              "  [theme=dark] .colab-df-quickchart {\n",
              "      --bg-color: #3B4455;\n",
              "      --fill-color: #D2E3FC;\n",
              "      --hover-bg-color: #434B5C;\n",
              "      --hover-fill-color: #FFFFFF;\n",
              "      --disabled-bg-color: #3B4455;\n",
              "      --disabled-fill-color: #666;\n",
              "  }\n",
              "\n",
              "  .colab-df-quickchart {\n",
              "    background-color: var(--bg-color);\n",
              "    border: none;\n",
              "    border-radius: 50%;\n",
              "    cursor: pointer;\n",
              "    display: none;\n",
              "    fill: var(--fill-color);\n",
              "    height: 32px;\n",
              "    padding: 0;\n",
              "    width: 32px;\n",
              "  }\n",
              "\n",
              "  .colab-df-quickchart:hover {\n",
              "    background-color: var(--hover-bg-color);\n",
              "    box-shadow: 0 1px 2px rgba(60, 64, 67, 0.3), 0 1px 3px 1px rgba(60, 64, 67, 0.15);\n",
              "    fill: var(--button-hover-fill-color);\n",
              "  }\n",
              "\n",
              "  .colab-df-quickchart-complete:disabled,\n",
              "  .colab-df-quickchart-complete:disabled:hover {\n",
              "    background-color: var(--disabled-bg-color);\n",
              "    fill: var(--disabled-fill-color);\n",
              "    box-shadow: none;\n",
              "  }\n",
              "\n",
              "  .colab-df-spinner {\n",
              "    border: 2px solid var(--fill-color);\n",
              "    border-color: transparent;\n",
              "    border-bottom-color: var(--fill-color);\n",
              "    animation:\n",
              "      spin 1s steps(1) infinite;\n",
              "  }\n",
              "\n",
              "  @keyframes spin {\n",
              "    0% {\n",
              "      border-color: transparent;\n",
              "      border-bottom-color: var(--fill-color);\n",
              "      border-left-color: var(--fill-color);\n",
              "    }\n",
              "    20% {\n",
              "      border-color: transparent;\n",
              "      border-left-color: var(--fill-color);\n",
              "      border-top-color: var(--fill-color);\n",
              "    }\n",
              "    30% {\n",
              "      border-color: transparent;\n",
              "      border-left-color: var(--fill-color);\n",
              "      border-top-color: var(--fill-color);\n",
              "      border-right-color: var(--fill-color);\n",
              "    }\n",
              "    40% {\n",
              "      border-color: transparent;\n",
              "      border-right-color: var(--fill-color);\n",
              "      border-top-color: var(--fill-color);\n",
              "    }\n",
              "    60% {\n",
              "      border-color: transparent;\n",
              "      border-right-color: var(--fill-color);\n",
              "    }\n",
              "    80% {\n",
              "      border-color: transparent;\n",
              "      border-right-color: var(--fill-color);\n",
              "      border-bottom-color: var(--fill-color);\n",
              "    }\n",
              "    90% {\n",
              "      border-color: transparent;\n",
              "      border-bottom-color: var(--fill-color);\n",
              "    }\n",
              "  }\n",
              "</style>\n",
              "\n",
              "  <script>\n",
              "    async function quickchart(key) {\n",
              "      const quickchartButtonEl =\n",
              "        document.querySelector('#' + key + ' button');\n",
              "      quickchartButtonEl.disabled = true;  // To prevent multiple clicks.\n",
              "      quickchartButtonEl.classList.add('colab-df-spinner');\n",
              "      try {\n",
              "        const charts = await google.colab.kernel.invokeFunction(\n",
              "            'suggestCharts', [key], {});\n",
              "      } catch (error) {\n",
              "        console.error('Error during call to suggestCharts:', error);\n",
              "      }\n",
              "      quickchartButtonEl.classList.remove('colab-df-spinner');\n",
              "      quickchartButtonEl.classList.add('colab-df-quickchart-complete');\n",
              "    }\n",
              "    (() => {\n",
              "      let quickchartButtonEl =\n",
              "        document.querySelector('#df-cccb52c8-c80c-4e30-bec8-7887e526a63a button');\n",
              "      quickchartButtonEl.style.display =\n",
              "        google.colab.kernel.accessAllowed ? 'block' : 'none';\n",
              "    })();\n",
              "  </script>\n",
              "</div>\n",
              "\n",
              "  <div id=\"id_9dbbcec9-6d15-417d-be2b-5d5bb15f63ae\">\n",
              "    <style>\n",
              "      .colab-df-generate {\n",
              "        background-color: #E8F0FE;\n",
              "        border: none;\n",
              "        border-radius: 50%;\n",
              "        cursor: pointer;\n",
              "        display: none;\n",
              "        fill: #1967D2;\n",
              "        height: 32px;\n",
              "        padding: 0 0 0 0;\n",
              "        width: 32px;\n",
              "      }\n",
              "\n",
              "      .colab-df-generate:hover {\n",
              "        background-color: #E2EBFA;\n",
              "        box-shadow: 0px 1px 2px rgba(60, 64, 67, 0.3), 0px 1px 3px 1px rgba(60, 64, 67, 0.15);\n",
              "        fill: #174EA6;\n",
              "      }\n",
              "\n",
              "      [theme=dark] .colab-df-generate {\n",
              "        background-color: #3B4455;\n",
              "        fill: #D2E3FC;\n",
              "      }\n",
              "\n",
              "      [theme=dark] .colab-df-generate:hover {\n",
              "        background-color: #434B5C;\n",
              "        box-shadow: 0px 1px 3px 1px rgba(0, 0, 0, 0.15);\n",
              "        filter: drop-shadow(0px 1px 2px rgba(0, 0, 0, 0.3));\n",
              "        fill: #FFFFFF;\n",
              "      }\n",
              "    </style>\n",
              "    <button class=\"colab-df-generate\" onclick=\"generateWithVariable('data')\"\n",
              "            title=\"Generate code using this dataframe.\"\n",
              "            style=\"display:none;\">\n",
              "\n",
              "  <svg xmlns=\"http://www.w3.org/2000/svg\" height=\"24px\"viewBox=\"0 0 24 24\"\n",
              "       width=\"24px\">\n",
              "    <path d=\"M7,19H8.4L18.45,9,17,7.55,7,17.6ZM5,21V16.75L18.45,3.32a2,2,0,0,1,2.83,0l1.4,1.43a1.91,1.91,0,0,1,.58,1.4,1.91,1.91,0,0,1-.58,1.4L9.25,21ZM18.45,9,17,7.55Zm-12,3A5.31,5.31,0,0,0,4.9,8.1,5.31,5.31,0,0,0,1,6.5,5.31,5.31,0,0,0,4.9,4.9,5.31,5.31,0,0,0,6.5,1,5.31,5.31,0,0,0,8.1,4.9,5.31,5.31,0,0,0,12,6.5,5.46,5.46,0,0,0,6.5,12Z\"/>\n",
              "  </svg>\n",
              "    </button>\n",
              "    <script>\n",
              "      (() => {\n",
              "      const buttonEl =\n",
              "        document.querySelector('#id_9dbbcec9-6d15-417d-be2b-5d5bb15f63ae button.colab-df-generate');\n",
              "      buttonEl.style.display =\n",
              "        google.colab.kernel.accessAllowed ? 'block' : 'none';\n",
              "\n",
              "      buttonEl.onclick = () => {\n",
              "        google.colab.notebook.generateWithVariable('data');\n",
              "      }\n",
              "      })();\n",
              "    </script>\n",
              "  </div>\n",
              "\n",
              "    </div>\n",
              "  </div>\n"
            ],
            "application/vnd.google.colaboratory.intrinsic+json": {
              "type": "dataframe",
              "variable_name": "data",
              "summary": "{\n  \"name\": \"data\",\n  \"rows\": 500,\n  \"fields\": [\n    {\n      \"column\": \"data\",\n      \"properties\": {\n        \"dtype\": \"number\",\n        \"std\": 2.895427510380739,\n        \"min\": -5.0,\n        \"max\": 5.0,\n        \"num_unique_values\": 500,\n        \"samples\": [\n          2.234468937875751,\n          -3.5370741482965933,\n          2.49498997995992\n        ],\n        \"semantic_type\": \"\",\n        \"description\": \"\"\n      }\n    },\n    {\n      \"column\": \"relu\",\n      \"properties\": {\n        \"dtype\": \"number\",\n        \"std\": 1.618591241962822,\n        \"min\": 0.0,\n        \"max\": 5.0,\n        \"num_unique_values\": 251,\n        \"samples\": [\n          3.096192384769539,\n          0.11022044088176308,\n          3.2765531062124253\n        ],\n        \"semantic_type\": \"\",\n        \"description\": \"\"\n      }\n    }\n  ]\n}"
            }
          },
          "metadata": {},
          "execution_count": 11
        }
      ]
    },
    {
      "cell_type": "code",
      "source": [
        "px.line(data, x='data', y='relu', width=800, height=600, range_y=[-0.5, 5.5], range_x=[-5.5, 5.5])"
      ],
      "metadata": {
        "colab": {
          "base_uri": "https://localhost:8080/",
          "height": 617
        },
        "id": "QN-1apa_BRET",
        "outputId": "1d080424-53b3-4fec-a5e2-bc4c883c9106"
      },
      "execution_count": 12,
      "outputs": [
        {
          "output_type": "display_data",
          "data": {
            "text/html": [
              "<html>\n",
              "<head><meta charset=\"utf-8\" /></head>\n",
              "<body>\n",
              "    <div>            <script src=\"https://cdnjs.cloudflare.com/ajax/libs/mathjax/2.7.5/MathJax.js?config=TeX-AMS-MML_SVG\"></script><script type=\"text/javascript\">if (window.MathJax && window.MathJax.Hub && window.MathJax.Hub.Config) {window.MathJax.Hub.Config({SVG: {font: \"STIX-Web\"}});}</script>                <script type=\"text/javascript\">window.PlotlyConfig = {MathJaxConfig: 'local'};</script>\n",
              "        <script charset=\"utf-8\" src=\"https://cdn.plot.ly/plotly-2.24.1.min.js\"></script>                <div id=\"b6aaf2fa-b3e9-4cf7-afcd-eaed10bcdbfa\" class=\"plotly-graph-div\" style=\"height:600px; width:800px;\"></div>            <script type=\"text/javascript\">                                    window.PLOTLYENV=window.PLOTLYENV || {};                                    if (document.getElementById(\"b6aaf2fa-b3e9-4cf7-afcd-eaed10bcdbfa\")) {                    Plotly.newPlot(                        \"b6aaf2fa-b3e9-4cf7-afcd-eaed10bcdbfa\",                        [{\"hovertemplate\":\"data=%{x}\\u003cbr\\u003erelu=%{y}\\u003cextra\\u003e\\u003c\\u002fextra\\u003e\",\"legendgroup\":\"\",\"line\":{\"color\":\"#636efa\",\"dash\":\"solid\"},\"marker\":{\"symbol\":\"circle\"},\"mode\":\"lines\",\"name\":\"\",\"orientation\":\"v\",\"showlegend\":false,\"x\":[-5.0,-4.979959919839679,-4.959919839679359,-4.939879759519038,-4.919839679358717,-4.8997995991983965,-4.8797595190380765,-4.859719438877756,-4.839679358717435,-4.819639278557114,-4.799599198396794,-4.779559118236473,-4.759519038076152,-4.739478957915832,-4.719438877755511,-4.69939879759519,-4.679358717434869,-4.659318637274549,-4.6392785571142285,-4.619238476953908,-4.599198396793588,-4.579158316633267,-4.559118236472946,-4.539078156312625,-4.519038076152305,-4.498997995991984,-4.478957915831663,-4.458917835671342,-4.438877755511022,-4.4188376753507015,-4.398797595190381,-4.37875751503006,-4.35871743486974,-4.338677354709419,-4.318637274549098,-4.298597194388778,-4.278557114228457,-4.258517034068136,-4.238476953907815,-4.218436873747495,-4.198396793587174,-4.1783567134268536,-4.158316633266534,-4.138276553106213,-4.118236472945892,-4.098196392785571,-4.078156312625251,-4.05811623246493,-4.038076152304609,-4.018036072144288,-3.9979959919839683,-3.9779559118236474,-3.9579158316633265,-3.937875751503006,-3.9178356713426856,-3.8977955911823647,-3.877755511022044,-3.8577154308617234,-3.837675350701403,-3.817635270541082,-3.7975951903807617,-3.777555110220441,-3.7575150300601203,-3.7374749498997994,-3.717434869739479,-3.6973947895791586,-3.6773547094188377,-3.657314629258517,-3.6372745490981964,-3.617234468937876,-3.597194388777555,-3.5771543086172346,-3.557114228456914,-3.5370741482965933,-3.5170340681362724,-3.496993987975952,-3.4769539078156315,-3.4569138276553106,-3.4368737474949898,-3.4168336673346693,-3.396793587174349,-3.376753507014028,-3.3567134268537075,-3.336673346693387,-3.3166332665330662,-3.2965931863727453,-3.276553106212425,-3.2565130260521045,-3.2364729458917836,-3.2164328657314627,-3.1963927855711423,-3.176352705410822,-3.156312625250501,-3.1362725450901805,-3.11623246492986,-3.096192384769539,-3.0761523046092183,-3.056112224448898,-3.0360721442885774,-3.0160320641282565,-2.995991983967936,-2.975951903807615,-2.9559118236472948,-2.935871743486974,-2.9158316633266534,-2.8957915831663326,-2.875751503006012,-2.8557114228456917,-2.835671342685371,-2.8156312625250504,-2.7955911823647295,-2.775551102204409,-2.755511022044088,-2.7354709418837677,-2.715430861723447,-2.6953907815631264,-2.6753507014028055,-2.655310621242485,-2.6352705410821646,-2.6152304609218437,-2.5951903807615233,-2.5751503006012024,-2.555110220440882,-2.535070140280561,-2.5150300601202407,-2.49498997995992,-2.4749498997995993,-2.4549098196392785,-2.434869739478958,-2.4148296593186376,-2.3947895791583167,-2.3747494989979963,-2.3547094188376754,-2.334669338677355,-2.314629258517034,-2.2945891783567136,-2.2745490981963927,-2.2545090180360723,-2.2344689378757514,-2.214428857715431,-2.1943887775551105,-2.1743486973947896,-2.154308617234469,-2.1342685370741483,-2.114228456913828,-2.094188376753507,-2.0741482965931866,-2.0541082164328657,-2.0340681362725452,-2.0140280561122244,-1.993987975951904,-1.9739478957915835,-1.9539078156312626,-1.9338677354709422,-1.9138276553106213,-1.8937875751503008,-1.87374749498998,-1.8537074148296595,-1.8336673346693386,-1.8136272545090182,-1.7935871743486977,-1.7735470941883769,-1.7535070140280564,-1.7334669338677355,-1.713426853707415,-1.6933867735470942,-1.6733466933867738,-1.653306613226453,-1.6332665330661325,-1.6132264529058116,-1.5931863727454911,-1.5731462925851707,-1.5531062124248498,-1.5330661322645294,-1.5130260521042085,-1.492985971943888,-1.4729458917835672,-1.4529058116232467,-1.4328657314629258,-1.4128256513026054,-1.3927855711422845,-1.372745490981964,-1.3527054108216436,-1.3326653306613228,-1.3126252505010023,-1.2925851703406814,-1.272545090180361,-1.25250501002004,-1.2324649298597197,-1.2124248496993988,-1.1923847695390783,-1.1723446893787575,-1.152304609218437,-1.1322645290581166,-1.1122244488977957,-1.0921843687374753,-1.0721442885771544,-1.052104208416834,-1.032064128256513,-1.0120240480961926,-0.9919839679358722,-0.9719438877755513,-0.9519038076152304,-0.9318637274549104,-0.9118236472945895,-0.8917835671342687,-0.8717434869739478,-0.8517034068136278,-0.8316633266533069,-0.811623246492986,-0.7915831663326651,-0.7715430861723451,-0.7515030060120242,-0.7314629258517034,-0.7114228456913834,-0.6913827655310625,-0.6713426853707416,-0.6513026052104207,-0.6312625250501007,-0.6112224448897798,-0.591182364729459,-0.5711422845691381,-0.5511022044088181,-0.5310621242484972,-0.5110220440881763,-0.4909819639278563,-0.47094188376753543,-0.45090180360721455,-0.43086172344689366,-0.41082164328657367,-0.3907815631262528,-0.3707414829659319,-0.350701402805611,-0.330661322645291,-0.31062124248497014,-0.29058116232464926,-0.27054108216432926,-0.2505010020040084,-0.2304609218436875,-0.2104208416833666,-0.19038076152304662,-0.17034068136272573,-0.15030060120240485,-0.13026052104208397,-0.11022044088176397,-0.09018036072144309,-0.0701402805611222,-0.05010020040080221,-0.030060120240481325,-0.010020040080160442,0.010020040080160442,0.030060120240480437,0.05010020040080132,0.0701402805611222,0.09018036072144309,0.11022044088176308,0.13026052104208397,0.15030060120240485,0.17034068136272484,0.19038076152304573,0.2104208416833666,0.2304609218436875,0.2505010020040075,0.2705410821643284,0.29058116232464926,0.31062124248497014,0.33066132264529013,0.350701402805611,0.3707414829659319,0.3907815631262519,0.4108216432865728,0.43086172344689366,0.45090180360721455,0.47094188376753454,0.4909819639278554,0.5110220440881763,0.5310621242484972,0.5511022044088172,0.5711422845691381,0.591182364729459,0.611222444889779,0.6312625250500998,0.6513026052104207,0.6713426853707416,0.6913827655310616,0.7114228456913825,0.7314629258517034,0.7515030060120242,0.7715430861723442,0.7915831663326651,0.811623246492986,0.831663326653306,0.8517034068136269,0.8717434869739478,0.8917835671342687,0.9118236472945886,0.9318637274549095,0.9519038076152304,0.9719438877755513,0.9919839679358713,1.0120240480961922,1.032064128256513,1.052104208416833,1.072144288577154,1.0921843687374748,1.1122244488977957,1.1322645290581157,1.1523046092184366,1.1723446893787575,1.1923847695390783,1.2124248496993983,1.2324649298597192,1.25250501002004,1.27254509018036,1.292585170340681,1.3126252505010019,1.3326653306613228,1.3527054108216428,1.3727454909819636,1.3927855711422845,1.4128256513026045,1.4328657314629254,1.4529058116232463,1.4729458917835672,1.4929859719438872,1.513026052104208,1.533066132264529,1.5531062124248498,1.5731462925851698,1.5931863727454907,1.6132264529058116,1.6332665330661316,1.6533066132264524,1.6733466933867733,1.6933867735470942,1.7134268537074142,1.733466933867735,1.753507014028056,1.7735470941883769,1.7935871743486969,1.8136272545090177,1.8336673346693386,1.8537074148296586,1.8737474949899795,1.8937875751503004,1.9138276553106213,1.9338677354709413,1.9539078156312621,1.973947895791583,1.993987975951904,2.014028056112224,2.034068136272545,2.0541082164328657,2.0741482965931857,2.0941883767535066,2.1142284569138274,2.1342685370741483,2.1543086172344683,2.174348697394789,2.19438877755511,2.214428857715431,2.234468937875751,2.254509018036072,2.2745490981963927,2.2945891783567127,2.3146292585170336,2.3346693386773545,2.3547094188376754,2.3747494989979954,2.3947895791583163,2.414829659318637,2.434869739478958,2.454909819639278,2.474949899799599,2.49498997995992,2.5150300601202398,2.5350701402805607,2.5551102204408815,2.5751503006012024,2.5951903807615224,2.6152304609218433,2.635270541082164,2.655310621242485,2.675350701402805,2.695390781563126,2.715430861723447,2.735470941883767,2.7555110220440877,2.7755511022044086,2.7955911823647295,2.8156312625250495,2.8356713426853704,2.8557114228456912,2.875751503006012,2.895791583166332,2.915831663326653,2.935871743486974,2.955911823647294,2.9759519038076148,2.9959919839679356,3.0160320641282556,3.0360721442885765,3.0561122244488974,3.0761523046092183,3.096192384769539,3.11623246492986,3.136272545090179,3.1563126252505,3.176352705410821,3.196392785571142,3.2164328657314627,3.2364729458917836,3.2565130260521045,3.2765531062124253,3.2965931863727445,3.3166332665330653,3.336673346693386,3.356713426853707,3.376753507014028,3.396793587174349,3.4168336673346698,3.436873747494989,3.4569138276553097,3.4769539078156306,3.4969939879759515,3.5170340681362724,3.5370741482965933,3.557114228456914,3.5771543086172333,3.597194388777554,3.617234468937875,3.637274549098196,3.657314629258517,3.6773547094188377,3.6973947895791586,3.7174348697394795,3.7374749498997986,3.7575150300601194,3.7775551102204403,3.797595190380761,3.817635270541082,3.837675350701403,3.857715430861724,3.877755511022043,3.897795591182364,3.9178356713426847,3.9378757515030056,3.9579158316633265,3.9779559118236474,3.9979959919839683,4.018036072144287,4.038076152304608,4.058116232464929,4.07815631262525,4.098196392785571,4.118236472945892,4.138276553106213,4.158316633266534,4.178356713426853,4.1983967935871735,4.218436873747494,4.238476953907815,4.258517034068136,4.278557114228457,4.298597194388778,4.318637274549097,4.338677354709418,4.358717434869739,4.37875751503006,4.398797595190381,4.4188376753507015,4.438877755511022,4.4589178356713415,4.478957915831662,4.498997995991983,4.519038076152304,4.539078156312625,4.559118236472946,4.579158316633267,4.599198396793588,4.619238476953907,4.639278557114228,4.6593186372745485,4.679358717434869,4.69939879759519,4.719438877755511,4.739478957915832,4.759519038076151,4.779559118236472,4.799599198396793,4.819639278557114,4.839679358717435,4.859719438877756,4.8797595190380765,4.899799599198396,4.9198396793587165,4.939879759519037,4.959919839679358,4.979959919839679,5.0],\"xaxis\":\"x\",\"y\":[0.0,0.0,0.0,0.0,0.0,0.0,0.0,0.0,0.0,0.0,0.0,0.0,0.0,0.0,0.0,0.0,0.0,0.0,0.0,0.0,0.0,0.0,0.0,0.0,0.0,0.0,0.0,0.0,0.0,0.0,0.0,0.0,0.0,0.0,0.0,0.0,0.0,0.0,0.0,0.0,0.0,0.0,0.0,0.0,0.0,0.0,0.0,0.0,0.0,0.0,0.0,0.0,0.0,0.0,0.0,0.0,0.0,0.0,0.0,0.0,0.0,0.0,0.0,0.0,0.0,0.0,0.0,0.0,0.0,0.0,0.0,0.0,0.0,0.0,0.0,0.0,0.0,0.0,0.0,0.0,0.0,0.0,0.0,0.0,0.0,0.0,0.0,0.0,0.0,0.0,0.0,0.0,0.0,0.0,0.0,0.0,0.0,0.0,0.0,0.0,0.0,0.0,0.0,0.0,0.0,0.0,0.0,0.0,0.0,0.0,0.0,0.0,0.0,0.0,0.0,0.0,0.0,0.0,0.0,0.0,0.0,0.0,0.0,0.0,0.0,0.0,0.0,0.0,0.0,0.0,0.0,0.0,0.0,0.0,0.0,0.0,0.0,0.0,0.0,0.0,0.0,0.0,0.0,0.0,0.0,0.0,0.0,0.0,0.0,0.0,0.0,0.0,0.0,0.0,0.0,0.0,0.0,0.0,0.0,0.0,0.0,0.0,0.0,0.0,0.0,0.0,0.0,0.0,0.0,0.0,0.0,0.0,0.0,0.0,0.0,0.0,0.0,0.0,0.0,0.0,0.0,0.0,0.0,0.0,0.0,0.0,0.0,0.0,0.0,0.0,0.0,0.0,0.0,0.0,0.0,0.0,0.0,0.0,0.0,0.0,0.0,0.0,0.0,0.0,0.0,0.0,0.0,0.0,0.0,0.0,0.0,0.0,0.0,0.0,0.0,0.0,0.0,0.0,0.0,0.0,0.0,0.0,0.0,0.0,0.0,0.0,0.0,0.0,0.0,0.0,0.0,0.0,0.0,0.0,0.0,0.0,0.0,0.0,0.0,0.0,0.0,0.0,0.0,0.0,0.0,0.0,0.0,0.0,0.0,0.0,0.010020040080160442,0.030060120240480437,0.05010020040080132,0.0701402805611222,0.09018036072144309,0.11022044088176308,0.13026052104208397,0.15030060120240485,0.17034068136272484,0.19038076152304573,0.2104208416833666,0.2304609218436875,0.2505010020040075,0.2705410821643284,0.29058116232464926,0.31062124248497014,0.33066132264529013,0.350701402805611,0.3707414829659319,0.3907815631262519,0.4108216432865728,0.43086172344689366,0.45090180360721455,0.47094188376753454,0.4909819639278554,0.5110220440881763,0.5310621242484972,0.5511022044088172,0.5711422845691381,0.591182364729459,0.611222444889779,0.6312625250500998,0.6513026052104207,0.6713426853707416,0.6913827655310616,0.7114228456913825,0.7314629258517034,0.7515030060120242,0.7715430861723442,0.7915831663326651,0.811623246492986,0.831663326653306,0.8517034068136269,0.8717434869739478,0.8917835671342687,0.9118236472945886,0.9318637274549095,0.9519038076152304,0.9719438877755513,0.9919839679358713,1.0120240480961922,1.032064128256513,1.052104208416833,1.072144288577154,1.0921843687374748,1.1122244488977957,1.1322645290581157,1.1523046092184366,1.1723446893787575,1.1923847695390783,1.2124248496993983,1.2324649298597192,1.25250501002004,1.27254509018036,1.292585170340681,1.3126252505010019,1.3326653306613228,1.3527054108216428,1.3727454909819636,1.3927855711422845,1.4128256513026045,1.4328657314629254,1.4529058116232463,1.4729458917835672,1.4929859719438872,1.513026052104208,1.533066132264529,1.5531062124248498,1.5731462925851698,1.5931863727454907,1.6132264529058116,1.6332665330661316,1.6533066132264524,1.6733466933867733,1.6933867735470942,1.7134268537074142,1.733466933867735,1.753507014028056,1.7735470941883769,1.7935871743486969,1.8136272545090177,1.8336673346693386,1.8537074148296586,1.8737474949899795,1.8937875751503004,1.9138276553106213,1.9338677354709413,1.9539078156312621,1.973947895791583,1.993987975951904,2.014028056112224,2.034068136272545,2.0541082164328657,2.0741482965931857,2.0941883767535066,2.1142284569138274,2.1342685370741483,2.1543086172344683,2.174348697394789,2.19438877755511,2.214428857715431,2.234468937875751,2.254509018036072,2.2745490981963927,2.2945891783567127,2.3146292585170336,2.3346693386773545,2.3547094188376754,2.3747494989979954,2.3947895791583163,2.414829659318637,2.434869739478958,2.454909819639278,2.474949899799599,2.49498997995992,2.5150300601202398,2.5350701402805607,2.5551102204408815,2.5751503006012024,2.5951903807615224,2.6152304609218433,2.635270541082164,2.655310621242485,2.675350701402805,2.695390781563126,2.715430861723447,2.735470941883767,2.7555110220440877,2.7755511022044086,2.7955911823647295,2.8156312625250495,2.8356713426853704,2.8557114228456912,2.875751503006012,2.895791583166332,2.915831663326653,2.935871743486974,2.955911823647294,2.9759519038076148,2.9959919839679356,3.0160320641282556,3.0360721442885765,3.0561122244488974,3.0761523046092183,3.096192384769539,3.11623246492986,3.136272545090179,3.1563126252505,3.176352705410821,3.196392785571142,3.2164328657314627,3.2364729458917836,3.2565130260521045,3.2765531062124253,3.2965931863727445,3.3166332665330653,3.336673346693386,3.356713426853707,3.376753507014028,3.396793587174349,3.4168336673346698,3.436873747494989,3.4569138276553097,3.4769539078156306,3.4969939879759515,3.5170340681362724,3.5370741482965933,3.557114228456914,3.5771543086172333,3.597194388777554,3.617234468937875,3.637274549098196,3.657314629258517,3.6773547094188377,3.6973947895791586,3.7174348697394795,3.7374749498997986,3.7575150300601194,3.7775551102204403,3.797595190380761,3.817635270541082,3.837675350701403,3.857715430861724,3.877755511022043,3.897795591182364,3.9178356713426847,3.9378757515030056,3.9579158316633265,3.9779559118236474,3.9979959919839683,4.018036072144287,4.038076152304608,4.058116232464929,4.07815631262525,4.098196392785571,4.118236472945892,4.138276553106213,4.158316633266534,4.178356713426853,4.1983967935871735,4.218436873747494,4.238476953907815,4.258517034068136,4.278557114228457,4.298597194388778,4.318637274549097,4.338677354709418,4.358717434869739,4.37875751503006,4.398797595190381,4.4188376753507015,4.438877755511022,4.4589178356713415,4.478957915831662,4.498997995991983,4.519038076152304,4.539078156312625,4.559118236472946,4.579158316633267,4.599198396793588,4.619238476953907,4.639278557114228,4.6593186372745485,4.679358717434869,4.69939879759519,4.719438877755511,4.739478957915832,4.759519038076151,4.779559118236472,4.799599198396793,4.819639278557114,4.839679358717435,4.859719438877756,4.8797595190380765,4.899799599198396,4.9198396793587165,4.939879759519037,4.959919839679358,4.979959919839679,5.0],\"yaxis\":\"y\",\"type\":\"scatter\"}],                        {\"template\":{\"data\":{\"histogram2dcontour\":[{\"type\":\"histogram2dcontour\",\"colorbar\":{\"outlinewidth\":0,\"ticks\":\"\"},\"colorscale\":[[0.0,\"#0d0887\"],[0.1111111111111111,\"#46039f\"],[0.2222222222222222,\"#7201a8\"],[0.3333333333333333,\"#9c179e\"],[0.4444444444444444,\"#bd3786\"],[0.5555555555555556,\"#d8576b\"],[0.6666666666666666,\"#ed7953\"],[0.7777777777777778,\"#fb9f3a\"],[0.8888888888888888,\"#fdca26\"],[1.0,\"#f0f921\"]]}],\"choropleth\":[{\"type\":\"choropleth\",\"colorbar\":{\"outlinewidth\":0,\"ticks\":\"\"}}],\"histogram2d\":[{\"type\":\"histogram2d\",\"colorbar\":{\"outlinewidth\":0,\"ticks\":\"\"},\"colorscale\":[[0.0,\"#0d0887\"],[0.1111111111111111,\"#46039f\"],[0.2222222222222222,\"#7201a8\"],[0.3333333333333333,\"#9c179e\"],[0.4444444444444444,\"#bd3786\"],[0.5555555555555556,\"#d8576b\"],[0.6666666666666666,\"#ed7953\"],[0.7777777777777778,\"#fb9f3a\"],[0.8888888888888888,\"#fdca26\"],[1.0,\"#f0f921\"]]}],\"heatmap\":[{\"type\":\"heatmap\",\"colorbar\":{\"outlinewidth\":0,\"ticks\":\"\"},\"colorscale\":[[0.0,\"#0d0887\"],[0.1111111111111111,\"#46039f\"],[0.2222222222222222,\"#7201a8\"],[0.3333333333333333,\"#9c179e\"],[0.4444444444444444,\"#bd3786\"],[0.5555555555555556,\"#d8576b\"],[0.6666666666666666,\"#ed7953\"],[0.7777777777777778,\"#fb9f3a\"],[0.8888888888888888,\"#fdca26\"],[1.0,\"#f0f921\"]]}],\"heatmapgl\":[{\"type\":\"heatmapgl\",\"colorbar\":{\"outlinewidth\":0,\"ticks\":\"\"},\"colorscale\":[[0.0,\"#0d0887\"],[0.1111111111111111,\"#46039f\"],[0.2222222222222222,\"#7201a8\"],[0.3333333333333333,\"#9c179e\"],[0.4444444444444444,\"#bd3786\"],[0.5555555555555556,\"#d8576b\"],[0.6666666666666666,\"#ed7953\"],[0.7777777777777778,\"#fb9f3a\"],[0.8888888888888888,\"#fdca26\"],[1.0,\"#f0f921\"]]}],\"contourcarpet\":[{\"type\":\"contourcarpet\",\"colorbar\":{\"outlinewidth\":0,\"ticks\":\"\"}}],\"contour\":[{\"type\":\"contour\",\"colorbar\":{\"outlinewidth\":0,\"ticks\":\"\"},\"colorscale\":[[0.0,\"#0d0887\"],[0.1111111111111111,\"#46039f\"],[0.2222222222222222,\"#7201a8\"],[0.3333333333333333,\"#9c179e\"],[0.4444444444444444,\"#bd3786\"],[0.5555555555555556,\"#d8576b\"],[0.6666666666666666,\"#ed7953\"],[0.7777777777777778,\"#fb9f3a\"],[0.8888888888888888,\"#fdca26\"],[1.0,\"#f0f921\"]]}],\"surface\":[{\"type\":\"surface\",\"colorbar\":{\"outlinewidth\":0,\"ticks\":\"\"},\"colorscale\":[[0.0,\"#0d0887\"],[0.1111111111111111,\"#46039f\"],[0.2222222222222222,\"#7201a8\"],[0.3333333333333333,\"#9c179e\"],[0.4444444444444444,\"#bd3786\"],[0.5555555555555556,\"#d8576b\"],[0.6666666666666666,\"#ed7953\"],[0.7777777777777778,\"#fb9f3a\"],[0.8888888888888888,\"#fdca26\"],[1.0,\"#f0f921\"]]}],\"mesh3d\":[{\"type\":\"mesh3d\",\"colorbar\":{\"outlinewidth\":0,\"ticks\":\"\"}}],\"scatter\":[{\"fillpattern\":{\"fillmode\":\"overlay\",\"size\":10,\"solidity\":0.2},\"type\":\"scatter\"}],\"parcoords\":[{\"type\":\"parcoords\",\"line\":{\"colorbar\":{\"outlinewidth\":0,\"ticks\":\"\"}}}],\"scatterpolargl\":[{\"type\":\"scatterpolargl\",\"marker\":{\"colorbar\":{\"outlinewidth\":0,\"ticks\":\"\"}}}],\"bar\":[{\"error_x\":{\"color\":\"#2a3f5f\"},\"error_y\":{\"color\":\"#2a3f5f\"},\"marker\":{\"line\":{\"color\":\"#E5ECF6\",\"width\":0.5},\"pattern\":{\"fillmode\":\"overlay\",\"size\":10,\"solidity\":0.2}},\"type\":\"bar\"}],\"scattergeo\":[{\"type\":\"scattergeo\",\"marker\":{\"colorbar\":{\"outlinewidth\":0,\"ticks\":\"\"}}}],\"scatterpolar\":[{\"type\":\"scatterpolar\",\"marker\":{\"colorbar\":{\"outlinewidth\":0,\"ticks\":\"\"}}}],\"histogram\":[{\"marker\":{\"pattern\":{\"fillmode\":\"overlay\",\"size\":10,\"solidity\":0.2}},\"type\":\"histogram\"}],\"scattergl\":[{\"type\":\"scattergl\",\"marker\":{\"colorbar\":{\"outlinewidth\":0,\"ticks\":\"\"}}}],\"scatter3d\":[{\"type\":\"scatter3d\",\"line\":{\"colorbar\":{\"outlinewidth\":0,\"ticks\":\"\"}},\"marker\":{\"colorbar\":{\"outlinewidth\":0,\"ticks\":\"\"}}}],\"scattermapbox\":[{\"type\":\"scattermapbox\",\"marker\":{\"colorbar\":{\"outlinewidth\":0,\"ticks\":\"\"}}}],\"scatterternary\":[{\"type\":\"scatterternary\",\"marker\":{\"colorbar\":{\"outlinewidth\":0,\"ticks\":\"\"}}}],\"scattercarpet\":[{\"type\":\"scattercarpet\",\"marker\":{\"colorbar\":{\"outlinewidth\":0,\"ticks\":\"\"}}}],\"carpet\":[{\"aaxis\":{\"endlinecolor\":\"#2a3f5f\",\"gridcolor\":\"white\",\"linecolor\":\"white\",\"minorgridcolor\":\"white\",\"startlinecolor\":\"#2a3f5f\"},\"baxis\":{\"endlinecolor\":\"#2a3f5f\",\"gridcolor\":\"white\",\"linecolor\":\"white\",\"minorgridcolor\":\"white\",\"startlinecolor\":\"#2a3f5f\"},\"type\":\"carpet\"}],\"table\":[{\"cells\":{\"fill\":{\"color\":\"#EBF0F8\"},\"line\":{\"color\":\"white\"}},\"header\":{\"fill\":{\"color\":\"#C8D4E3\"},\"line\":{\"color\":\"white\"}},\"type\":\"table\"}],\"barpolar\":[{\"marker\":{\"line\":{\"color\":\"#E5ECF6\",\"width\":0.5},\"pattern\":{\"fillmode\":\"overlay\",\"size\":10,\"solidity\":0.2}},\"type\":\"barpolar\"}],\"pie\":[{\"automargin\":true,\"type\":\"pie\"}]},\"layout\":{\"autotypenumbers\":\"strict\",\"colorway\":[\"#636efa\",\"#EF553B\",\"#00cc96\",\"#ab63fa\",\"#FFA15A\",\"#19d3f3\",\"#FF6692\",\"#B6E880\",\"#FF97FF\",\"#FECB52\"],\"font\":{\"color\":\"#2a3f5f\"},\"hovermode\":\"closest\",\"hoverlabel\":{\"align\":\"left\"},\"paper_bgcolor\":\"white\",\"plot_bgcolor\":\"#E5ECF6\",\"polar\":{\"bgcolor\":\"#E5ECF6\",\"angularaxis\":{\"gridcolor\":\"white\",\"linecolor\":\"white\",\"ticks\":\"\"},\"radialaxis\":{\"gridcolor\":\"white\",\"linecolor\":\"white\",\"ticks\":\"\"}},\"ternary\":{\"bgcolor\":\"#E5ECF6\",\"aaxis\":{\"gridcolor\":\"white\",\"linecolor\":\"white\",\"ticks\":\"\"},\"baxis\":{\"gridcolor\":\"white\",\"linecolor\":\"white\",\"ticks\":\"\"},\"caxis\":{\"gridcolor\":\"white\",\"linecolor\":\"white\",\"ticks\":\"\"}},\"coloraxis\":{\"colorbar\":{\"outlinewidth\":0,\"ticks\":\"\"}},\"colorscale\":{\"sequential\":[[0.0,\"#0d0887\"],[0.1111111111111111,\"#46039f\"],[0.2222222222222222,\"#7201a8\"],[0.3333333333333333,\"#9c179e\"],[0.4444444444444444,\"#bd3786\"],[0.5555555555555556,\"#d8576b\"],[0.6666666666666666,\"#ed7953\"],[0.7777777777777778,\"#fb9f3a\"],[0.8888888888888888,\"#fdca26\"],[1.0,\"#f0f921\"]],\"sequentialminus\":[[0.0,\"#0d0887\"],[0.1111111111111111,\"#46039f\"],[0.2222222222222222,\"#7201a8\"],[0.3333333333333333,\"#9c179e\"],[0.4444444444444444,\"#bd3786\"],[0.5555555555555556,\"#d8576b\"],[0.6666666666666666,\"#ed7953\"],[0.7777777777777778,\"#fb9f3a\"],[0.8888888888888888,\"#fdca26\"],[1.0,\"#f0f921\"]],\"diverging\":[[0,\"#8e0152\"],[0.1,\"#c51b7d\"],[0.2,\"#de77ae\"],[0.3,\"#f1b6da\"],[0.4,\"#fde0ef\"],[0.5,\"#f7f7f7\"],[0.6,\"#e6f5d0\"],[0.7,\"#b8e186\"],[0.8,\"#7fbc41\"],[0.9,\"#4d9221\"],[1,\"#276419\"]]},\"xaxis\":{\"gridcolor\":\"white\",\"linecolor\":\"white\",\"ticks\":\"\",\"title\":{\"standoff\":15},\"zerolinecolor\":\"white\",\"automargin\":true,\"zerolinewidth\":2},\"yaxis\":{\"gridcolor\":\"white\",\"linecolor\":\"white\",\"ticks\":\"\",\"title\":{\"standoff\":15},\"zerolinecolor\":\"white\",\"automargin\":true,\"zerolinewidth\":2},\"scene\":{\"xaxis\":{\"backgroundcolor\":\"#E5ECF6\",\"gridcolor\":\"white\",\"linecolor\":\"white\",\"showbackground\":true,\"ticks\":\"\",\"zerolinecolor\":\"white\",\"gridwidth\":2},\"yaxis\":{\"backgroundcolor\":\"#E5ECF6\",\"gridcolor\":\"white\",\"linecolor\":\"white\",\"showbackground\":true,\"ticks\":\"\",\"zerolinecolor\":\"white\",\"gridwidth\":2},\"zaxis\":{\"backgroundcolor\":\"#E5ECF6\",\"gridcolor\":\"white\",\"linecolor\":\"white\",\"showbackground\":true,\"ticks\":\"\",\"zerolinecolor\":\"white\",\"gridwidth\":2}},\"shapedefaults\":{\"line\":{\"color\":\"#2a3f5f\"}},\"annotationdefaults\":{\"arrowcolor\":\"#2a3f5f\",\"arrowhead\":0,\"arrowwidth\":1},\"geo\":{\"bgcolor\":\"white\",\"landcolor\":\"#E5ECF6\",\"subunitcolor\":\"white\",\"showland\":true,\"showlakes\":true,\"lakecolor\":\"white\"},\"title\":{\"x\":0.05},\"mapbox\":{\"style\":\"light\"}}},\"xaxis\":{\"anchor\":\"y\",\"domain\":[0.0,1.0],\"title\":{\"text\":\"data\"},\"range\":[-5.5,5.5]},\"yaxis\":{\"anchor\":\"x\",\"domain\":[0.0,1.0],\"title\":{\"text\":\"relu\"},\"range\":[-0.5,5.5]},\"legend\":{\"tracegroupgap\":0},\"margin\":{\"t\":60},\"height\":600,\"width\":800},                        {\"responsive\": true}                    ).then(function(){\n",
              "                            \n",
              "var gd = document.getElementById('b6aaf2fa-b3e9-4cf7-afcd-eaed10bcdbfa');\n",
              "var x = new MutationObserver(function (mutations, observer) {{\n",
              "        var display = window.getComputedStyle(gd).display;\n",
              "        if (!display || display === 'none') {{\n",
              "            console.log([gd, 'removed!']);\n",
              "            Plotly.purge(gd);\n",
              "            observer.disconnect();\n",
              "        }}\n",
              "}});\n",
              "\n",
              "// Listen for the removal of the full notebook cells\n",
              "var notebookContainer = gd.closest('#notebook-container');\n",
              "if (notebookContainer) {{\n",
              "    x.observe(notebookContainer, {childList: true});\n",
              "}}\n",
              "\n",
              "// Listen for the clearing of the current output cell\n",
              "var outputEl = gd.closest('.output');\n",
              "if (outputEl) {{\n",
              "    x.observe(outputEl, {childList: true});\n",
              "}}\n",
              "\n",
              "                        })                };                            </script>        </div>\n",
              "</body>\n",
              "</html>"
            ]
          },
          "metadata": {}
        }
      ]
    },
    {
      "cell_type": "markdown",
      "source": [
        "## Funkcja Leaky ReLU."
      ],
      "metadata": {
        "id": "5IXYjMO0B2Oz"
      }
    },
    {
      "cell_type": "markdown",
      "source": [
        "Odmiana ReLU, która polega na tym, że wartości ujemne mogą być mnożone przez współczynnik nachylenia (domyślnie 0,2, można go regulować parametrem negative_slope)."
      ],
      "metadata": {
        "id": "YTgDaxWzB4i7"
      }
    },
    {
      "cell_type": "code",
      "source": [
        "from tensorflow.keras.activations import leaky_relu\n",
        "\n",
        "data = pd.DataFrame({'data': random_data, 'leaky_relu': leaky_relu(random_data, negative_slope=0.2)})\n",
        "data"
      ],
      "metadata": {
        "colab": {
          "base_uri": "https://localhost:8080/",
          "height": 424
        },
        "id": "SKchUMtnBgCU",
        "outputId": "0cfdc4d1-abee-4a03-8e25-2dcd2db9e58f"
      },
      "execution_count": 13,
      "outputs": [
        {
          "output_type": "execute_result",
          "data": {
            "text/plain": [
              "        data  leaky_relu\n",
              "0   -5.00000   -1.000000\n",
              "1   -4.97996   -0.995992\n",
              "2   -4.95992   -0.991984\n",
              "3   -4.93988   -0.987976\n",
              "4   -4.91984   -0.983968\n",
              "..       ...         ...\n",
              "495  4.91984    4.919840\n",
              "496  4.93988    4.939880\n",
              "497  4.95992    4.959920\n",
              "498  4.97996    4.979960\n",
              "499  5.00000    5.000000\n",
              "\n",
              "[500 rows x 2 columns]"
            ],
            "text/html": [
              "\n",
              "  <div id=\"df-a4d8dcad-8b1e-4b02-ba3f-2275a4497953\" class=\"colab-df-container\">\n",
              "    <div>\n",
              "<style scoped>\n",
              "    .dataframe tbody tr th:only-of-type {\n",
              "        vertical-align: middle;\n",
              "    }\n",
              "\n",
              "    .dataframe tbody tr th {\n",
              "        vertical-align: top;\n",
              "    }\n",
              "\n",
              "    .dataframe thead th {\n",
              "        text-align: right;\n",
              "    }\n",
              "</style>\n",
              "<table border=\"1\" class=\"dataframe\">\n",
              "  <thead>\n",
              "    <tr style=\"text-align: right;\">\n",
              "      <th></th>\n",
              "      <th>data</th>\n",
              "      <th>leaky_relu</th>\n",
              "    </tr>\n",
              "  </thead>\n",
              "  <tbody>\n",
              "    <tr>\n",
              "      <th>0</th>\n",
              "      <td>-5.00000</td>\n",
              "      <td>-1.000000</td>\n",
              "    </tr>\n",
              "    <tr>\n",
              "      <th>1</th>\n",
              "      <td>-4.97996</td>\n",
              "      <td>-0.995992</td>\n",
              "    </tr>\n",
              "    <tr>\n",
              "      <th>2</th>\n",
              "      <td>-4.95992</td>\n",
              "      <td>-0.991984</td>\n",
              "    </tr>\n",
              "    <tr>\n",
              "      <th>3</th>\n",
              "      <td>-4.93988</td>\n",
              "      <td>-0.987976</td>\n",
              "    </tr>\n",
              "    <tr>\n",
              "      <th>4</th>\n",
              "      <td>-4.91984</td>\n",
              "      <td>-0.983968</td>\n",
              "    </tr>\n",
              "    <tr>\n",
              "      <th>...</th>\n",
              "      <td>...</td>\n",
              "      <td>...</td>\n",
              "    </tr>\n",
              "    <tr>\n",
              "      <th>495</th>\n",
              "      <td>4.91984</td>\n",
              "      <td>4.919840</td>\n",
              "    </tr>\n",
              "    <tr>\n",
              "      <th>496</th>\n",
              "      <td>4.93988</td>\n",
              "      <td>4.939880</td>\n",
              "    </tr>\n",
              "    <tr>\n",
              "      <th>497</th>\n",
              "      <td>4.95992</td>\n",
              "      <td>4.959920</td>\n",
              "    </tr>\n",
              "    <tr>\n",
              "      <th>498</th>\n",
              "      <td>4.97996</td>\n",
              "      <td>4.979960</td>\n",
              "    </tr>\n",
              "    <tr>\n",
              "      <th>499</th>\n",
              "      <td>5.00000</td>\n",
              "      <td>5.000000</td>\n",
              "    </tr>\n",
              "  </tbody>\n",
              "</table>\n",
              "<p>500 rows × 2 columns</p>\n",
              "</div>\n",
              "    <div class=\"colab-df-buttons\">\n",
              "\n",
              "  <div class=\"colab-df-container\">\n",
              "    <button class=\"colab-df-convert\" onclick=\"convertToInteractive('df-a4d8dcad-8b1e-4b02-ba3f-2275a4497953')\"\n",
              "            title=\"Convert this dataframe to an interactive table.\"\n",
              "            style=\"display:none;\">\n",
              "\n",
              "  <svg xmlns=\"http://www.w3.org/2000/svg\" height=\"24px\" viewBox=\"0 -960 960 960\">\n",
              "    <path d=\"M120-120v-720h720v720H120Zm60-500h600v-160H180v160Zm220 220h160v-160H400v160Zm0 220h160v-160H400v160ZM180-400h160v-160H180v160Zm440 0h160v-160H620v160ZM180-180h160v-160H180v160Zm440 0h160v-160H620v160Z\"/>\n",
              "  </svg>\n",
              "    </button>\n",
              "\n",
              "  <style>\n",
              "    .colab-df-container {\n",
              "      display:flex;\n",
              "      gap: 12px;\n",
              "    }\n",
              "\n",
              "    .colab-df-convert {\n",
              "      background-color: #E8F0FE;\n",
              "      border: none;\n",
              "      border-radius: 50%;\n",
              "      cursor: pointer;\n",
              "      display: none;\n",
              "      fill: #1967D2;\n",
              "      height: 32px;\n",
              "      padding: 0 0 0 0;\n",
              "      width: 32px;\n",
              "    }\n",
              "\n",
              "    .colab-df-convert:hover {\n",
              "      background-color: #E2EBFA;\n",
              "      box-shadow: 0px 1px 2px rgba(60, 64, 67, 0.3), 0px 1px 3px 1px rgba(60, 64, 67, 0.15);\n",
              "      fill: #174EA6;\n",
              "    }\n",
              "\n",
              "    .colab-df-buttons div {\n",
              "      margin-bottom: 4px;\n",
              "    }\n",
              "\n",
              "    [theme=dark] .colab-df-convert {\n",
              "      background-color: #3B4455;\n",
              "      fill: #D2E3FC;\n",
              "    }\n",
              "\n",
              "    [theme=dark] .colab-df-convert:hover {\n",
              "      background-color: #434B5C;\n",
              "      box-shadow: 0px 1px 3px 1px rgba(0, 0, 0, 0.15);\n",
              "      filter: drop-shadow(0px 1px 2px rgba(0, 0, 0, 0.3));\n",
              "      fill: #FFFFFF;\n",
              "    }\n",
              "  </style>\n",
              "\n",
              "    <script>\n",
              "      const buttonEl =\n",
              "        document.querySelector('#df-a4d8dcad-8b1e-4b02-ba3f-2275a4497953 button.colab-df-convert');\n",
              "      buttonEl.style.display =\n",
              "        google.colab.kernel.accessAllowed ? 'block' : 'none';\n",
              "\n",
              "      async function convertToInteractive(key) {\n",
              "        const element = document.querySelector('#df-a4d8dcad-8b1e-4b02-ba3f-2275a4497953');\n",
              "        const dataTable =\n",
              "          await google.colab.kernel.invokeFunction('convertToInteractive',\n",
              "                                                    [key], {});\n",
              "        if (!dataTable) return;\n",
              "\n",
              "        const docLinkHtml = 'Like what you see? Visit the ' +\n",
              "          '<a target=\"_blank\" href=https://colab.research.google.com/notebooks/data_table.ipynb>data table notebook</a>'\n",
              "          + ' to learn more about interactive tables.';\n",
              "        element.innerHTML = '';\n",
              "        dataTable['output_type'] = 'display_data';\n",
              "        await google.colab.output.renderOutput(dataTable, element);\n",
              "        const docLink = document.createElement('div');\n",
              "        docLink.innerHTML = docLinkHtml;\n",
              "        element.appendChild(docLink);\n",
              "      }\n",
              "    </script>\n",
              "  </div>\n",
              "\n",
              "\n",
              "<div id=\"df-5ad40477-35f4-49cf-9117-5e41609847e6\">\n",
              "  <button class=\"colab-df-quickchart\" onclick=\"quickchart('df-5ad40477-35f4-49cf-9117-5e41609847e6')\"\n",
              "            title=\"Suggest charts\"\n",
              "            style=\"display:none;\">\n",
              "\n",
              "<svg xmlns=\"http://www.w3.org/2000/svg\" height=\"24px\"viewBox=\"0 0 24 24\"\n",
              "     width=\"24px\">\n",
              "    <g>\n",
              "        <path d=\"M19 3H5c-1.1 0-2 .9-2 2v14c0 1.1.9 2 2 2h14c1.1 0 2-.9 2-2V5c0-1.1-.9-2-2-2zM9 17H7v-7h2v7zm4 0h-2V7h2v10zm4 0h-2v-4h2v4z\"/>\n",
              "    </g>\n",
              "</svg>\n",
              "  </button>\n",
              "\n",
              "<style>\n",
              "  .colab-df-quickchart {\n",
              "      --bg-color: #E8F0FE;\n",
              "      --fill-color: #1967D2;\n",
              "      --hover-bg-color: #E2EBFA;\n",
              "      --hover-fill-color: #174EA6;\n",
              "      --disabled-fill-color: #AAA;\n",
              "      --disabled-bg-color: #DDD;\n",
              "  }\n",
              "\n",
              "  [theme=dark] .colab-df-quickchart {\n",
              "      --bg-color: #3B4455;\n",
              "      --fill-color: #D2E3FC;\n",
              "      --hover-bg-color: #434B5C;\n",
              "      --hover-fill-color: #FFFFFF;\n",
              "      --disabled-bg-color: #3B4455;\n",
              "      --disabled-fill-color: #666;\n",
              "  }\n",
              "\n",
              "  .colab-df-quickchart {\n",
              "    background-color: var(--bg-color);\n",
              "    border: none;\n",
              "    border-radius: 50%;\n",
              "    cursor: pointer;\n",
              "    display: none;\n",
              "    fill: var(--fill-color);\n",
              "    height: 32px;\n",
              "    padding: 0;\n",
              "    width: 32px;\n",
              "  }\n",
              "\n",
              "  .colab-df-quickchart:hover {\n",
              "    background-color: var(--hover-bg-color);\n",
              "    box-shadow: 0 1px 2px rgba(60, 64, 67, 0.3), 0 1px 3px 1px rgba(60, 64, 67, 0.15);\n",
              "    fill: var(--button-hover-fill-color);\n",
              "  }\n",
              "\n",
              "  .colab-df-quickchart-complete:disabled,\n",
              "  .colab-df-quickchart-complete:disabled:hover {\n",
              "    background-color: var(--disabled-bg-color);\n",
              "    fill: var(--disabled-fill-color);\n",
              "    box-shadow: none;\n",
              "  }\n",
              "\n",
              "  .colab-df-spinner {\n",
              "    border: 2px solid var(--fill-color);\n",
              "    border-color: transparent;\n",
              "    border-bottom-color: var(--fill-color);\n",
              "    animation:\n",
              "      spin 1s steps(1) infinite;\n",
              "  }\n",
              "\n",
              "  @keyframes spin {\n",
              "    0% {\n",
              "      border-color: transparent;\n",
              "      border-bottom-color: var(--fill-color);\n",
              "      border-left-color: var(--fill-color);\n",
              "    }\n",
              "    20% {\n",
              "      border-color: transparent;\n",
              "      border-left-color: var(--fill-color);\n",
              "      border-top-color: var(--fill-color);\n",
              "    }\n",
              "    30% {\n",
              "      border-color: transparent;\n",
              "      border-left-color: var(--fill-color);\n",
              "      border-top-color: var(--fill-color);\n",
              "      border-right-color: var(--fill-color);\n",
              "    }\n",
              "    40% {\n",
              "      border-color: transparent;\n",
              "      border-right-color: var(--fill-color);\n",
              "      border-top-color: var(--fill-color);\n",
              "    }\n",
              "    60% {\n",
              "      border-color: transparent;\n",
              "      border-right-color: var(--fill-color);\n",
              "    }\n",
              "    80% {\n",
              "      border-color: transparent;\n",
              "      border-right-color: var(--fill-color);\n",
              "      border-bottom-color: var(--fill-color);\n",
              "    }\n",
              "    90% {\n",
              "      border-color: transparent;\n",
              "      border-bottom-color: var(--fill-color);\n",
              "    }\n",
              "  }\n",
              "</style>\n",
              "\n",
              "  <script>\n",
              "    async function quickchart(key) {\n",
              "      const quickchartButtonEl =\n",
              "        document.querySelector('#' + key + ' button');\n",
              "      quickchartButtonEl.disabled = true;  // To prevent multiple clicks.\n",
              "      quickchartButtonEl.classList.add('colab-df-spinner');\n",
              "      try {\n",
              "        const charts = await google.colab.kernel.invokeFunction(\n",
              "            'suggestCharts', [key], {});\n",
              "      } catch (error) {\n",
              "        console.error('Error during call to suggestCharts:', error);\n",
              "      }\n",
              "      quickchartButtonEl.classList.remove('colab-df-spinner');\n",
              "      quickchartButtonEl.classList.add('colab-df-quickchart-complete');\n",
              "    }\n",
              "    (() => {\n",
              "      let quickchartButtonEl =\n",
              "        document.querySelector('#df-5ad40477-35f4-49cf-9117-5e41609847e6 button');\n",
              "      quickchartButtonEl.style.display =\n",
              "        google.colab.kernel.accessAllowed ? 'block' : 'none';\n",
              "    })();\n",
              "  </script>\n",
              "</div>\n",
              "\n",
              "  <div id=\"id_c685d852-0240-4645-9cab-524130520ec7\">\n",
              "    <style>\n",
              "      .colab-df-generate {\n",
              "        background-color: #E8F0FE;\n",
              "        border: none;\n",
              "        border-radius: 50%;\n",
              "        cursor: pointer;\n",
              "        display: none;\n",
              "        fill: #1967D2;\n",
              "        height: 32px;\n",
              "        padding: 0 0 0 0;\n",
              "        width: 32px;\n",
              "      }\n",
              "\n",
              "      .colab-df-generate:hover {\n",
              "        background-color: #E2EBFA;\n",
              "        box-shadow: 0px 1px 2px rgba(60, 64, 67, 0.3), 0px 1px 3px 1px rgba(60, 64, 67, 0.15);\n",
              "        fill: #174EA6;\n",
              "      }\n",
              "\n",
              "      [theme=dark] .colab-df-generate {\n",
              "        background-color: #3B4455;\n",
              "        fill: #D2E3FC;\n",
              "      }\n",
              "\n",
              "      [theme=dark] .colab-df-generate:hover {\n",
              "        background-color: #434B5C;\n",
              "        box-shadow: 0px 1px 3px 1px rgba(0, 0, 0, 0.15);\n",
              "        filter: drop-shadow(0px 1px 2px rgba(0, 0, 0, 0.3));\n",
              "        fill: #FFFFFF;\n",
              "      }\n",
              "    </style>\n",
              "    <button class=\"colab-df-generate\" onclick=\"generateWithVariable('data')\"\n",
              "            title=\"Generate code using this dataframe.\"\n",
              "            style=\"display:none;\">\n",
              "\n",
              "  <svg xmlns=\"http://www.w3.org/2000/svg\" height=\"24px\"viewBox=\"0 0 24 24\"\n",
              "       width=\"24px\">\n",
              "    <path d=\"M7,19H8.4L18.45,9,17,7.55,7,17.6ZM5,21V16.75L18.45,3.32a2,2,0,0,1,2.83,0l1.4,1.43a1.91,1.91,0,0,1,.58,1.4,1.91,1.91,0,0,1-.58,1.4L9.25,21ZM18.45,9,17,7.55Zm-12,3A5.31,5.31,0,0,0,4.9,8.1,5.31,5.31,0,0,0,1,6.5,5.31,5.31,0,0,0,4.9,4.9,5.31,5.31,0,0,0,6.5,1,5.31,5.31,0,0,0,8.1,4.9,5.31,5.31,0,0,0,12,6.5,5.46,5.46,0,0,0,6.5,12Z\"/>\n",
              "  </svg>\n",
              "    </button>\n",
              "    <script>\n",
              "      (() => {\n",
              "      const buttonEl =\n",
              "        document.querySelector('#id_c685d852-0240-4645-9cab-524130520ec7 button.colab-df-generate');\n",
              "      buttonEl.style.display =\n",
              "        google.colab.kernel.accessAllowed ? 'block' : 'none';\n",
              "\n",
              "      buttonEl.onclick = () => {\n",
              "        google.colab.notebook.generateWithVariable('data');\n",
              "      }\n",
              "      })();\n",
              "    </script>\n",
              "  </div>\n",
              "\n",
              "    </div>\n",
              "  </div>\n"
            ],
            "application/vnd.google.colaboratory.intrinsic+json": {
              "type": "dataframe",
              "variable_name": "data",
              "summary": "{\n  \"name\": \"data\",\n  \"rows\": 500,\n  \"fields\": [\n    {\n      \"column\": \"data\",\n      \"properties\": {\n        \"dtype\": \"number\",\n        \"std\": 2.895427510380739,\n        \"min\": -5.0,\n        \"max\": 5.0,\n        \"num_unique_values\": 500,\n        \"samples\": [\n          2.234468937875751,\n          -3.5370741482965933,\n          2.49498997995992\n        ],\n        \"semantic_type\": \"\",\n        \"description\": \"\"\n      }\n    },\n    {\n      \"column\": \"leaky_relu\",\n      \"properties\": {\n        \"dtype\": \"number\",\n        \"std\": 1.8312280512115198,\n        \"min\": -1.0000000149011612,\n        \"max\": 5.0,\n        \"num_unique_values\": 500,\n        \"samples\": [\n          2.234468937875751,\n          -0.7074148402006211,\n          2.49498997995992\n        ],\n        \"semantic_type\": \"\",\n        \"description\": \"\"\n      }\n    }\n  ]\n}"
            }
          },
          "metadata": {},
          "execution_count": 13
        }
      ]
    },
    {
      "cell_type": "code",
      "source": [
        "px.line(data, x='data', y='leaky_relu', width=800, height=600, range_y=[-1.5, 5.5], range_x=[-5.5, 5.5])"
      ],
      "metadata": {
        "colab": {
          "base_uri": "https://localhost:8080/",
          "height": 617
        },
        "id": "_Tg9VrjQCPg_",
        "outputId": "c499d270-0be9-47c3-9bee-c168836d3e0c"
      },
      "execution_count": 14,
      "outputs": [
        {
          "output_type": "display_data",
          "data": {
            "text/html": [
              "<html>\n",
              "<head><meta charset=\"utf-8\" /></head>\n",
              "<body>\n",
              "    <div>            <script src=\"https://cdnjs.cloudflare.com/ajax/libs/mathjax/2.7.5/MathJax.js?config=TeX-AMS-MML_SVG\"></script><script type=\"text/javascript\">if (window.MathJax && window.MathJax.Hub && window.MathJax.Hub.Config) {window.MathJax.Hub.Config({SVG: {font: \"STIX-Web\"}});}</script>                <script type=\"text/javascript\">window.PlotlyConfig = {MathJaxConfig: 'local'};</script>\n",
              "        <script charset=\"utf-8\" src=\"https://cdn.plot.ly/plotly-2.24.1.min.js\"></script>                <div id=\"78317075-d125-45e6-8934-369b3c97dd96\" class=\"plotly-graph-div\" style=\"height:600px; width:800px;\"></div>            <script type=\"text/javascript\">                                    window.PLOTLYENV=window.PLOTLYENV || {};                                    if (document.getElementById(\"78317075-d125-45e6-8934-369b3c97dd96\")) {                    Plotly.newPlot(                        \"78317075-d125-45e6-8934-369b3c97dd96\",                        [{\"hovertemplate\":\"data=%{x}\\u003cbr\\u003eleaky_relu=%{y}\\u003cextra\\u003e\\u003c\\u002fextra\\u003e\",\"legendgroup\":\"\",\"line\":{\"color\":\"#636efa\",\"dash\":\"solid\"},\"marker\":{\"symbol\":\"circle\"},\"mode\":\"lines\",\"name\":\"\",\"orientation\":\"v\",\"showlegend\":false,\"x\":[-5.0,-4.979959919839679,-4.959919839679359,-4.939879759519038,-4.919839679358717,-4.8997995991983965,-4.8797595190380765,-4.859719438877756,-4.839679358717435,-4.819639278557114,-4.799599198396794,-4.779559118236473,-4.759519038076152,-4.739478957915832,-4.719438877755511,-4.69939879759519,-4.679358717434869,-4.659318637274549,-4.6392785571142285,-4.619238476953908,-4.599198396793588,-4.579158316633267,-4.559118236472946,-4.539078156312625,-4.519038076152305,-4.498997995991984,-4.478957915831663,-4.458917835671342,-4.438877755511022,-4.4188376753507015,-4.398797595190381,-4.37875751503006,-4.35871743486974,-4.338677354709419,-4.318637274549098,-4.298597194388778,-4.278557114228457,-4.258517034068136,-4.238476953907815,-4.218436873747495,-4.198396793587174,-4.1783567134268536,-4.158316633266534,-4.138276553106213,-4.118236472945892,-4.098196392785571,-4.078156312625251,-4.05811623246493,-4.038076152304609,-4.018036072144288,-3.9979959919839683,-3.9779559118236474,-3.9579158316633265,-3.937875751503006,-3.9178356713426856,-3.8977955911823647,-3.877755511022044,-3.8577154308617234,-3.837675350701403,-3.817635270541082,-3.7975951903807617,-3.777555110220441,-3.7575150300601203,-3.7374749498997994,-3.717434869739479,-3.6973947895791586,-3.6773547094188377,-3.657314629258517,-3.6372745490981964,-3.617234468937876,-3.597194388777555,-3.5771543086172346,-3.557114228456914,-3.5370741482965933,-3.5170340681362724,-3.496993987975952,-3.4769539078156315,-3.4569138276553106,-3.4368737474949898,-3.4168336673346693,-3.396793587174349,-3.376753507014028,-3.3567134268537075,-3.336673346693387,-3.3166332665330662,-3.2965931863727453,-3.276553106212425,-3.2565130260521045,-3.2364729458917836,-3.2164328657314627,-3.1963927855711423,-3.176352705410822,-3.156312625250501,-3.1362725450901805,-3.11623246492986,-3.096192384769539,-3.0761523046092183,-3.056112224448898,-3.0360721442885774,-3.0160320641282565,-2.995991983967936,-2.975951903807615,-2.9559118236472948,-2.935871743486974,-2.9158316633266534,-2.8957915831663326,-2.875751503006012,-2.8557114228456917,-2.835671342685371,-2.8156312625250504,-2.7955911823647295,-2.775551102204409,-2.755511022044088,-2.7354709418837677,-2.715430861723447,-2.6953907815631264,-2.6753507014028055,-2.655310621242485,-2.6352705410821646,-2.6152304609218437,-2.5951903807615233,-2.5751503006012024,-2.555110220440882,-2.535070140280561,-2.5150300601202407,-2.49498997995992,-2.4749498997995993,-2.4549098196392785,-2.434869739478958,-2.4148296593186376,-2.3947895791583167,-2.3747494989979963,-2.3547094188376754,-2.334669338677355,-2.314629258517034,-2.2945891783567136,-2.2745490981963927,-2.2545090180360723,-2.2344689378757514,-2.214428857715431,-2.1943887775551105,-2.1743486973947896,-2.154308617234469,-2.1342685370741483,-2.114228456913828,-2.094188376753507,-2.0741482965931866,-2.0541082164328657,-2.0340681362725452,-2.0140280561122244,-1.993987975951904,-1.9739478957915835,-1.9539078156312626,-1.9338677354709422,-1.9138276553106213,-1.8937875751503008,-1.87374749498998,-1.8537074148296595,-1.8336673346693386,-1.8136272545090182,-1.7935871743486977,-1.7735470941883769,-1.7535070140280564,-1.7334669338677355,-1.713426853707415,-1.6933867735470942,-1.6733466933867738,-1.653306613226453,-1.6332665330661325,-1.6132264529058116,-1.5931863727454911,-1.5731462925851707,-1.5531062124248498,-1.5330661322645294,-1.5130260521042085,-1.492985971943888,-1.4729458917835672,-1.4529058116232467,-1.4328657314629258,-1.4128256513026054,-1.3927855711422845,-1.372745490981964,-1.3527054108216436,-1.3326653306613228,-1.3126252505010023,-1.2925851703406814,-1.272545090180361,-1.25250501002004,-1.2324649298597197,-1.2124248496993988,-1.1923847695390783,-1.1723446893787575,-1.152304609218437,-1.1322645290581166,-1.1122244488977957,-1.0921843687374753,-1.0721442885771544,-1.052104208416834,-1.032064128256513,-1.0120240480961926,-0.9919839679358722,-0.9719438877755513,-0.9519038076152304,-0.9318637274549104,-0.9118236472945895,-0.8917835671342687,-0.8717434869739478,-0.8517034068136278,-0.8316633266533069,-0.811623246492986,-0.7915831663326651,-0.7715430861723451,-0.7515030060120242,-0.7314629258517034,-0.7114228456913834,-0.6913827655310625,-0.6713426853707416,-0.6513026052104207,-0.6312625250501007,-0.6112224448897798,-0.591182364729459,-0.5711422845691381,-0.5511022044088181,-0.5310621242484972,-0.5110220440881763,-0.4909819639278563,-0.47094188376753543,-0.45090180360721455,-0.43086172344689366,-0.41082164328657367,-0.3907815631262528,-0.3707414829659319,-0.350701402805611,-0.330661322645291,-0.31062124248497014,-0.29058116232464926,-0.27054108216432926,-0.2505010020040084,-0.2304609218436875,-0.2104208416833666,-0.19038076152304662,-0.17034068136272573,-0.15030060120240485,-0.13026052104208397,-0.11022044088176397,-0.09018036072144309,-0.0701402805611222,-0.05010020040080221,-0.030060120240481325,-0.010020040080160442,0.010020040080160442,0.030060120240480437,0.05010020040080132,0.0701402805611222,0.09018036072144309,0.11022044088176308,0.13026052104208397,0.15030060120240485,0.17034068136272484,0.19038076152304573,0.2104208416833666,0.2304609218436875,0.2505010020040075,0.2705410821643284,0.29058116232464926,0.31062124248497014,0.33066132264529013,0.350701402805611,0.3707414829659319,0.3907815631262519,0.4108216432865728,0.43086172344689366,0.45090180360721455,0.47094188376753454,0.4909819639278554,0.5110220440881763,0.5310621242484972,0.5511022044088172,0.5711422845691381,0.591182364729459,0.611222444889779,0.6312625250500998,0.6513026052104207,0.6713426853707416,0.6913827655310616,0.7114228456913825,0.7314629258517034,0.7515030060120242,0.7715430861723442,0.7915831663326651,0.811623246492986,0.831663326653306,0.8517034068136269,0.8717434869739478,0.8917835671342687,0.9118236472945886,0.9318637274549095,0.9519038076152304,0.9719438877755513,0.9919839679358713,1.0120240480961922,1.032064128256513,1.052104208416833,1.072144288577154,1.0921843687374748,1.1122244488977957,1.1322645290581157,1.1523046092184366,1.1723446893787575,1.1923847695390783,1.2124248496993983,1.2324649298597192,1.25250501002004,1.27254509018036,1.292585170340681,1.3126252505010019,1.3326653306613228,1.3527054108216428,1.3727454909819636,1.3927855711422845,1.4128256513026045,1.4328657314629254,1.4529058116232463,1.4729458917835672,1.4929859719438872,1.513026052104208,1.533066132264529,1.5531062124248498,1.5731462925851698,1.5931863727454907,1.6132264529058116,1.6332665330661316,1.6533066132264524,1.6733466933867733,1.6933867735470942,1.7134268537074142,1.733466933867735,1.753507014028056,1.7735470941883769,1.7935871743486969,1.8136272545090177,1.8336673346693386,1.8537074148296586,1.8737474949899795,1.8937875751503004,1.9138276553106213,1.9338677354709413,1.9539078156312621,1.973947895791583,1.993987975951904,2.014028056112224,2.034068136272545,2.0541082164328657,2.0741482965931857,2.0941883767535066,2.1142284569138274,2.1342685370741483,2.1543086172344683,2.174348697394789,2.19438877755511,2.214428857715431,2.234468937875751,2.254509018036072,2.2745490981963927,2.2945891783567127,2.3146292585170336,2.3346693386773545,2.3547094188376754,2.3747494989979954,2.3947895791583163,2.414829659318637,2.434869739478958,2.454909819639278,2.474949899799599,2.49498997995992,2.5150300601202398,2.5350701402805607,2.5551102204408815,2.5751503006012024,2.5951903807615224,2.6152304609218433,2.635270541082164,2.655310621242485,2.675350701402805,2.695390781563126,2.715430861723447,2.735470941883767,2.7555110220440877,2.7755511022044086,2.7955911823647295,2.8156312625250495,2.8356713426853704,2.8557114228456912,2.875751503006012,2.895791583166332,2.915831663326653,2.935871743486974,2.955911823647294,2.9759519038076148,2.9959919839679356,3.0160320641282556,3.0360721442885765,3.0561122244488974,3.0761523046092183,3.096192384769539,3.11623246492986,3.136272545090179,3.1563126252505,3.176352705410821,3.196392785571142,3.2164328657314627,3.2364729458917836,3.2565130260521045,3.2765531062124253,3.2965931863727445,3.3166332665330653,3.336673346693386,3.356713426853707,3.376753507014028,3.396793587174349,3.4168336673346698,3.436873747494989,3.4569138276553097,3.4769539078156306,3.4969939879759515,3.5170340681362724,3.5370741482965933,3.557114228456914,3.5771543086172333,3.597194388777554,3.617234468937875,3.637274549098196,3.657314629258517,3.6773547094188377,3.6973947895791586,3.7174348697394795,3.7374749498997986,3.7575150300601194,3.7775551102204403,3.797595190380761,3.817635270541082,3.837675350701403,3.857715430861724,3.877755511022043,3.897795591182364,3.9178356713426847,3.9378757515030056,3.9579158316633265,3.9779559118236474,3.9979959919839683,4.018036072144287,4.038076152304608,4.058116232464929,4.07815631262525,4.098196392785571,4.118236472945892,4.138276553106213,4.158316633266534,4.178356713426853,4.1983967935871735,4.218436873747494,4.238476953907815,4.258517034068136,4.278557114228457,4.298597194388778,4.318637274549097,4.338677354709418,4.358717434869739,4.37875751503006,4.398797595190381,4.4188376753507015,4.438877755511022,4.4589178356713415,4.478957915831662,4.498997995991983,4.519038076152304,4.539078156312625,4.559118236472946,4.579158316633267,4.599198396793588,4.619238476953907,4.639278557114228,4.6593186372745485,4.679358717434869,4.69939879759519,4.719438877755511,4.739478957915832,4.759519038076151,4.779559118236472,4.799599198396793,4.819639278557114,4.839679358717435,4.859719438877756,4.8797595190380765,4.899799599198396,4.9198396793587165,4.939879759519037,4.959919839679358,4.979959919839679,5.0],\"xaxis\":\"x\",\"y\":[-1.0000000149011612,-0.995991998809373,-0.9919839827175848,-0.9879759666257966,-0.9839679505340083,-0.9799599344422201,-0.9759519183504319,-0.9719439022586437,-0.9679358861668554,-0.9639278700750671,-0.9599198539832791,-0.9559118378914908,-0.9519038217997025,-0.9478958057079144,-0.9438877896161262,-0.9398797735243378,-0.9358717574325496,-0.9318637413407616,-0.9278557252489732,-0.923847709157185,-0.9198396930653968,-0.9158316769736086,-0.9118236608818203,-0.9078156447900321,-0.9038076286982439,-0.8997996126064557,-0.8957915965146674,-0.8917835804228792,-0.8877755643310911,-0.8837675482393028,-0.8797595321475146,-0.8757515160557262,-0.8717434999639382,-0.8677354838721499,-0.8637274677803616,-0.8597194516885736,-0.8557114355967853,-0.851703419504997,-0.8476954034132087,-0.8436873873214207,-0.8396793712296323,-0.8356713551378441,-0.831663339046056,-0.8276553229542677,-0.8236473068624794,-0.8196392907706912,-0.8156312746789031,-0.8116232585871148,-0.8076152424953266,-0.8036072264035383,-0.7995992103117502,-0.7955911942199619,-0.7915831781281737,-0.7875751620363854,-0.7835671459445973,-0.7795591298528091,-0.7755511137610207,-0.7715430976692326,-0.7675350815774444,-0.7635270654856561,-0.7595190493938679,-0.7555110333020798,-0.7515030172102914,-0.7474950011185032,-0.7434869850267151,-0.7394789689349268,-0.7354709528431386,-0.7314629367513503,-0.7274549206595622,-0.7234469045677739,-0.7194388884759857,-0.7154308723841976,-0.7114228562924093,-0.7074148402006211,-0.7034068241088328,-0.6993988080170446,-0.6953907919252564,-0.6913827758334682,-0.6873747597416799,-0.6833667436498917,-0.6793587275581036,-0.6753507114663153,-0.6713426953745271,-0.6673346792827389,-0.6633266631909507,-0.6593186470991623,-0.6553106310073742,-0.651302614915586,-0.6472945988237977,-0.6432865827320094,-0.6392785666402213,-0.6352705505484331,-0.6312625344566448,-0.6272545183648567,-0.6232465022730684,-0.6192384861812802,-0.6152304700894919,-0.6112224539977037,-0.6072144379059156,-0.6032064218141273,-0.5991984057223391,-0.5951903896305508,-0.5911823735387627,-0.5871743574469744,-0.5831663413551862,-0.5791583252633979,-0.5751503091716098,-0.5711422930798216,-0.5671342769880333,-0.5631262608962452,-0.5591182448044568,-0.5551102287126687,-0.5511022126208804,-0.5470941965290922,-0.543086180437304,-0.5390781643455158,-0.5350701482537276,-0.5310621321619393,-0.5270541160701512,-0.5230460999783629,-0.5190380838865747,-0.5150300677947864,-0.5110220517029983,-0.50701403561121,-0.5030060195194218,-0.4989980034276335,-0.49498998733584537,-0.49098197124405707,-0.4869739551522689,-0.48296593906048074,-0.47895792296869244,-0.47494990687690425,-0.470941890785116,-0.4669338746933278,-0.46292585860153956,-0.4589178425097514,-0.45490982641796307,-0.45090181032617493,-0.44689379423438663,-0.44288577814259844,-0.4388777620508103,-0.434869745959022,-0.4308617298672338,-0.42685371377544556,-0.4228456976836574,-0.4188376815918691,-0.41482966550008094,-0.4108216494082927,-0.4068136333165045,-0.4028056172247162,-0.39879760113292806,-0.39478958504113987,-0.39078156894935157,-0.3867735528575634,-0.3827655367657751,-0.37875752067398694,-0.3747495045821987,-0.3707414884904105,-0.36673347239862225,-0.36272545630683406,-0.35871744021504587,-0.3547094241232576,-0.35070140803146943,-0.34669339193968113,-0.342685375847893,-0.3386773597561047,-0.3346693436643165,-0.33066132757252825,-0.32665331148074006,-0.3226452953889518,-0.3186372792971636,-0.31462926320537543,-0.3106212471135872,-0.306613231021799,-0.3026052149300107,-0.29859719883822256,-0.29458918274643425,-0.29058116665464606,-0.2865731505628578,-0.2825651344710696,-0.2785571183792814,-0.2745491022874932,-0.270541086195705,-0.26653307010391675,-0.26252505401212856,-0.2585170379203403,-0.2545090218285521,-0.2505010057367638,-0.24649298964497565,-0.24248497355318738,-0.2384769574613992,-0.23446894136961094,-0.23046092527782275,-0.22645290918603456,-0.2224448930942463,-0.21843687700245812,-0.21442886091066984,-0.21042084481888168,-0.2064128287270934,-0.20240481263530521,-0.19839679654351705,-0.19438878045172878,-0.1903807643599405,-0.1863727482681524,-0.18236473217636415,-0.17835671608457587,-0.1743486999927876,-0.17034068390099952,-0.16633266780921124,-0.16232465171742297,-0.1583166356256347,-0.1543086195338466,-0.15030060344205834,-0.14629258735027006,-0.14228457125848198,-0.1382765551666937,-0.13426853907490544,-0.13026052298311716,-0.12625250689132908,-0.1222444907995408,-0.11823647470775253,-0.11422845861596426,-0.11022044252417618,-0.1062124264323879,-0.10220441034059963,-0.09819639424881153,-0.09418837815702327,-0.090180362065235,-0.08617234597344674,-0.08216432988165864,-0.07815631378987037,-0.0741482976980821,-0.07014028160629383,-0.06613226551450574,-0.06212424942271747,-0.0581162333309292,-0.05410821723914111,-0.050100201147352835,-0.04609218505556457,-0.0420841689637763,-0.038076152871988206,-0.03406813678019994,-0.030060120688411667,-0.026052104596623396,-0.022044088504835305,-0.018036072413047034,-0.014028056321258767,-0.010020040229470674,-0.006012024137682404,-0.0020040080458941347,0.010020040080160442,0.030060120240480437,0.05010020040080132,0.0701402805611222,0.09018036072144309,0.11022044088176308,0.13026052104208397,0.15030060120240485,0.17034068136272484,0.19038076152304573,0.2104208416833666,0.2304609218436875,0.2505010020040075,0.2705410821643284,0.29058116232464926,0.31062124248497014,0.33066132264529013,0.350701402805611,0.3707414829659319,0.3907815631262519,0.4108216432865728,0.43086172344689366,0.45090180360721455,0.47094188376753454,0.4909819639278554,0.5110220440881763,0.5310621242484972,0.5511022044088172,0.5711422845691381,0.591182364729459,0.611222444889779,0.6312625250500998,0.6513026052104207,0.6713426853707416,0.6913827655310616,0.7114228456913825,0.7314629258517034,0.7515030060120242,0.7715430861723442,0.7915831663326651,0.811623246492986,0.831663326653306,0.8517034068136269,0.8717434869739478,0.8917835671342687,0.9118236472945886,0.9318637274549095,0.9519038076152304,0.9719438877755513,0.9919839679358713,1.0120240480961922,1.032064128256513,1.052104208416833,1.072144288577154,1.0921843687374748,1.1122244488977957,1.1322645290581157,1.1523046092184366,1.1723446893787575,1.1923847695390783,1.2124248496993983,1.2324649298597192,1.25250501002004,1.27254509018036,1.292585170340681,1.3126252505010019,1.3326653306613228,1.3527054108216428,1.3727454909819636,1.3927855711422845,1.4128256513026045,1.4328657314629254,1.4529058116232463,1.4729458917835672,1.4929859719438872,1.513026052104208,1.533066132264529,1.5531062124248498,1.5731462925851698,1.5931863727454907,1.6132264529058116,1.6332665330661316,1.6533066132264524,1.6733466933867733,1.6933867735470942,1.7134268537074142,1.733466933867735,1.753507014028056,1.7735470941883769,1.7935871743486969,1.8136272545090177,1.8336673346693386,1.8537074148296586,1.8737474949899795,1.8937875751503004,1.9138276553106213,1.9338677354709413,1.9539078156312621,1.973947895791583,1.993987975951904,2.014028056112224,2.034068136272545,2.0541082164328657,2.0741482965931857,2.0941883767535066,2.1142284569138274,2.1342685370741483,2.1543086172344683,2.174348697394789,2.19438877755511,2.214428857715431,2.234468937875751,2.254509018036072,2.2745490981963927,2.2945891783567127,2.3146292585170336,2.3346693386773545,2.3547094188376754,2.3747494989979954,2.3947895791583163,2.414829659318637,2.434869739478958,2.454909819639278,2.474949899799599,2.49498997995992,2.5150300601202398,2.5350701402805607,2.5551102204408815,2.5751503006012024,2.5951903807615224,2.6152304609218433,2.635270541082164,2.655310621242485,2.675350701402805,2.695390781563126,2.715430861723447,2.735470941883767,2.7555110220440877,2.7755511022044086,2.7955911823647295,2.8156312625250495,2.8356713426853704,2.8557114228456912,2.875751503006012,2.895791583166332,2.915831663326653,2.935871743486974,2.955911823647294,2.9759519038076148,2.9959919839679356,3.0160320641282556,3.0360721442885765,3.0561122244488974,3.0761523046092183,3.096192384769539,3.11623246492986,3.136272545090179,3.1563126252505,3.176352705410821,3.196392785571142,3.2164328657314627,3.2364729458917836,3.2565130260521045,3.2765531062124253,3.2965931863727445,3.3166332665330653,3.336673346693386,3.356713426853707,3.376753507014028,3.396793587174349,3.4168336673346698,3.436873747494989,3.4569138276553097,3.4769539078156306,3.4969939879759515,3.5170340681362724,3.5370741482965933,3.557114228456914,3.5771543086172333,3.597194388777554,3.617234468937875,3.637274549098196,3.657314629258517,3.6773547094188377,3.6973947895791586,3.7174348697394795,3.7374749498997986,3.7575150300601194,3.7775551102204403,3.797595190380761,3.817635270541082,3.837675350701403,3.857715430861724,3.877755511022043,3.897795591182364,3.9178356713426847,3.9378757515030056,3.9579158316633265,3.9779559118236474,3.9979959919839683,4.018036072144287,4.038076152304608,4.058116232464929,4.07815631262525,4.098196392785571,4.118236472945892,4.138276553106213,4.158316633266534,4.178356713426853,4.1983967935871735,4.218436873747494,4.238476953907815,4.258517034068136,4.278557114228457,4.298597194388778,4.318637274549097,4.338677354709418,4.358717434869739,4.37875751503006,4.398797595190381,4.4188376753507015,4.438877755511022,4.4589178356713415,4.478957915831662,4.498997995991983,4.519038076152304,4.539078156312625,4.559118236472946,4.579158316633267,4.599198396793588,4.619238476953907,4.639278557114228,4.6593186372745485,4.679358717434869,4.69939879759519,4.719438877755511,4.739478957915832,4.759519038076151,4.779559118236472,4.799599198396793,4.819639278557114,4.839679358717435,4.859719438877756,4.8797595190380765,4.899799599198396,4.9198396793587165,4.939879759519037,4.959919839679358,4.979959919839679,5.0],\"yaxis\":\"y\",\"type\":\"scatter\"}],                        {\"template\":{\"data\":{\"histogram2dcontour\":[{\"type\":\"histogram2dcontour\",\"colorbar\":{\"outlinewidth\":0,\"ticks\":\"\"},\"colorscale\":[[0.0,\"#0d0887\"],[0.1111111111111111,\"#46039f\"],[0.2222222222222222,\"#7201a8\"],[0.3333333333333333,\"#9c179e\"],[0.4444444444444444,\"#bd3786\"],[0.5555555555555556,\"#d8576b\"],[0.6666666666666666,\"#ed7953\"],[0.7777777777777778,\"#fb9f3a\"],[0.8888888888888888,\"#fdca26\"],[1.0,\"#f0f921\"]]}],\"choropleth\":[{\"type\":\"choropleth\",\"colorbar\":{\"outlinewidth\":0,\"ticks\":\"\"}}],\"histogram2d\":[{\"type\":\"histogram2d\",\"colorbar\":{\"outlinewidth\":0,\"ticks\":\"\"},\"colorscale\":[[0.0,\"#0d0887\"],[0.1111111111111111,\"#46039f\"],[0.2222222222222222,\"#7201a8\"],[0.3333333333333333,\"#9c179e\"],[0.4444444444444444,\"#bd3786\"],[0.5555555555555556,\"#d8576b\"],[0.6666666666666666,\"#ed7953\"],[0.7777777777777778,\"#fb9f3a\"],[0.8888888888888888,\"#fdca26\"],[1.0,\"#f0f921\"]]}],\"heatmap\":[{\"type\":\"heatmap\",\"colorbar\":{\"outlinewidth\":0,\"ticks\":\"\"},\"colorscale\":[[0.0,\"#0d0887\"],[0.1111111111111111,\"#46039f\"],[0.2222222222222222,\"#7201a8\"],[0.3333333333333333,\"#9c179e\"],[0.4444444444444444,\"#bd3786\"],[0.5555555555555556,\"#d8576b\"],[0.6666666666666666,\"#ed7953\"],[0.7777777777777778,\"#fb9f3a\"],[0.8888888888888888,\"#fdca26\"],[1.0,\"#f0f921\"]]}],\"heatmapgl\":[{\"type\":\"heatmapgl\",\"colorbar\":{\"outlinewidth\":0,\"ticks\":\"\"},\"colorscale\":[[0.0,\"#0d0887\"],[0.1111111111111111,\"#46039f\"],[0.2222222222222222,\"#7201a8\"],[0.3333333333333333,\"#9c179e\"],[0.4444444444444444,\"#bd3786\"],[0.5555555555555556,\"#d8576b\"],[0.6666666666666666,\"#ed7953\"],[0.7777777777777778,\"#fb9f3a\"],[0.8888888888888888,\"#fdca26\"],[1.0,\"#f0f921\"]]}],\"contourcarpet\":[{\"type\":\"contourcarpet\",\"colorbar\":{\"outlinewidth\":0,\"ticks\":\"\"}}],\"contour\":[{\"type\":\"contour\",\"colorbar\":{\"outlinewidth\":0,\"ticks\":\"\"},\"colorscale\":[[0.0,\"#0d0887\"],[0.1111111111111111,\"#46039f\"],[0.2222222222222222,\"#7201a8\"],[0.3333333333333333,\"#9c179e\"],[0.4444444444444444,\"#bd3786\"],[0.5555555555555556,\"#d8576b\"],[0.6666666666666666,\"#ed7953\"],[0.7777777777777778,\"#fb9f3a\"],[0.8888888888888888,\"#fdca26\"],[1.0,\"#f0f921\"]]}],\"surface\":[{\"type\":\"surface\",\"colorbar\":{\"outlinewidth\":0,\"ticks\":\"\"},\"colorscale\":[[0.0,\"#0d0887\"],[0.1111111111111111,\"#46039f\"],[0.2222222222222222,\"#7201a8\"],[0.3333333333333333,\"#9c179e\"],[0.4444444444444444,\"#bd3786\"],[0.5555555555555556,\"#d8576b\"],[0.6666666666666666,\"#ed7953\"],[0.7777777777777778,\"#fb9f3a\"],[0.8888888888888888,\"#fdca26\"],[1.0,\"#f0f921\"]]}],\"mesh3d\":[{\"type\":\"mesh3d\",\"colorbar\":{\"outlinewidth\":0,\"ticks\":\"\"}}],\"scatter\":[{\"fillpattern\":{\"fillmode\":\"overlay\",\"size\":10,\"solidity\":0.2},\"type\":\"scatter\"}],\"parcoords\":[{\"type\":\"parcoords\",\"line\":{\"colorbar\":{\"outlinewidth\":0,\"ticks\":\"\"}}}],\"scatterpolargl\":[{\"type\":\"scatterpolargl\",\"marker\":{\"colorbar\":{\"outlinewidth\":0,\"ticks\":\"\"}}}],\"bar\":[{\"error_x\":{\"color\":\"#2a3f5f\"},\"error_y\":{\"color\":\"#2a3f5f\"},\"marker\":{\"line\":{\"color\":\"#E5ECF6\",\"width\":0.5},\"pattern\":{\"fillmode\":\"overlay\",\"size\":10,\"solidity\":0.2}},\"type\":\"bar\"}],\"scattergeo\":[{\"type\":\"scattergeo\",\"marker\":{\"colorbar\":{\"outlinewidth\":0,\"ticks\":\"\"}}}],\"scatterpolar\":[{\"type\":\"scatterpolar\",\"marker\":{\"colorbar\":{\"outlinewidth\":0,\"ticks\":\"\"}}}],\"histogram\":[{\"marker\":{\"pattern\":{\"fillmode\":\"overlay\",\"size\":10,\"solidity\":0.2}},\"type\":\"histogram\"}],\"scattergl\":[{\"type\":\"scattergl\",\"marker\":{\"colorbar\":{\"outlinewidth\":0,\"ticks\":\"\"}}}],\"scatter3d\":[{\"type\":\"scatter3d\",\"line\":{\"colorbar\":{\"outlinewidth\":0,\"ticks\":\"\"}},\"marker\":{\"colorbar\":{\"outlinewidth\":0,\"ticks\":\"\"}}}],\"scattermapbox\":[{\"type\":\"scattermapbox\",\"marker\":{\"colorbar\":{\"outlinewidth\":0,\"ticks\":\"\"}}}],\"scatterternary\":[{\"type\":\"scatterternary\",\"marker\":{\"colorbar\":{\"outlinewidth\":0,\"ticks\":\"\"}}}],\"scattercarpet\":[{\"type\":\"scattercarpet\",\"marker\":{\"colorbar\":{\"outlinewidth\":0,\"ticks\":\"\"}}}],\"carpet\":[{\"aaxis\":{\"endlinecolor\":\"#2a3f5f\",\"gridcolor\":\"white\",\"linecolor\":\"white\",\"minorgridcolor\":\"white\",\"startlinecolor\":\"#2a3f5f\"},\"baxis\":{\"endlinecolor\":\"#2a3f5f\",\"gridcolor\":\"white\",\"linecolor\":\"white\",\"minorgridcolor\":\"white\",\"startlinecolor\":\"#2a3f5f\"},\"type\":\"carpet\"}],\"table\":[{\"cells\":{\"fill\":{\"color\":\"#EBF0F8\"},\"line\":{\"color\":\"white\"}},\"header\":{\"fill\":{\"color\":\"#C8D4E3\"},\"line\":{\"color\":\"white\"}},\"type\":\"table\"}],\"barpolar\":[{\"marker\":{\"line\":{\"color\":\"#E5ECF6\",\"width\":0.5},\"pattern\":{\"fillmode\":\"overlay\",\"size\":10,\"solidity\":0.2}},\"type\":\"barpolar\"}],\"pie\":[{\"automargin\":true,\"type\":\"pie\"}]},\"layout\":{\"autotypenumbers\":\"strict\",\"colorway\":[\"#636efa\",\"#EF553B\",\"#00cc96\",\"#ab63fa\",\"#FFA15A\",\"#19d3f3\",\"#FF6692\",\"#B6E880\",\"#FF97FF\",\"#FECB52\"],\"font\":{\"color\":\"#2a3f5f\"},\"hovermode\":\"closest\",\"hoverlabel\":{\"align\":\"left\"},\"paper_bgcolor\":\"white\",\"plot_bgcolor\":\"#E5ECF6\",\"polar\":{\"bgcolor\":\"#E5ECF6\",\"angularaxis\":{\"gridcolor\":\"white\",\"linecolor\":\"white\",\"ticks\":\"\"},\"radialaxis\":{\"gridcolor\":\"white\",\"linecolor\":\"white\",\"ticks\":\"\"}},\"ternary\":{\"bgcolor\":\"#E5ECF6\",\"aaxis\":{\"gridcolor\":\"white\",\"linecolor\":\"white\",\"ticks\":\"\"},\"baxis\":{\"gridcolor\":\"white\",\"linecolor\":\"white\",\"ticks\":\"\"},\"caxis\":{\"gridcolor\":\"white\",\"linecolor\":\"white\",\"ticks\":\"\"}},\"coloraxis\":{\"colorbar\":{\"outlinewidth\":0,\"ticks\":\"\"}},\"colorscale\":{\"sequential\":[[0.0,\"#0d0887\"],[0.1111111111111111,\"#46039f\"],[0.2222222222222222,\"#7201a8\"],[0.3333333333333333,\"#9c179e\"],[0.4444444444444444,\"#bd3786\"],[0.5555555555555556,\"#d8576b\"],[0.6666666666666666,\"#ed7953\"],[0.7777777777777778,\"#fb9f3a\"],[0.8888888888888888,\"#fdca26\"],[1.0,\"#f0f921\"]],\"sequentialminus\":[[0.0,\"#0d0887\"],[0.1111111111111111,\"#46039f\"],[0.2222222222222222,\"#7201a8\"],[0.3333333333333333,\"#9c179e\"],[0.4444444444444444,\"#bd3786\"],[0.5555555555555556,\"#d8576b\"],[0.6666666666666666,\"#ed7953\"],[0.7777777777777778,\"#fb9f3a\"],[0.8888888888888888,\"#fdca26\"],[1.0,\"#f0f921\"]],\"diverging\":[[0,\"#8e0152\"],[0.1,\"#c51b7d\"],[0.2,\"#de77ae\"],[0.3,\"#f1b6da\"],[0.4,\"#fde0ef\"],[0.5,\"#f7f7f7\"],[0.6,\"#e6f5d0\"],[0.7,\"#b8e186\"],[0.8,\"#7fbc41\"],[0.9,\"#4d9221\"],[1,\"#276419\"]]},\"xaxis\":{\"gridcolor\":\"white\",\"linecolor\":\"white\",\"ticks\":\"\",\"title\":{\"standoff\":15},\"zerolinecolor\":\"white\",\"automargin\":true,\"zerolinewidth\":2},\"yaxis\":{\"gridcolor\":\"white\",\"linecolor\":\"white\",\"ticks\":\"\",\"title\":{\"standoff\":15},\"zerolinecolor\":\"white\",\"automargin\":true,\"zerolinewidth\":2},\"scene\":{\"xaxis\":{\"backgroundcolor\":\"#E5ECF6\",\"gridcolor\":\"white\",\"linecolor\":\"white\",\"showbackground\":true,\"ticks\":\"\",\"zerolinecolor\":\"white\",\"gridwidth\":2},\"yaxis\":{\"backgroundcolor\":\"#E5ECF6\",\"gridcolor\":\"white\",\"linecolor\":\"white\",\"showbackground\":true,\"ticks\":\"\",\"zerolinecolor\":\"white\",\"gridwidth\":2},\"zaxis\":{\"backgroundcolor\":\"#E5ECF6\",\"gridcolor\":\"white\",\"linecolor\":\"white\",\"showbackground\":true,\"ticks\":\"\",\"zerolinecolor\":\"white\",\"gridwidth\":2}},\"shapedefaults\":{\"line\":{\"color\":\"#2a3f5f\"}},\"annotationdefaults\":{\"arrowcolor\":\"#2a3f5f\",\"arrowhead\":0,\"arrowwidth\":1},\"geo\":{\"bgcolor\":\"white\",\"landcolor\":\"#E5ECF6\",\"subunitcolor\":\"white\",\"showland\":true,\"showlakes\":true,\"lakecolor\":\"white\"},\"title\":{\"x\":0.05},\"mapbox\":{\"style\":\"light\"}}},\"xaxis\":{\"anchor\":\"y\",\"domain\":[0.0,1.0],\"title\":{\"text\":\"data\"},\"range\":[-5.5,5.5]},\"yaxis\":{\"anchor\":\"x\",\"domain\":[0.0,1.0],\"title\":{\"text\":\"leaky_relu\"},\"range\":[-1.5,5.5]},\"legend\":{\"tracegroupgap\":0},\"margin\":{\"t\":60},\"height\":600,\"width\":800},                        {\"responsive\": true}                    ).then(function(){\n",
              "                            \n",
              "var gd = document.getElementById('78317075-d125-45e6-8934-369b3c97dd96');\n",
              "var x = new MutationObserver(function (mutations, observer) {{\n",
              "        var display = window.getComputedStyle(gd).display;\n",
              "        if (!display || display === 'none') {{\n",
              "            console.log([gd, 'removed!']);\n",
              "            Plotly.purge(gd);\n",
              "            observer.disconnect();\n",
              "        }}\n",
              "}});\n",
              "\n",
              "// Listen for the removal of the full notebook cells\n",
              "var notebookContainer = gd.closest('#notebook-container');\n",
              "if (notebookContainer) {{\n",
              "    x.observe(notebookContainer, {childList: true});\n",
              "}}\n",
              "\n",
              "// Listen for the clearing of the current output cell\n",
              "var outputEl = gd.closest('.output');\n",
              "if (outputEl) {{\n",
              "    x.observe(outputEl, {childList: true});\n",
              "}}\n",
              "\n",
              "                        })                };                            </script>        </div>\n",
              "</body>\n",
              "</html>"
            ]
          },
          "metadata": {}
        }
      ]
    },
    {
      "cell_type": "markdown",
      "source": [
        "## Funkcja tangensu hiperbolicznego (TanH)."
      ],
      "metadata": {
        "id": "vLI7Wic1Cf-w"
      }
    },
    {
      "cell_type": "markdown",
      "source": [
        "Wzór:\n",
        "\n",
        "$$tanh(x) = \\frac{e^x - e^{-x}}{e^x + e^{-x}}$$\n",
        "\n",
        "Funkcja ta normalizuje wartości do przedziału od -1 do 1. Obecnie stosowana przeważnie jako alternatywa do funkcji sigmoid i ReLU, gdy te sobie nie radzą z danymi."
      ],
      "metadata": {
        "id": "xAMxOe-KC3NU"
      }
    },
    {
      "cell_type": "code",
      "source": [
        "from tensorflow.keras.activations import tanh\n",
        "\n",
        "data = pd.DataFrame({'data': random_data, 'tanh': tanh(random_data)})\n",
        "data"
      ],
      "metadata": {
        "colab": {
          "base_uri": "https://localhost:8080/",
          "height": 424
        },
        "id": "DPnaoxKUCa5L",
        "outputId": "2e9cf873-68ff-40f2-e826-b55d7c2d4245"
      },
      "execution_count": 15,
      "outputs": [
        {
          "output_type": "execute_result",
          "data": {
            "text/plain": [
              "        data      tanh\n",
              "0   -5.00000 -0.999909\n",
              "1   -4.97996 -0.999905\n",
              "2   -4.95992 -0.999902\n",
              "3   -4.93988 -0.999898\n",
              "4   -4.91984 -0.999893\n",
              "..       ...       ...\n",
              "495  4.91984  0.999893\n",
              "496  4.93988  0.999898\n",
              "497  4.95992  0.999902\n",
              "498  4.97996  0.999905\n",
              "499  5.00000  0.999909\n",
              "\n",
              "[500 rows x 2 columns]"
            ],
            "text/html": [
              "\n",
              "  <div id=\"df-99756ec5-0807-47be-9a97-3cf4007290e4\" class=\"colab-df-container\">\n",
              "    <div>\n",
              "<style scoped>\n",
              "    .dataframe tbody tr th:only-of-type {\n",
              "        vertical-align: middle;\n",
              "    }\n",
              "\n",
              "    .dataframe tbody tr th {\n",
              "        vertical-align: top;\n",
              "    }\n",
              "\n",
              "    .dataframe thead th {\n",
              "        text-align: right;\n",
              "    }\n",
              "</style>\n",
              "<table border=\"1\" class=\"dataframe\">\n",
              "  <thead>\n",
              "    <tr style=\"text-align: right;\">\n",
              "      <th></th>\n",
              "      <th>data</th>\n",
              "      <th>tanh</th>\n",
              "    </tr>\n",
              "  </thead>\n",
              "  <tbody>\n",
              "    <tr>\n",
              "      <th>0</th>\n",
              "      <td>-5.00000</td>\n",
              "      <td>-0.999909</td>\n",
              "    </tr>\n",
              "    <tr>\n",
              "      <th>1</th>\n",
              "      <td>-4.97996</td>\n",
              "      <td>-0.999905</td>\n",
              "    </tr>\n",
              "    <tr>\n",
              "      <th>2</th>\n",
              "      <td>-4.95992</td>\n",
              "      <td>-0.999902</td>\n",
              "    </tr>\n",
              "    <tr>\n",
              "      <th>3</th>\n",
              "      <td>-4.93988</td>\n",
              "      <td>-0.999898</td>\n",
              "    </tr>\n",
              "    <tr>\n",
              "      <th>4</th>\n",
              "      <td>-4.91984</td>\n",
              "      <td>-0.999893</td>\n",
              "    </tr>\n",
              "    <tr>\n",
              "      <th>...</th>\n",
              "      <td>...</td>\n",
              "      <td>...</td>\n",
              "    </tr>\n",
              "    <tr>\n",
              "      <th>495</th>\n",
              "      <td>4.91984</td>\n",
              "      <td>0.999893</td>\n",
              "    </tr>\n",
              "    <tr>\n",
              "      <th>496</th>\n",
              "      <td>4.93988</td>\n",
              "      <td>0.999898</td>\n",
              "    </tr>\n",
              "    <tr>\n",
              "      <th>497</th>\n",
              "      <td>4.95992</td>\n",
              "      <td>0.999902</td>\n",
              "    </tr>\n",
              "    <tr>\n",
              "      <th>498</th>\n",
              "      <td>4.97996</td>\n",
              "      <td>0.999905</td>\n",
              "    </tr>\n",
              "    <tr>\n",
              "      <th>499</th>\n",
              "      <td>5.00000</td>\n",
              "      <td>0.999909</td>\n",
              "    </tr>\n",
              "  </tbody>\n",
              "</table>\n",
              "<p>500 rows × 2 columns</p>\n",
              "</div>\n",
              "    <div class=\"colab-df-buttons\">\n",
              "\n",
              "  <div class=\"colab-df-container\">\n",
              "    <button class=\"colab-df-convert\" onclick=\"convertToInteractive('df-99756ec5-0807-47be-9a97-3cf4007290e4')\"\n",
              "            title=\"Convert this dataframe to an interactive table.\"\n",
              "            style=\"display:none;\">\n",
              "\n",
              "  <svg xmlns=\"http://www.w3.org/2000/svg\" height=\"24px\" viewBox=\"0 -960 960 960\">\n",
              "    <path d=\"M120-120v-720h720v720H120Zm60-500h600v-160H180v160Zm220 220h160v-160H400v160Zm0 220h160v-160H400v160ZM180-400h160v-160H180v160Zm440 0h160v-160H620v160ZM180-180h160v-160H180v160Zm440 0h160v-160H620v160Z\"/>\n",
              "  </svg>\n",
              "    </button>\n",
              "\n",
              "  <style>\n",
              "    .colab-df-container {\n",
              "      display:flex;\n",
              "      gap: 12px;\n",
              "    }\n",
              "\n",
              "    .colab-df-convert {\n",
              "      background-color: #E8F0FE;\n",
              "      border: none;\n",
              "      border-radius: 50%;\n",
              "      cursor: pointer;\n",
              "      display: none;\n",
              "      fill: #1967D2;\n",
              "      height: 32px;\n",
              "      padding: 0 0 0 0;\n",
              "      width: 32px;\n",
              "    }\n",
              "\n",
              "    .colab-df-convert:hover {\n",
              "      background-color: #E2EBFA;\n",
              "      box-shadow: 0px 1px 2px rgba(60, 64, 67, 0.3), 0px 1px 3px 1px rgba(60, 64, 67, 0.15);\n",
              "      fill: #174EA6;\n",
              "    }\n",
              "\n",
              "    .colab-df-buttons div {\n",
              "      margin-bottom: 4px;\n",
              "    }\n",
              "\n",
              "    [theme=dark] .colab-df-convert {\n",
              "      background-color: #3B4455;\n",
              "      fill: #D2E3FC;\n",
              "    }\n",
              "\n",
              "    [theme=dark] .colab-df-convert:hover {\n",
              "      background-color: #434B5C;\n",
              "      box-shadow: 0px 1px 3px 1px rgba(0, 0, 0, 0.15);\n",
              "      filter: drop-shadow(0px 1px 2px rgba(0, 0, 0, 0.3));\n",
              "      fill: #FFFFFF;\n",
              "    }\n",
              "  </style>\n",
              "\n",
              "    <script>\n",
              "      const buttonEl =\n",
              "        document.querySelector('#df-99756ec5-0807-47be-9a97-3cf4007290e4 button.colab-df-convert');\n",
              "      buttonEl.style.display =\n",
              "        google.colab.kernel.accessAllowed ? 'block' : 'none';\n",
              "\n",
              "      async function convertToInteractive(key) {\n",
              "        const element = document.querySelector('#df-99756ec5-0807-47be-9a97-3cf4007290e4');\n",
              "        const dataTable =\n",
              "          await google.colab.kernel.invokeFunction('convertToInteractive',\n",
              "                                                    [key], {});\n",
              "        if (!dataTable) return;\n",
              "\n",
              "        const docLinkHtml = 'Like what you see? Visit the ' +\n",
              "          '<a target=\"_blank\" href=https://colab.research.google.com/notebooks/data_table.ipynb>data table notebook</a>'\n",
              "          + ' to learn more about interactive tables.';\n",
              "        element.innerHTML = '';\n",
              "        dataTable['output_type'] = 'display_data';\n",
              "        await google.colab.output.renderOutput(dataTable, element);\n",
              "        const docLink = document.createElement('div');\n",
              "        docLink.innerHTML = docLinkHtml;\n",
              "        element.appendChild(docLink);\n",
              "      }\n",
              "    </script>\n",
              "  </div>\n",
              "\n",
              "\n",
              "<div id=\"df-ebc0fa4b-2eec-4442-84b8-501a77390359\">\n",
              "  <button class=\"colab-df-quickchart\" onclick=\"quickchart('df-ebc0fa4b-2eec-4442-84b8-501a77390359')\"\n",
              "            title=\"Suggest charts\"\n",
              "            style=\"display:none;\">\n",
              "\n",
              "<svg xmlns=\"http://www.w3.org/2000/svg\" height=\"24px\"viewBox=\"0 0 24 24\"\n",
              "     width=\"24px\">\n",
              "    <g>\n",
              "        <path d=\"M19 3H5c-1.1 0-2 .9-2 2v14c0 1.1.9 2 2 2h14c1.1 0 2-.9 2-2V5c0-1.1-.9-2-2-2zM9 17H7v-7h2v7zm4 0h-2V7h2v10zm4 0h-2v-4h2v4z\"/>\n",
              "    </g>\n",
              "</svg>\n",
              "  </button>\n",
              "\n",
              "<style>\n",
              "  .colab-df-quickchart {\n",
              "      --bg-color: #E8F0FE;\n",
              "      --fill-color: #1967D2;\n",
              "      --hover-bg-color: #E2EBFA;\n",
              "      --hover-fill-color: #174EA6;\n",
              "      --disabled-fill-color: #AAA;\n",
              "      --disabled-bg-color: #DDD;\n",
              "  }\n",
              "\n",
              "  [theme=dark] .colab-df-quickchart {\n",
              "      --bg-color: #3B4455;\n",
              "      --fill-color: #D2E3FC;\n",
              "      --hover-bg-color: #434B5C;\n",
              "      --hover-fill-color: #FFFFFF;\n",
              "      --disabled-bg-color: #3B4455;\n",
              "      --disabled-fill-color: #666;\n",
              "  }\n",
              "\n",
              "  .colab-df-quickchart {\n",
              "    background-color: var(--bg-color);\n",
              "    border: none;\n",
              "    border-radius: 50%;\n",
              "    cursor: pointer;\n",
              "    display: none;\n",
              "    fill: var(--fill-color);\n",
              "    height: 32px;\n",
              "    padding: 0;\n",
              "    width: 32px;\n",
              "  }\n",
              "\n",
              "  .colab-df-quickchart:hover {\n",
              "    background-color: var(--hover-bg-color);\n",
              "    box-shadow: 0 1px 2px rgba(60, 64, 67, 0.3), 0 1px 3px 1px rgba(60, 64, 67, 0.15);\n",
              "    fill: var(--button-hover-fill-color);\n",
              "  }\n",
              "\n",
              "  .colab-df-quickchart-complete:disabled,\n",
              "  .colab-df-quickchart-complete:disabled:hover {\n",
              "    background-color: var(--disabled-bg-color);\n",
              "    fill: var(--disabled-fill-color);\n",
              "    box-shadow: none;\n",
              "  }\n",
              "\n",
              "  .colab-df-spinner {\n",
              "    border: 2px solid var(--fill-color);\n",
              "    border-color: transparent;\n",
              "    border-bottom-color: var(--fill-color);\n",
              "    animation:\n",
              "      spin 1s steps(1) infinite;\n",
              "  }\n",
              "\n",
              "  @keyframes spin {\n",
              "    0% {\n",
              "      border-color: transparent;\n",
              "      border-bottom-color: var(--fill-color);\n",
              "      border-left-color: var(--fill-color);\n",
              "    }\n",
              "    20% {\n",
              "      border-color: transparent;\n",
              "      border-left-color: var(--fill-color);\n",
              "      border-top-color: var(--fill-color);\n",
              "    }\n",
              "    30% {\n",
              "      border-color: transparent;\n",
              "      border-left-color: var(--fill-color);\n",
              "      border-top-color: var(--fill-color);\n",
              "      border-right-color: var(--fill-color);\n",
              "    }\n",
              "    40% {\n",
              "      border-color: transparent;\n",
              "      border-right-color: var(--fill-color);\n",
              "      border-top-color: var(--fill-color);\n",
              "    }\n",
              "    60% {\n",
              "      border-color: transparent;\n",
              "      border-right-color: var(--fill-color);\n",
              "    }\n",
              "    80% {\n",
              "      border-color: transparent;\n",
              "      border-right-color: var(--fill-color);\n",
              "      border-bottom-color: var(--fill-color);\n",
              "    }\n",
              "    90% {\n",
              "      border-color: transparent;\n",
              "      border-bottom-color: var(--fill-color);\n",
              "    }\n",
              "  }\n",
              "</style>\n",
              "\n",
              "  <script>\n",
              "    async function quickchart(key) {\n",
              "      const quickchartButtonEl =\n",
              "        document.querySelector('#' + key + ' button');\n",
              "      quickchartButtonEl.disabled = true;  // To prevent multiple clicks.\n",
              "      quickchartButtonEl.classList.add('colab-df-spinner');\n",
              "      try {\n",
              "        const charts = await google.colab.kernel.invokeFunction(\n",
              "            'suggestCharts', [key], {});\n",
              "      } catch (error) {\n",
              "        console.error('Error during call to suggestCharts:', error);\n",
              "      }\n",
              "      quickchartButtonEl.classList.remove('colab-df-spinner');\n",
              "      quickchartButtonEl.classList.add('colab-df-quickchart-complete');\n",
              "    }\n",
              "    (() => {\n",
              "      let quickchartButtonEl =\n",
              "        document.querySelector('#df-ebc0fa4b-2eec-4442-84b8-501a77390359 button');\n",
              "      quickchartButtonEl.style.display =\n",
              "        google.colab.kernel.accessAllowed ? 'block' : 'none';\n",
              "    })();\n",
              "  </script>\n",
              "</div>\n",
              "\n",
              "  <div id=\"id_a00af322-a237-4ff0-98f7-7c5718461caa\">\n",
              "    <style>\n",
              "      .colab-df-generate {\n",
              "        background-color: #E8F0FE;\n",
              "        border: none;\n",
              "        border-radius: 50%;\n",
              "        cursor: pointer;\n",
              "        display: none;\n",
              "        fill: #1967D2;\n",
              "        height: 32px;\n",
              "        padding: 0 0 0 0;\n",
              "        width: 32px;\n",
              "      }\n",
              "\n",
              "      .colab-df-generate:hover {\n",
              "        background-color: #E2EBFA;\n",
              "        box-shadow: 0px 1px 2px rgba(60, 64, 67, 0.3), 0px 1px 3px 1px rgba(60, 64, 67, 0.15);\n",
              "        fill: #174EA6;\n",
              "      }\n",
              "\n",
              "      [theme=dark] .colab-df-generate {\n",
              "        background-color: #3B4455;\n",
              "        fill: #D2E3FC;\n",
              "      }\n",
              "\n",
              "      [theme=dark] .colab-df-generate:hover {\n",
              "        background-color: #434B5C;\n",
              "        box-shadow: 0px 1px 3px 1px rgba(0, 0, 0, 0.15);\n",
              "        filter: drop-shadow(0px 1px 2px rgba(0, 0, 0, 0.3));\n",
              "        fill: #FFFFFF;\n",
              "      }\n",
              "    </style>\n",
              "    <button class=\"colab-df-generate\" onclick=\"generateWithVariable('data')\"\n",
              "            title=\"Generate code using this dataframe.\"\n",
              "            style=\"display:none;\">\n",
              "\n",
              "  <svg xmlns=\"http://www.w3.org/2000/svg\" height=\"24px\"viewBox=\"0 0 24 24\"\n",
              "       width=\"24px\">\n",
              "    <path d=\"M7,19H8.4L18.45,9,17,7.55,7,17.6ZM5,21V16.75L18.45,3.32a2,2,0,0,1,2.83,0l1.4,1.43a1.91,1.91,0,0,1,.58,1.4,1.91,1.91,0,0,1-.58,1.4L9.25,21ZM18.45,9,17,7.55Zm-12,3A5.31,5.31,0,0,0,4.9,8.1,5.31,5.31,0,0,0,1,6.5,5.31,5.31,0,0,0,4.9,4.9,5.31,5.31,0,0,0,6.5,1,5.31,5.31,0,0,0,8.1,4.9,5.31,5.31,0,0,0,12,6.5,5.46,5.46,0,0,0,6.5,12Z\"/>\n",
              "  </svg>\n",
              "    </button>\n",
              "    <script>\n",
              "      (() => {\n",
              "      const buttonEl =\n",
              "        document.querySelector('#id_a00af322-a237-4ff0-98f7-7c5718461caa button.colab-df-generate');\n",
              "      buttonEl.style.display =\n",
              "        google.colab.kernel.accessAllowed ? 'block' : 'none';\n",
              "\n",
              "      buttonEl.onclick = () => {\n",
              "        google.colab.notebook.generateWithVariable('data');\n",
              "      }\n",
              "      })();\n",
              "    </script>\n",
              "  </div>\n",
              "\n",
              "    </div>\n",
              "  </div>\n"
            ],
            "application/vnd.google.colaboratory.intrinsic+json": {
              "type": "dataframe",
              "variable_name": "data",
              "summary": "{\n  \"name\": \"data\",\n  \"rows\": 500,\n  \"fields\": [\n    {\n      \"column\": \"data\",\n      \"properties\": {\n        \"dtype\": \"number\",\n        \"std\": 2.895427510380739,\n        \"min\": -5.0,\n        \"max\": 5.0,\n        \"num_unique_values\": 500,\n        \"samples\": [\n          2.234468937875751,\n          -3.5370741482965933,\n          2.49498997995992\n        ],\n        \"semantic_type\": \"\",\n        \"description\": \"\"\n      }\n    },\n    {\n      \"column\": \"tanh\",\n      \"properties\": {\n        \"dtype\": \"number\",\n        \"std\": 0.8955567015548487,\n        \"min\": -0.9999092042625951,\n        \"max\": 0.9999092042625951,\n        \"num_unique_values\": 500,\n        \"samples\": [\n          0.977340702224497,\n          -0.9983080058430938,\n          0.9864804098790197\n        ],\n        \"semantic_type\": \"\",\n        \"description\": \"\"\n      }\n    }\n  ]\n}"
            }
          },
          "metadata": {},
          "execution_count": 15
        }
      ]
    },
    {
      "cell_type": "code",
      "source": [
        "px.line(data, x='data', y='tanh', width=800, height=600, range_y=[-1.5, 1.5], range_x=[-5.5, 5.5])"
      ],
      "metadata": {
        "colab": {
          "base_uri": "https://localhost:8080/",
          "height": 617
        },
        "id": "Mc6WCUCWDw9b",
        "outputId": "39000290-2d68-4ed5-854b-10f2ebc3cda4"
      },
      "execution_count": 16,
      "outputs": [
        {
          "output_type": "display_data",
          "data": {
            "text/html": [
              "<html>\n",
              "<head><meta charset=\"utf-8\" /></head>\n",
              "<body>\n",
              "    <div>            <script src=\"https://cdnjs.cloudflare.com/ajax/libs/mathjax/2.7.5/MathJax.js?config=TeX-AMS-MML_SVG\"></script><script type=\"text/javascript\">if (window.MathJax && window.MathJax.Hub && window.MathJax.Hub.Config) {window.MathJax.Hub.Config({SVG: {font: \"STIX-Web\"}});}</script>                <script type=\"text/javascript\">window.PlotlyConfig = {MathJaxConfig: 'local'};</script>\n",
              "        <script charset=\"utf-8\" src=\"https://cdn.plot.ly/plotly-2.24.1.min.js\"></script>                <div id=\"9ff76230-a638-4a43-8de8-95f6811fca69\" class=\"plotly-graph-div\" style=\"height:600px; width:800px;\"></div>            <script type=\"text/javascript\">                                    window.PLOTLYENV=window.PLOTLYENV || {};                                    if (document.getElementById(\"9ff76230-a638-4a43-8de8-95f6811fca69\")) {                    Plotly.newPlot(                        \"9ff76230-a638-4a43-8de8-95f6811fca69\",                        [{\"hovertemplate\":\"data=%{x}\\u003cbr\\u003etanh=%{y}\\u003cextra\\u003e\\u003c\\u002fextra\\u003e\",\"legendgroup\":\"\",\"line\":{\"color\":\"#636efa\",\"dash\":\"solid\"},\"marker\":{\"symbol\":\"circle\"},\"mode\":\"lines\",\"name\":\"\",\"orientation\":\"v\",\"showlegend\":false,\"x\":[-5.0,-4.979959919839679,-4.959919839679359,-4.939879759519038,-4.919839679358717,-4.8997995991983965,-4.8797595190380765,-4.859719438877756,-4.839679358717435,-4.819639278557114,-4.799599198396794,-4.779559118236473,-4.759519038076152,-4.739478957915832,-4.719438877755511,-4.69939879759519,-4.679358717434869,-4.659318637274549,-4.6392785571142285,-4.619238476953908,-4.599198396793588,-4.579158316633267,-4.559118236472946,-4.539078156312625,-4.519038076152305,-4.498997995991984,-4.478957915831663,-4.458917835671342,-4.438877755511022,-4.4188376753507015,-4.398797595190381,-4.37875751503006,-4.35871743486974,-4.338677354709419,-4.318637274549098,-4.298597194388778,-4.278557114228457,-4.258517034068136,-4.238476953907815,-4.218436873747495,-4.198396793587174,-4.1783567134268536,-4.158316633266534,-4.138276553106213,-4.118236472945892,-4.098196392785571,-4.078156312625251,-4.05811623246493,-4.038076152304609,-4.018036072144288,-3.9979959919839683,-3.9779559118236474,-3.9579158316633265,-3.937875751503006,-3.9178356713426856,-3.8977955911823647,-3.877755511022044,-3.8577154308617234,-3.837675350701403,-3.817635270541082,-3.7975951903807617,-3.777555110220441,-3.7575150300601203,-3.7374749498997994,-3.717434869739479,-3.6973947895791586,-3.6773547094188377,-3.657314629258517,-3.6372745490981964,-3.617234468937876,-3.597194388777555,-3.5771543086172346,-3.557114228456914,-3.5370741482965933,-3.5170340681362724,-3.496993987975952,-3.4769539078156315,-3.4569138276553106,-3.4368737474949898,-3.4168336673346693,-3.396793587174349,-3.376753507014028,-3.3567134268537075,-3.336673346693387,-3.3166332665330662,-3.2965931863727453,-3.276553106212425,-3.2565130260521045,-3.2364729458917836,-3.2164328657314627,-3.1963927855711423,-3.176352705410822,-3.156312625250501,-3.1362725450901805,-3.11623246492986,-3.096192384769539,-3.0761523046092183,-3.056112224448898,-3.0360721442885774,-3.0160320641282565,-2.995991983967936,-2.975951903807615,-2.9559118236472948,-2.935871743486974,-2.9158316633266534,-2.8957915831663326,-2.875751503006012,-2.8557114228456917,-2.835671342685371,-2.8156312625250504,-2.7955911823647295,-2.775551102204409,-2.755511022044088,-2.7354709418837677,-2.715430861723447,-2.6953907815631264,-2.6753507014028055,-2.655310621242485,-2.6352705410821646,-2.6152304609218437,-2.5951903807615233,-2.5751503006012024,-2.555110220440882,-2.535070140280561,-2.5150300601202407,-2.49498997995992,-2.4749498997995993,-2.4549098196392785,-2.434869739478958,-2.4148296593186376,-2.3947895791583167,-2.3747494989979963,-2.3547094188376754,-2.334669338677355,-2.314629258517034,-2.2945891783567136,-2.2745490981963927,-2.2545090180360723,-2.2344689378757514,-2.214428857715431,-2.1943887775551105,-2.1743486973947896,-2.154308617234469,-2.1342685370741483,-2.114228456913828,-2.094188376753507,-2.0741482965931866,-2.0541082164328657,-2.0340681362725452,-2.0140280561122244,-1.993987975951904,-1.9739478957915835,-1.9539078156312626,-1.9338677354709422,-1.9138276553106213,-1.8937875751503008,-1.87374749498998,-1.8537074148296595,-1.8336673346693386,-1.8136272545090182,-1.7935871743486977,-1.7735470941883769,-1.7535070140280564,-1.7334669338677355,-1.713426853707415,-1.6933867735470942,-1.6733466933867738,-1.653306613226453,-1.6332665330661325,-1.6132264529058116,-1.5931863727454911,-1.5731462925851707,-1.5531062124248498,-1.5330661322645294,-1.5130260521042085,-1.492985971943888,-1.4729458917835672,-1.4529058116232467,-1.4328657314629258,-1.4128256513026054,-1.3927855711422845,-1.372745490981964,-1.3527054108216436,-1.3326653306613228,-1.3126252505010023,-1.2925851703406814,-1.272545090180361,-1.25250501002004,-1.2324649298597197,-1.2124248496993988,-1.1923847695390783,-1.1723446893787575,-1.152304609218437,-1.1322645290581166,-1.1122244488977957,-1.0921843687374753,-1.0721442885771544,-1.052104208416834,-1.032064128256513,-1.0120240480961926,-0.9919839679358722,-0.9719438877755513,-0.9519038076152304,-0.9318637274549104,-0.9118236472945895,-0.8917835671342687,-0.8717434869739478,-0.8517034068136278,-0.8316633266533069,-0.811623246492986,-0.7915831663326651,-0.7715430861723451,-0.7515030060120242,-0.7314629258517034,-0.7114228456913834,-0.6913827655310625,-0.6713426853707416,-0.6513026052104207,-0.6312625250501007,-0.6112224448897798,-0.591182364729459,-0.5711422845691381,-0.5511022044088181,-0.5310621242484972,-0.5110220440881763,-0.4909819639278563,-0.47094188376753543,-0.45090180360721455,-0.43086172344689366,-0.41082164328657367,-0.3907815631262528,-0.3707414829659319,-0.350701402805611,-0.330661322645291,-0.31062124248497014,-0.29058116232464926,-0.27054108216432926,-0.2505010020040084,-0.2304609218436875,-0.2104208416833666,-0.19038076152304662,-0.17034068136272573,-0.15030060120240485,-0.13026052104208397,-0.11022044088176397,-0.09018036072144309,-0.0701402805611222,-0.05010020040080221,-0.030060120240481325,-0.010020040080160442,0.010020040080160442,0.030060120240480437,0.05010020040080132,0.0701402805611222,0.09018036072144309,0.11022044088176308,0.13026052104208397,0.15030060120240485,0.17034068136272484,0.19038076152304573,0.2104208416833666,0.2304609218436875,0.2505010020040075,0.2705410821643284,0.29058116232464926,0.31062124248497014,0.33066132264529013,0.350701402805611,0.3707414829659319,0.3907815631262519,0.4108216432865728,0.43086172344689366,0.45090180360721455,0.47094188376753454,0.4909819639278554,0.5110220440881763,0.5310621242484972,0.5511022044088172,0.5711422845691381,0.591182364729459,0.611222444889779,0.6312625250500998,0.6513026052104207,0.6713426853707416,0.6913827655310616,0.7114228456913825,0.7314629258517034,0.7515030060120242,0.7715430861723442,0.7915831663326651,0.811623246492986,0.831663326653306,0.8517034068136269,0.8717434869739478,0.8917835671342687,0.9118236472945886,0.9318637274549095,0.9519038076152304,0.9719438877755513,0.9919839679358713,1.0120240480961922,1.032064128256513,1.052104208416833,1.072144288577154,1.0921843687374748,1.1122244488977957,1.1322645290581157,1.1523046092184366,1.1723446893787575,1.1923847695390783,1.2124248496993983,1.2324649298597192,1.25250501002004,1.27254509018036,1.292585170340681,1.3126252505010019,1.3326653306613228,1.3527054108216428,1.3727454909819636,1.3927855711422845,1.4128256513026045,1.4328657314629254,1.4529058116232463,1.4729458917835672,1.4929859719438872,1.513026052104208,1.533066132264529,1.5531062124248498,1.5731462925851698,1.5931863727454907,1.6132264529058116,1.6332665330661316,1.6533066132264524,1.6733466933867733,1.6933867735470942,1.7134268537074142,1.733466933867735,1.753507014028056,1.7735470941883769,1.7935871743486969,1.8136272545090177,1.8336673346693386,1.8537074148296586,1.8737474949899795,1.8937875751503004,1.9138276553106213,1.9338677354709413,1.9539078156312621,1.973947895791583,1.993987975951904,2.014028056112224,2.034068136272545,2.0541082164328657,2.0741482965931857,2.0941883767535066,2.1142284569138274,2.1342685370741483,2.1543086172344683,2.174348697394789,2.19438877755511,2.214428857715431,2.234468937875751,2.254509018036072,2.2745490981963927,2.2945891783567127,2.3146292585170336,2.3346693386773545,2.3547094188376754,2.3747494989979954,2.3947895791583163,2.414829659318637,2.434869739478958,2.454909819639278,2.474949899799599,2.49498997995992,2.5150300601202398,2.5350701402805607,2.5551102204408815,2.5751503006012024,2.5951903807615224,2.6152304609218433,2.635270541082164,2.655310621242485,2.675350701402805,2.695390781563126,2.715430861723447,2.735470941883767,2.7555110220440877,2.7755511022044086,2.7955911823647295,2.8156312625250495,2.8356713426853704,2.8557114228456912,2.875751503006012,2.895791583166332,2.915831663326653,2.935871743486974,2.955911823647294,2.9759519038076148,2.9959919839679356,3.0160320641282556,3.0360721442885765,3.0561122244488974,3.0761523046092183,3.096192384769539,3.11623246492986,3.136272545090179,3.1563126252505,3.176352705410821,3.196392785571142,3.2164328657314627,3.2364729458917836,3.2565130260521045,3.2765531062124253,3.2965931863727445,3.3166332665330653,3.336673346693386,3.356713426853707,3.376753507014028,3.396793587174349,3.4168336673346698,3.436873747494989,3.4569138276553097,3.4769539078156306,3.4969939879759515,3.5170340681362724,3.5370741482965933,3.557114228456914,3.5771543086172333,3.597194388777554,3.617234468937875,3.637274549098196,3.657314629258517,3.6773547094188377,3.6973947895791586,3.7174348697394795,3.7374749498997986,3.7575150300601194,3.7775551102204403,3.797595190380761,3.817635270541082,3.837675350701403,3.857715430861724,3.877755511022043,3.897795591182364,3.9178356713426847,3.9378757515030056,3.9579158316633265,3.9779559118236474,3.9979959919839683,4.018036072144287,4.038076152304608,4.058116232464929,4.07815631262525,4.098196392785571,4.118236472945892,4.138276553106213,4.158316633266534,4.178356713426853,4.1983967935871735,4.218436873747494,4.238476953907815,4.258517034068136,4.278557114228457,4.298597194388778,4.318637274549097,4.338677354709418,4.358717434869739,4.37875751503006,4.398797595190381,4.4188376753507015,4.438877755511022,4.4589178356713415,4.478957915831662,4.498997995991983,4.519038076152304,4.539078156312625,4.559118236472946,4.579158316633267,4.599198396793588,4.619238476953907,4.639278557114228,4.6593186372745485,4.679358717434869,4.69939879759519,4.719438877755511,4.739478957915832,4.759519038076151,4.779559118236472,4.799599198396793,4.819639278557114,4.839679358717435,4.859719438877756,4.8797595190380765,4.899799599198396,4.9198396793587165,4.939879759519037,4.959919839679358,4.979959919839679,5.0],\"xaxis\":\"x\",\"y\":[-0.9999092042625951,-0.9999054914181658,-0.9999016267545423,-0.9998976040644209,-0.9998934168867568,-0.9998890584963966,-0.9998845218932868,-0.9998797997912416,-0.9998748846062532,-0.9998697684443241,-0.9998644430888025,-0.9998588999872026,-0.9998531302374845,-0.9998471245737762,-0.9998408733515128,-0.9998343665319686,-0.9998275936661589,-0.9998205438780854,-0.9998132058472972,-0.9998055677907419,-0.9997976174438764,-0.999789342041007,-0.9997807282948282,-0.9997717623751285,-0.9997624298866276,-0.9997527158459096,-0.999742604657419,-0.9997320800884761,-0.9997211252432768,-0.9997097225358322,-0.999697853661808,-0.9996854995692155,-0.9996726404279122,-0.9996592555978588,-0.9996453235960873,-0.9996308220623228,-0.99961572772321,-0.999600016355083,-0.9995836627452238,-0.9995666406515445,-0.9995489227606335,-0.9995304806440954,-0.9995112847131216,-0.9994913041712127,-0.9994705069649856,-0.9994488597329839,-0.9994263277524124,-0.9994028748837115,-0.9993784635128876,-0.9993530544915054,-0.9993266070742511,-0.9992990788539682,-0.9992704256940652,-0.9992406016581894,-0.9992095589370578,-0.9991772477723324,-0.9991436163774203,-0.9991086108550782,-0.999072175111692,-0.999034250768101,-0.9989947770668289,-0.9989536907755787,-0.9989109260868436,-0.9988664145134818,-0.9988200847800933,-0.9987718627100353,-0.9987216711079027,-0.9986694296372978,-0.9986150546937012,-0.9985584592722548,-0.9984995528302566,-0.9984382411441606,-0.9983744261608689,-0.9983080058430938,-0.9982388740085583,-0.9981669201627997,-0.9980920293253268,-0.9980140818488755,-0.9979329532314987,-0.9978485139212142,-0.9977606291129293,-0.9976691585373445,-0.9975739562415352,-0.9974748703608947,-0.9973717428821136,-0.9972644093968591,-0.9971526988458057,-0.9970364332526587,-0.9969154274477984,-0.9967894887811627,-0.9966584168239712,-0.9965220030588834,-0.99638003055817,-0.9962322736494639,-0.9960784975686418,-0.9959184580993796,-0.9957519011989046,-0.9955785626094588,-0.9953981674549718,-0.9952104298224296,-0.9950150523274095,-0.9948117256632394,-0.9946001281332275,-0.9943799251653905,-0.9941507688091001,-0.9939122972130512,-0.9936641340839438,-0.9934058881252583,-0.9931371524554914,-0.992857504005209,-0.9925665028922622,-0.9922636917745025,-0.9919485951793219,-0.9916207188093401,-0.9912795488235487,-0.9909245510932221,-0.990555170431898,-0.9901708297987304,-0.9897709294745175,-0.9893548462097081,-0.9889219323436977,-0.9884715148947285,-0.9880028946197242,-0.987515345043397,-0.9870081114559881,-0.9864804098790197,-0.9859314259984663,-0.9853603140647794,-0.9847661957592404,-0.9841481590261544,-0.9835052568704469,-0.9828365061202817,-0.982140886154378,-0.9814173375937756,-0.980664760957879,-0.9798820152846949,-0.9790679167152792,-0.9782212370425193,-0.977340702224497,-0.9764249908628138,-0.9754727326464052,-0.9744825067615369,-0.9734528402688488,-0.9723822064485131,-0.9712690231147811,-0.9701116509014268,-0.9689083915198475,-0.9676574859918543,-0.9663571128594829,-0.9650053863744724,-0.9636003546704113,-0.9621399979209145,-0.9606222264876051,-0.9590448790620945,-0.9574057208066263,-0.9557024414985348,-0.9539326536841969,-0.9520938908487231,-0.9501836056082223,-0.9481991679321152,-0.9461378634036399,-0.9439968915274046,-0.9417733640935904,-0.9394643036091945,-0.9370666418075357,-0.934577218248102,-0.9319927790197349,-0.9293099755610759,-0.926525363613186,-0.9236354023202521,-0.9206364534953383,-0.917524781069208,-0.9142965507413277,-0.910947829853277,-0.9074745875059027,-0.9038726949426834,-0.9001379262228859,-0.8962659592092063,-0.8922523768956669,-0.8880926691025944,-0.8837822345664943,-0.8793163834535808,-0.8746903403265689,-0.8698992475950938,-0.8649381694807594,-0.8598020965283131,-0.8544859506947826,-0.8489845910485481,-0.8432928201102619,-0.8374053908672092,-0.8313170144921262,-0.8250223687965931,-0.8185161074479139,-0.8117928699767903,-0.8048472926011191,-0.7976740198888201,-0.7902677172797146,-0.7826230844831021,-0.7747348697637733,-0.766597885124753,-0.7582070223900351,-0.7495572701849581,-0.7406437318056446,-0.7314616439620933,-0.7220063963720531,-0.7122735521747682,-0.7022588691250131,-0.6919583215186489,-0.6813681227911816,-0.670484748720622,-0.6593049611553058,-0.647825832176425,-0.6360447685938263,-0.623959536662347,-0.6115682868946447,-0.5988695788353204,-0.5858624056502584,-0.5725462183746725,-0.5589209496535683,-0.5449870367993598,-0.5307454439834245,-0.516197683371644,-0.5013458350086639,-0.48619256525191124,-0.470741143554533,-0.45499545739652214,-0.4389600251655996,-0.422640006794024,-0.40604121196452,-0.389170105708116,-0.3720338112288219,-0.3546401098048711,-0.33699743763358025,-0.3191148795067771,-0.30100215922599166,-0.28266962669112555,-0.2641282416227856,-0.24538955390674058,-0.22646568057863364,-0.20736927949780806,-0.18811351979056198,-0.16871204917480379,-0.149178958309588,-0.1295287423438047,-0.10977625986801509,-0.08993668950148984,-0.07002548437256255,-0.05005832477392294,-0.030051069295157964,-0.010019704752267286,0.010019704752267286,0.03005106929515708,0.05005832477392206,0.07002548437256255,0.08993668950148984,0.1097762598680142,0.1295287423438047,0.149178958309588,0.1687120491748029,0.18811351979056112,0.20736927949780806,0.22646568057863364,0.24538955390673975,0.26412824162278475,0.28266962669112555,0.30100215922599166,0.31911487950677636,0.33699743763358025,0.3546401098048711,0.37203381122882107,0.38917010570811517,0.40604121196452,0.422640006794024,0.4389600251655989,0.45499545739652153,0.470741143554533,0.48619256525191124,0.5013458350086633,0.516197683371644,0.5307454439834245,0.5449870367993591,0.5589209496535679,0.5725462183746725,0.5858624056502584,0.5988695788353199,0.6115682868946443,0.623959536662347,0.6360447685938263,0.6478258321764246,0.6593049611553058,0.670484748720622,0.6813681227911813,0.6919583215186482,0.7022588691250131,0.7122735521747682,0.7220063963720528,0.7314616439620929,0.7406437318056446,0.7495572701849581,0.7582070223900348,0.7665978851247528,0.7747348697637733,0.7826230844831018,0.7902677172797143,0.7976740198888199,0.8048472926011191,0.81179286997679,0.8185161074479138,0.8250223687965931,0.8313170144921262,0.8374053908672092,0.8432928201102616,0.8489845910485481,0.8544859506947824,0.8598020965283129,0.8649381694807592,0.8698992475950938,0.8746903403265687,0.8793163834535807,0.8837822345664943,0.8880926691025943,0.8922523768956668,0.8962659592092062,0.9001379262228859,0.9038726949426833,0.9074745875059026,0.9109478298532769,0.9142965507413277,0.9175247810692079,0.9206364534953383,0.9236354023202521,0.9265253636131859,0.9293099755610759,0.9319927790197348,0.934577218248102,0.9370666418075356,0.9394643036091945,0.9417733640935904,0.9439968915274046,0.9461378634036398,0.9481991679321152,0.9501836056082223,0.9520938908487231,0.9539326536841968,0.9557024414985348,0.9574057208066263,0.9590448790620943,0.9606222264876051,0.9621399979209145,0.9636003546704113,0.9650053863744724,0.9663571128594829,0.9676574859918543,0.9689083915198474,0.9701116509014267,0.971269023114781,0.9723822064485131,0.9734528402688488,0.9744825067615369,0.9754727326464052,0.9764249908628138,0.977340702224497,0.9782212370425193,0.9790679167152792,0.9798820152846949,0.9806647609578789,0.9814173375937755,0.982140886154378,0.9828365061202817,0.9835052568704469,0.9841481590261544,0.9847661957592404,0.9853603140647794,0.9859314259984663,0.9864804098790197,0.9870081114559881,0.987515345043397,0.9880028946197242,0.9884715148947285,0.9889219323436976,0.9893548462097081,0.9897709294745175,0.9901708297987304,0.990555170431898,0.9909245510932221,0.9912795488235487,0.9916207188093401,0.9919485951793219,0.9922636917745025,0.9925665028922622,0.992857504005209,0.9931371524554914,0.9934058881252583,0.9936641340839438,0.9939122972130512,0.9941507688091001,0.9943799251653905,0.9946001281332275,0.9948117256632394,0.9950150523274095,0.9952104298224296,0.9953981674549718,0.9955785626094588,0.9957519011989046,0.9959184580993796,0.9960784975686418,0.9962322736494639,0.99638003055817,0.9965220030588834,0.9966584168239712,0.9967894887811627,0.9969154274477984,0.9970364332526587,0.9971526988458057,0.9972644093968591,0.9973717428821136,0.9974748703608947,0.9975739562415351,0.9976691585373445,0.9977606291129293,0.9978485139212142,0.9979329532314987,0.9980140818488755,0.9980920293253268,0.9981669201627997,0.9982388740085583,0.9983080058430938,0.9983744261608689,0.9984382411441606,0.9984995528302566,0.9985584592722548,0.9986150546937012,0.9986694296372978,0.9987216711079027,0.9987718627100353,0.9988200847800933,0.9988664145134818,0.9989109260868436,0.9989536907755787,0.9989947770668289,0.999034250768101,0.999072175111692,0.9991086108550782,0.9991436163774203,0.9991772477723324,0.9992095589370578,0.9992406016581894,0.9992704256940652,0.9992990788539682,0.9993266070742511,0.9993530544915054,0.9993784635128876,0.9994028748837115,0.9994263277524124,0.9994488597329839,0.9994705069649856,0.9994913041712127,0.9995112847131216,0.9995304806440954,0.9995489227606335,0.9995666406515445,0.9995836627452238,0.999600016355083,0.99961572772321,0.9996308220623228,0.9996453235960873,0.9996592555978588,0.9996726404279122,0.9996854995692155,0.999697853661808,0.9997097225358322,0.9997211252432768,0.9997320800884761,0.999742604657419,0.9997527158459096,0.9997624298866276,0.9997717623751285,0.9997807282948282,0.999789342041007,0.9997976174438764,0.9998055677907419,0.9998132058472972,0.9998205438780854,0.9998275936661589,0.9998343665319686,0.9998408733515128,0.9998471245737762,0.9998531302374845,0.9998588999872026,0.9998644430888025,0.9998697684443241,0.9998748846062532,0.9998797997912416,0.9998845218932868,0.9998890584963966,0.9998934168867568,0.9998976040644209,0.9999016267545423,0.9999054914181658,0.9999092042625951],\"yaxis\":\"y\",\"type\":\"scatter\"}],                        {\"template\":{\"data\":{\"histogram2dcontour\":[{\"type\":\"histogram2dcontour\",\"colorbar\":{\"outlinewidth\":0,\"ticks\":\"\"},\"colorscale\":[[0.0,\"#0d0887\"],[0.1111111111111111,\"#46039f\"],[0.2222222222222222,\"#7201a8\"],[0.3333333333333333,\"#9c179e\"],[0.4444444444444444,\"#bd3786\"],[0.5555555555555556,\"#d8576b\"],[0.6666666666666666,\"#ed7953\"],[0.7777777777777778,\"#fb9f3a\"],[0.8888888888888888,\"#fdca26\"],[1.0,\"#f0f921\"]]}],\"choropleth\":[{\"type\":\"choropleth\",\"colorbar\":{\"outlinewidth\":0,\"ticks\":\"\"}}],\"histogram2d\":[{\"type\":\"histogram2d\",\"colorbar\":{\"outlinewidth\":0,\"ticks\":\"\"},\"colorscale\":[[0.0,\"#0d0887\"],[0.1111111111111111,\"#46039f\"],[0.2222222222222222,\"#7201a8\"],[0.3333333333333333,\"#9c179e\"],[0.4444444444444444,\"#bd3786\"],[0.5555555555555556,\"#d8576b\"],[0.6666666666666666,\"#ed7953\"],[0.7777777777777778,\"#fb9f3a\"],[0.8888888888888888,\"#fdca26\"],[1.0,\"#f0f921\"]]}],\"heatmap\":[{\"type\":\"heatmap\",\"colorbar\":{\"outlinewidth\":0,\"ticks\":\"\"},\"colorscale\":[[0.0,\"#0d0887\"],[0.1111111111111111,\"#46039f\"],[0.2222222222222222,\"#7201a8\"],[0.3333333333333333,\"#9c179e\"],[0.4444444444444444,\"#bd3786\"],[0.5555555555555556,\"#d8576b\"],[0.6666666666666666,\"#ed7953\"],[0.7777777777777778,\"#fb9f3a\"],[0.8888888888888888,\"#fdca26\"],[1.0,\"#f0f921\"]]}],\"heatmapgl\":[{\"type\":\"heatmapgl\",\"colorbar\":{\"outlinewidth\":0,\"ticks\":\"\"},\"colorscale\":[[0.0,\"#0d0887\"],[0.1111111111111111,\"#46039f\"],[0.2222222222222222,\"#7201a8\"],[0.3333333333333333,\"#9c179e\"],[0.4444444444444444,\"#bd3786\"],[0.5555555555555556,\"#d8576b\"],[0.6666666666666666,\"#ed7953\"],[0.7777777777777778,\"#fb9f3a\"],[0.8888888888888888,\"#fdca26\"],[1.0,\"#f0f921\"]]}],\"contourcarpet\":[{\"type\":\"contourcarpet\",\"colorbar\":{\"outlinewidth\":0,\"ticks\":\"\"}}],\"contour\":[{\"type\":\"contour\",\"colorbar\":{\"outlinewidth\":0,\"ticks\":\"\"},\"colorscale\":[[0.0,\"#0d0887\"],[0.1111111111111111,\"#46039f\"],[0.2222222222222222,\"#7201a8\"],[0.3333333333333333,\"#9c179e\"],[0.4444444444444444,\"#bd3786\"],[0.5555555555555556,\"#d8576b\"],[0.6666666666666666,\"#ed7953\"],[0.7777777777777778,\"#fb9f3a\"],[0.8888888888888888,\"#fdca26\"],[1.0,\"#f0f921\"]]}],\"surface\":[{\"type\":\"surface\",\"colorbar\":{\"outlinewidth\":0,\"ticks\":\"\"},\"colorscale\":[[0.0,\"#0d0887\"],[0.1111111111111111,\"#46039f\"],[0.2222222222222222,\"#7201a8\"],[0.3333333333333333,\"#9c179e\"],[0.4444444444444444,\"#bd3786\"],[0.5555555555555556,\"#d8576b\"],[0.6666666666666666,\"#ed7953\"],[0.7777777777777778,\"#fb9f3a\"],[0.8888888888888888,\"#fdca26\"],[1.0,\"#f0f921\"]]}],\"mesh3d\":[{\"type\":\"mesh3d\",\"colorbar\":{\"outlinewidth\":0,\"ticks\":\"\"}}],\"scatter\":[{\"fillpattern\":{\"fillmode\":\"overlay\",\"size\":10,\"solidity\":0.2},\"type\":\"scatter\"}],\"parcoords\":[{\"type\":\"parcoords\",\"line\":{\"colorbar\":{\"outlinewidth\":0,\"ticks\":\"\"}}}],\"scatterpolargl\":[{\"type\":\"scatterpolargl\",\"marker\":{\"colorbar\":{\"outlinewidth\":0,\"ticks\":\"\"}}}],\"bar\":[{\"error_x\":{\"color\":\"#2a3f5f\"},\"error_y\":{\"color\":\"#2a3f5f\"},\"marker\":{\"line\":{\"color\":\"#E5ECF6\",\"width\":0.5},\"pattern\":{\"fillmode\":\"overlay\",\"size\":10,\"solidity\":0.2}},\"type\":\"bar\"}],\"scattergeo\":[{\"type\":\"scattergeo\",\"marker\":{\"colorbar\":{\"outlinewidth\":0,\"ticks\":\"\"}}}],\"scatterpolar\":[{\"type\":\"scatterpolar\",\"marker\":{\"colorbar\":{\"outlinewidth\":0,\"ticks\":\"\"}}}],\"histogram\":[{\"marker\":{\"pattern\":{\"fillmode\":\"overlay\",\"size\":10,\"solidity\":0.2}},\"type\":\"histogram\"}],\"scattergl\":[{\"type\":\"scattergl\",\"marker\":{\"colorbar\":{\"outlinewidth\":0,\"ticks\":\"\"}}}],\"scatter3d\":[{\"type\":\"scatter3d\",\"line\":{\"colorbar\":{\"outlinewidth\":0,\"ticks\":\"\"}},\"marker\":{\"colorbar\":{\"outlinewidth\":0,\"ticks\":\"\"}}}],\"scattermapbox\":[{\"type\":\"scattermapbox\",\"marker\":{\"colorbar\":{\"outlinewidth\":0,\"ticks\":\"\"}}}],\"scatterternary\":[{\"type\":\"scatterternary\",\"marker\":{\"colorbar\":{\"outlinewidth\":0,\"ticks\":\"\"}}}],\"scattercarpet\":[{\"type\":\"scattercarpet\",\"marker\":{\"colorbar\":{\"outlinewidth\":0,\"ticks\":\"\"}}}],\"carpet\":[{\"aaxis\":{\"endlinecolor\":\"#2a3f5f\",\"gridcolor\":\"white\",\"linecolor\":\"white\",\"minorgridcolor\":\"white\",\"startlinecolor\":\"#2a3f5f\"},\"baxis\":{\"endlinecolor\":\"#2a3f5f\",\"gridcolor\":\"white\",\"linecolor\":\"white\",\"minorgridcolor\":\"white\",\"startlinecolor\":\"#2a3f5f\"},\"type\":\"carpet\"}],\"table\":[{\"cells\":{\"fill\":{\"color\":\"#EBF0F8\"},\"line\":{\"color\":\"white\"}},\"header\":{\"fill\":{\"color\":\"#C8D4E3\"},\"line\":{\"color\":\"white\"}},\"type\":\"table\"}],\"barpolar\":[{\"marker\":{\"line\":{\"color\":\"#E5ECF6\",\"width\":0.5},\"pattern\":{\"fillmode\":\"overlay\",\"size\":10,\"solidity\":0.2}},\"type\":\"barpolar\"}],\"pie\":[{\"automargin\":true,\"type\":\"pie\"}]},\"layout\":{\"autotypenumbers\":\"strict\",\"colorway\":[\"#636efa\",\"#EF553B\",\"#00cc96\",\"#ab63fa\",\"#FFA15A\",\"#19d3f3\",\"#FF6692\",\"#B6E880\",\"#FF97FF\",\"#FECB52\"],\"font\":{\"color\":\"#2a3f5f\"},\"hovermode\":\"closest\",\"hoverlabel\":{\"align\":\"left\"},\"paper_bgcolor\":\"white\",\"plot_bgcolor\":\"#E5ECF6\",\"polar\":{\"bgcolor\":\"#E5ECF6\",\"angularaxis\":{\"gridcolor\":\"white\",\"linecolor\":\"white\",\"ticks\":\"\"},\"radialaxis\":{\"gridcolor\":\"white\",\"linecolor\":\"white\",\"ticks\":\"\"}},\"ternary\":{\"bgcolor\":\"#E5ECF6\",\"aaxis\":{\"gridcolor\":\"white\",\"linecolor\":\"white\",\"ticks\":\"\"},\"baxis\":{\"gridcolor\":\"white\",\"linecolor\":\"white\",\"ticks\":\"\"},\"caxis\":{\"gridcolor\":\"white\",\"linecolor\":\"white\",\"ticks\":\"\"}},\"coloraxis\":{\"colorbar\":{\"outlinewidth\":0,\"ticks\":\"\"}},\"colorscale\":{\"sequential\":[[0.0,\"#0d0887\"],[0.1111111111111111,\"#46039f\"],[0.2222222222222222,\"#7201a8\"],[0.3333333333333333,\"#9c179e\"],[0.4444444444444444,\"#bd3786\"],[0.5555555555555556,\"#d8576b\"],[0.6666666666666666,\"#ed7953\"],[0.7777777777777778,\"#fb9f3a\"],[0.8888888888888888,\"#fdca26\"],[1.0,\"#f0f921\"]],\"sequentialminus\":[[0.0,\"#0d0887\"],[0.1111111111111111,\"#46039f\"],[0.2222222222222222,\"#7201a8\"],[0.3333333333333333,\"#9c179e\"],[0.4444444444444444,\"#bd3786\"],[0.5555555555555556,\"#d8576b\"],[0.6666666666666666,\"#ed7953\"],[0.7777777777777778,\"#fb9f3a\"],[0.8888888888888888,\"#fdca26\"],[1.0,\"#f0f921\"]],\"diverging\":[[0,\"#8e0152\"],[0.1,\"#c51b7d\"],[0.2,\"#de77ae\"],[0.3,\"#f1b6da\"],[0.4,\"#fde0ef\"],[0.5,\"#f7f7f7\"],[0.6,\"#e6f5d0\"],[0.7,\"#b8e186\"],[0.8,\"#7fbc41\"],[0.9,\"#4d9221\"],[1,\"#276419\"]]},\"xaxis\":{\"gridcolor\":\"white\",\"linecolor\":\"white\",\"ticks\":\"\",\"title\":{\"standoff\":15},\"zerolinecolor\":\"white\",\"automargin\":true,\"zerolinewidth\":2},\"yaxis\":{\"gridcolor\":\"white\",\"linecolor\":\"white\",\"ticks\":\"\",\"title\":{\"standoff\":15},\"zerolinecolor\":\"white\",\"automargin\":true,\"zerolinewidth\":2},\"scene\":{\"xaxis\":{\"backgroundcolor\":\"#E5ECF6\",\"gridcolor\":\"white\",\"linecolor\":\"white\",\"showbackground\":true,\"ticks\":\"\",\"zerolinecolor\":\"white\",\"gridwidth\":2},\"yaxis\":{\"backgroundcolor\":\"#E5ECF6\",\"gridcolor\":\"white\",\"linecolor\":\"white\",\"showbackground\":true,\"ticks\":\"\",\"zerolinecolor\":\"white\",\"gridwidth\":2},\"zaxis\":{\"backgroundcolor\":\"#E5ECF6\",\"gridcolor\":\"white\",\"linecolor\":\"white\",\"showbackground\":true,\"ticks\":\"\",\"zerolinecolor\":\"white\",\"gridwidth\":2}},\"shapedefaults\":{\"line\":{\"color\":\"#2a3f5f\"}},\"annotationdefaults\":{\"arrowcolor\":\"#2a3f5f\",\"arrowhead\":0,\"arrowwidth\":1},\"geo\":{\"bgcolor\":\"white\",\"landcolor\":\"#E5ECF6\",\"subunitcolor\":\"white\",\"showland\":true,\"showlakes\":true,\"lakecolor\":\"white\"},\"title\":{\"x\":0.05},\"mapbox\":{\"style\":\"light\"}}},\"xaxis\":{\"anchor\":\"y\",\"domain\":[0.0,1.0],\"title\":{\"text\":\"data\"},\"range\":[-5.5,5.5]},\"yaxis\":{\"anchor\":\"x\",\"domain\":[0.0,1.0],\"title\":{\"text\":\"tanh\"},\"range\":[-1.5,1.5]},\"legend\":{\"tracegroupgap\":0},\"margin\":{\"t\":60},\"height\":600,\"width\":800},                        {\"responsive\": true}                    ).then(function(){\n",
              "                            \n",
              "var gd = document.getElementById('9ff76230-a638-4a43-8de8-95f6811fca69');\n",
              "var x = new MutationObserver(function (mutations, observer) {{\n",
              "        var display = window.getComputedStyle(gd).display;\n",
              "        if (!display || display === 'none') {{\n",
              "            console.log([gd, 'removed!']);\n",
              "            Plotly.purge(gd);\n",
              "            observer.disconnect();\n",
              "        }}\n",
              "}});\n",
              "\n",
              "// Listen for the removal of the full notebook cells\n",
              "var notebookContainer = gd.closest('#notebook-container');\n",
              "if (notebookContainer) {{\n",
              "    x.observe(notebookContainer, {childList: true});\n",
              "}}\n",
              "\n",
              "// Listen for the clearing of the current output cell\n",
              "var outputEl = gd.closest('.output');\n",
              "if (outputEl) {{\n",
              "    x.observe(outputEl, {childList: true});\n",
              "}}\n",
              "\n",
              "                        })                };                            </script>        </div>\n",
              "</body>\n",
              "</html>"
            ]
          },
          "metadata": {}
        }
      ]
    },
    {
      "cell_type": "markdown",
      "source": [
        "# Budowa modelu."
      ],
      "metadata": {
        "id": "tg7suCIyD6pv"
      }
    },
    {
      "cell_type": "markdown",
      "source": [
        "Zbudujmy teraz kompletny model sekwencyjny z funkcjami aktywacji i kompletnymi warstwami."
      ],
      "metadata": {
        "id": "J_O5yAZsD8l-"
      }
    },
    {
      "cell_type": "code",
      "source": [
        "model = Sequential()\n",
        "model.add(Input(shape=(10,)))\n",
        "model.add(Dense(units=10, activation='relu'))\n",
        "model.add(Dense(units=1, activation='sigmoid'))\n",
        "model.summary()"
      ],
      "metadata": {
        "colab": {
          "base_uri": "https://localhost:8080/",
          "height": 193
        },
        "id": "YJ93vx4PELzT",
        "outputId": "e566fc6c-b80e-4810-a660-3d0325aa527c"
      },
      "execution_count": 17,
      "outputs": [
        {
          "output_type": "display_data",
          "data": {
            "text/plain": [
              "\u001b[1mModel: \"sequential_1\"\u001b[0m\n"
            ],
            "text/html": [
              "<pre style=\"white-space:pre;overflow-x:auto;line-height:normal;font-family:Menlo,'DejaVu Sans Mono',consolas,'Courier New',monospace\"><span style=\"font-weight: bold\">Model: \"sequential_1\"</span>\n",
              "</pre>\n"
            ]
          },
          "metadata": {}
        },
        {
          "output_type": "display_data",
          "data": {
            "text/plain": [
              "┏━━━━━━━━━━━━━━━━━━━━━━━━━━━━━━━━━━━━━━┳━━━━━━━━━━━━━━━━━━━━━━━━━━━━━┳━━━━━━━━━━━━━━━━━┓\n",
              "┃\u001b[1m \u001b[0m\u001b[1mLayer (type)                        \u001b[0m\u001b[1m \u001b[0m┃\u001b[1m \u001b[0m\u001b[1mOutput Shape               \u001b[0m\u001b[1m \u001b[0m┃\u001b[1m \u001b[0m\u001b[1m        Param #\u001b[0m\u001b[1m \u001b[0m┃\n",
              "┡━━━━━━━━━━━━━━━━━━━━━━━━━━━━━━━━━━━━━━╇━━━━━━━━━━━━━━━━━━━━━━━━━━━━━╇━━━━━━━━━━━━━━━━━┩\n",
              "│ dense_2 (\u001b[38;5;33mDense\u001b[0m)                      │ (\u001b[38;5;45mNone\u001b[0m, \u001b[38;5;34m10\u001b[0m)                  │             \u001b[38;5;34m110\u001b[0m │\n",
              "├──────────────────────────────────────┼─────────────────────────────┼─────────────────┤\n",
              "│ dense_3 (\u001b[38;5;33mDense\u001b[0m)                      │ (\u001b[38;5;45mNone\u001b[0m, \u001b[38;5;34m1\u001b[0m)                   │              \u001b[38;5;34m11\u001b[0m │\n",
              "└──────────────────────────────────────┴─────────────────────────────┴─────────────────┘\n"
            ],
            "text/html": [
              "<pre style=\"white-space:pre;overflow-x:auto;line-height:normal;font-family:Menlo,'DejaVu Sans Mono',consolas,'Courier New',monospace\">┏━━━━━━━━━━━━━━━━━━━━━━━━━━━━━━━━━━━━━━┳━━━━━━━━━━━━━━━━━━━━━━━━━━━━━┳━━━━━━━━━━━━━━━━━┓\n",
              "┃<span style=\"font-weight: bold\"> Layer (type)                         </span>┃<span style=\"font-weight: bold\"> Output Shape                </span>┃<span style=\"font-weight: bold\">         Param # </span>┃\n",
              "┡━━━━━━━━━━━━━━━━━━━━━━━━━━━━━━━━━━━━━━╇━━━━━━━━━━━━━━━━━━━━━━━━━━━━━╇━━━━━━━━━━━━━━━━━┩\n",
              "│ dense_2 (<span style=\"color: #0087ff; text-decoration-color: #0087ff\">Dense</span>)                      │ (<span style=\"color: #00d7ff; text-decoration-color: #00d7ff\">None</span>, <span style=\"color: #00af00; text-decoration-color: #00af00\">10</span>)                  │             <span style=\"color: #00af00; text-decoration-color: #00af00\">110</span> │\n",
              "├──────────────────────────────────────┼─────────────────────────────┼─────────────────┤\n",
              "│ dense_3 (<span style=\"color: #0087ff; text-decoration-color: #0087ff\">Dense</span>)                      │ (<span style=\"color: #00d7ff; text-decoration-color: #00d7ff\">None</span>, <span style=\"color: #00af00; text-decoration-color: #00af00\">1</span>)                   │              <span style=\"color: #00af00; text-decoration-color: #00af00\">11</span> │\n",
              "└──────────────────────────────────────┴─────────────────────────────┴─────────────────┘\n",
              "</pre>\n"
            ]
          },
          "metadata": {}
        },
        {
          "output_type": "display_data",
          "data": {
            "text/plain": [
              "\u001b[1m Total params: \u001b[0m\u001b[38;5;34m121\u001b[0m (484.00 B)\n"
            ],
            "text/html": [
              "<pre style=\"white-space:pre;overflow-x:auto;line-height:normal;font-family:Menlo,'DejaVu Sans Mono',consolas,'Courier New',monospace\"><span style=\"font-weight: bold\"> Total params: </span><span style=\"color: #00af00; text-decoration-color: #00af00\">121</span> (484.00 B)\n",
              "</pre>\n"
            ]
          },
          "metadata": {}
        },
        {
          "output_type": "display_data",
          "data": {
            "text/plain": [
              "\u001b[1m Trainable params: \u001b[0m\u001b[38;5;34m121\u001b[0m (484.00 B)\n"
            ],
            "text/html": [
              "<pre style=\"white-space:pre;overflow-x:auto;line-height:normal;font-family:Menlo,'DejaVu Sans Mono',consolas,'Courier New',monospace\"><span style=\"font-weight: bold\"> Trainable params: </span><span style=\"color: #00af00; text-decoration-color: #00af00\">121</span> (484.00 B)\n",
              "</pre>\n"
            ]
          },
          "metadata": {}
        },
        {
          "output_type": "display_data",
          "data": {
            "text/plain": [
              "\u001b[1m Non-trainable params: \u001b[0m\u001b[38;5;34m0\u001b[0m (0.00 B)\n"
            ],
            "text/html": [
              "<pre style=\"white-space:pre;overflow-x:auto;line-height:normal;font-family:Menlo,'DejaVu Sans Mono',consolas,'Courier New',monospace\"><span style=\"font-weight: bold\"> Non-trainable params: </span><span style=\"color: #00af00; text-decoration-color: #00af00\">0</span> (0.00 B)\n",
              "</pre>\n"
            ]
          },
          "metadata": {}
        }
      ]
    },
    {
      "cell_type": "markdown",
      "source": [
        "Do przetrenowania mamy 121 wag. Teraz pora na kompilację modelu. W tym kroku określamy:\n",
        "* rodzaj optymalizatora ([Keras - Optymalizatory](https://keras.io/optimizers/))\n",
        "* funkcję straty ([Keras - Funkcje Straty](https://keras.io/losses/))\n",
        "* metryki, które będziemy obserwować podczas trenowania sieci ([Keras - Metryki](https://keras.io/metrics/)).\n",
        "\n",
        "Poniżej 3 przykłady kompilacji. Zastosowane optymalizatory, funkcje straty i metryki powinny odpowiadać zadaniu, które mamy do wykonania. W przypadku regresji funkcja straty jest jednocześnie metryką, więc nie trzeba podawać metryki osobno."
      ],
      "metadata": {
        "id": "_ohjnoSJEVGE"
      }
    },
    {
      "cell_type": "code",
      "source": [
        "# klasyfikacja binarna\n",
        "model.compile(optimizer='rmsprop',\n",
        "              loss='binary_crossentropy',\n",
        "              metrics=['accuracy'])\n",
        "\n",
        "# klasyfikacja wieloklasowa\n",
        "model.compile(optimizer='rmsprop',\n",
        "              loss='categorical_crossentropy',\n",
        "              metrics=['accuracy'])\n",
        "\n",
        "# regresja\n",
        "model.compile(optimizer='rmsprop',\n",
        "              loss='mse')"
      ],
      "metadata": {
        "id": "Ok5GftqVESWy"
      },
      "execution_count": 18,
      "outputs": []
    },
    {
      "cell_type": "markdown",
      "source": [
        "# Trening modelu."
      ],
      "metadata": {
        "id": "5IdsRJNMG6TL"
      }
    },
    {
      "cell_type": "markdown",
      "source": [
        "Za dane wejściowe do modelu należy przekazać tablice Numpy. Poniżej najistotniejsze parametry do treningu:\n",
        "* **epochs** - krotność przejścia danych przez sieć w procesie uczenia,\n",
        "* **batch_size** - rozmiar wsadu, po którym następuje aktualizacja wag (domyślnie po 32 próbkach),\n",
        "* **validation_split** - część danych treningowych, które zostaną wykorzystane jako zbiór walidacyjny; dobrą praktyką jest jego wydzielenie, jeżeli nie było to uczynione na wcześniejszym etapie,\n",
        "* **validation_data** - (x_val, y_val) - dane wykorzystywane do walidacji modelu; przyjmuje on już krotkę danych, na których walidujemy model, jeżeli takie dane są utworzone wcześniej (w przeciwnym wypadku powinno się zastosować poprzednio wymieniony parametr validation_split)."
      ],
      "metadata": {
        "id": "k4AKNRvOG-fv"
      }
    },
    {
      "cell_type": "markdown",
      "source": [
        "# Przykład - klasyfikacja binarna."
      ],
      "metadata": {
        "id": "HBGlFNBGH80-"
      }
    },
    {
      "cell_type": "markdown",
      "source": [
        "Nie będziemy się w tej części skupiać na danych, a raczej na samej technice budowania modelu. Dane wygenerujemy z rozkładu normalnego o średniej 0 i odchyleniu standardowym 1; będzie to 20000 próbek o 150 cechach oraz wektor 20000 etykiet o wartości 0 lub 1."
      ],
      "metadata": {
        "id": "FUbtGiC2H_x7"
      }
    },
    {
      "cell_type": "code",
      "source": [
        "data = np.random.randn(20000, 150)\n",
        "labels = np.random.randint(2, size=(20000, 1))\n",
        "\n",
        "print(data.shape)\n",
        "print(labels.shape)"
      ],
      "metadata": {
        "colab": {
          "base_uri": "https://localhost:8080/"
        },
        "id": "TpyrXRYnG72_",
        "outputId": "02f804d7-89c7-4957-ba51-402593d7ec95"
      },
      "execution_count": 19,
      "outputs": [
        {
          "output_type": "stream",
          "name": "stdout",
          "text": [
            "(20000, 150)\n",
            "(20000, 1)\n"
          ]
        }
      ]
    },
    {
      "cell_type": "markdown",
      "source": [
        "Wyświetlimy też 3 pierwsze rekordy i 10 pierwszych etykiet."
      ],
      "metadata": {
        "id": "Oqv1L_N7I9J-"
      }
    },
    {
      "cell_type": "code",
      "source": [
        "data[:3]"
      ],
      "metadata": {
        "colab": {
          "base_uri": "https://localhost:8080/"
        },
        "id": "BuSB1KFUIvE_",
        "outputId": "887cc643-3e78-4fad-9994-7461de608fb9"
      },
      "execution_count": 20,
      "outputs": [
        {
          "output_type": "execute_result",
          "data": {
            "text/plain": [
              "array([[-1.85830082e+00,  1.39600421e+00,  8.54673578e-01,\n",
              "         5.85065989e-01,  7.21258955e-01, -1.06127596e+00,\n",
              "        -3.28325137e-01, -1.47436836e+00,  7.51256683e-01,\n",
              "         8.88603476e-01,  4.21911411e-01,  4.23181544e-01,\n",
              "         1.42786985e-02, -1.31160148e+00,  4.61397229e-01,\n",
              "        -2.44554325e-01,  6.32516259e-01,  1.57239293e+00,\n",
              "         9.49193136e-01,  1.00841518e+00,  6.58139090e-01,\n",
              "        -5.25870085e-01, -1.72496236e-01,  1.25458782e-01,\n",
              "        -1.35432470e-02, -1.47971836e+00,  1.60355054e+00,\n",
              "        -5.16555406e-01, -1.44831840e+00,  1.59955123e-01,\n",
              "         4.61851098e-01,  6.32353428e-01,  2.12580012e-01,\n",
              "         1.19624258e+00, -2.99941867e-01,  1.59919896e+00,\n",
              "         4.76052483e-01, -6.45402319e-01, -7.79961630e-01,\n",
              "         1.07108726e+00,  1.70843496e+00,  7.10613297e-01,\n",
              "         2.82070738e-01, -1.42394932e+00,  1.12148030e+00,\n",
              "        -1.70880640e+00, -1.66235408e+00, -1.56004915e+00,\n",
              "        -7.83844278e-01, -2.10682176e+00,  1.17343516e+00,\n",
              "         4.79637232e-01, -3.30982063e-01, -4.80485803e-01,\n",
              "        -3.40421189e-01, -9.89686834e-01, -3.52183198e-01,\n",
              "         2.98568883e-01,  1.99390423e-02,  6.15579013e-01,\n",
              "         5.55646145e-01,  5.01810330e-01,  5.61723236e-01,\n",
              "        -1.13002316e+00, -1.96393428e-01,  1.93542411e+00,\n",
              "         3.64203379e-01,  8.36037104e-01,  1.04558582e-02,\n",
              "         7.16762334e-01,  8.04093403e-01,  7.76617423e-01,\n",
              "         5.96263109e-01,  1.06827876e+00, -1.81051115e-03,\n",
              "        -2.70428268e-01,  1.55549987e-01,  2.01706164e+00,\n",
              "         1.69698010e-01,  9.46190293e-01, -2.41973411e+00,\n",
              "        -1.19942078e+00,  1.11654612e+00, -1.05696119e+00,\n",
              "         9.59082583e-01, -3.82051035e-01, -7.12836804e-01,\n",
              "         1.02036981e+00, -3.65529099e-01,  5.18804558e-01,\n",
              "         3.46375485e-01, -4.65343794e-01,  8.14674174e-01,\n",
              "         9.82691300e-01, -9.60478004e-01,  7.09440600e-02,\n",
              "        -3.08168806e-01, -1.64112834e+00, -1.11178338e+00,\n",
              "        -2.37283106e-01, -1.41687915e-01, -4.52288923e-01,\n",
              "         1.37341838e+00, -1.32898239e+00, -1.07844759e+00,\n",
              "         2.26697494e-01, -7.17225197e-01,  3.86194742e-01,\n",
              "        -1.65220923e+00, -1.84792792e+00, -7.70531440e-01,\n",
              "        -2.65511789e-01, -6.19110689e-01,  2.79155249e-01,\n",
              "         7.42909767e-02,  8.13716662e-01,  6.16247620e-01,\n",
              "         9.13842911e-01,  1.77499956e+00,  1.75194134e+00,\n",
              "        -9.03846874e-01,  1.59517911e+00, -1.11371472e+00,\n",
              "        -1.09615054e-01,  5.80980876e-01, -4.55331592e-01,\n",
              "         9.26839429e-01,  8.42541004e-01, -1.51170257e+00,\n",
              "        -1.95279633e+00, -1.34928825e+00, -5.42056797e-01,\n",
              "        -3.89213429e-03, -7.43083994e-01,  4.55757794e-02,\n",
              "        -8.61912890e-02, -8.16492800e-01,  6.43496235e-01,\n",
              "         3.03714373e-01,  1.20385970e+00,  1.27771764e+00,\n",
              "         1.16398450e-01,  1.66970243e-02,  5.19121472e-01,\n",
              "         3.07719025e-01, -8.16935795e-02,  2.50723563e+00,\n",
              "         1.12117355e+00, -5.61685853e-01,  1.09301928e+00],\n",
              "       [-1.86807650e-01, -3.38807107e-01,  4.89370150e-01,\n",
              "        -1.38624044e+00, -3.30862328e-01, -8.87725661e-01,\n",
              "        -2.01789887e+00,  8.50140384e-01, -9.64682221e-01,\n",
              "         6.79523884e-01,  1.13829784e+00, -6.89757882e-01,\n",
              "         1.08789060e+00, -9.92251480e-01,  1.52663987e+00,\n",
              "        -1.62834502e+00, -7.30627684e-01,  3.77201832e-01,\n",
              "         2.16977937e+00,  3.51328865e-01,  1.60311416e+00,\n",
              "         1.02633494e+00,  2.96562745e-02,  1.66202897e+00,\n",
              "         4.32729018e-01, -8.93023508e-01, -4.42680032e-01,\n",
              "        -9.30581917e-01,  7.59408992e-01,  6.19940463e-01,\n",
              "        -2.06973275e+00,  2.59984261e+00, -2.59077000e-01,\n",
              "        -2.28872953e-01, -1.67476419e-01,  4.92826198e-02,\n",
              "        -5.78869898e-01, -1.01983732e+00, -2.34833366e+00,\n",
              "         7.64771466e-02,  1.95058047e-01, -2.77208170e+00,\n",
              "         1.40252130e+00,  6.16045826e-01,  4.40536202e-01,\n",
              "        -1.18720254e+00, -9.78962295e-01, -5.77633321e-01,\n",
              "         4.28404847e-01,  1.72047858e+00,  1.13510718e-01,\n",
              "         3.24255381e-01,  3.66805570e-01, -5.82414207e-01,\n",
              "        -1.22227955e+00,  3.75563404e-01, -1.62445231e+00,\n",
              "        -2.67859906e-01,  1.05565328e-01,  1.19183608e+00,\n",
              "        -1.79920416e-01, -1.79052376e+00, -1.71752986e-01,\n",
              "        -5.61060070e-01, -1.10755297e+00,  8.90721032e-01,\n",
              "        -5.72388085e-01, -3.36396501e-01,  2.52512447e-01,\n",
              "        -1.04361053e-01,  1.17374152e-01,  1.56723453e+00,\n",
              "        -1.11245287e+00,  1.58540021e+00, -5.61426616e-01,\n",
              "         6.44490106e-01, -7.67609973e-02,  2.47190461e+00,\n",
              "         5.81138284e-01, -1.87322846e-01, -1.92519503e+00,\n",
              "        -1.15433182e-01,  8.29588992e-01,  4.82672461e-01,\n",
              "        -3.50840793e-01, -9.79220480e-01, -6.28592283e-01,\n",
              "         8.96861159e-02,  3.08592320e-01, -8.90668297e-01,\n",
              "        -1.17950348e+00,  1.14220005e+00, -7.95603491e-01,\n",
              "        -1.36822395e-01, -9.68016863e-01,  1.23900006e+00,\n",
              "         7.53267663e-01,  7.12356635e-01, -1.19516868e+00,\n",
              "        -5.56307525e-01,  3.16644671e-01, -1.48356554e-01,\n",
              "        -4.65762038e-01,  6.58490883e-01,  8.37184703e-01,\n",
              "         6.74833009e-01, -2.96988376e-01, -3.52941795e-01,\n",
              "         1.17166393e+00, -1.06349939e+00,  1.03722150e+00,\n",
              "        -2.43576282e+00,  1.02111631e+00,  7.16979668e-01,\n",
              "        -1.38687477e+00, -5.68446380e-01, -3.82452046e-01,\n",
              "         8.13257441e-01,  5.56667511e-01, -1.29478786e+00,\n",
              "        -1.71029077e-01,  9.25301173e-01, -1.55534115e+00,\n",
              "         1.02084001e+00,  4.10028965e-01, -9.37795508e-01,\n",
              "        -1.21426539e+00,  6.80414536e-02, -3.33562536e-01,\n",
              "         2.41668215e+00,  3.45828829e-01,  6.06595456e-01,\n",
              "         6.30043320e-01,  1.70316071e+00, -1.48452210e+00,\n",
              "        -6.05695697e-01,  1.25681115e+00, -5.22962034e-01,\n",
              "        -6.29706185e-01,  4.51623393e-01,  2.92075180e+00,\n",
              "         7.11692830e-01,  2.12492933e-01,  1.40072142e+00,\n",
              "        -1.36826888e+00,  5.43039572e-01, -4.61536196e-01,\n",
              "         2.31990493e-01, -3.35092375e-01,  1.36935797e+00],\n",
              "       [ 1.24184087e+00, -3.88155190e-01,  3.09092131e-01,\n",
              "        -6.91255030e-01, -6.16340300e-01, -1.02057448e-01,\n",
              "         2.95608110e-01,  5.00023765e-01,  1.65415216e+00,\n",
              "        -3.82288568e-01, -3.03851164e-01,  8.08824366e-01,\n",
              "        -2.77030869e+00,  5.39365041e-01, -1.30425778e+00,\n",
              "         4.42556565e-02,  8.18278021e-01, -5.59075667e-01,\n",
              "         3.23557123e-01, -8.91012677e-01, -9.39709104e-01,\n",
              "         1.80042056e+00,  1.58535930e-01, -3.35617781e-01,\n",
              "        -1.10270754e+00, -3.43327908e-02, -4.36937993e-01,\n",
              "        -8.14959445e-01,  3.88144988e-02,  2.79757356e-01,\n",
              "        -7.21661593e-01,  1.02658351e+00, -1.82478936e-01,\n",
              "        -1.26863179e+00, -1.82284063e+00, -1.69182487e+00,\n",
              "         3.00556338e-01,  9.49601074e-03, -1.43092768e+00,\n",
              "         5.89002650e-01,  4.69789102e-01, -5.58037478e-01,\n",
              "        -2.32139230e-01, -3.14950557e-01,  1.78918433e-01,\n",
              "         4.22462667e-01, -4.88775001e-01, -8.69386962e-01,\n",
              "        -1.09280158e-01, -7.80533374e-01, -1.32735998e-01,\n",
              "         4.80005851e-01, -2.01978720e+00, -2.48447241e-01,\n",
              "         9.33370403e-02, -5.20484890e-01, -4.27797835e-01,\n",
              "        -7.75779534e-01,  1.27096062e-01, -7.05529093e-01,\n",
              "        -4.50379587e-01,  9.57626984e-01, -3.98164819e-01,\n",
              "        -2.42321320e-01, -2.70117439e-01, -2.63132892e-01,\n",
              "         6.55492119e-01, -8.15967296e-01,  1.17749169e+00,\n",
              "        -1.41921149e+00,  2.44715393e-01, -9.19966445e-01,\n",
              "         8.56198230e-02,  1.70776030e-01, -8.04258205e-01,\n",
              "         1.54023715e+00, -7.94345852e-02, -7.03194541e-01,\n",
              "         5.48460105e-03,  8.93885310e-01,  2.69748166e-01,\n",
              "        -2.22898848e-01, -1.35651623e+00,  7.84691726e-01,\n",
              "        -3.89627424e-02,  1.19534933e+00,  1.12576482e+00,\n",
              "        -2.12859811e-02, -1.75187058e-01,  2.89403833e-01,\n",
              "        -8.85591897e-01, -8.32703933e-01,  2.87275930e-01,\n",
              "        -7.30068565e-01,  8.29235978e-01, -2.09972924e+00,\n",
              "         1.53138681e+00,  4.98861995e-01,  5.75757111e-01,\n",
              "         1.48452809e+00,  5.61505883e-01, -1.27072240e+00,\n",
              "         1.15388415e+00, -6.13524437e-02, -2.18655934e-01,\n",
              "        -8.48254323e-01, -5.46067421e-01,  1.18152644e-01,\n",
              "         7.38024614e-02,  1.60661555e+00,  2.33673791e+00,\n",
              "        -2.17664039e-01, -7.99658952e-01,  5.62696066e-01,\n",
              "         2.53950063e-01,  8.75914267e-02,  1.20139990e+00,\n",
              "         1.05357092e+00,  2.19630214e-01,  1.57189481e+00,\n",
              "        -1.00188607e-01, -2.48412468e-01,  3.45898907e-01,\n",
              "         9.15547381e-01,  1.81576601e+00, -4.74773201e-01,\n",
              "         5.02961906e-01, -1.66505212e+00,  1.37264510e-01,\n",
              "        -1.43252426e+00,  1.88352569e+00,  5.53117072e-01,\n",
              "         1.28892916e+00,  9.97140367e-01, -9.05655932e-01,\n",
              "        -3.49657244e-01,  1.37190402e+00,  2.84996110e+00,\n",
              "        -1.69827842e+00, -6.85751441e-01, -1.12855581e+00,\n",
              "         1.00155149e+00, -2.70833543e-01, -2.63343309e-01,\n",
              "         5.34747829e-01, -2.81044091e-01,  1.02495652e+00,\n",
              "         5.19489394e-01,  8.44936787e-02,  1.64458268e+00]])"
            ]
          },
          "metadata": {},
          "execution_count": 20
        }
      ]
    },
    {
      "cell_type": "code",
      "source": [
        "labels[:10]"
      ],
      "metadata": {
        "colab": {
          "base_uri": "https://localhost:8080/"
        },
        "id": "SD66hytbIwhY",
        "outputId": "e5ed3091-117c-4721-c9ec-1bb5fa049331"
      },
      "execution_count": 21,
      "outputs": [
        {
          "output_type": "execute_result",
          "data": {
            "text/plain": [
              "array([[1],\n",
              "       [0],\n",
              "       [0],\n",
              "       [1],\n",
              "       [0],\n",
              "       [1],\n",
              "       [0],\n",
              "       [1],\n",
              "       [0],\n",
              "       [1]])"
            ]
          },
          "metadata": {},
          "execution_count": 21
        }
      ]
    },
    {
      "cell_type": "markdown",
      "source": [
        "Tworzymy instancję modelu, pamiętając o wszystkich koniecznych elementach, kompilujemy go i dopasowujemy. Ponieważ sieć jest modelem klasyfikacji binarnej, na wyjściu znajduje się jeden neuron z cechą aktywacji sigmoid."
      ],
      "metadata": {
        "id": "W39FU2YgKOnT"
      }
    },
    {
      "cell_type": "code",
      "source": [
        "model = Sequential()\n",
        "model.add(Input(shape=(150,)))\n",
        "model.add(Dense(units=32, activation='relu'))\n",
        "model.add(Dense(1, activation='sigmoid'))\n",
        "\n",
        "model.compile(optimizer='rmsprop',\n",
        "              loss='binary_crossentropy',\n",
        "              metrics=['accuracy'])\n",
        "\n",
        "model.fit(data, labels, epochs=20)"
      ],
      "metadata": {
        "colab": {
          "base_uri": "https://localhost:8080/"
        },
        "id": "AnJOClTaI7kN",
        "outputId": "b49c15b5-5f33-4c9f-f8f3-d57c1f262a39"
      },
      "execution_count": 22,
      "outputs": [
        {
          "output_type": "stream",
          "name": "stdout",
          "text": [
            "Epoch 1/20\n",
            "\u001b[1m625/625\u001b[0m \u001b[32m━━━━━━━━━━━━━━━━━━━━\u001b[0m\u001b[37m\u001b[0m \u001b[1m2s\u001b[0m 1ms/step - accuracy: 0.4978 - loss: 0.7758\n",
            "Epoch 2/20\n",
            "\u001b[1m625/625\u001b[0m \u001b[32m━━━━━━━━━━━━━━━━━━━━\u001b[0m\u001b[37m\u001b[0m \u001b[1m1s\u001b[0m 1ms/step - accuracy: 0.5397 - loss: 0.6922\n",
            "Epoch 3/20\n",
            "\u001b[1m625/625\u001b[0m \u001b[32m━━━━━━━━━━━━━━━━━━━━\u001b[0m\u001b[37m\u001b[0m \u001b[1m1s\u001b[0m 1ms/step - accuracy: 0.5663 - loss: 0.6798\n",
            "Epoch 4/20\n",
            "\u001b[1m625/625\u001b[0m \u001b[32m━━━━━━━━━━━━━━━━━━━━\u001b[0m\u001b[37m\u001b[0m \u001b[1m1s\u001b[0m 1ms/step - accuracy: 0.5918 - loss: 0.6679\n",
            "Epoch 5/20\n",
            "\u001b[1m625/625\u001b[0m \u001b[32m━━━━━━━━━━━━━━━━━━━━\u001b[0m\u001b[37m\u001b[0m \u001b[1m1s\u001b[0m 1ms/step - accuracy: 0.6126 - loss: 0.6588\n",
            "Epoch 6/20\n",
            "\u001b[1m625/625\u001b[0m \u001b[32m━━━━━━━━━━━━━━━━━━━━\u001b[0m\u001b[37m\u001b[0m \u001b[1m1s\u001b[0m 1ms/step - accuracy: 0.6245 - loss: 0.6464\n",
            "Epoch 7/20\n",
            "\u001b[1m625/625\u001b[0m \u001b[32m━━━━━━━━━━━━━━━━━━━━\u001b[0m\u001b[37m\u001b[0m \u001b[1m1s\u001b[0m 1ms/step - accuracy: 0.6437 - loss: 0.6361\n",
            "Epoch 8/20\n",
            "\u001b[1m625/625\u001b[0m \u001b[32m━━━━━━━━━━━━━━━━━━━━\u001b[0m\u001b[37m\u001b[0m \u001b[1m2s\u001b[0m 3ms/step - accuracy: 0.6493 - loss: 0.6267\n",
            "Epoch 9/20\n",
            "\u001b[1m625/625\u001b[0m \u001b[32m━━━━━━━━━━━━━━━━━━━━\u001b[0m\u001b[37m\u001b[0m \u001b[1m3s\u001b[0m 3ms/step - accuracy: 0.6655 - loss: 0.6195\n",
            "Epoch 10/20\n",
            "\u001b[1m625/625\u001b[0m \u001b[32m━━━━━━━━━━━━━━━━━━━━\u001b[0m\u001b[37m\u001b[0m \u001b[1m2s\u001b[0m 4ms/step - accuracy: 0.6711 - loss: 0.6095\n",
            "Epoch 11/20\n",
            "\u001b[1m625/625\u001b[0m \u001b[32m━━━━━━━━━━━━━━━━━━━━\u001b[0m\u001b[37m\u001b[0m \u001b[1m2s\u001b[0m 2ms/step - accuracy: 0.6783 - loss: 0.6024\n",
            "Epoch 12/20\n",
            "\u001b[1m625/625\u001b[0m \u001b[32m━━━━━━━━━━━━━━━━━━━━\u001b[0m\u001b[37m\u001b[0m \u001b[1m2s\u001b[0m 1ms/step - accuracy: 0.6802 - loss: 0.5969\n",
            "Epoch 13/20\n",
            "\u001b[1m625/625\u001b[0m \u001b[32m━━━━━━━━━━━━━━━━━━━━\u001b[0m\u001b[37m\u001b[0m \u001b[1m1s\u001b[0m 1ms/step - accuracy: 0.6843 - loss: 0.5932\n",
            "Epoch 14/20\n",
            "\u001b[1m625/625\u001b[0m \u001b[32m━━━━━━━━━━━━━━━━━━━━\u001b[0m\u001b[37m\u001b[0m \u001b[1m1s\u001b[0m 1ms/step - accuracy: 0.6862 - loss: 0.5864\n",
            "Epoch 15/20\n",
            "\u001b[1m625/625\u001b[0m \u001b[32m━━━━━━━━━━━━━━━━━━━━\u001b[0m\u001b[37m\u001b[0m \u001b[1m2s\u001b[0m 2ms/step - accuracy: 0.6979 - loss: 0.5780\n",
            "Epoch 16/20\n",
            "\u001b[1m625/625\u001b[0m \u001b[32m━━━━━━━━━━━━━━━━━━━━\u001b[0m\u001b[37m\u001b[0m \u001b[1m1s\u001b[0m 2ms/step - accuracy: 0.7006 - loss: 0.5728\n",
            "Epoch 17/20\n",
            "\u001b[1m625/625\u001b[0m \u001b[32m━━━━━━━━━━━━━━━━━━━━\u001b[0m\u001b[37m\u001b[0m \u001b[1m2s\u001b[0m 1ms/step - accuracy: 0.6990 - loss: 0.5734\n",
            "Epoch 18/20\n",
            "\u001b[1m625/625\u001b[0m \u001b[32m━━━━━━━━━━━━━━━━━━━━\u001b[0m\u001b[37m\u001b[0m \u001b[1m1s\u001b[0m 1ms/step - accuracy: 0.7084 - loss: 0.5656\n",
            "Epoch 19/20\n",
            "\u001b[1m625/625\u001b[0m \u001b[32m━━━━━━━━━━━━━━━━━━━━\u001b[0m\u001b[37m\u001b[0m \u001b[1m1s\u001b[0m 1ms/step - accuracy: 0.7148 - loss: 0.5580\n",
            "Epoch 20/20\n",
            "\u001b[1m625/625\u001b[0m \u001b[32m━━━━━━━━━━━━━━━━━━━━\u001b[0m\u001b[37m\u001b[0m \u001b[1m1s\u001b[0m 1ms/step - accuracy: 0.7153 - loss: 0.5589\n"
          ]
        },
        {
          "output_type": "execute_result",
          "data": {
            "text/plain": [
              "<keras.src.callbacks.history.History at 0x79754ca6bbb0>"
            ]
          },
          "metadata": {},
          "execution_count": 22
        }
      ]
    },
    {
      "cell_type": "markdown",
      "source": [
        "Informacje, które wyświetlane są podczas treningu:\n",
        "* aktualna epoka,\n",
        "* postęp w przetwarzaniu wsadu (batcha; jest to liczba odzwierciedlająca, ile razy pojedynczy wsad mieści się w całym zbiorze treningowym),\n",
        "* czas trwania epoki i przetwarzania pojedynczego batcha,\n",
        "* dokładność,\n",
        "* wartość funkcji straty."
      ],
      "metadata": {
        "id": "UGZCIxuYK-Lo"
      }
    },
    {
      "cell_type": "markdown",
      "source": [
        "Zaktualizujmy batch_size - niech będzie to 50 próbek, po których następuje aktualizacja wag. Model uczy się teraz szybciej, epoki są krótsze. Architektura modelu jest jednak identyczna."
      ],
      "metadata": {
        "id": "GdnzvlrWMBA_"
      }
    },
    {
      "cell_type": "code",
      "source": [
        "model = Sequential()\n",
        "model.add(Input(shape=(150,)))\n",
        "model.add(Dense(units=32, activation='relu'))\n",
        "model.add(Dense(1, activation='sigmoid'))\n",
        "\n",
        "model.compile(optimizer='rmsprop',\n",
        "              loss='binary_crossentropy',\n",
        "              metrics=['accuracy'])\n",
        "\n",
        "model.fit(data, labels, epochs=20, batch_size=50)"
      ],
      "metadata": {
        "colab": {
          "base_uri": "https://localhost:8080/"
        },
        "id": "R4HQtSRrLOr3",
        "outputId": "fcc1d64c-2ef8-4d5a-fc9e-3057abd20a18"
      },
      "execution_count": 23,
      "outputs": [
        {
          "output_type": "stream",
          "name": "stdout",
          "text": [
            "Epoch 1/20\n",
            "\u001b[1m400/400\u001b[0m \u001b[32m━━━━━━━━━━━━━━━━━━━━\u001b[0m\u001b[37m\u001b[0m \u001b[1m1s\u001b[0m 1ms/step - accuracy: 0.4999 - loss: 0.7625\n",
            "Epoch 2/20\n",
            "\u001b[1m400/400\u001b[0m \u001b[32m━━━━━━━━━━━━━━━━━━━━\u001b[0m\u001b[37m\u001b[0m \u001b[1m1s\u001b[0m 1ms/step - accuracy: 0.5340 - loss: 0.6960\n",
            "Epoch 3/20\n",
            "\u001b[1m400/400\u001b[0m \u001b[32m━━━━━━━━━━━━━━━━━━━━\u001b[0m\u001b[37m\u001b[0m \u001b[1m1s\u001b[0m 1ms/step - accuracy: 0.5569 - loss: 0.6815\n",
            "Epoch 4/20\n",
            "\u001b[1m400/400\u001b[0m \u001b[32m━━━━━━━━━━━━━━━━━━━━\u001b[0m\u001b[37m\u001b[0m \u001b[1m1s\u001b[0m 1ms/step - accuracy: 0.5803 - loss: 0.6742\n",
            "Epoch 5/20\n",
            "\u001b[1m400/400\u001b[0m \u001b[32m━━━━━━━━━━━━━━━━━━━━\u001b[0m\u001b[37m\u001b[0m \u001b[1m1s\u001b[0m 1ms/step - accuracy: 0.5971 - loss: 0.6633\n",
            "Epoch 6/20\n",
            "\u001b[1m400/400\u001b[0m \u001b[32m━━━━━━━━━━━━━━━━━━━━\u001b[0m\u001b[37m\u001b[0m \u001b[1m1s\u001b[0m 1ms/step - accuracy: 0.6147 - loss: 0.6562\n",
            "Epoch 7/20\n",
            "\u001b[1m400/400\u001b[0m \u001b[32m━━━━━━━━━━━━━━━━━━━━\u001b[0m\u001b[37m\u001b[0m \u001b[1m1s\u001b[0m 2ms/step - accuracy: 0.6243 - loss: 0.6471\n",
            "Epoch 8/20\n",
            "\u001b[1m400/400\u001b[0m \u001b[32m━━━━━━━━━━━━━━━━━━━━\u001b[0m\u001b[37m\u001b[0m \u001b[1m1s\u001b[0m 2ms/step - accuracy: 0.6474 - loss: 0.6362\n",
            "Epoch 9/20\n",
            "\u001b[1m400/400\u001b[0m \u001b[32m━━━━━━━━━━━━━━━━━━━━\u001b[0m\u001b[37m\u001b[0m \u001b[1m1s\u001b[0m 2ms/step - accuracy: 0.6495 - loss: 0.6281\n",
            "Epoch 10/20\n",
            "\u001b[1m400/400\u001b[0m \u001b[32m━━━━━━━━━━━━━━━━━━━━\u001b[0m\u001b[37m\u001b[0m \u001b[1m1s\u001b[0m 2ms/step - accuracy: 0.6580 - loss: 0.6196\n",
            "Epoch 11/20\n",
            "\u001b[1m400/400\u001b[0m \u001b[32m━━━━━━━━━━━━━━━━━━━━\u001b[0m\u001b[37m\u001b[0m \u001b[1m1s\u001b[0m 1ms/step - accuracy: 0.6653 - loss: 0.6131\n",
            "Epoch 12/20\n",
            "\u001b[1m400/400\u001b[0m \u001b[32m━━━━━━━━━━━━━━━━━━━━\u001b[0m\u001b[37m\u001b[0m \u001b[1m1s\u001b[0m 1ms/step - accuracy: 0.6703 - loss: 0.6086\n",
            "Epoch 13/20\n",
            "\u001b[1m400/400\u001b[0m \u001b[32m━━━━━━━━━━━━━━━━━━━━\u001b[0m\u001b[37m\u001b[0m \u001b[1m1s\u001b[0m 1ms/step - accuracy: 0.6754 - loss: 0.6003\n",
            "Epoch 14/20\n",
            "\u001b[1m400/400\u001b[0m \u001b[32m━━━━━━━━━━━━━━━━━━━━\u001b[0m\u001b[37m\u001b[0m \u001b[1m1s\u001b[0m 1ms/step - accuracy: 0.6822 - loss: 0.5950\n",
            "Epoch 15/20\n",
            "\u001b[1m400/400\u001b[0m \u001b[32m━━━━━━━━━━━━━━━━━━━━\u001b[0m\u001b[37m\u001b[0m \u001b[1m1s\u001b[0m 1ms/step - accuracy: 0.6866 - loss: 0.5910\n",
            "Epoch 16/20\n",
            "\u001b[1m400/400\u001b[0m \u001b[32m━━━━━━━━━━━━━━━━━━━━\u001b[0m\u001b[37m\u001b[0m \u001b[1m1s\u001b[0m 1ms/step - accuracy: 0.6966 - loss: 0.5830\n",
            "Epoch 17/20\n",
            "\u001b[1m400/400\u001b[0m \u001b[32m━━━━━━━━━━━━━━━━━━━━\u001b[0m\u001b[37m\u001b[0m \u001b[1m1s\u001b[0m 1ms/step - accuracy: 0.6984 - loss: 0.5784\n",
            "Epoch 18/20\n",
            "\u001b[1m400/400\u001b[0m \u001b[32m━━━━━━━━━━━━━━━━━━━━\u001b[0m\u001b[37m\u001b[0m \u001b[1m1s\u001b[0m 1ms/step - accuracy: 0.6957 - loss: 0.5774\n",
            "Epoch 19/20\n",
            "\u001b[1m400/400\u001b[0m \u001b[32m━━━━━━━━━━━━━━━━━━━━\u001b[0m\u001b[37m\u001b[0m \u001b[1m1s\u001b[0m 1ms/step - accuracy: 0.7039 - loss: 0.5705\n",
            "Epoch 20/20\n",
            "\u001b[1m400/400\u001b[0m \u001b[32m━━━━━━━━━━━━━━━━━━━━\u001b[0m\u001b[37m\u001b[0m \u001b[1m1s\u001b[0m 1ms/step - accuracy: 0.7042 - loss: 0.5673\n"
          ]
        },
        {
          "output_type": "execute_result",
          "data": {
            "text/plain": [
              "<keras.src.callbacks.history.History at 0x79753d7a4a00>"
            ]
          },
          "metadata": {},
          "execution_count": 23
        }
      ]
    },
    {
      "cell_type": "markdown",
      "source": [
        "Teraz dodajemy parametr validation_split, aby dodatkowo walidować nasz model na zbiorze wydzielonym ze zbioru treningowego."
      ],
      "metadata": {
        "id": "B6lMRKqSMgsX"
      }
    },
    {
      "cell_type": "code",
      "source": [
        "model = Sequential()\n",
        "model.add(Input(shape=(150,)))\n",
        "model.add(Dense(units=32, activation='relu'))\n",
        "model.add(Dense(1, activation='sigmoid'))\n",
        "\n",
        "model.compile(optimizer='rmsprop',\n",
        "              loss='binary_crossentropy',\n",
        "              metrics=['accuracy'])\n",
        "\n",
        "model.fit(data, labels, epochs=20, batch_size=32, validation_split=0.2)"
      ],
      "metadata": {
        "colab": {
          "base_uri": "https://localhost:8080/"
        },
        "id": "6ecplK0AL8Hn",
        "outputId": "73e0d3f0-4df8-4a28-a1d8-6fa5f148818a"
      },
      "execution_count": 24,
      "outputs": [
        {
          "output_type": "stream",
          "name": "stdout",
          "text": [
            "Epoch 1/20\n",
            "\u001b[1m500/500\u001b[0m \u001b[32m━━━━━━━━━━━━━━━━━━━━\u001b[0m\u001b[37m\u001b[0m \u001b[1m2s\u001b[0m 2ms/step - accuracy: 0.5011 - loss: 0.7562 - val_accuracy: 0.4988 - val_loss: 0.7166\n",
            "Epoch 2/20\n",
            "\u001b[1m500/500\u001b[0m \u001b[32m━━━━━━━━━━━━━━━━━━━━\u001b[0m\u001b[37m\u001b[0m \u001b[1m1s\u001b[0m 2ms/step - accuracy: 0.5399 - loss: 0.6909 - val_accuracy: 0.4920 - val_loss: 0.7110\n",
            "Epoch 3/20\n",
            "\u001b[1m500/500\u001b[0m \u001b[32m━━━━━━━━━━━━━━━━━━━━\u001b[0m\u001b[37m\u001b[0m \u001b[1m1s\u001b[0m 1ms/step - accuracy: 0.5718 - loss: 0.6759 - val_accuracy: 0.4952 - val_loss: 0.7115\n",
            "Epoch 4/20\n",
            "\u001b[1m500/500\u001b[0m \u001b[32m━━━━━━━━━━━━━━━━━━━━\u001b[0m\u001b[37m\u001b[0m \u001b[1m2s\u001b[0m 3ms/step - accuracy: 0.6023 - loss: 0.6663 - val_accuracy: 0.4978 - val_loss: 0.7162\n",
            "Epoch 5/20\n",
            "\u001b[1m500/500\u001b[0m \u001b[32m━━━━━━━━━━━━━━━━━━━━\u001b[0m\u001b[37m\u001b[0m \u001b[1m2s\u001b[0m 2ms/step - accuracy: 0.6201 - loss: 0.6516 - val_accuracy: 0.4900 - val_loss: 0.7201\n",
            "Epoch 6/20\n",
            "\u001b[1m500/500\u001b[0m \u001b[32m━━━━━━━━━━━━━━━━━━━━\u001b[0m\u001b[37m\u001b[0m \u001b[1m1s\u001b[0m 2ms/step - accuracy: 0.6343 - loss: 0.6425 - val_accuracy: 0.4992 - val_loss: 0.7274\n",
            "Epoch 7/20\n",
            "\u001b[1m500/500\u001b[0m \u001b[32m━━━━━━━━━━━━━━━━━━━━\u001b[0m\u001b[37m\u001b[0m \u001b[1m1s\u001b[0m 2ms/step - accuracy: 0.6539 - loss: 0.6296 - val_accuracy: 0.4980 - val_loss: 0.7376\n",
            "Epoch 8/20\n",
            "\u001b[1m500/500\u001b[0m \u001b[32m━━━━━━━━━━━━━━━━━━━━\u001b[0m\u001b[37m\u001b[0m \u001b[1m1s\u001b[0m 1ms/step - accuracy: 0.6677 - loss: 0.6166 - val_accuracy: 0.4935 - val_loss: 0.7485\n",
            "Epoch 9/20\n",
            "\u001b[1m500/500\u001b[0m \u001b[32m━━━━━━━━━━━━━━━━━━━━\u001b[0m\u001b[37m\u001b[0m \u001b[1m1s\u001b[0m 2ms/step - accuracy: 0.6791 - loss: 0.6051 - val_accuracy: 0.5008 - val_loss: 0.7574\n",
            "Epoch 10/20\n",
            "\u001b[1m500/500\u001b[0m \u001b[32m━━━━━━━━━━━━━━━━━━━━\u001b[0m\u001b[37m\u001b[0m \u001b[1m1s\u001b[0m 2ms/step - accuracy: 0.6888 - loss: 0.5948 - val_accuracy: 0.4935 - val_loss: 0.7724\n",
            "Epoch 11/20\n",
            "\u001b[1m500/500\u001b[0m \u001b[32m━━━━━━━━━━━━━━━━━━━━\u001b[0m\u001b[37m\u001b[0m \u001b[1m1s\u001b[0m 2ms/step - accuracy: 0.6946 - loss: 0.5826 - val_accuracy: 0.4945 - val_loss: 0.7826\n",
            "Epoch 12/20\n",
            "\u001b[1m500/500\u001b[0m \u001b[32m━━━━━━━━━━━━━━━━━━━━\u001b[0m\u001b[37m\u001b[0m \u001b[1m1s\u001b[0m 2ms/step - accuracy: 0.7012 - loss: 0.5741 - val_accuracy: 0.5042 - val_loss: 0.7987\n",
            "Epoch 13/20\n",
            "\u001b[1m500/500\u001b[0m \u001b[32m━━━━━━━━━━━━━━━━━━━━\u001b[0m\u001b[37m\u001b[0m \u001b[1m2s\u001b[0m 3ms/step - accuracy: 0.7063 - loss: 0.5662 - val_accuracy: 0.5013 - val_loss: 0.8079\n",
            "Epoch 14/20\n",
            "\u001b[1m500/500\u001b[0m \u001b[32m━━━━━━━━━━━━━━━━━━━━\u001b[0m\u001b[37m\u001b[0m \u001b[1m2s\u001b[0m 1ms/step - accuracy: 0.7116 - loss: 0.5647 - val_accuracy: 0.5130 - val_loss: 0.8154\n",
            "Epoch 15/20\n",
            "\u001b[1m500/500\u001b[0m \u001b[32m━━━━━━━━━━━━━━━━━━━━\u001b[0m\u001b[37m\u001b[0m \u001b[1m1s\u001b[0m 2ms/step - accuracy: 0.7180 - loss: 0.5556 - val_accuracy: 0.4950 - val_loss: 0.8294\n",
            "Epoch 16/20\n",
            "\u001b[1m500/500\u001b[0m \u001b[32m━━━━━━━━━━━━━━━━━━━━\u001b[0m\u001b[37m\u001b[0m \u001b[1m1s\u001b[0m 2ms/step - accuracy: 0.7174 - loss: 0.5471 - val_accuracy: 0.4997 - val_loss: 0.8449\n",
            "Epoch 17/20\n",
            "\u001b[1m500/500\u001b[0m \u001b[32m━━━━━━━━━━━━━━━━━━━━\u001b[0m\u001b[37m\u001b[0m \u001b[1m1s\u001b[0m 2ms/step - accuracy: 0.7244 - loss: 0.5477 - val_accuracy: 0.4995 - val_loss: 0.8513\n",
            "Epoch 18/20\n",
            "\u001b[1m500/500\u001b[0m \u001b[32m━━━━━━━━━━━━━━━━━━━━\u001b[0m\u001b[37m\u001b[0m \u001b[1m1s\u001b[0m 2ms/step - accuracy: 0.7341 - loss: 0.5395 - val_accuracy: 0.4985 - val_loss: 0.8670\n",
            "Epoch 19/20\n",
            "\u001b[1m500/500\u001b[0m \u001b[32m━━━━━━━━━━━━━━━━━━━━\u001b[0m\u001b[37m\u001b[0m \u001b[1m1s\u001b[0m 2ms/step - accuracy: 0.7333 - loss: 0.5343 - val_accuracy: 0.5090 - val_loss: 0.8776\n",
            "Epoch 20/20\n",
            "\u001b[1m500/500\u001b[0m \u001b[32m━━━━━━━━━━━━━━━━━━━━\u001b[0m\u001b[37m\u001b[0m \u001b[1m1s\u001b[0m 2ms/step - accuracy: 0.7377 - loss: 0.5266 - val_accuracy: 0.4940 - val_loss: 0.8943\n"
          ]
        },
        {
          "output_type": "execute_result",
          "data": {
            "text/plain": [
              "<keras.src.callbacks.history.History at 0x79754c881930>"
            ]
          },
          "metadata": {},
          "execution_count": 24
        }
      ]
    },
    {
      "cell_type": "markdown",
      "source": [
        "Do informacji, które wyświetlały się wcześniej podczas uczenia, doszła dokładność i wartość funkcji straty na zbiorze walidacyjnym, i to te informacje powinny być dla nas kluczowe."
      ],
      "metadata": {
        "id": "--AViD88Mwvc"
      }
    },
    {
      "cell_type": "markdown",
      "source": [
        "Aby model trenował się bez informacji o postępie, przekazujemy 0 jako wartość parametru verbose. Te informacje zapiszemy sobie w zmiennej **history**, co pozwoli na jego łatwiejszą wizualizację."
      ],
      "metadata": {
        "id": "rpigPWrLNQWc"
      }
    },
    {
      "cell_type": "code",
      "source": [
        "model = Sequential()\n",
        "model.add(Input(shape=(150,)))\n",
        "model.add(Dense(units=32, activation='relu'))\n",
        "model.add(Dense(1, activation='sigmoid'))\n",
        "\n",
        "model.compile(optimizer='rmsprop',\n",
        "              loss='binary_crossentropy',\n",
        "              metrics=['accuracy'])\n",
        "\n",
        "history = model.fit(data, labels, epochs=20, batch_size=32, validation_split=0.2, verbose=0)"
      ],
      "metadata": {
        "id": "YJE01P95M_bk"
      },
      "execution_count": 25,
      "outputs": []
    },
    {
      "cell_type": "markdown",
      "source": [
        "Możemy np. utworzyć na podstawie atrybutu history obiekt typu dataframe celem wglądu w przebieg treningu z epoki na epokę."
      ],
      "metadata": {
        "id": "yi0xw2snNtTB"
      }
    },
    {
      "cell_type": "code",
      "source": [
        "metrics = pd.DataFrame(history.history)\n",
        "metrics"
      ],
      "metadata": {
        "colab": {
          "base_uri": "https://localhost:8080/",
          "height": 677
        },
        "id": "uz0W3mIXNPZw",
        "outputId": "ad466212-7075-442d-fd6a-15cd0848e176"
      },
      "execution_count": 26,
      "outputs": [
        {
          "output_type": "execute_result",
          "data": {
            "text/plain": [
              "    accuracy      loss  val_accuracy  val_loss\n",
              "0   0.498688  0.757174       0.51050  0.718150\n",
              "1   0.540688  0.697499       0.50900  0.713955\n",
              "2   0.568812  0.678346       0.50025  0.714408\n",
              "3   0.591875  0.666957       0.50900  0.716395\n",
              "4   0.615188  0.655496       0.50075  0.721304\n",
              "5   0.631063  0.645000       0.50650  0.726199\n",
              "6   0.645187  0.633439       0.51075  0.736652\n",
              "7   0.653063  0.622790       0.51000  0.745277\n",
              "8   0.667063  0.613283       0.50425  0.755323\n",
              "9   0.673625  0.602675       0.50775  0.766934\n",
              "10  0.687750  0.595237       0.50925  0.781265\n",
              "11  0.689500  0.586634       0.50775  0.784587\n",
              "12  0.694938  0.579864       0.49775  0.801215\n",
              "13  0.700813  0.572609       0.51000  0.813323\n",
              "14  0.708188  0.566776       0.51050  0.824411\n",
              "15  0.708000  0.562279       0.50400  0.830580\n",
              "16  0.716563  0.556388       0.49975  0.845476\n",
              "17  0.718250  0.551067       0.50175  0.862039\n",
              "18  0.726562  0.546696       0.50700  0.858866\n",
              "19  0.725438  0.542457       0.51025  0.874157"
            ],
            "text/html": [
              "\n",
              "  <div id=\"df-ad2625f2-6c30-42db-8dd0-a3c5f49909cb\" class=\"colab-df-container\">\n",
              "    <div>\n",
              "<style scoped>\n",
              "    .dataframe tbody tr th:only-of-type {\n",
              "        vertical-align: middle;\n",
              "    }\n",
              "\n",
              "    .dataframe tbody tr th {\n",
              "        vertical-align: top;\n",
              "    }\n",
              "\n",
              "    .dataframe thead th {\n",
              "        text-align: right;\n",
              "    }\n",
              "</style>\n",
              "<table border=\"1\" class=\"dataframe\">\n",
              "  <thead>\n",
              "    <tr style=\"text-align: right;\">\n",
              "      <th></th>\n",
              "      <th>accuracy</th>\n",
              "      <th>loss</th>\n",
              "      <th>val_accuracy</th>\n",
              "      <th>val_loss</th>\n",
              "    </tr>\n",
              "  </thead>\n",
              "  <tbody>\n",
              "    <tr>\n",
              "      <th>0</th>\n",
              "      <td>0.498688</td>\n",
              "      <td>0.757174</td>\n",
              "      <td>0.51050</td>\n",
              "      <td>0.718150</td>\n",
              "    </tr>\n",
              "    <tr>\n",
              "      <th>1</th>\n",
              "      <td>0.540688</td>\n",
              "      <td>0.697499</td>\n",
              "      <td>0.50900</td>\n",
              "      <td>0.713955</td>\n",
              "    </tr>\n",
              "    <tr>\n",
              "      <th>2</th>\n",
              "      <td>0.568812</td>\n",
              "      <td>0.678346</td>\n",
              "      <td>0.50025</td>\n",
              "      <td>0.714408</td>\n",
              "    </tr>\n",
              "    <tr>\n",
              "      <th>3</th>\n",
              "      <td>0.591875</td>\n",
              "      <td>0.666957</td>\n",
              "      <td>0.50900</td>\n",
              "      <td>0.716395</td>\n",
              "    </tr>\n",
              "    <tr>\n",
              "      <th>4</th>\n",
              "      <td>0.615188</td>\n",
              "      <td>0.655496</td>\n",
              "      <td>0.50075</td>\n",
              "      <td>0.721304</td>\n",
              "    </tr>\n",
              "    <tr>\n",
              "      <th>5</th>\n",
              "      <td>0.631063</td>\n",
              "      <td>0.645000</td>\n",
              "      <td>0.50650</td>\n",
              "      <td>0.726199</td>\n",
              "    </tr>\n",
              "    <tr>\n",
              "      <th>6</th>\n",
              "      <td>0.645187</td>\n",
              "      <td>0.633439</td>\n",
              "      <td>0.51075</td>\n",
              "      <td>0.736652</td>\n",
              "    </tr>\n",
              "    <tr>\n",
              "      <th>7</th>\n",
              "      <td>0.653063</td>\n",
              "      <td>0.622790</td>\n",
              "      <td>0.51000</td>\n",
              "      <td>0.745277</td>\n",
              "    </tr>\n",
              "    <tr>\n",
              "      <th>8</th>\n",
              "      <td>0.667063</td>\n",
              "      <td>0.613283</td>\n",
              "      <td>0.50425</td>\n",
              "      <td>0.755323</td>\n",
              "    </tr>\n",
              "    <tr>\n",
              "      <th>9</th>\n",
              "      <td>0.673625</td>\n",
              "      <td>0.602675</td>\n",
              "      <td>0.50775</td>\n",
              "      <td>0.766934</td>\n",
              "    </tr>\n",
              "    <tr>\n",
              "      <th>10</th>\n",
              "      <td>0.687750</td>\n",
              "      <td>0.595237</td>\n",
              "      <td>0.50925</td>\n",
              "      <td>0.781265</td>\n",
              "    </tr>\n",
              "    <tr>\n",
              "      <th>11</th>\n",
              "      <td>0.689500</td>\n",
              "      <td>0.586634</td>\n",
              "      <td>0.50775</td>\n",
              "      <td>0.784587</td>\n",
              "    </tr>\n",
              "    <tr>\n",
              "      <th>12</th>\n",
              "      <td>0.694938</td>\n",
              "      <td>0.579864</td>\n",
              "      <td>0.49775</td>\n",
              "      <td>0.801215</td>\n",
              "    </tr>\n",
              "    <tr>\n",
              "      <th>13</th>\n",
              "      <td>0.700813</td>\n",
              "      <td>0.572609</td>\n",
              "      <td>0.51000</td>\n",
              "      <td>0.813323</td>\n",
              "    </tr>\n",
              "    <tr>\n",
              "      <th>14</th>\n",
              "      <td>0.708188</td>\n",
              "      <td>0.566776</td>\n",
              "      <td>0.51050</td>\n",
              "      <td>0.824411</td>\n",
              "    </tr>\n",
              "    <tr>\n",
              "      <th>15</th>\n",
              "      <td>0.708000</td>\n",
              "      <td>0.562279</td>\n",
              "      <td>0.50400</td>\n",
              "      <td>0.830580</td>\n",
              "    </tr>\n",
              "    <tr>\n",
              "      <th>16</th>\n",
              "      <td>0.716563</td>\n",
              "      <td>0.556388</td>\n",
              "      <td>0.49975</td>\n",
              "      <td>0.845476</td>\n",
              "    </tr>\n",
              "    <tr>\n",
              "      <th>17</th>\n",
              "      <td>0.718250</td>\n",
              "      <td>0.551067</td>\n",
              "      <td>0.50175</td>\n",
              "      <td>0.862039</td>\n",
              "    </tr>\n",
              "    <tr>\n",
              "      <th>18</th>\n",
              "      <td>0.726562</td>\n",
              "      <td>0.546696</td>\n",
              "      <td>0.50700</td>\n",
              "      <td>0.858866</td>\n",
              "    </tr>\n",
              "    <tr>\n",
              "      <th>19</th>\n",
              "      <td>0.725438</td>\n",
              "      <td>0.542457</td>\n",
              "      <td>0.51025</td>\n",
              "      <td>0.874157</td>\n",
              "    </tr>\n",
              "  </tbody>\n",
              "</table>\n",
              "</div>\n",
              "    <div class=\"colab-df-buttons\">\n",
              "\n",
              "  <div class=\"colab-df-container\">\n",
              "    <button class=\"colab-df-convert\" onclick=\"convertToInteractive('df-ad2625f2-6c30-42db-8dd0-a3c5f49909cb')\"\n",
              "            title=\"Convert this dataframe to an interactive table.\"\n",
              "            style=\"display:none;\">\n",
              "\n",
              "  <svg xmlns=\"http://www.w3.org/2000/svg\" height=\"24px\" viewBox=\"0 -960 960 960\">\n",
              "    <path d=\"M120-120v-720h720v720H120Zm60-500h600v-160H180v160Zm220 220h160v-160H400v160Zm0 220h160v-160H400v160ZM180-400h160v-160H180v160Zm440 0h160v-160H620v160ZM180-180h160v-160H180v160Zm440 0h160v-160H620v160Z\"/>\n",
              "  </svg>\n",
              "    </button>\n",
              "\n",
              "  <style>\n",
              "    .colab-df-container {\n",
              "      display:flex;\n",
              "      gap: 12px;\n",
              "    }\n",
              "\n",
              "    .colab-df-convert {\n",
              "      background-color: #E8F0FE;\n",
              "      border: none;\n",
              "      border-radius: 50%;\n",
              "      cursor: pointer;\n",
              "      display: none;\n",
              "      fill: #1967D2;\n",
              "      height: 32px;\n",
              "      padding: 0 0 0 0;\n",
              "      width: 32px;\n",
              "    }\n",
              "\n",
              "    .colab-df-convert:hover {\n",
              "      background-color: #E2EBFA;\n",
              "      box-shadow: 0px 1px 2px rgba(60, 64, 67, 0.3), 0px 1px 3px 1px rgba(60, 64, 67, 0.15);\n",
              "      fill: #174EA6;\n",
              "    }\n",
              "\n",
              "    .colab-df-buttons div {\n",
              "      margin-bottom: 4px;\n",
              "    }\n",
              "\n",
              "    [theme=dark] .colab-df-convert {\n",
              "      background-color: #3B4455;\n",
              "      fill: #D2E3FC;\n",
              "    }\n",
              "\n",
              "    [theme=dark] .colab-df-convert:hover {\n",
              "      background-color: #434B5C;\n",
              "      box-shadow: 0px 1px 3px 1px rgba(0, 0, 0, 0.15);\n",
              "      filter: drop-shadow(0px 1px 2px rgba(0, 0, 0, 0.3));\n",
              "      fill: #FFFFFF;\n",
              "    }\n",
              "  </style>\n",
              "\n",
              "    <script>\n",
              "      const buttonEl =\n",
              "        document.querySelector('#df-ad2625f2-6c30-42db-8dd0-a3c5f49909cb button.colab-df-convert');\n",
              "      buttonEl.style.display =\n",
              "        google.colab.kernel.accessAllowed ? 'block' : 'none';\n",
              "\n",
              "      async function convertToInteractive(key) {\n",
              "        const element = document.querySelector('#df-ad2625f2-6c30-42db-8dd0-a3c5f49909cb');\n",
              "        const dataTable =\n",
              "          await google.colab.kernel.invokeFunction('convertToInteractive',\n",
              "                                                    [key], {});\n",
              "        if (!dataTable) return;\n",
              "\n",
              "        const docLinkHtml = 'Like what you see? Visit the ' +\n",
              "          '<a target=\"_blank\" href=https://colab.research.google.com/notebooks/data_table.ipynb>data table notebook</a>'\n",
              "          + ' to learn more about interactive tables.';\n",
              "        element.innerHTML = '';\n",
              "        dataTable['output_type'] = 'display_data';\n",
              "        await google.colab.output.renderOutput(dataTable, element);\n",
              "        const docLink = document.createElement('div');\n",
              "        docLink.innerHTML = docLinkHtml;\n",
              "        element.appendChild(docLink);\n",
              "      }\n",
              "    </script>\n",
              "  </div>\n",
              "\n",
              "\n",
              "<div id=\"df-254fe586-4eff-403e-9aed-f8edb205382b\">\n",
              "  <button class=\"colab-df-quickchart\" onclick=\"quickchart('df-254fe586-4eff-403e-9aed-f8edb205382b')\"\n",
              "            title=\"Suggest charts\"\n",
              "            style=\"display:none;\">\n",
              "\n",
              "<svg xmlns=\"http://www.w3.org/2000/svg\" height=\"24px\"viewBox=\"0 0 24 24\"\n",
              "     width=\"24px\">\n",
              "    <g>\n",
              "        <path d=\"M19 3H5c-1.1 0-2 .9-2 2v14c0 1.1.9 2 2 2h14c1.1 0 2-.9 2-2V5c0-1.1-.9-2-2-2zM9 17H7v-7h2v7zm4 0h-2V7h2v10zm4 0h-2v-4h2v4z\"/>\n",
              "    </g>\n",
              "</svg>\n",
              "  </button>\n",
              "\n",
              "<style>\n",
              "  .colab-df-quickchart {\n",
              "      --bg-color: #E8F0FE;\n",
              "      --fill-color: #1967D2;\n",
              "      --hover-bg-color: #E2EBFA;\n",
              "      --hover-fill-color: #174EA6;\n",
              "      --disabled-fill-color: #AAA;\n",
              "      --disabled-bg-color: #DDD;\n",
              "  }\n",
              "\n",
              "  [theme=dark] .colab-df-quickchart {\n",
              "      --bg-color: #3B4455;\n",
              "      --fill-color: #D2E3FC;\n",
              "      --hover-bg-color: #434B5C;\n",
              "      --hover-fill-color: #FFFFFF;\n",
              "      --disabled-bg-color: #3B4455;\n",
              "      --disabled-fill-color: #666;\n",
              "  }\n",
              "\n",
              "  .colab-df-quickchart {\n",
              "    background-color: var(--bg-color);\n",
              "    border: none;\n",
              "    border-radius: 50%;\n",
              "    cursor: pointer;\n",
              "    display: none;\n",
              "    fill: var(--fill-color);\n",
              "    height: 32px;\n",
              "    padding: 0;\n",
              "    width: 32px;\n",
              "  }\n",
              "\n",
              "  .colab-df-quickchart:hover {\n",
              "    background-color: var(--hover-bg-color);\n",
              "    box-shadow: 0 1px 2px rgba(60, 64, 67, 0.3), 0 1px 3px 1px rgba(60, 64, 67, 0.15);\n",
              "    fill: var(--button-hover-fill-color);\n",
              "  }\n",
              "\n",
              "  .colab-df-quickchart-complete:disabled,\n",
              "  .colab-df-quickchart-complete:disabled:hover {\n",
              "    background-color: var(--disabled-bg-color);\n",
              "    fill: var(--disabled-fill-color);\n",
              "    box-shadow: none;\n",
              "  }\n",
              "\n",
              "  .colab-df-spinner {\n",
              "    border: 2px solid var(--fill-color);\n",
              "    border-color: transparent;\n",
              "    border-bottom-color: var(--fill-color);\n",
              "    animation:\n",
              "      spin 1s steps(1) infinite;\n",
              "  }\n",
              "\n",
              "  @keyframes spin {\n",
              "    0% {\n",
              "      border-color: transparent;\n",
              "      border-bottom-color: var(--fill-color);\n",
              "      border-left-color: var(--fill-color);\n",
              "    }\n",
              "    20% {\n",
              "      border-color: transparent;\n",
              "      border-left-color: var(--fill-color);\n",
              "      border-top-color: var(--fill-color);\n",
              "    }\n",
              "    30% {\n",
              "      border-color: transparent;\n",
              "      border-left-color: var(--fill-color);\n",
              "      border-top-color: var(--fill-color);\n",
              "      border-right-color: var(--fill-color);\n",
              "    }\n",
              "    40% {\n",
              "      border-color: transparent;\n",
              "      border-right-color: var(--fill-color);\n",
              "      border-top-color: var(--fill-color);\n",
              "    }\n",
              "    60% {\n",
              "      border-color: transparent;\n",
              "      border-right-color: var(--fill-color);\n",
              "    }\n",
              "    80% {\n",
              "      border-color: transparent;\n",
              "      border-right-color: var(--fill-color);\n",
              "      border-bottom-color: var(--fill-color);\n",
              "    }\n",
              "    90% {\n",
              "      border-color: transparent;\n",
              "      border-bottom-color: var(--fill-color);\n",
              "    }\n",
              "  }\n",
              "</style>\n",
              "\n",
              "  <script>\n",
              "    async function quickchart(key) {\n",
              "      const quickchartButtonEl =\n",
              "        document.querySelector('#' + key + ' button');\n",
              "      quickchartButtonEl.disabled = true;  // To prevent multiple clicks.\n",
              "      quickchartButtonEl.classList.add('colab-df-spinner');\n",
              "      try {\n",
              "        const charts = await google.colab.kernel.invokeFunction(\n",
              "            'suggestCharts', [key], {});\n",
              "      } catch (error) {\n",
              "        console.error('Error during call to suggestCharts:', error);\n",
              "      }\n",
              "      quickchartButtonEl.classList.remove('colab-df-spinner');\n",
              "      quickchartButtonEl.classList.add('colab-df-quickchart-complete');\n",
              "    }\n",
              "    (() => {\n",
              "      let quickchartButtonEl =\n",
              "        document.querySelector('#df-254fe586-4eff-403e-9aed-f8edb205382b button');\n",
              "      quickchartButtonEl.style.display =\n",
              "        google.colab.kernel.accessAllowed ? 'block' : 'none';\n",
              "    })();\n",
              "  </script>\n",
              "</div>\n",
              "\n",
              "  <div id=\"id_2597e683-1d43-42c7-9b1a-48975f26654b\">\n",
              "    <style>\n",
              "      .colab-df-generate {\n",
              "        background-color: #E8F0FE;\n",
              "        border: none;\n",
              "        border-radius: 50%;\n",
              "        cursor: pointer;\n",
              "        display: none;\n",
              "        fill: #1967D2;\n",
              "        height: 32px;\n",
              "        padding: 0 0 0 0;\n",
              "        width: 32px;\n",
              "      }\n",
              "\n",
              "      .colab-df-generate:hover {\n",
              "        background-color: #E2EBFA;\n",
              "        box-shadow: 0px 1px 2px rgba(60, 64, 67, 0.3), 0px 1px 3px 1px rgba(60, 64, 67, 0.15);\n",
              "        fill: #174EA6;\n",
              "      }\n",
              "\n",
              "      [theme=dark] .colab-df-generate {\n",
              "        background-color: #3B4455;\n",
              "        fill: #D2E3FC;\n",
              "      }\n",
              "\n",
              "      [theme=dark] .colab-df-generate:hover {\n",
              "        background-color: #434B5C;\n",
              "        box-shadow: 0px 1px 3px 1px rgba(0, 0, 0, 0.15);\n",
              "        filter: drop-shadow(0px 1px 2px rgba(0, 0, 0, 0.3));\n",
              "        fill: #FFFFFF;\n",
              "      }\n",
              "    </style>\n",
              "    <button class=\"colab-df-generate\" onclick=\"generateWithVariable('metrics')\"\n",
              "            title=\"Generate code using this dataframe.\"\n",
              "            style=\"display:none;\">\n",
              "\n",
              "  <svg xmlns=\"http://www.w3.org/2000/svg\" height=\"24px\"viewBox=\"0 0 24 24\"\n",
              "       width=\"24px\">\n",
              "    <path d=\"M7,19H8.4L18.45,9,17,7.55,7,17.6ZM5,21V16.75L18.45,3.32a2,2,0,0,1,2.83,0l1.4,1.43a1.91,1.91,0,0,1,.58,1.4,1.91,1.91,0,0,1-.58,1.4L9.25,21ZM18.45,9,17,7.55Zm-12,3A5.31,5.31,0,0,0,4.9,8.1,5.31,5.31,0,0,0,1,6.5,5.31,5.31,0,0,0,4.9,4.9,5.31,5.31,0,0,0,6.5,1,5.31,5.31,0,0,0,8.1,4.9,5.31,5.31,0,0,0,12,6.5,5.46,5.46,0,0,0,6.5,12Z\"/>\n",
              "  </svg>\n",
              "    </button>\n",
              "    <script>\n",
              "      (() => {\n",
              "      const buttonEl =\n",
              "        document.querySelector('#id_2597e683-1d43-42c7-9b1a-48975f26654b button.colab-df-generate');\n",
              "      buttonEl.style.display =\n",
              "        google.colab.kernel.accessAllowed ? 'block' : 'none';\n",
              "\n",
              "      buttonEl.onclick = () => {\n",
              "        google.colab.notebook.generateWithVariable('metrics');\n",
              "      }\n",
              "      })();\n",
              "    </script>\n",
              "  </div>\n",
              "\n",
              "    </div>\n",
              "  </div>\n"
            ],
            "application/vnd.google.colaboratory.intrinsic+json": {
              "type": "dataframe",
              "variable_name": "metrics",
              "summary": "{\n  \"name\": \"metrics\",\n  \"rows\": 20,\n  \"fields\": [\n    {\n      \"column\": \"accuracy\",\n      \"properties\": {\n        \"dtype\": \"number\",\n        \"std\": 0.06527050537996915,\n        \"min\": 0.4986875057220459,\n        \"max\": 0.7265625,\n        \"num_unique_values\": 20,\n        \"samples\": [\n          0.4986875057220459,\n          0.7182499766349792,\n          0.7080000042915344\n        ],\n        \"semantic_type\": \"\",\n        \"description\": \"\"\n      }\n    },\n    {\n      \"column\": \"loss\",\n      \"properties\": {\n        \"dtype\": \"number\",\n        \"std\": 0.05775768572135724,\n        \"min\": 0.5424573421478271,\n        \"max\": 0.7571741342544556,\n        \"num_unique_values\": 20,\n        \"samples\": [\n          0.7571741342544556,\n          0.5510668754577637,\n          0.562279224395752\n        ],\n        \"semantic_type\": \"\",\n        \"description\": \"\"\n      }\n    },\n    {\n      \"column\": \"val_accuracy\",\n      \"properties\": {\n        \"dtype\": \"number\",\n        \"std\": 0.004228096539043396,\n        \"min\": 0.49775001406669617,\n        \"max\": 0.5107499957084656,\n        \"num_unique_values\": 16,\n        \"samples\": [\n          0.5105000138282776,\n          0.5090000033378601,\n          0.5107499957084656\n        ],\n        \"semantic_type\": \"\",\n        \"description\": \"\"\n      }\n    },\n    {\n      \"column\": \"val_loss\",\n      \"properties\": {\n        \"dtype\": \"number\",\n        \"std\": 0.05570206449106833,\n        \"min\": 0.713954508304596,\n        \"max\": 0.8741574287414551,\n        \"num_unique_values\": 20,\n        \"samples\": [\n          0.7181501984596252,\n          0.8620387315750122,\n          0.830579936504364\n        ],\n        \"semantic_type\": \"\",\n        \"description\": \"\"\n      }\n    }\n  ]\n}"
            }
          },
          "metadata": {},
          "execution_count": 26
        }
      ]
    },
    {
      "cell_type": "markdown",
      "source": [
        "Stworzymy model jeszcze raz, ale tym razem z parametrem verbose = 1."
      ],
      "metadata": {
        "id": "bQG0CxUxOEvf"
      }
    },
    {
      "cell_type": "code",
      "source": [
        "model = Sequential()\n",
        "model.add(Input(shape=(150,)))\n",
        "model.add(Dense(units=32, activation='relu'))\n",
        "model.add(Dense(1, activation='sigmoid'))\n",
        "\n",
        "model.compile(optimizer='rmsprop',\n",
        "              loss='binary_crossentropy',\n",
        "              metrics=['accuracy'])\n",
        "\n",
        "history = model.fit(data, labels, epochs=20, batch_size=32, validation_split=0.2, verbose=1)"
      ],
      "metadata": {
        "colab": {
          "base_uri": "https://localhost:8080/"
        },
        "id": "Zv5ETN2VOAas",
        "outputId": "ef7df26c-1c1c-47dd-b782-6b53cd7b9ec3"
      },
      "execution_count": 27,
      "outputs": [
        {
          "output_type": "stream",
          "name": "stdout",
          "text": [
            "Epoch 1/20\n",
            "\u001b[1m500/500\u001b[0m \u001b[32m━━━━━━━━━━━━━━━━━━━━\u001b[0m\u001b[37m\u001b[0m \u001b[1m2s\u001b[0m 2ms/step - accuracy: 0.4961 - loss: 0.7543 - val_accuracy: 0.5008 - val_loss: 0.7131\n",
            "Epoch 2/20\n",
            "\u001b[1m500/500\u001b[0m \u001b[32m━━━━━━━━━━━━━━━━━━━━\u001b[0m\u001b[37m\u001b[0m \u001b[1m1s\u001b[0m 1ms/step - accuracy: 0.5453 - loss: 0.6901 - val_accuracy: 0.4938 - val_loss: 0.7121\n",
            "Epoch 3/20\n",
            "\u001b[1m500/500\u001b[0m \u001b[32m━━━━━━━━━━━━━━━━━━━━\u001b[0m\u001b[37m\u001b[0m \u001b[1m1s\u001b[0m 2ms/step - accuracy: 0.5683 - loss: 0.6770 - val_accuracy: 0.4978 - val_loss: 0.7104\n",
            "Epoch 4/20\n",
            "\u001b[1m500/500\u001b[0m \u001b[32m━━━━━━━━━━━━━━━━━━━━\u001b[0m\u001b[37m\u001b[0m \u001b[1m2s\u001b[0m 3ms/step - accuracy: 0.5971 - loss: 0.6689 - val_accuracy: 0.4882 - val_loss: 0.7149\n",
            "Epoch 5/20\n",
            "\u001b[1m500/500\u001b[0m \u001b[32m━━━━━━━━━━━━━━━━━━━━\u001b[0m\u001b[37m\u001b[0m \u001b[1m2s\u001b[0m 2ms/step - accuracy: 0.6088 - loss: 0.6579 - val_accuracy: 0.4965 - val_loss: 0.7203\n",
            "Epoch 6/20\n",
            "\u001b[1m500/500\u001b[0m \u001b[32m━━━━━━━━━━━━━━━━━━━━\u001b[0m\u001b[37m\u001b[0m \u001b[1m1s\u001b[0m 2ms/step - accuracy: 0.6358 - loss: 0.6425 - val_accuracy: 0.4870 - val_loss: 0.7282\n",
            "Epoch 7/20\n",
            "\u001b[1m500/500\u001b[0m \u001b[32m━━━━━━━━━━━━━━━━━━━━\u001b[0m\u001b[37m\u001b[0m \u001b[1m1s\u001b[0m 2ms/step - accuracy: 0.6459 - loss: 0.6343 - val_accuracy: 0.4893 - val_loss: 0.7349\n",
            "Epoch 8/20\n",
            "\u001b[1m500/500\u001b[0m \u001b[32m━━━━━━━━━━━━━━━━━━━━\u001b[0m\u001b[37m\u001b[0m \u001b[1m1s\u001b[0m 1ms/step - accuracy: 0.6593 - loss: 0.6213 - val_accuracy: 0.5002 - val_loss: 0.7438\n",
            "Epoch 9/20\n",
            "\u001b[1m500/500\u001b[0m \u001b[32m━━━━━━━━━━━━━━━━━━━━\u001b[0m\u001b[37m\u001b[0m \u001b[1m1s\u001b[0m 2ms/step - accuracy: 0.6724 - loss: 0.6094 - val_accuracy: 0.4930 - val_loss: 0.7557\n",
            "Epoch 10/20\n",
            "\u001b[1m500/500\u001b[0m \u001b[32m━━━━━━━━━━━━━━━━━━━━\u001b[0m\u001b[37m\u001b[0m \u001b[1m1s\u001b[0m 2ms/step - accuracy: 0.6825 - loss: 0.6004 - val_accuracy: 0.5015 - val_loss: 0.7680\n",
            "Epoch 11/20\n",
            "\u001b[1m500/500\u001b[0m \u001b[32m━━━━━━━━━━━━━━━━━━━━\u001b[0m\u001b[37m\u001b[0m \u001b[1m1s\u001b[0m 2ms/step - accuracy: 0.6808 - loss: 0.5956 - val_accuracy: 0.4935 - val_loss: 0.7817\n",
            "Epoch 12/20\n",
            "\u001b[1m500/500\u001b[0m \u001b[32m━━━━━━━━━━━━━━━━━━━━\u001b[0m\u001b[37m\u001b[0m \u001b[1m1s\u001b[0m 2ms/step - accuracy: 0.6953 - loss: 0.5839 - val_accuracy: 0.4925 - val_loss: 0.7894\n",
            "Epoch 13/20\n",
            "\u001b[1m500/500\u001b[0m \u001b[32m━━━━━━━━━━━━━━━━━━━━\u001b[0m\u001b[37m\u001b[0m \u001b[1m2s\u001b[0m 2ms/step - accuracy: 0.7024 - loss: 0.5734 - val_accuracy: 0.4947 - val_loss: 0.8040\n",
            "Epoch 14/20\n",
            "\u001b[1m500/500\u001b[0m \u001b[32m━━━━━━━━━━━━━━━━━━━━\u001b[0m\u001b[37m\u001b[0m \u001b[1m2s\u001b[0m 3ms/step - accuracy: 0.7103 - loss: 0.5661 - val_accuracy: 0.4935 - val_loss: 0.8165\n",
            "Epoch 15/20\n",
            "\u001b[1m500/500\u001b[0m \u001b[32m━━━━━━━━━━━━━━━━━━━━\u001b[0m\u001b[37m\u001b[0m \u001b[1m2s\u001b[0m 2ms/step - accuracy: 0.7109 - loss: 0.5597 - val_accuracy: 0.4945 - val_loss: 0.8279\n",
            "Epoch 16/20\n",
            "\u001b[1m500/500\u001b[0m \u001b[32m━━━━━━━━━━━━━━━━━━━━\u001b[0m\u001b[37m\u001b[0m \u001b[1m1s\u001b[0m 2ms/step - accuracy: 0.7157 - loss: 0.5552 - val_accuracy: 0.4918 - val_loss: 0.8390\n",
            "Epoch 17/20\n",
            "\u001b[1m500/500\u001b[0m \u001b[32m━━━━━━━━━━━━━━━━━━━━\u001b[0m\u001b[37m\u001b[0m \u001b[1m1s\u001b[0m 2ms/step - accuracy: 0.7208 - loss: 0.5485 - val_accuracy: 0.4975 - val_loss: 0.8443\n",
            "Epoch 18/20\n",
            "\u001b[1m500/500\u001b[0m \u001b[32m━━━━━━━━━━━━━━━━━━━━\u001b[0m\u001b[37m\u001b[0m \u001b[1m1s\u001b[0m 2ms/step - accuracy: 0.7264 - loss: 0.5419 - val_accuracy: 0.4988 - val_loss: 0.8614\n",
            "Epoch 19/20\n",
            "\u001b[1m500/500\u001b[0m \u001b[32m━━━━━━━━━━━━━━━━━━━━\u001b[0m\u001b[37m\u001b[0m \u001b[1m1s\u001b[0m 2ms/step - accuracy: 0.7310 - loss: 0.5345 - val_accuracy: 0.5002 - val_loss: 0.8684\n",
            "Epoch 20/20\n",
            "\u001b[1m500/500\u001b[0m \u001b[32m━━━━━━━━━━━━━━━━━━━━\u001b[0m\u001b[37m\u001b[0m \u001b[1m1s\u001b[0m 2ms/step - accuracy: 0.7329 - loss: 0.5306 - val_accuracy: 0.5023 - val_loss: 0.8829\n"
          ]
        }
      ]
    },
    {
      "cell_type": "markdown",
      "source": [
        "# Ocena modelu."
      ],
      "metadata": {
        "id": "N0kCFyMKOLX7"
      }
    },
    {
      "cell_type": "markdown",
      "source": [
        "Stwórzmy sztuczne zbiory cech i etykiet testowych."
      ],
      "metadata": {
        "id": "G-NV8RIjOS0T"
      }
    },
    {
      "cell_type": "code",
      "source": [
        "test_data = np.random.randn(20, 150)\n",
        "test_labels = np.random.randint(2, size=(20, 1))"
      ],
      "metadata": {
        "id": "0dY50f5wOBZC"
      },
      "execution_count": 28,
      "outputs": []
    },
    {
      "cell_type": "markdown",
      "source": [
        "Metoda **predict** zwraca nam prawdopodobieństwa przynależności do klasy pozytywnej. Obecnie wycofana została metoda predict_proba."
      ],
      "metadata": {
        "id": "cFsX1ILXOqNH"
      }
    },
    {
      "cell_type": "code",
      "source": [
        "model.predict(test_data)"
      ],
      "metadata": {
        "colab": {
          "base_uri": "https://localhost:8080/"
        },
        "id": "-CsDQr0qOeHf",
        "outputId": "384475bf-aeee-4ec6-c256-65e22dc1b3cd"
      },
      "execution_count": 29,
      "outputs": [
        {
          "output_type": "stream",
          "name": "stdout",
          "text": [
            "\u001b[1m1/1\u001b[0m \u001b[32m━━━━━━━━━━━━━━━━━━━━\u001b[0m\u001b[37m\u001b[0m \u001b[1m0s\u001b[0m 49ms/step\n"
          ]
        },
        {
          "output_type": "execute_result",
          "data": {
            "text/plain": [
              "array([[0.3039397 ],\n",
              "       [0.91466403],\n",
              "       [0.11954517],\n",
              "       [0.7847758 ],\n",
              "       [0.17406641],\n",
              "       [0.5823844 ],\n",
              "       [0.6502741 ],\n",
              "       [0.6292742 ],\n",
              "       [0.24034145],\n",
              "       [0.7922523 ],\n",
              "       [0.7772249 ],\n",
              "       [0.6839517 ],\n",
              "       [0.64713985],\n",
              "       [0.73062783],\n",
              "       [0.6713169 ],\n",
              "       [0.41151288],\n",
              "       [0.95817757],\n",
              "       [0.7640421 ],\n",
              "       [0.60818434],\n",
              "       [0.22537062]], dtype=float32)"
            ]
          },
          "metadata": {},
          "execution_count": 29
        }
      ]
    },
    {
      "cell_type": "markdown",
      "source": [
        "Wycofana jest też metoda predict_classes, aby wyświetlić klasy, stosujemy po prostu zaokrąglenie naszych zwróconych prawdopodobieństw."
      ],
      "metadata": {
        "id": "4uOe3wofO-p_"
      }
    },
    {
      "cell_type": "code",
      "source": [
        "np.round(model.predict(test_data))"
      ],
      "metadata": {
        "colab": {
          "base_uri": "https://localhost:8080/"
        },
        "id": "KKSTp9xyO3p4",
        "outputId": "9b64964f-4bae-44bf-b726-7b4c24d940a0"
      },
      "execution_count": 30,
      "outputs": [
        {
          "output_type": "stream",
          "name": "stdout",
          "text": [
            "\u001b[1m1/1\u001b[0m \u001b[32m━━━━━━━━━━━━━━━━━━━━\u001b[0m\u001b[37m\u001b[0m \u001b[1m0s\u001b[0m 22ms/step\n"
          ]
        },
        {
          "output_type": "execute_result",
          "data": {
            "text/plain": [
              "array([[0.],\n",
              "       [1.],\n",
              "       [0.],\n",
              "       [1.],\n",
              "       [0.],\n",
              "       [1.],\n",
              "       [1.],\n",
              "       [1.],\n",
              "       [0.],\n",
              "       [1.],\n",
              "       [1.],\n",
              "       [1.],\n",
              "       [1.],\n",
              "       [1.],\n",
              "       [1.],\n",
              "       [0.],\n",
              "       [1.],\n",
              "       [1.],\n",
              "       [1.],\n",
              "       [0.]], dtype=float32)"
            ]
          },
          "metadata": {},
          "execution_count": 30
        }
      ]
    },
    {
      "cell_type": "markdown",
      "source": [
        "# Klasyfikacja wieloklasowa."
      ],
      "metadata": {
        "id": "iZsfRxN7Poyo"
      }
    },
    {
      "cell_type": "markdown",
      "source": [
        "Tym razem tworzymy dane zawierające 10 klas (0-9)."
      ],
      "metadata": {
        "id": "95VCTidlPzno"
      }
    },
    {
      "cell_type": "code",
      "source": [
        "data = np.random.random((10000, 150))\n",
        "labels = np.random.randint(10, size=(10000, 1))\n",
        "print(data.shape)\n",
        "print(labels.shape)"
      ],
      "metadata": {
        "colab": {
          "base_uri": "https://localhost:8080/"
        },
        "id": "WWlmgPBpO6zd",
        "outputId": "c747252c-fb89-4282-9755-42150ffc8d3c"
      },
      "execution_count": 31,
      "outputs": [
        {
          "output_type": "stream",
          "name": "stdout",
          "text": [
            "(10000, 150)\n",
            "(10000, 1)\n"
          ]
        }
      ]
    },
    {
      "cell_type": "code",
      "source": [
        "labels[:10]"
      ],
      "metadata": {
        "colab": {
          "base_uri": "https://localhost:8080/"
        },
        "id": "Y2VYAudQPy_0",
        "outputId": "83a74a86-d897-425d-df72-24989652a23a"
      },
      "execution_count": 32,
      "outputs": [
        {
          "output_type": "execute_result",
          "data": {
            "text/plain": [
              "array([[5],\n",
              "       [0],\n",
              "       [3],\n",
              "       [0],\n",
              "       [7],\n",
              "       [4],\n",
              "       [7],\n",
              "       [0],\n",
              "       [5],\n",
              "       [2]])"
            ]
          },
          "metadata": {},
          "execution_count": 32
        }
      ]
    },
    {
      "cell_type": "markdown",
      "source": [
        "Do problemu musimy podejść w inny sposób. Funkcja **to_categorical** pozwoli nam przekonwertować klasy do większych tablic NumPy. Funkcja ta z każdej klasy tworzy wektor 10-elementowy, który zawiera jedynkę pod indeksem odpowiadającym numerowi klasy."
      ],
      "metadata": {
        "id": "1RFvdsuGQSCc"
      }
    },
    {
      "cell_type": "code",
      "source": [
        "from tensorflow.keras.utils import to_categorical\n",
        "labels = to_categorical(labels, num_classes=10)\n",
        "labels"
      ],
      "metadata": {
        "colab": {
          "base_uri": "https://localhost:8080/"
        },
        "id": "nU3QWBJgQRYO",
        "outputId": "a16668af-b758-4263-fa9d-81d74d37e657"
      },
      "execution_count": 33,
      "outputs": [
        {
          "output_type": "execute_result",
          "data": {
            "text/plain": [
              "array([[0., 0., 0., ..., 0., 0., 0.],\n",
              "       [1., 0., 0., ..., 0., 0., 0.],\n",
              "       [0., 0., 0., ..., 0., 0., 0.],\n",
              "       ...,\n",
              "       [0., 0., 0., ..., 0., 0., 0.],\n",
              "       [0., 0., 0., ..., 0., 0., 0.],\n",
              "       [0., 0., 0., ..., 0., 0., 0.]])"
            ]
          },
          "metadata": {},
          "execution_count": 33
        }
      ]
    },
    {
      "cell_type": "markdown",
      "source": [
        "Ponownie tworzymy instancję modelu. Tym razem jednak w ostatniej warstwie znajdzie się tyle neuronów, ile klas, oraz funkcja aktywacji **Softmax**, która zwraca dla każdego rekordu prawdopodobieństwo przynależenia do konkretnej klasy. Zmieni się również funkcja straty - będzie to **Categorical Crossentropy**."
      ],
      "metadata": {
        "id": "4ONIeLz3RTaK"
      }
    },
    {
      "cell_type": "code",
      "source": [
        "model = Sequential()\n",
        "model.add(Input(shape=(150,)))\n",
        "model.add(Dense(units=32, activation='relu'))\n",
        "model.add(Dense(10, activation='softmax'))\n",
        "\n",
        "model.compile(optimizer='rmsprop',\n",
        "              loss='categorical_crossentropy',\n",
        "              metrics=['accuracy'])\n",
        "\n",
        "history = model.fit(data, labels, epochs=30, batch_size=40, validation_split=0.2, verbose=1)"
      ],
      "metadata": {
        "colab": {
          "base_uri": "https://localhost:8080/"
        },
        "id": "c2Qyx1UKRJGg",
        "outputId": "cf099d58-5723-4ac9-b186-136d21aa15b7"
      },
      "execution_count": 34,
      "outputs": [
        {
          "output_type": "stream",
          "name": "stdout",
          "text": [
            "Epoch 1/30\n",
            "\u001b[1m200/200\u001b[0m \u001b[32m━━━━━━━━━━━━━━━━━━━━\u001b[0m\u001b[37m\u001b[0m \u001b[1m1s\u001b[0m 3ms/step - accuracy: 0.0944 - loss: 2.3415 - val_accuracy: 0.0990 - val_loss: 2.3042\n",
            "Epoch 2/30\n",
            "\u001b[1m200/200\u001b[0m \u001b[32m━━━━━━━━━━━━━━━━━━━━\u001b[0m\u001b[37m\u001b[0m \u001b[1m1s\u001b[0m 3ms/step - accuracy: 0.1155 - loss: 2.3024 - val_accuracy: 0.1000 - val_loss: 2.3035\n",
            "Epoch 3/30\n",
            "\u001b[1m200/200\u001b[0m \u001b[32m━━━━━━━━━━━━━━━━━━━━\u001b[0m\u001b[37m\u001b[0m \u001b[1m1s\u001b[0m 3ms/step - accuracy: 0.1113 - loss: 2.3002 - val_accuracy: 0.0865 - val_loss: 2.3079\n",
            "Epoch 4/30\n",
            "\u001b[1m200/200\u001b[0m \u001b[32m━━━━━━━━━━━━━━━━━━━━\u001b[0m\u001b[37m\u001b[0m \u001b[1m1s\u001b[0m 2ms/step - accuracy: 0.1138 - loss: 2.2981 - val_accuracy: 0.0980 - val_loss: 2.3067\n",
            "Epoch 5/30\n",
            "\u001b[1m200/200\u001b[0m \u001b[32m━━━━━━━━━━━━━━━━━━━━\u001b[0m\u001b[37m\u001b[0m \u001b[1m1s\u001b[0m 2ms/step - accuracy: 0.1107 - loss: 2.2979 - val_accuracy: 0.0990 - val_loss: 2.3087\n",
            "Epoch 6/30\n",
            "\u001b[1m200/200\u001b[0m \u001b[32m━━━━━━━━━━━━━━━━━━━━\u001b[0m\u001b[37m\u001b[0m \u001b[1m1s\u001b[0m 2ms/step - accuracy: 0.1166 - loss: 2.2947 - val_accuracy: 0.0995 - val_loss: 2.3209\n",
            "Epoch 7/30\n",
            "\u001b[1m200/200\u001b[0m \u001b[32m━━━━━━━━━━━━━━━━━━━━\u001b[0m\u001b[37m\u001b[0m \u001b[1m1s\u001b[0m 2ms/step - accuracy: 0.1218 - loss: 2.2893 - val_accuracy: 0.0950 - val_loss: 2.3129\n",
            "Epoch 8/30\n",
            "\u001b[1m200/200\u001b[0m \u001b[32m━━━━━━━━━━━━━━━━━━━━\u001b[0m\u001b[37m\u001b[0m \u001b[1m1s\u001b[0m 2ms/step - accuracy: 0.1231 - loss: 2.2870 - val_accuracy: 0.0930 - val_loss: 2.3152\n",
            "Epoch 9/30\n",
            "\u001b[1m200/200\u001b[0m \u001b[32m━━━━━━━━━━━━━━━━━━━━\u001b[0m\u001b[37m\u001b[0m \u001b[1m1s\u001b[0m 2ms/step - accuracy: 0.1313 - loss: 2.2819 - val_accuracy: 0.0905 - val_loss: 2.3184\n",
            "Epoch 10/30\n",
            "\u001b[1m200/200\u001b[0m \u001b[32m━━━━━━━━━━━━━━━━━━━━\u001b[0m\u001b[37m\u001b[0m \u001b[1m1s\u001b[0m 2ms/step - accuracy: 0.1314 - loss: 2.2789 - val_accuracy: 0.0995 - val_loss: 2.3203\n",
            "Epoch 11/30\n",
            "\u001b[1m200/200\u001b[0m \u001b[32m━━━━━━━━━━━━━━━━━━━━\u001b[0m\u001b[37m\u001b[0m \u001b[1m1s\u001b[0m 2ms/step - accuracy: 0.1329 - loss: 2.2758 - val_accuracy: 0.0965 - val_loss: 2.3181\n",
            "Epoch 12/30\n",
            "\u001b[1m200/200\u001b[0m \u001b[32m━━━━━━━━━━━━━━━━━━━━\u001b[0m\u001b[37m\u001b[0m \u001b[1m1s\u001b[0m 2ms/step - accuracy: 0.1435 - loss: 2.2669 - val_accuracy: 0.0935 - val_loss: 2.3204\n",
            "Epoch 13/30\n",
            "\u001b[1m200/200\u001b[0m \u001b[32m━━━━━━━━━━━━━━━━━━━━\u001b[0m\u001b[37m\u001b[0m \u001b[1m1s\u001b[0m 2ms/step - accuracy: 0.1537 - loss: 2.2611 - val_accuracy: 0.1060 - val_loss: 2.3218\n",
            "Epoch 14/30\n",
            "\u001b[1m200/200\u001b[0m \u001b[32m━━━━━━━━━━━━━━━━━━━━\u001b[0m\u001b[37m\u001b[0m \u001b[1m1s\u001b[0m 2ms/step - accuracy: 0.1605 - loss: 2.2552 - val_accuracy: 0.1075 - val_loss: 2.3325\n",
            "Epoch 15/30\n",
            "\u001b[1m200/200\u001b[0m \u001b[32m━━━━━━━━━━━━━━━━━━━━\u001b[0m\u001b[37m\u001b[0m \u001b[1m0s\u001b[0m 2ms/step - accuracy: 0.1567 - loss: 2.2496 - val_accuracy: 0.0985 - val_loss: 2.3292\n",
            "Epoch 16/30\n",
            "\u001b[1m200/200\u001b[0m \u001b[32m━━━━━━━━━━━━━━━━━━━━\u001b[0m\u001b[37m\u001b[0m \u001b[1m1s\u001b[0m 2ms/step - accuracy: 0.1677 - loss: 2.2454 - val_accuracy: 0.1035 - val_loss: 2.3252\n",
            "Epoch 17/30\n",
            "\u001b[1m200/200\u001b[0m \u001b[32m━━━━━━━━━━━━━━━━━━━━\u001b[0m\u001b[37m\u001b[0m \u001b[1m1s\u001b[0m 2ms/step - accuracy: 0.1684 - loss: 2.2395 - val_accuracy: 0.0865 - val_loss: 2.3464\n",
            "Epoch 18/30\n",
            "\u001b[1m200/200\u001b[0m \u001b[32m━━━━━━━━━━━━━━━━━━━━\u001b[0m\u001b[37m\u001b[0m \u001b[1m1s\u001b[0m 2ms/step - accuracy: 0.1730 - loss: 2.2286 - val_accuracy: 0.1025 - val_loss: 2.3398\n",
            "Epoch 19/30\n",
            "\u001b[1m200/200\u001b[0m \u001b[32m━━━━━━━━━━━━━━━━━━━━\u001b[0m\u001b[37m\u001b[0m \u001b[1m1s\u001b[0m 2ms/step - accuracy: 0.1731 - loss: 2.2290 - val_accuracy: 0.1065 - val_loss: 2.3450\n",
            "Epoch 20/30\n",
            "\u001b[1m200/200\u001b[0m \u001b[32m━━━━━━━━━━━━━━━━━━━━\u001b[0m\u001b[37m\u001b[0m \u001b[1m1s\u001b[0m 3ms/step - accuracy: 0.1787 - loss: 2.2254 - val_accuracy: 0.0980 - val_loss: 2.3460\n",
            "Epoch 21/30\n",
            "\u001b[1m200/200\u001b[0m \u001b[32m━━━━━━━━━━━━━━━━━━━━\u001b[0m\u001b[37m\u001b[0m \u001b[1m1s\u001b[0m 3ms/step - accuracy: 0.1862 - loss: 2.2113 - val_accuracy: 0.0990 - val_loss: 2.3451\n",
            "Epoch 22/30\n",
            "\u001b[1m200/200\u001b[0m \u001b[32m━━━━━━━━━━━━━━━━━━━━\u001b[0m\u001b[37m\u001b[0m \u001b[1m1s\u001b[0m 3ms/step - accuracy: 0.1944 - loss: 2.2032 - val_accuracy: 0.0980 - val_loss: 2.3531\n",
            "Epoch 23/30\n",
            "\u001b[1m200/200\u001b[0m \u001b[32m━━━━━━━━━━━━━━━━━━━━\u001b[0m\u001b[37m\u001b[0m \u001b[1m1s\u001b[0m 3ms/step - accuracy: 0.1950 - loss: 2.1985 - val_accuracy: 0.1020 - val_loss: 2.3586\n",
            "Epoch 24/30\n",
            "\u001b[1m200/200\u001b[0m \u001b[32m━━━━━━━━━━━━━━━━━━━━\u001b[0m\u001b[37m\u001b[0m \u001b[1m1s\u001b[0m 3ms/step - accuracy: 0.1973 - loss: 2.1886 - val_accuracy: 0.0970 - val_loss: 2.3641\n",
            "Epoch 25/30\n",
            "\u001b[1m200/200\u001b[0m \u001b[32m━━━━━━━━━━━━━━━━━━━━\u001b[0m\u001b[37m\u001b[0m \u001b[1m0s\u001b[0m 2ms/step - accuracy: 0.1998 - loss: 2.1893 - val_accuracy: 0.0965 - val_loss: 2.3657\n",
            "Epoch 26/30\n",
            "\u001b[1m200/200\u001b[0m \u001b[32m━━━━━━━━━━━━━━━━━━━━\u001b[0m\u001b[37m\u001b[0m \u001b[1m1s\u001b[0m 2ms/step - accuracy: 0.2099 - loss: 2.1788 - val_accuracy: 0.1055 - val_loss: 2.3764\n",
            "Epoch 27/30\n",
            "\u001b[1m200/200\u001b[0m \u001b[32m━━━━━━━━━━━━━━━━━━━━\u001b[0m\u001b[37m\u001b[0m \u001b[1m0s\u001b[0m 2ms/step - accuracy: 0.2089 - loss: 2.1663 - val_accuracy: 0.0900 - val_loss: 2.3865\n",
            "Epoch 28/30\n",
            "\u001b[1m200/200\u001b[0m \u001b[32m━━━━━━━━━━━━━━━━━━━━\u001b[0m\u001b[37m\u001b[0m \u001b[1m1s\u001b[0m 2ms/step - accuracy: 0.2060 - loss: 2.1712 - val_accuracy: 0.0960 - val_loss: 2.3933\n",
            "Epoch 29/30\n",
            "\u001b[1m200/200\u001b[0m \u001b[32m━━━━━━━━━━━━━━━━━━━━\u001b[0m\u001b[37m\u001b[0m \u001b[1m1s\u001b[0m 2ms/step - accuracy: 0.2117 - loss: 2.1611 - val_accuracy: 0.1035 - val_loss: 2.3817\n",
            "Epoch 30/30\n",
            "\u001b[1m200/200\u001b[0m \u001b[32m━━━━━━━━━━━━━━━━━━━━\u001b[0m\u001b[37m\u001b[0m \u001b[1m1s\u001b[0m 2ms/step - accuracy: 0.2095 - loss: 2.1542 - val_accuracy: 0.0990 - val_loss: 2.3849\n"
          ]
        }
      ]
    },
    {
      "cell_type": "markdown",
      "source": [
        "Nasz model ma skuteczność modelu losowego, jego dokładność na zbiorze walidacyjnym oscyluje w granicach 0,1."
      ],
      "metadata": {
        "id": "Y8nuyZrpR7we"
      }
    },
    {
      "cell_type": "markdown",
      "source": [
        "Wygenerujmy losową próbkę 20 danych testowych i zastosujmy metodę predict celem wskazania prawdopodobieństwa przynależności do każdej klasy."
      ],
      "metadata": {
        "id": "eWbUXmWETAKA"
      }
    },
    {
      "cell_type": "code",
      "source": [
        "test_data = np.random.random((20, 150))\n",
        "test_labels = np.random.randint(10, size=(20, 1))\n",
        "test_labels = to_categorical(test_labels, num_classes=10)\n",
        "model.predict(test_data)"
      ],
      "metadata": {
        "colab": {
          "base_uri": "https://localhost:8080/"
        },
        "id": "OU0vcLx9SN8o",
        "outputId": "04bad80d-7e00-42b1-8c0d-daa64e4039e9"
      },
      "execution_count": 35,
      "outputs": [
        {
          "output_type": "stream",
          "name": "stdout",
          "text": [
            "\u001b[1m1/1\u001b[0m \u001b[32m━━━━━━━━━━━━━━━━━━━━\u001b[0m\u001b[37m\u001b[0m \u001b[1m0s\u001b[0m 45ms/step\n"
          ]
        },
        {
          "output_type": "execute_result",
          "data": {
            "text/plain": [
              "array([[0.09618448, 0.12081896, 0.15489803, 0.09473681, 0.04273397,\n",
              "        0.09404721, 0.13295525, 0.09135089, 0.08122893, 0.09104553],\n",
              "       [0.11747966, 0.06458537, 0.11844525, 0.12012959, 0.07834333,\n",
              "        0.06280463, 0.10582625, 0.11600386, 0.07090472, 0.14547737],\n",
              "       [0.11246498, 0.05646667, 0.13932382, 0.14100161, 0.10835544,\n",
              "        0.0657481 , 0.11632632, 0.07758337, 0.10387605, 0.07885361],\n",
              "       [0.06687666, 0.08656632, 0.12017642, 0.09570079, 0.0991626 ,\n",
              "        0.13493259, 0.06690802, 0.09456154, 0.07562466, 0.15949026],\n",
              "       [0.11042428, 0.10868645, 0.10785808, 0.10766565, 0.09314869,\n",
              "        0.13254553, 0.06823288, 0.10614813, 0.09381396, 0.07147641],\n",
              "       [0.0984216 , 0.07580837, 0.15243952, 0.11064579, 0.05392055,\n",
              "        0.07059751, 0.09997771, 0.06969928, 0.14564717, 0.12284243],\n",
              "       [0.06306291, 0.118629  , 0.14650455, 0.10786164, 0.04224772,\n",
              "        0.08938832, 0.08903207, 0.07124881, 0.06008261, 0.21194242],\n",
              "       [0.05172611, 0.05074708, 0.12224073, 0.15955135, 0.20159294,\n",
              "        0.07444643, 0.13203678, 0.0809701 , 0.0804937 , 0.04619472],\n",
              "       [0.05601221, 0.07591601, 0.1590724 , 0.10737547, 0.11929252,\n",
              "        0.07161885, 0.11741588, 0.04488473, 0.12536262, 0.12304936],\n",
              "       [0.15441151, 0.06955822, 0.08272383, 0.1310233 , 0.13680932,\n",
              "        0.07484792, 0.10468257, 0.09048868, 0.08369445, 0.07176021],\n",
              "       [0.07464118, 0.11218125, 0.08670425, 0.18844466, 0.19150326,\n",
              "        0.07856692, 0.13757163, 0.03736138, 0.03927984, 0.05374552],\n",
              "       [0.11185333, 0.13018683, 0.06497231, 0.08207272, 0.04839021,\n",
              "        0.09670502, 0.10159191, 0.10971394, 0.13936798, 0.11514568],\n",
              "       [0.12748916, 0.11387336, 0.08090211, 0.09025366, 0.11688137,\n",
              "        0.11642253, 0.09530719, 0.05231057, 0.08018345, 0.12637655],\n",
              "       [0.13370974, 0.08133099, 0.1050243 , 0.11689892, 0.10814486,\n",
              "        0.05764344, 0.09942347, 0.1119377 , 0.06604494, 0.11984148],\n",
              "       [0.05858444, 0.10080408, 0.05877711, 0.1087513 , 0.09993462,\n",
              "        0.10435578, 0.13461939, 0.11694212, 0.08583789, 0.13139327],\n",
              "       [0.083405  , 0.0743723 , 0.14030209, 0.10514212, 0.06348754,\n",
              "        0.08794933, 0.1176436 , 0.07866011, 0.15307374, 0.09596413],\n",
              "       [0.07984275, 0.05483779, 0.1109065 , 0.13300262, 0.08176952,\n",
              "        0.07399283, 0.13132466, 0.07184623, 0.16491641, 0.09756064],\n",
              "       [0.07458691, 0.05617098, 0.12670803, 0.10714117, 0.08926635,\n",
              "        0.08324882, 0.1307975 , 0.07527461, 0.17266081, 0.08414477],\n",
              "       [0.11572866, 0.07507324, 0.11207189, 0.2078744 , 0.08330011,\n",
              "        0.043244  , 0.08459752, 0.08707271, 0.03367541, 0.15736206],\n",
              "       [0.11575141, 0.10115641, 0.0934727 , 0.11371221, 0.11166351,\n",
              "        0.08410354, 0.08927441, 0.07271925, 0.0844213 , 0.13372527]],\n",
              "      dtype=float32)"
            ]
          },
          "metadata": {},
          "execution_count": 35
        }
      ]
    },
    {
      "cell_type": "markdown",
      "source": [
        "Na koniec przewidzimy konkretną klasę z każdego rekordu."
      ],
      "metadata": {
        "id": "NtWDd9YlTkS_"
      }
    },
    {
      "cell_type": "code",
      "source": [
        "np.argmax(model.predict(test_data), axis=1)"
      ],
      "metadata": {
        "colab": {
          "base_uri": "https://localhost:8080/"
        },
        "id": "Ju5ASuUhS9In",
        "outputId": "780dba1f-d4ae-4cbb-ed37-25f88012cc6e"
      },
      "execution_count": 36,
      "outputs": [
        {
          "output_type": "stream",
          "name": "stdout",
          "text": [
            "\u001b[1m1/1\u001b[0m \u001b[32m━━━━━━━━━━━━━━━━━━━━\u001b[0m\u001b[37m\u001b[0m \u001b[1m0s\u001b[0m 22ms/step\n"
          ]
        },
        {
          "output_type": "execute_result",
          "data": {
            "text/plain": [
              "array([2, 9, 3, 9, 5, 2, 9, 4, 2, 0, 4, 8, 0, 0, 6, 8, 8, 8, 3, 9])"
            ]
          },
          "metadata": {},
          "execution_count": 36
        }
      ]
    },
    {
      "cell_type": "markdown",
      "source": [
        "# Regresja."
      ],
      "metadata": {
        "id": "4__MEY9YTxJH"
      }
    },
    {
      "cell_type": "markdown",
      "source": [
        "Ponownie wygenerujmy losowe dane. Naszą etykietą będą tym razem wartości ciągłe."
      ],
      "metadata": {
        "id": "VUL2dUl_Tyxh"
      }
    },
    {
      "cell_type": "code",
      "source": [
        "data = np.random.random((10000, 150))\n",
        "labels = 50 * np.random.random(10000)"
      ],
      "metadata": {
        "id": "-1CMEfgCTyO0"
      },
      "execution_count": 37,
      "outputs": []
    },
    {
      "cell_type": "markdown",
      "source": [
        "Model dla zadania regresji będzie mieć 32 neurony ukryte z funkcją aktywacji ReLU, zaś neuron w warstwie wyjściowej - ponieważ będzie przewidywać ciągłą wartość - nie będzie zawierał żadnej funkcji aktywacji. Nie musimy dodawać też metryki do kompilatora, ponieważ \"konsumuje\" ją funkcja straty."
      ],
      "metadata": {
        "id": "FhkiOrOPUEmO"
      }
    },
    {
      "cell_type": "code",
      "source": [
        "model = Sequential()\n",
        "model.add(Input(shape=(150,)))\n",
        "model.add(Dense(units=32, activation='relu'))\n",
        "model.add(Dense(units=1))\n",
        "\n",
        "model.compile(optimizer='rmsprop',\n",
        "              loss='mse')\n",
        "\n",
        "model.fit(data, labels, epochs=30, batch_size=32, validation_split=0.2)"
      ],
      "metadata": {
        "colab": {
          "base_uri": "https://localhost:8080/"
        },
        "id": "rk-_YtZKT-de",
        "outputId": "6a9bb842-e4ee-4fb8-a8f6-84a9553b7df3"
      },
      "execution_count": 38,
      "outputs": [
        {
          "output_type": "stream",
          "name": "stdout",
          "text": [
            "Epoch 1/30\n",
            "\u001b[1m250/250\u001b[0m \u001b[32m━━━━━━━━━━━━━━━━━━━━\u001b[0m\u001b[37m\u001b[0m \u001b[1m1s\u001b[0m 2ms/step - loss: 377.0442 - val_loss: 205.1523\n",
            "Epoch 2/30\n",
            "\u001b[1m250/250\u001b[0m \u001b[32m━━━━━━━━━━━━━━━━━━━━\u001b[0m\u001b[37m\u001b[0m \u001b[1m1s\u001b[0m 2ms/step - loss: 210.8074 - val_loss: 206.1077\n",
            "Epoch 3/30\n",
            "\u001b[1m250/250\u001b[0m \u001b[32m━━━━━━━━━━━━━━━━━━━━\u001b[0m\u001b[37m\u001b[0m \u001b[1m1s\u001b[0m 1ms/step - loss: 208.6218 - val_loss: 205.6682\n",
            "Epoch 4/30\n",
            "\u001b[1m250/250\u001b[0m \u001b[32m━━━━━━━━━━━━━━━━━━━━\u001b[0m\u001b[37m\u001b[0m \u001b[1m1s\u001b[0m 2ms/step - loss: 208.9245 - val_loss: 206.0039\n",
            "Epoch 5/30\n",
            "\u001b[1m250/250\u001b[0m \u001b[32m━━━━━━━━━━━━━━━━━━━━\u001b[0m\u001b[37m\u001b[0m \u001b[1m0s\u001b[0m 1ms/step - loss: 206.4724 - val_loss: 205.5842\n",
            "Epoch 6/30\n",
            "\u001b[1m250/250\u001b[0m \u001b[32m━━━━━━━━━━━━━━━━━━━━\u001b[0m\u001b[37m\u001b[0m \u001b[1m1s\u001b[0m 2ms/step - loss: 207.9452 - val_loss: 205.5127\n",
            "Epoch 7/30\n",
            "\u001b[1m250/250\u001b[0m \u001b[32m━━━━━━━━━━━━━━━━━━━━\u001b[0m\u001b[37m\u001b[0m \u001b[1m1s\u001b[0m 2ms/step - loss: 204.3458 - val_loss: 205.6812\n",
            "Epoch 8/30\n",
            "\u001b[1m250/250\u001b[0m \u001b[32m━━━━━━━━━━━━━━━━━━━━\u001b[0m\u001b[37m\u001b[0m \u001b[1m1s\u001b[0m 2ms/step - loss: 206.5458 - val_loss: 205.6044\n",
            "Epoch 9/30\n",
            "\u001b[1m250/250\u001b[0m \u001b[32m━━━━━━━━━━━━━━━━━━━━\u001b[0m\u001b[37m\u001b[0m \u001b[1m0s\u001b[0m 2ms/step - loss: 204.8812 - val_loss: 207.3481\n",
            "Epoch 10/30\n",
            "\u001b[1m250/250\u001b[0m \u001b[32m━━━━━━━━━━━━━━━━━━━━\u001b[0m\u001b[37m\u001b[0m \u001b[1m1s\u001b[0m 2ms/step - loss: 203.8431 - val_loss: 206.4747\n",
            "Epoch 11/30\n",
            "\u001b[1m250/250\u001b[0m \u001b[32m━━━━━━━━━━━━━━━━━━━━\u001b[0m\u001b[37m\u001b[0m \u001b[1m1s\u001b[0m 3ms/step - loss: 203.6618 - val_loss: 206.4870\n",
            "Epoch 12/30\n",
            "\u001b[1m250/250\u001b[0m \u001b[32m━━━━━━━━━━━━━━━━━━━━\u001b[0m\u001b[37m\u001b[0m \u001b[1m1s\u001b[0m 3ms/step - loss: 206.8291 - val_loss: 206.4827\n",
            "Epoch 13/30\n",
            "\u001b[1m250/250\u001b[0m \u001b[32m━━━━━━━━━━━━━━━━━━━━\u001b[0m\u001b[37m\u001b[0m \u001b[1m1s\u001b[0m 2ms/step - loss: 203.3352 - val_loss: 206.8687\n",
            "Epoch 14/30\n",
            "\u001b[1m250/250\u001b[0m \u001b[32m━━━━━━━━━━━━━━━━━━━━\u001b[0m\u001b[37m\u001b[0m \u001b[1m1s\u001b[0m 2ms/step - loss: 206.8430 - val_loss: 207.0961\n",
            "Epoch 15/30\n",
            "\u001b[1m250/250\u001b[0m \u001b[32m━━━━━━━━━━━━━━━━━━━━\u001b[0m\u001b[37m\u001b[0m \u001b[1m0s\u001b[0m 2ms/step - loss: 207.7494 - val_loss: 207.3839\n",
            "Epoch 16/30\n",
            "\u001b[1m250/250\u001b[0m \u001b[32m━━━━━━━━━━━━━━━━━━━━\u001b[0m\u001b[37m\u001b[0m \u001b[1m1s\u001b[0m 2ms/step - loss: 201.9911 - val_loss: 207.5085\n",
            "Epoch 17/30\n",
            "\u001b[1m250/250\u001b[0m \u001b[32m━━━━━━━━━━━━━━━━━━━━\u001b[0m\u001b[37m\u001b[0m \u001b[1m1s\u001b[0m 2ms/step - loss: 204.8610 - val_loss: 207.5000\n",
            "Epoch 18/30\n",
            "\u001b[1m250/250\u001b[0m \u001b[32m━━━━━━━━━━━━━━━━━━━━\u001b[0m\u001b[37m\u001b[0m \u001b[1m1s\u001b[0m 2ms/step - loss: 205.9998 - val_loss: 208.5801\n",
            "Epoch 19/30\n",
            "\u001b[1m250/250\u001b[0m \u001b[32m━━━━━━━━━━━━━━━━━━━━\u001b[0m\u001b[37m\u001b[0m \u001b[1m1s\u001b[0m 2ms/step - loss: 199.6792 - val_loss: 211.4348\n",
            "Epoch 20/30\n",
            "\u001b[1m250/250\u001b[0m \u001b[32m━━━━━━━━━━━━━━━━━━━━\u001b[0m\u001b[37m\u001b[0m \u001b[1m1s\u001b[0m 2ms/step - loss: 199.6398 - val_loss: 208.8862\n",
            "Epoch 21/30\n",
            "\u001b[1m250/250\u001b[0m \u001b[32m━━━━━━━━━━━━━━━━━━━━\u001b[0m\u001b[37m\u001b[0m \u001b[1m0s\u001b[0m 1ms/step - loss: 201.8627 - val_loss: 208.6940\n",
            "Epoch 22/30\n",
            "\u001b[1m250/250\u001b[0m \u001b[32m━━━━━━━━━━━━━━━━━━━━\u001b[0m\u001b[37m\u001b[0m \u001b[1m1s\u001b[0m 2ms/step - loss: 202.3914 - val_loss: 209.1033\n",
            "Epoch 23/30\n",
            "\u001b[1m250/250\u001b[0m \u001b[32m━━━━━━━━━━━━━━━━━━━━\u001b[0m\u001b[37m\u001b[0m \u001b[1m1s\u001b[0m 2ms/step - loss: 202.5752 - val_loss: 208.9747\n",
            "Epoch 24/30\n",
            "\u001b[1m250/250\u001b[0m \u001b[32m━━━━━━━━━━━━━━━━━━━━\u001b[0m\u001b[37m\u001b[0m \u001b[1m1s\u001b[0m 1ms/step - loss: 203.0005 - val_loss: 210.2346\n",
            "Epoch 25/30\n",
            "\u001b[1m250/250\u001b[0m \u001b[32m━━━━━━━━━━━━━━━━━━━━\u001b[0m\u001b[37m\u001b[0m \u001b[1m1s\u001b[0m 2ms/step - loss: 200.0083 - val_loss: 209.6634\n",
            "Epoch 26/30\n",
            "\u001b[1m250/250\u001b[0m \u001b[32m━━━━━━━━━━━━━━━━━━━━\u001b[0m\u001b[37m\u001b[0m \u001b[1m0s\u001b[0m 2ms/step - loss: 199.9913 - val_loss: 210.2536\n",
            "Epoch 27/30\n",
            "\u001b[1m250/250\u001b[0m \u001b[32m━━━━━━━━━━━━━━━━━━━━\u001b[0m\u001b[37m\u001b[0m \u001b[1m1s\u001b[0m 2ms/step - loss: 205.1594 - val_loss: 210.4094\n",
            "Epoch 28/30\n",
            "\u001b[1m250/250\u001b[0m \u001b[32m━━━━━━━━━━━━━━━━━━━━\u001b[0m\u001b[37m\u001b[0m \u001b[1m1s\u001b[0m 2ms/step - loss: 203.6959 - val_loss: 211.9617\n",
            "Epoch 29/30\n",
            "\u001b[1m250/250\u001b[0m \u001b[32m━━━━━━━━━━━━━━━━━━━━\u001b[0m\u001b[37m\u001b[0m \u001b[1m1s\u001b[0m 2ms/step - loss: 199.3313 - val_loss: 210.5246\n",
            "Epoch 30/30\n",
            "\u001b[1m250/250\u001b[0m \u001b[32m━━━━━━━━━━━━━━━━━━━━\u001b[0m\u001b[37m\u001b[0m \u001b[1m1s\u001b[0m 3ms/step - loss: 200.7283 - val_loss: 211.7301\n"
          ]
        },
        {
          "output_type": "execute_result",
          "data": {
            "text/plain": [
              "<keras.src.callbacks.history.History at 0x79754c21de70>"
            ]
          },
          "metadata": {},
          "execution_count": 38
        }
      ]
    },
    {
      "cell_type": "markdown",
      "source": [
        "Można jednak osobno użyć innej metryki niż funkcji straty w kompilatorze. Niech funkcją straty będzie MAE, a metryką MSE."
      ],
      "metadata": {
        "id": "--NEb4jkUxSH"
      }
    },
    {
      "cell_type": "code",
      "source": [
        "model = Sequential()\n",
        "model.add(Input(shape=(150,)))\n",
        "model.add(Dense(units=32, activation='relu'))\n",
        "model.add(Dense(units=1))\n",
        "\n",
        "model.compile(optimizer='rmsprop',\n",
        "              loss='mae',\n",
        "              metrics=['mse'])\n",
        "\n",
        "model.fit(data, labels, epochs=30, batch_size=32, validation_split=0.2)"
      ],
      "metadata": {
        "colab": {
          "base_uri": "https://localhost:8080/"
        },
        "id": "jwjXNdlrU6YK",
        "outputId": "51e4af8e-fd2f-435e-f56c-0dcbbab1ca46"
      },
      "execution_count": 39,
      "outputs": [
        {
          "output_type": "stream",
          "name": "stdout",
          "text": [
            "Epoch 1/30\n",
            "\u001b[1m250/250\u001b[0m \u001b[32m━━━━━━━━━━━━━━━━━━━━\u001b[0m\u001b[37m\u001b[0m \u001b[1m2s\u001b[0m 3ms/step - loss: 15.0068 - mse: 335.2628 - val_loss: 12.3497 - val_mse: 205.7254\n",
            "Epoch 2/30\n",
            "\u001b[1m250/250\u001b[0m \u001b[32m━━━━━━━━━━━━━━━━━━━━\u001b[0m\u001b[37m\u001b[0m \u001b[1m1s\u001b[0m 2ms/step - loss: 12.3520 - mse: 205.1115 - val_loss: 12.3330 - val_mse: 205.2990\n",
            "Epoch 3/30\n",
            "\u001b[1m250/250\u001b[0m \u001b[32m━━━━━━━━━━━━━━━━━━━━\u001b[0m\u001b[37m\u001b[0m \u001b[1m1s\u001b[0m 2ms/step - loss: 12.3358 - mse: 206.0667 - val_loss: 12.3425 - val_mse: 205.6632\n",
            "Epoch 4/30\n",
            "\u001b[1m250/250\u001b[0m \u001b[32m━━━━━━━━━━━━━━━━━━━━\u001b[0m\u001b[37m\u001b[0m \u001b[1m1s\u001b[0m 2ms/step - loss: 12.4233 - mse: 208.9384 - val_loss: 12.3734 - val_mse: 206.5358\n",
            "Epoch 5/30\n",
            "\u001b[1m250/250\u001b[0m \u001b[32m━━━━━━━━━━━━━━━━━━━━\u001b[0m\u001b[37m\u001b[0m \u001b[1m1s\u001b[0m 2ms/step - loss: 12.4347 - mse: 208.2756 - val_loss: 12.3556 - val_mse: 205.9049\n",
            "Epoch 6/30\n",
            "\u001b[1m250/250\u001b[0m \u001b[32m━━━━━━━━━━━━━━━━━━━━\u001b[0m\u001b[37m\u001b[0m \u001b[1m0s\u001b[0m 1ms/step - loss: 12.3200 - mse: 205.3916 - val_loss: 12.5465 - val_mse: 215.0910\n",
            "Epoch 7/30\n",
            "\u001b[1m250/250\u001b[0m \u001b[32m━━━━━━━━━━━━━━━━━━━━\u001b[0m\u001b[37m\u001b[0m \u001b[1m1s\u001b[0m 2ms/step - loss: 12.3961 - mse: 209.0509 - val_loss: 12.4264 - val_mse: 208.6529\n",
            "Epoch 8/30\n",
            "\u001b[1m250/250\u001b[0m \u001b[32m━━━━━━━━━━━━━━━━━━━━\u001b[0m\u001b[37m\u001b[0m \u001b[1m0s\u001b[0m 1ms/step - loss: 12.3262 - mse: 204.8822 - val_loss: 12.4177 - val_mse: 208.6249\n",
            "Epoch 9/30\n",
            "\u001b[1m250/250\u001b[0m \u001b[32m━━━━━━━━━━━━━━━━━━━━\u001b[0m\u001b[37m\u001b[0m \u001b[1m1s\u001b[0m 2ms/step - loss: 12.3099 - mse: 205.0307 - val_loss: 12.3941 - val_mse: 207.6137\n",
            "Epoch 10/30\n",
            "\u001b[1m250/250\u001b[0m \u001b[32m━━━━━━━━━━━━━━━━━━━━\u001b[0m\u001b[37m\u001b[0m \u001b[1m1s\u001b[0m 2ms/step - loss: 12.3825 - mse: 207.6046 - val_loss: 12.4382 - val_mse: 209.4060\n",
            "Epoch 11/30\n",
            "\u001b[1m250/250\u001b[0m \u001b[32m━━━━━━━━━━━━━━━━━━━━\u001b[0m\u001b[37m\u001b[0m \u001b[1m1s\u001b[0m 1ms/step - loss: 12.2871 - mse: 204.9570 - val_loss: 12.4056 - val_mse: 207.6818\n",
            "Epoch 12/30\n",
            "\u001b[1m250/250\u001b[0m \u001b[32m━━━━━━━━━━━━━━━━━━━━\u001b[0m\u001b[37m\u001b[0m \u001b[1m1s\u001b[0m 2ms/step - loss: 12.1863 - mse: 202.3050 - val_loss: 12.4085 - val_mse: 207.8242\n",
            "Epoch 13/30\n",
            "\u001b[1m250/250\u001b[0m \u001b[32m━━━━━━━━━━━━━━━━━━━━\u001b[0m\u001b[37m\u001b[0m \u001b[1m1s\u001b[0m 1ms/step - loss: 12.3738 - mse: 206.6951 - val_loss: 12.4565 - val_mse: 210.0003\n",
            "Epoch 14/30\n",
            "\u001b[1m250/250\u001b[0m \u001b[32m━━━━━━━━━━━━━━━━━━━━\u001b[0m\u001b[37m\u001b[0m \u001b[1m0s\u001b[0m 2ms/step - loss: 12.1792 - mse: 202.5699 - val_loss: 12.4202 - val_mse: 208.3567\n",
            "Epoch 15/30\n",
            "\u001b[1m250/250\u001b[0m \u001b[32m━━━━━━━━━━━━━━━━━━━━\u001b[0m\u001b[37m\u001b[0m \u001b[1m1s\u001b[0m 2ms/step - loss: 12.2063 - mse: 203.2456 - val_loss: 12.4352 - val_mse: 208.9483\n",
            "Epoch 16/30\n",
            "\u001b[1m250/250\u001b[0m \u001b[32m━━━━━━━━━━━━━━━━━━━━\u001b[0m\u001b[37m\u001b[0m \u001b[1m1s\u001b[0m 2ms/step - loss: 12.3468 - mse: 207.2678 - val_loss: 12.4501 - val_mse: 209.6743\n",
            "Epoch 17/30\n",
            "\u001b[1m250/250\u001b[0m \u001b[32m━━━━━━━━━━━━━━━━━━━━\u001b[0m\u001b[37m\u001b[0m \u001b[1m1s\u001b[0m 2ms/step - loss: 12.3287 - mse: 206.5358 - val_loss: 12.4795 - val_mse: 210.7364\n",
            "Epoch 18/30\n",
            "\u001b[1m250/250\u001b[0m \u001b[32m━━━━━━━━━━━━━━━━━━━━\u001b[0m\u001b[37m\u001b[0m \u001b[1m1s\u001b[0m 3ms/step - loss: 12.2701 - mse: 205.5709 - val_loss: 12.4973 - val_mse: 211.8347\n",
            "Epoch 19/30\n",
            "\u001b[1m250/250\u001b[0m \u001b[32m━━━━━━━━━━━━━━━━━━━━\u001b[0m\u001b[37m\u001b[0m \u001b[1m1s\u001b[0m 3ms/step - loss: 12.3703 - mse: 207.0674 - val_loss: 12.4635 - val_mse: 210.1721\n",
            "Epoch 20/30\n",
            "\u001b[1m250/250\u001b[0m \u001b[32m━━━━━━━━━━━━━━━━━━━━\u001b[0m\u001b[37m\u001b[0m \u001b[1m1s\u001b[0m 2ms/step - loss: 12.1585 - mse: 203.6706 - val_loss: 12.4698 - val_mse: 210.4460\n",
            "Epoch 21/30\n",
            "\u001b[1m250/250\u001b[0m \u001b[32m━━━━━━━━━━━━━━━━━━━━\u001b[0m\u001b[37m\u001b[0m \u001b[1m0s\u001b[0m 2ms/step - loss: 12.1152 - mse: 201.5829 - val_loss: 12.4801 - val_mse: 210.8905\n",
            "Epoch 22/30\n",
            "\u001b[1m250/250\u001b[0m \u001b[32m━━━━━━━━━━━━━━━━━━━━\u001b[0m\u001b[37m\u001b[0m \u001b[1m1s\u001b[0m 2ms/step - loss: 12.2373 - mse: 205.2144 - val_loss: 12.5009 - val_mse: 211.6384\n",
            "Epoch 23/30\n",
            "\u001b[1m250/250\u001b[0m \u001b[32m━━━━━━━━━━━━━━━━━━━━\u001b[0m\u001b[37m\u001b[0m \u001b[1m1s\u001b[0m 1ms/step - loss: 12.2056 - mse: 204.1905 - val_loss: 12.5205 - val_mse: 212.7863\n",
            "Epoch 24/30\n",
            "\u001b[1m250/250\u001b[0m \u001b[32m━━━━━━━━━━━━━━━━━━━━\u001b[0m\u001b[37m\u001b[0m \u001b[1m1s\u001b[0m 2ms/step - loss: 12.2210 - mse: 205.4303 - val_loss: 12.4996 - val_mse: 211.6995\n",
            "Epoch 25/30\n",
            "\u001b[1m250/250\u001b[0m \u001b[32m━━━━━━━━━━━━━━━━━━━━\u001b[0m\u001b[37m\u001b[0m \u001b[1m1s\u001b[0m 2ms/step - loss: 12.2196 - mse: 203.9758 - val_loss: 12.5041 - val_mse: 211.9674\n",
            "Epoch 26/30\n",
            "\u001b[1m250/250\u001b[0m \u001b[32m━━━━━━━━━━━━━━━━━━━━\u001b[0m\u001b[37m\u001b[0m \u001b[1m1s\u001b[0m 2ms/step - loss: 12.2688 - mse: 205.5613 - val_loss: 12.5521 - val_mse: 213.8070\n",
            "Epoch 27/30\n",
            "\u001b[1m250/250\u001b[0m \u001b[32m━━━━━━━━━━━━━━━━━━━━\u001b[0m\u001b[37m\u001b[0m \u001b[1m1s\u001b[0m 2ms/step - loss: 12.3027 - mse: 206.7941 - val_loss: 12.5286 - val_mse: 212.8038\n",
            "Epoch 28/30\n",
            "\u001b[1m250/250\u001b[0m \u001b[32m━━━━━━━━━━━━━━━━━━━━\u001b[0m\u001b[37m\u001b[0m \u001b[1m0s\u001b[0m 2ms/step - loss: 12.2736 - mse: 206.3444 - val_loss: 12.5485 - val_mse: 213.4992\n",
            "Epoch 29/30\n",
            "\u001b[1m250/250\u001b[0m \u001b[32m━━━━━━━━━━━━━━━━━━━━\u001b[0m\u001b[37m\u001b[0m \u001b[1m0s\u001b[0m 1ms/step - loss: 12.2341 - mse: 206.4570 - val_loss: 12.5492 - val_mse: 214.0862\n",
            "Epoch 30/30\n",
            "\u001b[1m250/250\u001b[0m \u001b[32m━━━━━━━━━━━━━━━━━━━━\u001b[0m\u001b[37m\u001b[0m \u001b[1m1s\u001b[0m 2ms/step - loss: 12.3126 - mse: 207.5837 - val_loss: 12.5331 - val_mse: 213.0601\n"
          ]
        },
        {
          "output_type": "execute_result",
          "data": {
            "text/plain": [
              "<keras.src.callbacks.history.History at 0x79754c13d3c0>"
            ]
          },
          "metadata": {},
          "execution_count": 39
        }
      ]
    },
    {
      "cell_type": "markdown",
      "source": [
        "I na koniec tego notatnika - wykonajmy kilka predykcji na losowo wygenerowanym zbiorze testowym."
      ],
      "metadata": {
        "id": "dqyaGzg8Vcrt"
      }
    },
    {
      "cell_type": "code",
      "source": [
        "test_data = np.random.random((10, 150))\n",
        "\n",
        "model.predict(test_data)"
      ],
      "metadata": {
        "colab": {
          "base_uri": "https://localhost:8080/"
        },
        "id": "N8v-PliMVUka",
        "outputId": "6f3fa498-cc12-43fd-aca9-98908615273b"
      },
      "execution_count": 40,
      "outputs": [
        {
          "output_type": "stream",
          "name": "stdout",
          "text": [
            "\u001b[1m1/1\u001b[0m \u001b[32m━━━━━━━━━━━━━━━━━━━━\u001b[0m\u001b[37m\u001b[0m \u001b[1m0s\u001b[0m 44ms/step\n"
          ]
        },
        {
          "output_type": "execute_result",
          "data": {
            "text/plain": [
              "array([[22.545307],\n",
              "       [29.236633],\n",
              "       [21.232128],\n",
              "       [27.943848],\n",
              "       [28.408766],\n",
              "       [20.006187],\n",
              "       [29.987762],\n",
              "       [26.031694],\n",
              "       [28.906063],\n",
              "       [22.950155]], dtype=float32)"
            ]
          },
          "metadata": {},
          "execution_count": 40
        }
      ]
    }
  ]
}