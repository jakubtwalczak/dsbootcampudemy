{
  "nbformat": 4,
  "nbformat_minor": 0,
  "metadata": {
    "colab": {
      "provenance": [],
      "toc_visible": true,
      "authorship_tag": "ABX9TyPdA+Evk/zilU3FJnMwrr7A",
      "include_colab_link": true
    },
    "kernelspec": {
      "name": "python3",
      "display_name": "Python 3"
    },
    "language_info": {
      "name": "python"
    }
  },
  "cells": [
    {
      "cell_type": "markdown",
      "metadata": {
        "id": "view-in-github",
        "colab_type": "text"
      },
      "source": [
        "<a href=\"https://colab.research.google.com/github/jakubtwalczak/dsbootcampudemy/blob/main/5_Statystyka_prawdopodobie%C5%84stwo/1_Statystyka_i_pr_bie%C5%84stwo.ipynb\" target=\"_parent\"><img src=\"https://colab.research.google.com/assets/colab-badge.svg\" alt=\"Open In Colab\"/></a>"
      ]
    },
    {
      "cell_type": "markdown",
      "source": [
        "# Wprowadzenie - SciPy."
      ],
      "metadata": {
        "id": "LVU6zErrf2ke"
      }
    },
    {
      "cell_type": "markdown",
      "source": [
        "SciPy to otwarta biblioteka programistyczna w języku Python, która jest używana do wykonywania zaawansowanych obliczeń naukowych i inżynieryjnych. Jest to część ekosystemu narzędzi do obliczeń naukowych w Pythonie i oferuje wiele funkcji do przetwarzania danych, analizy numerycznej, optymalizacji, statystyki, oraz wiele innych dziedzin naukowych i inżynieryjnych.\n",
        "\n",
        "\n",
        "\n",
        "Główne cechy i funkcje biblioteki SciPy:\n",
        "\n",
        "1. **Moduły tematyczne**: SciPy skupia się na różnych dziedzinach naukowych i inżynieryjnych, dlatego dostarcza modułów tematycznych, które zawierają funkcje i narzędzia związane z matematyką, fizyką, inżynierią, statystyką, optymalizacją, przetwarzaniem sygnałów i obrazów, oraz wieloma innymi dziedzinami.\n",
        "\n",
        "2. **Zaawansowane obliczenia matematyczne**: Biblioteka zawiera narzędzia do rozwiązywania równań różniczkowych, całkowania numerycznego, interpolacji, algebraicznych operacji macierzowych i wiele innych obliczeń matematycznych.\n",
        "\n",
        "3. **Optymalizacja**: SciPy dostarcza funkcje do optymalizacji numerycznej, co pozwala na rozwiązywanie problemów optymalizacyjnych, zarówno wypukłych, jak i nieliniowych.\n",
        "\n",
        "4. **Przetwarzanie sygnałów i obrazów**: Biblioteka oferuje narzędzia do przetwarzania sygnałów i obrazów, takie jak filtrowanie, transformacje Fouriera, analiza widma, oraz wiele innych operacji na sygnałach i obrazach.\n",
        "\n",
        "5. **Statystyka**: SciPy zawiera funkcje do statystycznej analizy danych, testowania hipotez, regresji, generowania rozkładów prawdopodobieństwa i wiele innych narzędzi statystycznych.\n",
        "\n",
        "6. **Współpraca z NumPy**: SciPy jest często używane w połączeniu z biblioteką NumPy do efektywnego manipulowania i analizy danych numerycznych.\n",
        "\n",
        "7. **Wsparcie dla różnych formatów danych**: Biblioteka umożliwia wczytywanie i zapisywanie danych z różnych formatów, takich jak pliki tekstowe, HDF5, MATLAB, NetCDF i wiele innych.\n",
        "\n",
        "8. **Wsparcie dla rozwiązywania równań różniczkowych**: SciPy oferuje wiele algorytmów i narzędzi do rozwiązywania równań różniczkowych zwyczajnych (ODE) i równań różniczkowych cząstkowych (PDE).\n",
        "\n",
        "9. **Wsparcie dla równań nieliniowych**: SciPy zawiera narzędzia do rozwiązywania równań nieliniowych za pomocą różnych algorytmów iteracyjnych.\n",
        "\n",
        "10. **Aktywna społeczność**: SciPy ma aktywną społeczność użytkowników i deweloperów, co oznacza, że istnieje wiele dostępnych źródeł, dokumentacji i pomocy online.\n",
        "\n",
        "\n",
        "\n",
        "SciPy jest często używane w dziedzinach takich jak nauka danych, inżynieria, fizyka, biologia, chemia, statystyka, inżynieria mechaniczna i wiele innych, gdzie zaawansowane obliczenia matematyczne są niezbędne do analizy i modelowania danych oraz rozwiązywania problemów naukowych i inżynieryjnych."
      ],
      "metadata": {
        "id": "P358cOaZf4w1"
      }
    },
    {
      "cell_type": "markdown",
      "source": [
        "# Zmienne dyskretne i ciągłe."
      ],
      "metadata": {
        "id": "mWBVJVzTnk5I"
      }
    },
    {
      "cell_type": "markdown",
      "source": [
        "Rozważmy populację składającą się dokładnie z $n$ elementów. Oznaczmy przez $X$ badaną cechę populacji oraz przez $x_1, \\dots, x_n$ wartości cechy $X$. Cechę $X$ nazywać będziemy zmienną losową.\n",
        "\n",
        "---\n",
        "**Przykład - dane dyskretne**  \n",
        "Populacja - grupa studentów (8 osób)  \n",
        "Badana cecha $X$- ocena z egzaminu  \n",
        "Realizacja zmiennej: 3, 4.5, 5, 4.5, 3, 2, 3.5, 2"
      ],
      "metadata": {
        "id": "kzP2iK9Sak0y"
      }
    },
    {
      "cell_type": "code",
      "execution_count": 1,
      "metadata": {
        "id": "mmAEcoDPfspP",
        "colab": {
          "base_uri": "https://localhost:8080/"
        },
        "outputId": "0674421a-2bc2-41f9-d2c8-6ee5c1dd2f7f"
      },
      "outputs": [
        {
          "output_type": "stream",
          "name": "stdout",
          "text": [
            "[3.  4.5 5.  4.5 3.  2.  3.5 2. ]\n"
          ]
        }
      ],
      "source": [
        "import numpy as np\n",
        "\n",
        "X = np.array([3, 4.5, 5, 4.5, 3, 2, 3.5, 2])\n",
        "print(X)"
      ]
    },
    {
      "cell_type": "markdown",
      "source": [
        "  **Przykład - dane ciągłe**  \n",
        "Populacja - grupa studentów (8 osób)  \n",
        "Badana cecha $X$- wzrost studenta  \n",
        "Realizacja zmiennej: 185.0, 179.5, 168.0, 192.0, 185.5, 191.5, 174.0, 183.0"
      ],
      "metadata": {
        "id": "hcIAp1MimGtM"
      }
    },
    {
      "cell_type": "code",
      "source": [
        "X = np.array([185.0, 179.5, 168.0, 192.0, 185.5, 191.5, 174.0, 183.0])\n",
        "print(X)"
      ],
      "metadata": {
        "colab": {
          "base_uri": "https://localhost:8080/"
        },
        "id": "z9i7Rve5mEEq",
        "outputId": "b66354ea-7368-48ee-e504-186f375c1907"
      },
      "execution_count": 2,
      "outputs": [
        {
          "output_type": "stream",
          "name": "stdout",
          "text": [
            "[185.  179.5 168.  192.  185.5 191.5 174.  183. ]\n"
          ]
        }
      ]
    },
    {
      "cell_type": "markdown",
      "source": [
        "Generalna różnica między danymi ciągłym a dyskretnymi jest taka, że zmienna ciągła może przyjąć dowolną wartość, zaś zmienna dyskretna może przyjąć tylko wartości z określonego zbioru liczbowego.\n",
        "\n",
        "Np. tak jak student nie może otrzymać z egzaminu oceny 6,75 (bo może tylko 2, 3, 3+, 4, 4+ lub 5), tak samo nie jest powiedziane, że studenci mogą mieć tylko 175, 180 albo 185 cm wzrostu."
      ],
      "metadata": {
        "id": "Krix863gmkG8"
      }
    },
    {
      "cell_type": "markdown",
      "source": [
        "# Statystyka opisowa."
      ],
      "metadata": {
        "id": "7F9AhyYPnpX3"
      }
    },
    {
      "cell_type": "markdown",
      "source": [
        "## Miary tendencji centralnej."
      ],
      "metadata": {
        "id": "EpFzSc4Bnr7A"
      }
    },
    {
      "cell_type": "markdown",
      "source": [
        "**DEFINICJA 1 - średnia arytmetyczna**\n",
        "\n",
        "Średnią arytmetyczną ciągu wartości $x_1, \\dots, x_n$ nazwyamy:\n",
        "$$\\bar{x}= \\frac{x_{1} + x_{2} + \\ \\ldots \\ + x_{n}}{n} = \\frac{1}{n} \\sum_{i=1}^{n} x_{i}$$  \n",
        "\n",
        "**PRZYKŁAD**\n",
        "Rozważmy ciąg: $3, 4.5, 5, 4.5, 2, 3.5, 2$\n",
        "$$\\bar{x}=\\frac{3 + 4.5 + 5 + 4.5 + 3 + 2 + 3.5 + 2}{8} = 3.4375$$"
      ],
      "metadata": {
        "id": "Qufdjon8nu0R"
      }
    },
    {
      "cell_type": "code",
      "source": [
        "X = np.array([3, 4.5, 5, 4.5, 3, 2, 3.5, 2])\n",
        "print(np.mean(X))"
      ],
      "metadata": {
        "colab": {
          "base_uri": "https://localhost:8080/"
        },
        "id": "b0cQY6gFnhAE",
        "outputId": "7d268159-05ff-41c7-9fd0-f5bef7131316"
      },
      "execution_count": 3,
      "outputs": [
        {
          "output_type": "stream",
          "name": "stdout",
          "text": [
            "3.4375\n"
          ]
        }
      ]
    },
    {
      "cell_type": "markdown",
      "source": [
        "Mówiąc najprościej - średnia arytmetyczna ciągu/zbioru to suma elementów podzielona przez ich liczbę."
      ],
      "metadata": {
        "id": "PR8h0lJ3oSAk"
      }
    },
    {
      "cell_type": "markdown",
      "source": [
        "**DEFINICJA 2 - Mediana**\n",
        "\n",
        "Medianą ciągu wartości $x_1, \\dots, x_n$ nazywamy środkowy wyraz tego ciągu, gdy $n$ jest liczbą nieparzystą, w przeciwnym przypadku średnią arytmetyczną dwóch wyrazów środkowych.\n",
        "\n",
        "$Mediana = Me = \\left\\{\\begin{array} {lll} x_{(k+1)} &  \\hbox{ dla } & n=2k+1 \\\\[1mm] \\frac{x_{(k)}+x_{(k+1)}}{2} & \\hbox{ dla } & n=2k. \\end{array} \\right.$,\n",
        "gdzie $x_{(1)} \\le x_{(2)} \\le  \\dots \\le x_{(n)}.$  \n",
        "\n",
        "**PRZYKŁAD**\n",
        "Rozważmy ciąg: $3, 4.5, 5, 4.5, 3$  \n",
        "Porządkujemy ciąg: $3, 3, 4.5, 4.5, 5$  \n",
        "Ponieważ liczba elementów (=5) jest liczbą nieparzystą wybieramy środkowy wyraz tego ciągu czyli:\n",
        "$$Mediana = 4.5$$"
      ],
      "metadata": {
        "id": "gTaiAZL0ook0"
      }
    },
    {
      "cell_type": "markdown",
      "source": [
        "**PRZYKŁAD**\n",
        "Rozważmy ciąg: $3, 4.5, 5, 4.5, 3, 2, 3.5, 2$  \n",
        "Porządkujemy ciąg: $2, 2, 3, 3, 3.5, 4.5, 4.5, 5$  \n",
        "Ponieważ liczba elementów (=8) jest liczbą parzystą obliczamy średnią arytmetyczną wyrazów środkowych:\n",
        "$$Mediana = \\frac{3 + 3.5}{2} = 3.25$$"
      ],
      "metadata": {
        "id": "GiAf3f7io0eo"
      }
    },
    {
      "cell_type": "code",
      "source": [
        "print(np.median(X))"
      ],
      "metadata": {
        "colab": {
          "base_uri": "https://localhost:8080/"
        },
        "id": "9-q05w3VoGMx",
        "outputId": "2d8c4bc5-2de2-4db1-ae07-7b3905dc7cea"
      },
      "execution_count": 4,
      "outputs": [
        {
          "output_type": "stream",
          "name": "stdout",
          "text": [
            "3.25\n"
          ]
        }
      ]
    },
    {
      "cell_type": "markdown",
      "source": [
        "**DEFINICJA 3 - Moda/dominanta**\n",
        "\n",
        "Moda/dominanta (wartość modalna) to najczęściej występująca wartość w ciągu.\n",
        "\n",
        "**PRZYKŁAD**\n",
        "\n",
        "Rozważmy ciąg: $3, 4.5, 5, 4.5, 2$\n",
        "\n",
        "Wartość $4.5$ występuje dwukrotnie, a zatem:\n",
        "\n",
        "$$Moda = 4.5$$\n",
        "\n",
        "**PRZYKŁAD**\n",
        "\n",
        "Rozważmy ciąg: $3, 4.5, 5, 4.5, 3, 2, 3.5, 2$  \n",
        "\n",
        "Wartości $3.5$ i $4.5$ występują dwukrotnie, a więc:\n",
        "\n",
        "$$Moda = \\{3.5, 4.5\\}$$\n",
        "\n",
        "Ciąg z dwiema dominantami nazywamy **bimodalnym**."
      ],
      "metadata": {
        "id": "V1Q0UpzgpTbA"
      }
    },
    {
      "cell_type": "markdown",
      "source": [
        "## Miary rozrzutu."
      ],
      "metadata": {
        "id": "fZCzNG_ctSnG"
      }
    },
    {
      "cell_type": "markdown",
      "source": [
        "**DEFINICJA - Średni błąd**\n",
        "\n",
        "**Średni błąd** ciągu wartości $x_1, \\dots, x_n$ nazywamy wartość:\n",
        "$$b=\\frac{1}{n} \\sum_{i=1}^{n} | x_{i}-\\bar{x} |$$\n",
        "\n",
        "Im mniejszy jest średni błąd tym zmienna $X$ ma mniejszy rozrzut.\n",
        "\n",
        "**PRZYKŁAD**\n",
        "\n",
        "Rozważmy zmienną losową $X$ o realizacji $3.5, 4.0, 4.0$ oraz zmienną losową $Y$ o realizacji $2.0, 4.0, 5.0$.\n",
        "\n",
        "Policzmy średni błąd.  \n",
        "$\\bar{X} = \\frac{3.5 + 4.0 + 4.0}{3} = 3.83$  \n",
        "$\\bar{Y} = \\frac{2.0 + 4.0 + 5.0}{3} = 3.67$\n",
        "\n",
        "Zatem  \n",
        "$b_X = \\frac{1}{3}(|3.5 - 3.83| + |4.0 - 3.83| + |4.0 - 3.83|) = 0,(2)$\n",
        "\n",
        "Zatem  \n",
        "$b_Y = \\frac{1}{3}(|2.0 - 3.67| + |4.0 - 3.67| + |5.0 - 3.67|) = 1,(1)$"
      ],
      "metadata": {
        "id": "TE62niYatUmB"
      }
    },
    {
      "cell_type": "code",
      "source": [
        "X = [3.5, 4.0, 4.0]\n",
        "Y = [2.0, 4.0, 5.0]\n",
        "\n",
        "X_mean = np.mean(X)\n",
        "Y_mean = np.mean(Y)\n",
        "\n",
        "print(f'X_mean: {X_mean:.4f}')\n",
        "print(f'Y_mean: {Y_mean:.4f}')"
      ],
      "metadata": {
        "colab": {
          "base_uri": "https://localhost:8080/"
        },
        "id": "sVmrzEXFpNS9",
        "outputId": "ad9b0ca1-1861-4857-ecd6-dcf13792a6df"
      },
      "execution_count": 5,
      "outputs": [
        {
          "output_type": "stream",
          "name": "stdout",
          "text": [
            "X_mean: 3.8333\n",
            "Y_mean: 3.6667\n"
          ]
        }
      ]
    },
    {
      "cell_type": "markdown",
      "source": [
        "Tę miarę możemy określić jako średnią odległość od średniej arytmetycznej ciągu; bierzemy wartości bezwzględne wszystkich rezyduuów, sumujemy je i wyciągamy z nich średnią."
      ],
      "metadata": {
        "id": "SKxOhl4-vYG5"
      }
    },
    {
      "cell_type": "code",
      "source": [
        "b_X = 1 / len(X) * (abs(X - X_mean).sum())\n",
        "b_Y = 1 / len(Y) * (abs(Y - Y_mean).sum())\n",
        "\n",
        "print(f'Średni błąd X: {b_X:.4f}')\n",
        "print(f'Średni błąd Y: {b_Y:.4f}')"
      ],
      "metadata": {
        "colab": {
          "base_uri": "https://localhost:8080/"
        },
        "id": "V_oU-Cchts9E",
        "outputId": "d13949eb-cc40-4255-cf20-f998164b5e33"
      },
      "execution_count": 6,
      "outputs": [
        {
          "output_type": "stream",
          "name": "stdout",
          "text": [
            "Średni błąd X: 0.2222\n",
            "Średni błąd Y: 1.1111\n"
          ]
        }
      ]
    },
    {
      "cell_type": "markdown",
      "source": [
        "**DEFINICJA - Wariancja**\n",
        "\n",
        "Wariancją ciągu $x_1, \\dots, x_n$ nazywamy wartość:\n",
        "\n",
        "$$s_{n}^{2} = \\frac{1}{n} \\sum_{i=1}^{n} ( x_{i}-\\bar{x})^{2}$$  \n",
        "\n",
        "**DEFINICJA - Odchylenie standardowe**\n",
        "\n",
        "Odchyleniem standardowym ciągu $x_1, \\dots, x_n$ nazywamy wartość:\n",
        "\n",
        "$$s_n = \\sqrt{\\frac{1}{n} \\sum_{i=1}^{n} ( x_{i}-\\bar{x})^{2}}.$$"
      ],
      "metadata": {
        "id": "K-UtbchtQfC7"
      }
    },
    {
      "cell_type": "markdown",
      "source": [
        "Upraszczając - wariancja różni się od średniego błędu absolutnego tym, że średnią arytmetyczną wyciągamy z kwadratów rezyduów (liczba ujemna do kwadratu daje liczbę dodatnią). Odchylenie standardowe to z kolei pierwiastek z wariancji."
      ],
      "metadata": {
        "id": "DrAQmtuvQrJj"
      }
    },
    {
      "cell_type": "code",
      "source": [
        "var_X = 1 / len(X) * ((X - X_mean)**2).sum()\n",
        "var_Y = 1 / len(Y) * ((Y - Y_mean)**2).sum()\n",
        "\n",
        "print(f'Wariancja zmiennej X: {var_X:.4f}')\n",
        "print(f'Wariancja zmiennej Y: {var_Y:.4f}\\n')\n",
        "\n",
        "std_X = np.sqrt(var_X)\n",
        "std_Y = np.sqrt(var_Y)\n",
        "\n",
        "print(f'Odchylenie standardowe zmiennej X: {std_X:.4f}')\n",
        "print(f'Odchylenie standardowe zmiennej Y: {std_Y:.4f}')"
      ],
      "metadata": {
        "colab": {
          "base_uri": "https://localhost:8080/"
        },
        "id": "DvRMnLuctwTp",
        "outputId": "ed4df3fe-29e2-493f-ad4b-efa944d43297"
      },
      "execution_count": 7,
      "outputs": [
        {
          "output_type": "stream",
          "name": "stdout",
          "text": [
            "Wariancja zmiennej X: 0.0556\n",
            "Wariancja zmiennej Y: 1.5556\n",
            "\n",
            "Odchylenie standardowe zmiennej X: 0.2357\n",
            "Odchylenie standardowe zmiennej Y: 1.2472\n"
          ]
        }
      ]
    },
    {
      "cell_type": "markdown",
      "source": [
        "Oczywiście odchylenia standardowego ani wariancji nie musimy liczyć \"na piechotę\" - służą temu funkcje **var** i **std** z biblioteki NumPy."
      ],
      "metadata": {
        "id": "2hOPsrL4R07a"
      }
    },
    {
      "cell_type": "code",
      "source": [
        "print(np.var(X))\n",
        "print(np.var(Y))\n",
        "print(np.std(X))\n",
        "print(np.std(Y))"
      ],
      "metadata": {
        "colab": {
          "base_uri": "https://localhost:8080/"
        },
        "id": "taS-wPSgR3u-",
        "outputId": "42f3144e-f1fb-4651-b667-974b1135bbe8"
      },
      "execution_count": 8,
      "outputs": [
        {
          "output_type": "stream",
          "name": "stdout",
          "text": [
            "0.05555555555555556\n",
            "1.5555555555555554\n",
            "0.23570226039551584\n",
            "1.247219128924647\n"
          ]
        }
      ]
    },
    {
      "cell_type": "markdown",
      "source": [
        "# Prawdopodobieństwo."
      ],
      "metadata": {
        "id": "2IetTcG6UR5s"
      }
    },
    {
      "cell_type": "markdown",
      "source": [
        "## Dystrybuanta empiryczna."
      ],
      "metadata": {
        "id": "2G8uwy26SSzb"
      }
    },
    {
      "cell_type": "markdown",
      "source": [
        "**DEFINICJA - Kwantyl**\n",
        "\n",
        "Kwantylem rzędu $p$ zmiennej losowej $X$ nazywamy wartość, która dzieli uporządkowany ciąg wartości $x_1, \\dots, x_n$ na dwie części w proporcjach $p$ oraz $1-p$.\n",
        "\n",
        "**PRZYKŁAD**\n",
        "\n",
        "Mediana jest kwantylem rzędu $p=\\frac{1}{2}$.\n",
        "Kwantyle rzędu 1/4, 2/4, 3/4 są inaczej nazywane kwartylami.\n",
        "Kwantyle rzędu 1/5, 2/5, 3/5, 4/5 to inaczej kwintyle.\n",
        "Kwantyle rzędu 1/10, 2/10,..., 9/10 to inaczej decyle.\n",
        "Kwantyle rzędu 1/100, 2/100,..., 99/100 to inaczej percentyle.\n",
        "\n",
        "**DEFINICJA - Dystrybuanta empiryczna**\n",
        "\n",
        "Dystrybuantą empiryczną ciągu  $x_1, \\dots, x_n$ nazywamy funkcję określoną wzorem:\n",
        "$$F(x)=\\frac{ \\# \\{x_{i}: \\ x_{i} \\leq x \\} }{n} \\;\\; \\textrm{dla}\\;\\; x\\in {\\Bbb R}$$\n",
        "\n",
        "Czyli jest to zbiór wszystkich x-ów, dla których x(i) jest mniejszy od x podanego w dystrybuancie, podzielonych przez liczebność zbioru.\n",
        "\n",
        "Przy pomocy dystrybuanty możemy w prosty sposób określić wzór na kwantyl rzędu $p$:\n",
        "\n",
        "$$q_p = \\min \\{ x : F(x) \\ge p \\}$$\n",
        "\n",
        "Kwantylem rzędu p jest zatem minimum ze zbioru tych x-ów, dla których wartość dystrybuanty jest większa lub równa od wartości p."
      ],
      "metadata": {
        "id": "z7aW7bTmSVeo"
      }
    },
    {
      "cell_type": "markdown",
      "source": [
        "## Przestrzeń probabilistyczna."
      ],
      "metadata": {
        "id": "snu6X-22UEdx"
      }
    },
    {
      "cell_type": "markdown",
      "source": [
        "**DEFINICJA - przestrzeń probabilistyczna**\n",
        "\n",
        "Przestrzenią probabilistyczną nazywamy trójkę $(\\Omega, \\mathscr{F}, P)$, gdzie $\\Omega$ jest zbiorem niepustym (przestrzeń zdarzeń), $\\mathscr{F}$ jest rodziną podzbiorów zbioru $\\Omega$ (sigma ciało) oraz $P$ jest miarą probabilistyczną (prawdopodobieństwo):\n",
        "$$P:\\mathscr{F} \\rightarrow R$$\n",
        "\n",
        "$P$ jest to funkcja, która działa na rodzinie podzbiorów zbioru $\\Omega$ przypisuje wartości rzeczywiste.\n",
        "\n",
        "Elementy zbioru $\\Omega$ nazywamy zdarzeniami elementarnymi, elementy $\\mathscr{F}$ zdarzeniami. Zbiór pusty reprezentuje zdarzenie niemożliwe, zaś zbiór $\\Omega$ zdarzenie pewne. Zdarzenie $\\Omega \\backslash A$ nazywamy zdarzeniem przeciwnym do zdarzenia $A$ i wreszcie liczbę $P(A)$ nazywamy prawdopodobieństwem zdarzenia A."
      ],
      "metadata": {
        "id": "xXcvabrfUHtZ"
      }
    },
    {
      "cell_type": "markdown",
      "source": [
        "## Przestrzeń klasyczna."
      ],
      "metadata": {
        "id": "H7qUH6xZXGDx"
      }
    },
    {
      "cell_type": "markdown",
      "source": [
        "**To odpowiada klasycznej definicji prawdopodobieństwa.**\n",
        "\n",
        "Niech $\\Omega$ będzie zbiorem skończonym składającym się z $n$ jednakowo prawdopodobnych zdarzeń elementarnych:\n",
        "$$\\Omega = \\{\\omega_1, \\dots, \\omega_n\\}$$\n",
        "\n",
        "oraz niech $\\mathscr{F}$ rodzina podzbiorów zbioru $\\Omega$. Jeśli $A \\in \\mathscr{F}$, to:\n",
        "$$P(A) = \\frac{\\#A}{n}$$\n",
        "\n",
        "Czyli prawdopodobieństwo zdarzenia $A$ to liczba zdarzeń sprzyjających $\\#A$ podzielona przez liczbę elementów zbioru $\\Omega$.\n",
        "\n",
        "**PRZYKŁAD**\n",
        "\n",
        "Niech $\\Omega = \\{1, 2, 3, 4, 5, 6\\}$, $A$ oznacza zdarzenie polegające na wyrzuceniu liczby parzystej, mamy zatem   \n",
        "$n=6$  \n",
        "$A=\\{2, 4, 6\\}$   \n",
        "oraz $\\#A = 3$  \n",
        "Stąd $P(A) = \\frac{\\#A}{n} = \\frac{3}{6} = \\frac{1}{2}$"
      ],
      "metadata": {
        "id": "wTV5caZHXMHN"
      }
    },
    {
      "cell_type": "code",
      "source": [
        "omega = {1, 2, 3, 4, 5, 6}\n",
        "A = {item for item in omega if item % 2 == 0}\n",
        "\n",
        "P_A = len(A) / len(omega)\n",
        "print(f'Zbiór A: {A}')\n",
        "print(f'Prawdopodobieństwo zdarzenia A: {P_A}')"
      ],
      "metadata": {
        "colab": {
          "base_uri": "https://localhost:8080/"
        },
        "id": "7aMbsBfeSLJg",
        "outputId": "4d9b37be-03d7-4d58-d930-492e92ce4ee1"
      },
      "execution_count": 9,
      "outputs": [
        {
          "output_type": "stream",
          "name": "stdout",
          "text": [
            "Zbiór A: {2, 4, 6}\n",
            "Prawdopodobieństwo zdarzenia A: 0.5\n"
          ]
        }
      ]
    },
    {
      "cell_type": "markdown",
      "source": [
        "**PRZYKŁAD**\n",
        "\n",
        "Niech $\\Omega = \\{1, 2, 3, 4, 5, 6\\}$, $B$ oznacza zdarzenie polegające na wyrzuceniu liczby nieparzystej większej niż 2, mamy zatem   \n",
        "$n=6$  \n",
        "$B=\\{3,5\\}$   \n",
        "oraz $\\#B = 2$  \n",
        "Stąd $P(B) = \\frac{\\#A}{n} = \\frac{2}{6} = \\frac{1}{3}$"
      ],
      "metadata": {
        "id": "UjY1UTW1aTMk"
      }
    },
    {
      "cell_type": "code",
      "source": [
        "omega = {1, 2, 3, 4, 5, 6}\n",
        "B = {item for item in omega if item > 2 and item % 2 != 0}\n",
        "\n",
        "P_B = len(B) / len(omega)\n",
        "print(f'Zbiór B: {B}')\n",
        "print(f'Prawdopodobieństwo zdarzenia B: {P_B:.4f}')"
      ],
      "metadata": {
        "colab": {
          "base_uri": "https://localhost:8080/"
        },
        "id": "UIVs3HW5avMZ",
        "outputId": "cdc0d47d-1d49-45f9-f0e4-ebf2836db36d"
      },
      "execution_count": 10,
      "outputs": [
        {
          "output_type": "stream",
          "name": "stdout",
          "text": [
            "Zbiór B: {3, 5}\n",
            "Prawdopodobieństwo zdarzenia B: 0.3333\n"
          ]
        }
      ]
    },
    {
      "cell_type": "markdown",
      "source": [
        "## Niezależność zdarzeń."
      ],
      "metadata": {
        "id": "2ETaDSoobKqE"
      }
    },
    {
      "cell_type": "markdown",
      "source": [
        "**DEFINICJA - niezależność zdarzeń**\n",
        "\n",
        " Dwa zdarzenia $A$ i $B$ są niezależne, gdy:\n",
        "\n",
        "$$P(A\\cap B) = P(A)\\cdot  P(B)$$\n",
        "\n",
        "Czyli gdy prawdopodobieństwo iloczynu jest równe iloczynowi prawdopodobieństw.\n",
        "\n",
        "Aby dwie zmienne były niezależne, dla wszystkich zbiorów powinien zachodzić ww. warunek.\n",
        "\n",
        "**PRZYKŁAD**\n",
        "\n",
        "Rozważmy dwa zdarzenia $A$ i $B$ z poprzednich przykładów."
      ],
      "metadata": {
        "id": "xeDvESdYcv2V"
      }
    },
    {
      "cell_type": "code",
      "source": [
        "intersection_AB = set.intersection(A, B)\n",
        "P_intersection_AB = len(intersection_AB) / len(omega)\n",
        "\n",
        "PA_PB = P_A * P_B\n",
        "\n",
        "print(f'Przecięcie zbiorów A i B: {intersection_AB}\\n')\n",
        "print(f'Iloczyn prawdopodobieństw zdarzeń A i B: {PA_PB:.4f}')\n",
        "print(f'Prawdopodobieństwo iloczynu zdarzeń A i B: {P_intersection_AB:.4f}\\n')\n",
        "\n",
        "check = 'Zdarzenia niezależne' if PA_PB == P_intersection_AB else 'Zdarzenia zależne'\n",
        "print(check)"
      ],
      "metadata": {
        "colab": {
          "base_uri": "https://localhost:8080/"
        },
        "id": "ZvdSceXrbNXp",
        "outputId": "d49df3e5-07ae-44a8-f4ec-9bd05333ec79"
      },
      "execution_count": 11,
      "outputs": [
        {
          "output_type": "stream",
          "name": "stdout",
          "text": [
            "Przecięcie zbiorów A i B: set()\n",
            "\n",
            "Iloczyn prawdopodobieństw zdarzeń A i B: 0.1667\n",
            "Prawdopodobieństwo iloczynu zdarzeń A i B: 0.0000\n",
            "\n",
            "Zdarzenia zależne\n"
          ]
        }
      ]
    },
    {
      "cell_type": "markdown",
      "source": [
        "Rozważmy zdarzenie $C$ - wyrzucenie liczby oczek większą niż 4."
      ],
      "metadata": {
        "id": "qD9_0oU2eUFu"
      }
    },
    {
      "cell_type": "code",
      "source": [
        "C = {item for item in omega if item > 4}\n",
        "P_C = len(C) / len(omega)\n",
        "print(f'Zbiór C: {C}')\n",
        "print(f'Prawdopodobieństwo zdarzenia C: {P_C:.4f}')\n",
        "\n",
        "intersection_AC = set.intersection(A, C)\n",
        "P_intersection_AC = len(intersection_AC) / len(omega)\n",
        "\n",
        "PA_PC = P_A * P_C\n",
        "\n",
        "print(f'Przecięcie zbiorów A i B: {intersection_AC}\\n')\n",
        "print(f'Iloczyn prawdopodobieństw zdarzeń A i B: {PA_PC:.4f}')\n",
        "print(f'Prawdopodobieństwo iloczynu zdarzeń A i B: {P_intersection_AC:.4f}\\n')\n",
        "\n",
        "check = 'Zdarzenia niezależne' if PA_PC == P_intersection_AC else 'Zdarzenia zależne'\n",
        "print(check)"
      ],
      "metadata": {
        "colab": {
          "base_uri": "https://localhost:8080/"
        },
        "id": "-43lEwERdhCC",
        "outputId": "7985bd26-5e97-4892-8e08-cae0c21ca655"
      },
      "execution_count": 12,
      "outputs": [
        {
          "output_type": "stream",
          "name": "stdout",
          "text": [
            "Zbiór C: {5, 6}\n",
            "Prawdopodobieństwo zdarzenia C: 0.3333\n",
            "Przecięcie zbiorów A i B: {6}\n",
            "\n",
            "Iloczyn prawdopodobieństw zdarzeń A i B: 0.1667\n",
            "Prawdopodobieństwo iloczynu zdarzeń A i B: 0.1667\n",
            "\n",
            "Zdarzenia niezależne\n"
          ]
        }
      ]
    },
    {
      "cell_type": "markdown",
      "source": [
        "## Prawdopodobieństwo warunkowe."
      ],
      "metadata": {
        "id": "VTZ6SLj4hPP1"
      }
    },
    {
      "cell_type": "markdown",
      "source": [
        "Prawdopodobieństwem warunkowym zdarzenia $A$ pod warunkiem zajścia zdarzenia $B$ przy zał. $P(B) > 0$ nazywamy:\n",
        "\n",
        "$$P(A|B) = \\frac{P(A\\cap B)}{P(B)}.$$"
      ],
      "metadata": {
        "id": "bE7UKAsehbjW"
      }
    },
    {
      "cell_type": "code",
      "source": [
        "print(f'A: {A}')\n",
        "print(f'C: {C}')\n",
        "print(f'Przecięcie A i C: {intersection_AC}')\n",
        "\n",
        "PA_cond_C = P_intersection_AC / P_C\n",
        "\n",
        "print(f'Prawdopodobieństwo wylosowania liczby parzystej pod warunkiem, że wylosowaliśmy liczbę większą niż 4 wynosi: {PA_cond_C}')"
      ],
      "metadata": {
        "colab": {
          "base_uri": "https://localhost:8080/"
        },
        "id": "npmqrXWkhZgX",
        "outputId": "a46cbf2e-deb2-4f97-a801-af527909d921"
      },
      "execution_count": 13,
      "outputs": [
        {
          "output_type": "stream",
          "name": "stdout",
          "text": [
            "A: {2, 4, 6}\n",
            "C: {5, 6}\n",
            "Przecięcie A i C: {6}\n",
            "Prawdopodobieństwo wylosowania liczby parzystej pod warunkiem, że wylosowaliśmy liczbę większą niż 4 wynosi: 0.5\n"
          ]
        }
      ]
    },
    {
      "cell_type": "markdown",
      "source": [
        "# Zmienna losowa, klasyczne definicje."
      ],
      "metadata": {
        "id": "57mpUNDmlbtI"
      }
    },
    {
      "cell_type": "markdown",
      "source": [
        "Aby mówić o zmiennej losowej, powinniśmy mieć przestrzeń probabilistyczną. Zmienną losową możemy określić jako mierzalną funkcję działającą na zbiorach zdarzeń elementarnych."
      ],
      "metadata": {
        "id": "DosASTNZlqmT"
      }
    },
    {
      "cell_type": "markdown",
      "source": [
        "## Dystrybuanta.\n",
        "\n",
        "Niech $X$ będzie zmienną losową z przestrzeni $R^n$. Niech $F(x)$ oznacza dystrybuantę zmiennej losowej $X$, tzn.\n",
        "\n",
        "$$F(x) = P(X \\leq x)$$  \n",
        "\n",
        "Czyli jeżeli np. dystrubanta jest w punkcie 0.5, to znaczy, że x jest mniejsze lub równe 0.5.\n",
        "\n",
        "Jeśli dystrybuanta jest funkcją ciągłą to funkcja określona wzorem\n",
        "$$f(x) = \\frac{dF(x)}{dx} = F'(x)$$  \n",
        "jest nazywana **gęstością rozkładu** zmiennej losowej $X$.  \n",
        "Stąd mamy $$P(a < X \\leq b) = \\int_a^bf(x)\\ dx$$"
      ],
      "metadata": {
        "id": "R89ycz3Eloe4"
      }
    },
    {
      "cell_type": "markdown",
      "source": [
        "## Wartość oczekiwana."
      ],
      "metadata": {
        "id": "OPkiV5kIm1Vb"
      }
    },
    {
      "cell_type": "markdown",
      "source": [
        "Wartością oczekiwaną zmiennej losowej ciągłej nazywamy wartość:\n",
        "$$E(X) = \\int_{-\\infty}^{\\infty}x \\cdot f(x)\\ dx$$\n",
        "\n",
        "Wartością oczekiwaną zmiennej losowej dyskretnej nazywamy wartość:\n",
        "$$E(X) = \\sum_{i=1}^{n}x_i \\cdot P(X=x_i)$$\n",
        "\n",
        "Dla klasycznej przestrzeni probabilistycznej, gdzie każde zdarzenie ma jednakowe prawdopodobieństwo zajścia otrzymujemy klasyczny wzór:\n",
        "$$E(X) = \\frac{1}{n}\\sum_{i=1}^{n}x_{i}$$"
      ],
      "metadata": {
        "id": "PBBc2t4qmyhz"
      }
    },
    {
      "cell_type": "markdown",
      "source": [
        "## Wariancja."
      ],
      "metadata": {
        "id": "mbVKMffkncSO"
      }
    },
    {
      "cell_type": "markdown",
      "source": [
        "Wariancją zmiennej losowej nazywamy wartość:\n",
        "$$Var(X) = E(X-E(X))^2 = E(X^2) - (E(X))^2$$\n",
        "\n",
        "Stąd wariancja zmiennej losowej ciągłęj ma postać:\n",
        "$$Var(X) = D^2(X) = \\int_{-\\infty}^{\\infty}(x - E(X))^2 \\cdot f(x)\\ dx$$"
      ],
      "metadata": {
        "id": "RZw4gWFendvJ"
      }
    },
    {
      "cell_type": "markdown",
      "metadata": {
        "id": "0vi1724J4oAp"
      },
      "source": [
        "## Odchylenie Standardowe.\n"
      ]
    },
    {
      "cell_type": "markdown",
      "source": [
        "Odchyleniem standardowym nazywamy pierwiastek z wariancji, tj.\n",
        "$$\\sigma(X) = \\sqrt{D^2(X)}$$"
      ],
      "metadata": {
        "id": "ZJIVFLeon_vf"
      }
    },
    {
      "cell_type": "markdown",
      "source": [
        "## Kowariancja"
      ],
      "metadata": {
        "id": "SN7si42ooCN3"
      }
    },
    {
      "cell_type": "markdown",
      "metadata": {
        "id": "yR3ID2Nm4qQZ"
      },
      "source": [
        "$X, Y$ - zmienne losowe\n",
        "\n",
        "$$Cov(X, Y) = E(X-E(X))(Y-E(Y))= E(XY) - E(X)E(Y)$$"
      ]
    },
    {
      "cell_type": "markdown",
      "source": [
        "## Korelacja."
      ],
      "metadata": {
        "id": "ujVa3dHUoTrW"
      }
    },
    {
      "cell_type": "markdown",
      "metadata": {
        "id": "MpAHRcVn4ss9"
      },
      "source": [
        "$$Cor(X, Y) = \\frac{Cov(X, Y)}{\\sigma(X)\\cdot \\sigma(Y)}$$"
      ]
    },
    {
      "cell_type": "markdown",
      "source": [
        "## Błąd standardowy."
      ],
      "metadata": {
        "id": "Z9hXPa52oY6Q"
      }
    },
    {
      "cell_type": "markdown",
      "metadata": {
        "id": "aq5sCBmU4wPz"
      },
      "source": [
        "$$SE(X) = \\frac{\\sigma(X)}{\\sqrt(n)}$$"
      ]
    },
    {
      "cell_type": "markdown",
      "source": [
        "## Przykład 1."
      ],
      "metadata": {
        "id": "-bbUOtZjrNe5"
      }
    },
    {
      "cell_type": "markdown",
      "source": [
        "\n",
        "| $X$        | 0   | 1   | 2    | 3    |\n",
        "|----------|-----|-----|------|------|\n",
        "| $P(X=x_i)$ | 0.82 | 0.12 | 0.055 | 0.005 |\n",
        "\n",
        "$E(X) = 0 \\cdot 0.82 + 1 \\cdot 0.12 + 2 \\cdot 0.055 + 3 \\cdot 0.005$"
      ],
      "metadata": {
        "id": "US5RTAKsoHAj"
      }
    },
    {
      "cell_type": "markdown",
      "source": [
        "Przyjmijmy, że zmienna X oznacza liczbę szkód kierowców w ciągu roku, a pod wartościami mamy prawdopodobieństwo wystąpienia określonej liczby szkód. Chcemy znaleźć wartość oczekiwaną zmiennej, tj. wyliczyć, ile szkód spodziewamy się po kierowcy w ciągu roku."
      ],
      "metadata": {
        "id": "qsGfGnGRpAwq"
      }
    },
    {
      "cell_type": "code",
      "source": [
        "EX = 0 * 0.82 + 1 * 0.12 + 2 * 0.055 + 3 * 0.005\n",
        "EX"
      ],
      "metadata": {
        "colab": {
          "base_uri": "https://localhost:8080/"
        },
        "id": "9BEpk8V5ldqf",
        "outputId": "578f2a28-9a2a-45ab-ed8e-9fd57575b0a3"
      },
      "execution_count": 14,
      "outputs": [
        {
          "output_type": "execute_result",
          "data": {
            "text/plain": [
              "0.245"
            ]
          },
          "metadata": {},
          "execution_count": 14
        }
      ]
    },
    {
      "cell_type": "markdown",
      "source": [
        "Następnie liczymy wariancję zmiennej - od wartości zmiennej odejmujemy wartość oczekiwaną i różnicę podnosimy do kwadratu, po czym wszystko sumujemy."
      ],
      "metadata": {
        "id": "5Y_qSBLcpzkI"
      }
    },
    {
      "cell_type": "code",
      "source": [
        "VAR_X = (0 - EX)**2 * 0.82 + (1 - EX)**2 * 0.12 + (2 - EX)**2 * 0.055 +(3 - EX)**2 * 0.005\n",
        "VAR_X"
      ],
      "metadata": {
        "colab": {
          "base_uri": "https://localhost:8080/"
        },
        "id": "peS9x3hzpEKB",
        "outputId": "24c81f23-f478-45da-c223-6979e68bad0d"
      },
      "execution_count": 15,
      "outputs": [
        {
          "output_type": "execute_result",
          "data": {
            "text/plain": [
              "0.32497499999999996"
            ]
          },
          "metadata": {},
          "execution_count": 15
        }
      ]
    },
    {
      "cell_type": "markdown",
      "source": [
        "Wyliczamy też odchylenie standardowe. Możemy to interpretować w ten sposób, że średnio kierowca rocznie wyrządza 0.245 szkody z odchyleniem +/- 0.57."
      ],
      "metadata": {
        "id": "hCXnPjSKqtDs"
      }
    },
    {
      "cell_type": "code",
      "source": [
        "import numpy as np\n",
        "\n",
        "STD_X = np.sqrt(VAR_X)\n",
        "STD_X"
      ],
      "metadata": {
        "colab": {
          "base_uri": "https://localhost:8080/"
        },
        "id": "AcoBBAcVqoNA",
        "outputId": "15af0c16-c8fe-4d3c-cac5-39327978c7f8"
      },
      "execution_count": 16,
      "outputs": [
        {
          "output_type": "execute_result",
          "data": {
            "text/plain": [
              "0.5700657856774075"
            ]
          },
          "metadata": {},
          "execution_count": 16
        }
      ]
    },
    {
      "cell_type": "markdown",
      "source": [
        "## Przykład 2."
      ],
      "metadata": {
        "id": "mGGjggt3rGbF"
      }
    },
    {
      "cell_type": "markdown",
      "source": [
        "Wygenerujmy sobie losowo po 100 próbek z rozkładu normalnego ze średnią 0 i odch. std. 1."
      ],
      "metadata": {
        "id": "1k1Y340wrP-Q"
      }
    },
    {
      "cell_type": "code",
      "source": [
        "x = np.random.randn(100)\n",
        "y = np.random.randn(100)\n",
        "\n",
        "print(x, '\\n')\n",
        "print(y)"
      ],
      "metadata": {
        "colab": {
          "base_uri": "https://localhost:8080/"
        },
        "id": "dI_oc2wvrDsq",
        "outputId": "0855e9d2-4529-4678-f61b-d5d23df96750"
      },
      "execution_count": 17,
      "outputs": [
        {
          "output_type": "stream",
          "name": "stdout",
          "text": [
            "[-0.18006494 -1.38892358 -1.58811808  0.5644994   0.16510272 -0.58841883\n",
            " -0.90845636  1.24233535 -1.51246121 -1.57842626  0.99569161  0.1863993\n",
            " -0.17826273  0.19170151 -0.62999842 -0.9857978   0.528277   -0.61596906\n",
            " -0.38735121  0.66767879 -0.40351347  0.58089997 -0.21856777 -0.2130801\n",
            "  0.8684873   0.88331705  0.06751389 -1.91539924  2.33921948 -0.01550375\n",
            "  0.88566453 -0.85495421 -0.81860649  0.70147524  0.55484159  0.04139555\n",
            "  0.39437262 -0.36776729  1.34087904 -0.66634648 -1.18178636 -0.25839035\n",
            "  0.70138571 -2.38232712  1.50185493  0.45702825  0.38842544 -1.28671406\n",
            " -1.13867598 -0.25051963 -0.67879508 -0.92656312  0.19072672  0.52250362\n",
            "  1.22708165 -0.93320335  0.6916782  -0.41734439  2.30092309 -0.69215056\n",
            "  0.62825692  0.99016732  1.11737252  0.00550587  0.23133241 -1.22418658\n",
            "  0.03098409 -0.05100972  0.92059068  0.96066226  0.3369194   0.52555265\n",
            "  1.44855472  1.07542967  0.63065638 -0.97972526  2.29554801  0.96410394\n",
            " -0.29325476  0.66142415  0.08661506  1.21233204 -2.45767487 -3.51765332\n",
            " -0.84438796 -2.76884188 -0.33955427 -0.46099586 -0.49493956 -0.18331525\n",
            " -0.11173376 -0.26011176 -0.1135979   0.61817911 -0.67171475  0.97610367\n",
            " -1.03157328  1.09525375  1.34681108  0.48239326] \n",
            "\n",
            "[-0.54411472 -0.74983644  0.01133981  0.76707167 -0.97792523  0.09961087\n",
            " -0.38983683 -0.87894858 -1.19111176  1.75796586  0.60111835  0.40221338\n",
            " -0.5362409   0.12842477  1.17744262 -0.20588676 -0.56686852  1.04616692\n",
            " -0.78136291 -0.71193949  0.15398147 -0.96684973 -1.12592202 -1.02835771\n",
            " -0.49646209 -1.08178233  0.71902633  0.03123735 -1.64799955 -1.16395041\n",
            "  1.85226829  0.03650245  2.44561528  0.02552258 -1.70895782  0.09158966\n",
            "  0.08596909  0.74827832  1.43035641  0.8168044   0.76557985 -0.20101104\n",
            "  0.38157899  1.53190389 -0.48342869  0.7918868   0.66560717 -0.73442647\n",
            "  0.12450184 -0.1621339  -0.86109641  1.88227939  1.55583084 -0.96928354\n",
            " -1.60628233  0.24912498 -0.64911039 -0.88747318 -1.46237317 -0.40675544\n",
            "  0.49215242  0.31820384  0.55991156  1.53745996 -0.83034716 -2.20553063\n",
            " -0.13667835  0.80401367 -0.72565485  0.17140965 -0.33543662 -0.88141866\n",
            "  0.15160074 -0.53514821  1.56554119 -0.60325266 -0.45919    -0.05382532\n",
            "  1.61402176  1.03395424  0.67557285  0.35120276 -0.30567659 -0.11591489\n",
            "  0.10092443 -0.53894993  0.88116779  0.93354795  0.52031295  0.22086885\n",
            " -2.05280548  1.10719965 -1.13360708 -1.42441685  1.91019691  1.29572591\n",
            " -1.17552726  2.02060607  1.16200271  0.19210315]\n"
          ]
        }
      ]
    },
    {
      "cell_type": "code",
      "source": [
        "x.mean()"
      ],
      "metadata": {
        "colab": {
          "base_uri": "https://localhost:8080/"
        },
        "id": "DBK8CYbDra-k",
        "outputId": "57f63808-379e-478a-d14d-9c7691c838bc"
      },
      "execution_count": 18,
      "outputs": [
        {
          "output_type": "execute_result",
          "data": {
            "text/plain": [
              "-0.02144619504796831"
            ]
          },
          "metadata": {},
          "execution_count": 18
        }
      ]
    },
    {
      "cell_type": "code",
      "source": [
        "x.std()"
      ],
      "metadata": {
        "colab": {
          "base_uri": "https://localhost:8080/"
        },
        "id": "bT7fUZWwrdHF",
        "outputId": "35ca16c4-e34c-4139-9904-e6e8ee6af409"
      },
      "execution_count": 19,
      "outputs": [
        {
          "output_type": "execute_result",
          "data": {
            "text/plain": [
              "1.0450926963354301"
            ]
          },
          "metadata": {},
          "execution_count": 19
        }
      ]
    },
    {
      "cell_type": "markdown",
      "source": [
        "Zgodnie z założeniami próbki mają średnią i odch. std. blisko wartości oczekiwanych."
      ],
      "metadata": {
        "id": "aBjRMYE_rotG"
      }
    },
    {
      "cell_type": "markdown",
      "source": [
        "Na koniec możemy stworzyć macierz korelacji - na przekątnych mamy 1, bo są to korelacje zmiennej z sobą samą."
      ],
      "metadata": {
        "id": "FIQ64QYPsAnH"
      }
    },
    {
      "cell_type": "code",
      "source": [
        "np.corrcoef(x, y)"
      ],
      "metadata": {
        "colab": {
          "base_uri": "https://localhost:8080/"
        },
        "id": "OxW0NUXnrgB4",
        "outputId": "2141c28b-f8e4-49c0-9b65-b013bee59969"
      },
      "execution_count": 20,
      "outputs": [
        {
          "output_type": "execute_result",
          "data": {
            "text/plain": [
              "array([[ 1.        , -0.07481204],\n",
              "       [-0.07481204,  1.        ]])"
            ]
          },
          "metadata": {},
          "execution_count": 20
        }
      ]
    },
    {
      "cell_type": "markdown",
      "source": [
        "# Rozkład normalny."
      ],
      "metadata": {
        "id": "hvhckEe2tziE"
      }
    },
    {
      "cell_type": "markdown",
      "source": [
        "Jest to najczęściej spotykany rozkład.\n",
        "\n",
        "$X \\sim N(\\mu, \\sigma)$\n",
        "\n",
        "Gdzie $\\mu$ oznacza wartość oczekiwaną, a $\\sigma$ odchylenie standardowe.\n",
        "\n",
        "Wygenerujmy taki rozkład za pomocą biblioteki SciPy."
      ],
      "metadata": {
        "id": "n1S4vOdSt2N5"
      }
    },
    {
      "cell_type": "code",
      "source": [
        "import matplotlib.pyplot as plt\n",
        "import seaborn as sns\n",
        "from scipy.stats import norm\n",
        "sns.set()\n",
        "\n",
        "mu = 0 # średnia\n",
        "sigma = 1 # odchylenie standardowe\n",
        "x = np.linspace(mu - 3 * sigma, mu + 3 * sigma, 100)\n",
        "plt.title('Rozkład normalny - funkcja gęstości')\n",
        "_ = plt.plot(x, norm.pdf(x, mu, sigma))"
      ],
      "metadata": {
        "colab": {
          "base_uri": "https://localhost:8080/",
          "height": 457
        },
        "id": "24dA-Kclrzu_",
        "outputId": "18455943-0779-42a2-83ce-010e23a879c5"
      },
      "execution_count": 21,
      "outputs": [
        {
          "output_type": "display_data",
          "data": {
            "text/plain": [
              "<Figure size 640x480 with 1 Axes>"
            ],
            "image/png": "[encoded data removed]"
          },
          "metadata": {}
        }
      ]
    },
    {
      "cell_type": "markdown",
      "source": [
        "Ta charakterystyczna dla rozkładu normalnego krzywa dzwonowa to właśnie funkcja gęstości. Wygenerowaliśmy 100 próbek w równym odstępie od średniej -3 odchyleń std. do średniej + odchyleń std. (reguła 3 sigm - w obszarze między -/+ 3 odchyleniami std. znajduje się 99.7% wartości w rozkładzie normalnym)."
      ],
      "metadata": {
        "id": "yyfXu7UEuoo4"
      }
    },
    {
      "cell_type": "markdown",
      "source": [
        "Następnie przejdźmy do wyrysowania kilku rozkładów normalnych o różnych parametrach."
      ],
      "metadata": {
        "id": "NK8tauwKvcPl"
      }
    },
    {
      "cell_type": "code",
      "source": [
        "x = np.linspace(mu - 5 * sigma, mu + 5 * sigma, 500)\n",
        "params = [(0, 1), (0, 2), (0, 0.5)]\n",
        "\n",
        "plt.figure(figsize=(8, 8))\n",
        "for mu, sigma in params:\n",
        "    plt.plot(x, norm.pdf(x, mu, sigma), label=f'mu={mu}, sigma={sigma}')\n",
        "plt.legend()"
      ],
      "metadata": {
        "colab": {
          "base_uri": "https://localhost:8080/",
          "height": 698
        },
        "id": "Gi51U_d7vEsd",
        "outputId": "23354394-22be-43bf-d4c9-d467b089a033"
      },
      "execution_count": 22,
      "outputs": [
        {
          "output_type": "execute_result",
          "data": {
            "text/plain": [
              "<matplotlib.legend.Legend at 0x7f562b29e350>"
            ]
          },
          "metadata": {},
          "execution_count": 22
        },
        {
          "output_type": "display_data",
          "data": {
            "text/plain": [
              "<Figure size 800x800 with 1 Axes>"
            ],
            "image/png": "[encoded data removed]"
          },
          "metadata": {}
        }
      ]
    },
    {
      "cell_type": "markdown",
      "source": [
        "Im większe odchylenie standardowe, tym rozkład bardziej wygładzony, wypłaszony, im mniejsze, tym rozkład bardziej spiczasty."
      ],
      "metadata": {
        "id": "lOOZWKJCvu8I"
      }
    },
    {
      "cell_type": "markdown",
      "source": [
        "## Standaryzacja rozkładu normalnego."
      ],
      "metadata": {
        "id": "RDqtCDszv_nq"
      }
    },
    {
      "cell_type": "markdown",
      "source": [
        "Dowolny rozkład normalny o dowolnych parametrach jesteśmy w stanie wystandaryzować do postaci standardowego rozkładu normalnego o średniej 0 i odchyleniu standardowym 1.\n",
        "\n",
        "Niech $X \\sim N(\\mu, \\sigma)$. Wówczas\n",
        "$$\\frac{X - \\mu}{\\sigma} \\sim N(0, 1)$$\n",
        "\n",
        "$$E\\left(\\frac{X - \\mu}{\\sigma}\\right) = \\frac{E(X - \\mu)}{\\sigma} = \\frac{E(X) - \\mu}{\\sigma} = \\frac{\\mu - \\mu}{\\sigma} = 0$$\n",
        "\n",
        "$$D^2\\left(\\frac{X - \\mu}{\\sigma}\\right) = \\frac{1}{\\sigma^2}\\cdot D^2\\left(X - \\mu\\right) = \\frac{1}{\\sigma^2} \\cdot D^2(X) = \\frac{1}{\\sigma^2}\\cdot \\sigma^2 = 1$$\n",
        "\n",
        "Oznacza to nie mniej, nie więcej niż to, że od zmiennej odejmujemy wartość oczekiwaną (średnią) i dzielimy przez odchylenie standardowe."
      ],
      "metadata": {
        "id": "nrNdN1lkwDXZ"
      }
    },
    {
      "cell_type": "code",
      "source": [
        "mu = 16\n",
        "sigma = 3.4\n",
        "x = np.linspace(mu - 8 * sigma, mu + 8 * sigma, 500)\n",
        "\n",
        "plt.plot(x, norm.pdf(x, mu, sigma), label=f'mu={mu}, sigma={sigma}')\n",
        "plt.plot(x, norm.pdf(x, mu - mu, sigma), label=f'mu={mu - mu}, sigma={sigma}')\n",
        "plt.plot(x, norm.pdf(x, mu - mu, sigma / sigma), label=f'mu={mu - mu}, sigma={sigma / sigma}')\n",
        "plt.legend()"
      ],
      "metadata": {
        "colab": {
          "base_uri": "https://localhost:8080/",
          "height": 451
        },
        "id": "9LInLThDv9ky",
        "outputId": "02fe9c5f-5067-4d3a-ceee-9375f9203f59"
      },
      "execution_count": 23,
      "outputs": [
        {
          "output_type": "execute_result",
          "data": {
            "text/plain": [
              "<matplotlib.legend.Legend at 0x7f565bdce0b0>"
            ]
          },
          "metadata": {},
          "execution_count": 23
        },
        {
          "output_type": "display_data",
          "data": {
            "text/plain": [
              "<Figure size 640x480 with 1 Axes>"
            ],
            "image/png": "[encoded data removed]"
          },
          "metadata": {}
        }
      ]
    },
    {
      "cell_type": "markdown",
      "source": [
        "Ww. wykres nam to dobrze obrazuje. W pierwszym kroku odejmujemy wartość oczekiwaną, co pozwala nam przesunąć niebieski wykres w stronę pomarańczowego. Następnie dzielimy uzyskaną wartość przez odchylenie standardowe. Bardziej spiczasty kształt zielonego wykresu, uzyskanego w wyniku obu operacji, wynika ze skali pierwotnego rozkładu."
      ],
      "metadata": {
        "id": "-VtJoi1axOjs"
      }
    },
    {
      "cell_type": "markdown",
      "source": [
        "## Dystrybuanta rozkładu normalnego."
      ],
      "metadata": {
        "id": "qmLkxJMIx-l0"
      }
    },
    {
      "cell_type": "markdown",
      "source": [
        "Definicja dystrybuanty była przytoczona wcześniej. Jej wykres dla rozkładu normalnego ma kształt sigmoidy."
      ],
      "metadata": {
        "id": "1zFL7N1PyJyq"
      }
    },
    {
      "cell_type": "code",
      "source": [
        "plt.title('Rozkład normalny - dystrybuanta')\n",
        "_ = plt.plot(x, norm.cdf(x, mu, sigma))"
      ],
      "metadata": {
        "colab": {
          "base_uri": "https://localhost:8080/",
          "height": 457
        },
        "id": "g-n80iPhx02s",
        "outputId": "e457abea-9571-47ac-9ac6-0dd5a2f93b37"
      },
      "execution_count": 24,
      "outputs": [
        {
          "output_type": "display_data",
          "data": {
            "text/plain": [
              "<Figure size 640x480 with 1 Axes>"
            ],
            "image/png": "[encoded data removed]"
          },
          "metadata": {}
        }
      ]
    },
    {
      "cell_type": "markdown",
      "source": [
        "Analogicznie wykres funkcji przeżycia (1 - dystrybuanta) ma kształt odwróconej sigmoidy."
      ],
      "metadata": {
        "id": "kJXzEIdyybNl"
      }
    },
    {
      "cell_type": "code",
      "source": [
        "plt.title('Rozkład normalny - funkcja przeżycia')\n",
        "_ = plt.plot(x, norm.sf(x, mu, sigma))"
      ],
      "metadata": {
        "colab": {
          "base_uri": "https://localhost:8080/",
          "height": 457
        },
        "id": "LnWdPRt4yCKj",
        "outputId": "63f67b31-0b7c-4692-e03c-322611ab507f"
      },
      "execution_count": 25,
      "outputs": [
        {
          "output_type": "display_data",
          "data": {
            "text/plain": [
              "<Figure size 640x480 with 1 Axes>"
            ],
            "image/png": "[encoded data removed]"
          },
          "metadata": {}
        }
      ]
    }
  ]
}